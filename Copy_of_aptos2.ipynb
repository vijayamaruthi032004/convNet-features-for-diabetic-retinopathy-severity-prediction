{
  "nbformat": 4,
  "nbformat_minor": 0,
  "metadata": {
    "colab": {
      "provenance": [],
      "gpuType": "T4"
    },
    "kernelspec": {
      "name": "python3",
      "display_name": "Python 3"
    },
    "language_info": {
      "name": "python"
    },
    "accelerator": "GPU"
  },
  "cells": [
    {
      "cell_type": "code",
      "execution_count": null,
      "metadata": {
        "id": "f_yW7722w5Gy"
      },
      "outputs": [],
      "source": [
        "import numpy as np\n",
        "import pandas as pd\n",
        "from tensorflow.keras.preprocessing import image_dataset_from_directory\n",
        "from keras.models import Sequential\n",
        "from sklearn.metrics import confusion_matrix\n",
        "from keras.layers import Conv2D,MaxPooling2D,Dropout,Dense,Flatten,BatchNormalization,Rescaling\n",
        "from keras.datasets import mnist\n",
        "from keras.losses import sparse_categorical_crossentropy,squared_hinge\n",
        "from keras.optimizers import Adam,SGD\n",
        "from keras.callbacks import EarlyStopping\n",
        "from tensorflow.keras.utils import to_categorical,load_img,array_to_img\n",
        "import numpy as np\n",
        "from matplotlib import pyplot as plt\n",
        "from keras import Model\n",
        "import seaborn as sns\n",
        "import matplotlib.pyplot as plt\n",
        "%matplotlib inline\n",
        "\n",
        "import cv2\n",
        "from PIL import Image\n",
        "\n",
        "from keras import layers\n",
        "from tensorflow.keras import applications\n",
        "from keras.applications import MobileNetV2,VGG19,ResNet50\n",
        "from keras.callbacks import Callback, ModelCheckpoint\n",
        "from keras.preprocessing.image import ImageDataGenerator\n",
        "from keras.models import Sequential\n",
        "from keras.optimizers import Adam\n",
        "import tensorflow as tf\n",
        "\n",
        "from sklearn.model_selection import train_test_split\n",
        "from sklearn.metrics import cohen_kappa_score, accuracy_score, confusion_matrix,classification_report\n",
        "\n",
        "from tqdm import tqdm"
      ]
    },
    {
      "cell_type": "code",
      "source": [
        "train_df = pd.read_csv('/content/drive/MyDrive/aptos 2019/train_1.csv')\n",
        "test_df = pd.read_csv('/content/drive/MyDrive/aptos 2019/test.csv')\n",
        "valid_df=pd.read_csv('/content/drive/MyDrive/aptos 2019/valid.csv')\n",
        "print(train_df.shape)\n",
        "print(test_df.shape)\n",
        "print(test_df.head())\n",
        "train_df.columns"
      ],
      "metadata": {
        "id": "ot8Yy15xxD0W",
        "colab": {
          "base_uri": "https://localhost:8080/"
        },
        "outputId": "609dd971-a6ce-419d-99fa-6806887f9c08"
      },
      "execution_count": null,
      "outputs": [
        {
          "output_type": "stream",
          "name": "stdout",
          "text": [
            "(2930, 2)\n",
            "(366, 2)\n",
            "        id_code  diagnosis\n",
            "0  e4dcca36ceb4          0\n",
            "1  e4e343eaae2a          2\n",
            "2  e4f12411fd85          4\n",
            "3  e50b0174690d          0\n",
            "4  e5197d77ec68          0\n"
          ]
        },
        {
          "output_type": "execute_result",
          "data": {
            "text/plain": [
              "Index(['id_code', 'diagnosis'], dtype='object')"
            ]
          },
          "metadata": {},
          "execution_count": 2
        }
      ]
    },
    {
      "cell_type": "code",
      "source": [
        "y_train = train_df['diagnosis']\n",
        "y_val = test_df['diagnosis']\n",
        "y_valid=valid_df['diagnosis']\n",
        "\n",
        "print(y_train.shape)\n",
        "\n",
        "print(y_val.shape)\n",
        "print(y_valid.shape)"
      ],
      "metadata": {
        "colab": {
          "base_uri": "https://localhost:8080/"
        },
        "id": "_h9JQV4RNzpD",
        "outputId": "8cb231bc-5db3-438f-ccc3-0806d25fb4c2"
      },
      "execution_count": null,
      "outputs": [
        {
          "output_type": "stream",
          "name": "stdout",
          "text": [
            "(2930,)\n",
            "(366,)\n",
            "(366,)\n"
          ]
        }
      ]
    },
    {
      "cell_type": "code",
      "source": [
        "x_train_vgg19_features=np.load(\"/content/drive/MyDrive/aptos 2019/vgg19_X_train.npy\")\n",
        "x_val_vgg19_features=np.load(\"/content/drive/MyDrive/aptos 2019/vgg19_X_val.npy\")\n",
        "x_train_resnet50_features=np.load(\"/content/drive/MyDrive/aptos 2019/resnet_X_train.npy\")\n",
        "x_val_resnet50_features=np.load(\"/content/drive/MyDrive/aptos 2019/resnet_X_val.npy\")\n",
        "x_valid_vgg19_features=np.load(\"/content/drive/MyDrive/aptos 2019/vgg19_X_valid.npy\")\n",
        "x_valid_resnet50_features=np.load(\"/content/drive/MyDrive/aptos 2019/resnet_X_valid.npy\")"
      ],
      "metadata": {
        "id": "iNSdR8sAOP7W"
      },
      "execution_count": null,
      "outputs": []
    },
    {
      "cell_type": "code",
      "source": [
        "x_valid_vgg19_features=np.load(\"/content/drive/MyDrive/aptos 2019/vgg19_X_valid.npy\")\n",
        "x_valid_resnet50_features=np.load(\"/content/drive/MyDrive/aptos 2019/resnet_X_valid.npy\")"
      ],
      "metadata": {
        "id": "1uPpXuxbQx_k"
      },
      "execution_count": null,
      "outputs": []
    },
    {
      "cell_type": "code",
      "source": [
        "from tensorflow.keras.layers import Input, Concatenate, Dense\n",
        "from tensorflow.keras.models import Model\n",
        "BATCH_SIZE=32\n",
        "# Define input layers for VGG19 and ResNet50 features\n",
        "input_vgg19 = Input(shape=(x_train_vgg19_features.shape[1],))\n",
        "input_resnet50 = Input(shape=(x_train_resnet50_features.shape[1],))\n",
        "\n",
        "# Define the neural network layers\n",
        "dense_1 = Dense(512, activation='relu')(input_vgg19)\n",
        "dense_2 = Dense(256, activation='relu')(dense_1)\n",
        "dense_3 = Dense(128, activation='relu')(dense_2)\n",
        "\n",
        "# Cross-pooling layer to combine VGG19 and ResNet50 features\n",
        "cross_pooled = Concatenate()([dense_3, input_resnet50])\n",
        "\n",
        "dense_4 = Dense(64, activation='relu')(cross_pooled)\n",
        "dense_5 = Dense(32, activation='relu')(dense_4)\n",
        "output = Dense(5, activation='softmax')(dense_5)\n",
        "\n",
        "# Create the model\n",
        "model = Model(inputs=[input_vgg19, input_resnet50], outputs=output)\n",
        "model.compile(loss='sparse_categorical_crossentropy', optimizer='adam', metrics=['accuracy'])\n",
        "\n",
        "# Train the model\n",
        "history = model.fit(\n",
        "    [x_train_vgg19_features, x_train_resnet50_features], y_train,\n",
        "    steps_per_epoch=x_train_vgg19_features.shape[0] / BATCH_SIZE,\n",
        "    epochs=100,\n",
        "    validation_data=([x_val_vgg19_features, x_val_resnet50_features], y_val)\n",
        ")\n"
      ],
      "metadata": {
        "colab": {
          "base_uri": "https://localhost:8080/"
        },
        "id": "ZctatLgLO7G1",
        "outputId": "cd1a213c-2f2d-48aa-e56c-c8112cbfa4a3"
      },
      "execution_count": null,
      "outputs": [
        {
          "output_type": "stream",
          "name": "stdout",
          "text": [
            "Epoch 1/100\n",
            "91/91 [==============================] - 7s 25ms/step - loss: 2.7849 - accuracy: 0.6840 - val_loss: 0.8075 - val_accuracy: 0.7295\n",
            "Epoch 2/100\n",
            "91/91 [==============================] - 2s 18ms/step - loss: 0.5601 - accuracy: 0.7949 - val_loss: 0.7633 - val_accuracy: 0.7787\n",
            "Epoch 3/100\n",
            "91/91 [==============================] - 2s 16ms/step - loss: 0.3714 - accuracy: 0.8689 - val_loss: 0.7170 - val_accuracy: 0.8005\n",
            "Epoch 4/100\n",
            "91/91 [==============================] - 2s 16ms/step - loss: 0.2652 - accuracy: 0.9154 - val_loss: 0.6622 - val_accuracy: 0.7923\n",
            "Epoch 5/100\n",
            "91/91 [==============================] - 2s 17ms/step - loss: 0.2053 - accuracy: 0.9294 - val_loss: 0.6749 - val_accuracy: 0.7896\n",
            "Epoch 6/100\n",
            "91/91 [==============================] - 2s 22ms/step - loss: 0.1346 - accuracy: 0.9618 - val_loss: 0.8507 - val_accuracy: 0.7951\n",
            "Epoch 7/100\n",
            "91/91 [==============================] - 2s 18ms/step - loss: 0.1199 - accuracy: 0.9635 - val_loss: 0.8026 - val_accuracy: 0.7732\n",
            "Epoch 8/100\n",
            "91/91 [==============================] - 2s 16ms/step - loss: 0.1090 - accuracy: 0.9669 - val_loss: 0.8124 - val_accuracy: 0.8142\n",
            "Epoch 9/100\n",
            "91/91 [==============================] - 1s 16ms/step - loss: 0.0859 - accuracy: 0.9751 - val_loss: 0.8373 - val_accuracy: 0.7978\n",
            "Epoch 10/100\n",
            "91/91 [==============================] - 1s 16ms/step - loss: 0.1225 - accuracy: 0.9676 - val_loss: 1.2040 - val_accuracy: 0.8005\n",
            "Epoch 11/100\n",
            "91/91 [==============================] - 1s 16ms/step - loss: 0.0994 - accuracy: 0.9713 - val_loss: 1.0458 - val_accuracy: 0.8005\n",
            "Epoch 12/100\n",
            "91/91 [==============================] - 1s 16ms/step - loss: 0.0872 - accuracy: 0.9771 - val_loss: 1.2070 - val_accuracy: 0.7432\n",
            "Epoch 13/100\n",
            "91/91 [==============================] - 1s 16ms/step - loss: 0.0852 - accuracy: 0.9788 - val_loss: 1.0548 - val_accuracy: 0.8115\n",
            "Epoch 14/100\n",
            "91/91 [==============================] - 2s 22ms/step - loss: 0.0742 - accuracy: 0.9812 - val_loss: 0.8652 - val_accuracy: 0.8115\n",
            "Epoch 15/100\n",
            "91/91 [==============================] - 2s 19ms/step - loss: 0.0878 - accuracy: 0.9758 - val_loss: 1.1737 - val_accuracy: 0.7923\n",
            "Epoch 16/100\n",
            "91/91 [==============================] - 2s 17ms/step - loss: 0.0817 - accuracy: 0.9823 - val_loss: 0.9166 - val_accuracy: 0.8279\n",
            "Epoch 17/100\n",
            "91/91 [==============================] - 2s 16ms/step - loss: 0.0717 - accuracy: 0.9805 - val_loss: 1.0721 - val_accuracy: 0.7923\n",
            "Epoch 18/100\n",
            "91/91 [==============================] - 1s 16ms/step - loss: 0.0883 - accuracy: 0.9741 - val_loss: 1.4243 - val_accuracy: 0.7514\n",
            "Epoch 19/100\n",
            "91/91 [==============================] - 2s 16ms/step - loss: 0.1386 - accuracy: 0.9625 - val_loss: 1.3543 - val_accuracy: 0.7951\n",
            "Epoch 20/100\n",
            "91/91 [==============================] - 1s 16ms/step - loss: 0.1639 - accuracy: 0.9601 - val_loss: 0.9033 - val_accuracy: 0.7978\n",
            "Epoch 21/100\n",
            "91/91 [==============================] - 1s 16ms/step - loss: 0.0656 - accuracy: 0.9829 - val_loss: 0.9534 - val_accuracy: 0.8169\n",
            "Epoch 22/100\n",
            "91/91 [==============================] - 2s 20ms/step - loss: 0.0569 - accuracy: 0.9857 - val_loss: 0.9458 - val_accuracy: 0.7896\n",
            "Epoch 23/100\n",
            "91/91 [==============================] - 2s 22ms/step - loss: 0.0540 - accuracy: 0.9863 - val_loss: 1.1342 - val_accuracy: 0.7923\n",
            "Epoch 24/100\n",
            "91/91 [==============================] - 1s 16ms/step - loss: 0.0923 - accuracy: 0.9727 - val_loss: 1.2559 - val_accuracy: 0.7814\n",
            "Epoch 25/100\n",
            "91/91 [==============================] - 1s 16ms/step - loss: 0.0700 - accuracy: 0.9812 - val_loss: 1.2476 - val_accuracy: 0.8087\n",
            "Epoch 26/100\n",
            "91/91 [==============================] - 2s 16ms/step - loss: 0.0700 - accuracy: 0.9788 - val_loss: 1.1379 - val_accuracy: 0.8060\n",
            "Epoch 27/100\n",
            "91/91 [==============================] - 1s 16ms/step - loss: 0.0620 - accuracy: 0.9850 - val_loss: 1.0998 - val_accuracy: 0.8033\n",
            "Epoch 28/100\n",
            "91/91 [==============================] - 1s 16ms/step - loss: 0.0655 - accuracy: 0.9867 - val_loss: 1.0406 - val_accuracy: 0.8060\n",
            "Epoch 29/100\n",
            "91/91 [==============================] - 1s 16ms/step - loss: 0.0570 - accuracy: 0.9850 - val_loss: 1.0687 - val_accuracy: 0.8060\n",
            "Epoch 30/100\n",
            "91/91 [==============================] - 2s 20ms/step - loss: 0.0436 - accuracy: 0.9881 - val_loss: 1.0526 - val_accuracy: 0.7923\n",
            "Epoch 31/100\n",
            "91/91 [==============================] - 2s 22ms/step - loss: 0.0653 - accuracy: 0.9829 - val_loss: 1.1254 - val_accuracy: 0.8033\n",
            "Epoch 32/100\n",
            "91/91 [==============================] - 2s 17ms/step - loss: 0.0560 - accuracy: 0.9857 - val_loss: 1.0164 - val_accuracy: 0.8033\n",
            "Epoch 33/100\n",
            "91/91 [==============================] - 1s 16ms/step - loss: 0.0934 - accuracy: 0.9799 - val_loss: 1.2896 - val_accuracy: 0.7978\n",
            "Epoch 34/100\n",
            "91/91 [==============================] - 1s 16ms/step - loss: 0.1098 - accuracy: 0.9758 - val_loss: 2.1670 - val_accuracy: 0.7596\n",
            "Epoch 35/100\n",
            "91/91 [==============================] - 1s 16ms/step - loss: 0.0807 - accuracy: 0.9768 - val_loss: 1.3383 - val_accuracy: 0.8087\n",
            "Epoch 36/100\n",
            "91/91 [==============================] - 1s 16ms/step - loss: 0.0613 - accuracy: 0.9829 - val_loss: 1.2848 - val_accuracy: 0.8197\n",
            "Epoch 37/100\n",
            "91/91 [==============================] - 2s 17ms/step - loss: 0.0801 - accuracy: 0.9782 - val_loss: 1.1404 - val_accuracy: 0.8279\n",
            "Epoch 38/100\n",
            "91/91 [==============================] - 2s 17ms/step - loss: 0.0669 - accuracy: 0.9819 - val_loss: 1.2508 - val_accuracy: 0.7978\n",
            "Epoch 39/100\n",
            "91/91 [==============================] - 2s 20ms/step - loss: 0.0719 - accuracy: 0.9829 - val_loss: 1.2492 - val_accuracy: 0.8251\n",
            "Epoch 40/100\n",
            "91/91 [==============================] - 2s 19ms/step - loss: 0.0502 - accuracy: 0.9877 - val_loss: 1.2641 - val_accuracy: 0.8115\n",
            "Epoch 41/100\n",
            "91/91 [==============================] - 1s 16ms/step - loss: 0.0451 - accuracy: 0.9863 - val_loss: 1.1528 - val_accuracy: 0.8224\n",
            "Epoch 42/100\n",
            "91/91 [==============================] - 1s 16ms/step - loss: 0.0424 - accuracy: 0.9836 - val_loss: 1.3057 - val_accuracy: 0.8033\n",
            "Epoch 43/100\n",
            "91/91 [==============================] - 1s 16ms/step - loss: 0.0415 - accuracy: 0.9863 - val_loss: 1.1525 - val_accuracy: 0.8306\n",
            "Epoch 44/100\n",
            "91/91 [==============================] - 1s 16ms/step - loss: 0.0467 - accuracy: 0.9853 - val_loss: 1.2600 - val_accuracy: 0.8005\n",
            "Epoch 45/100\n",
            "91/91 [==============================] - 1s 16ms/step - loss: 0.0530 - accuracy: 0.9857 - val_loss: 1.0490 - val_accuracy: 0.8033\n",
            "Epoch 46/100\n",
            "91/91 [==============================] - 1s 16ms/step - loss: 0.0462 - accuracy: 0.9853 - val_loss: 1.5799 - val_accuracy: 0.7514\n",
            "Epoch 47/100\n",
            "91/91 [==============================] - 2s 18ms/step - loss: 0.0668 - accuracy: 0.9840 - val_loss: 1.2648 - val_accuracy: 0.8251\n",
            "Epoch 48/100\n",
            "91/91 [==============================] - 2s 21ms/step - loss: 0.0459 - accuracy: 0.9860 - val_loss: 1.7065 - val_accuracy: 0.7869\n",
            "Epoch 49/100\n",
            "91/91 [==============================] - 2s 16ms/step - loss: 0.0561 - accuracy: 0.9846 - val_loss: 1.2651 - val_accuracy: 0.8251\n",
            "Epoch 50/100\n",
            "91/91 [==============================] - 1s 16ms/step - loss: 0.0428 - accuracy: 0.9833 - val_loss: 2.2620 - val_accuracy: 0.7951\n",
            "Epoch 51/100\n",
            "91/91 [==============================] - 1s 16ms/step - loss: 0.0575 - accuracy: 0.9833 - val_loss: 1.7204 - val_accuracy: 0.8033\n",
            "Epoch 52/100\n",
            "91/91 [==============================] - 2s 17ms/step - loss: 0.0564 - accuracy: 0.9863 - val_loss: 1.4600 - val_accuracy: 0.8115\n",
            "Epoch 53/100\n",
            "91/91 [==============================] - 2s 16ms/step - loss: 0.0641 - accuracy: 0.9809 - val_loss: 1.3200 - val_accuracy: 0.8306\n",
            "Epoch 54/100\n",
            "91/91 [==============================] - 1s 16ms/step - loss: 0.0579 - accuracy: 0.9833 - val_loss: 1.5834 - val_accuracy: 0.7923\n",
            "Epoch 55/100\n",
            "91/91 [==============================] - 2s 17ms/step - loss: 0.0611 - accuracy: 0.9826 - val_loss: 1.3886 - val_accuracy: 0.8224\n",
            "Epoch 56/100\n",
            "91/91 [==============================] - 2s 21ms/step - loss: 0.1130 - accuracy: 0.9693 - val_loss: 1.1888 - val_accuracy: 0.8115\n",
            "Epoch 57/100\n",
            "91/91 [==============================] - 2s 19ms/step - loss: 0.0377 - accuracy: 0.9857 - val_loss: 1.4925 - val_accuracy: 0.8197\n",
            "Epoch 58/100\n",
            "91/91 [==============================] - 1s 16ms/step - loss: 0.0283 - accuracy: 0.9881 - val_loss: 1.4709 - val_accuracy: 0.8197\n",
            "Epoch 59/100\n",
            "91/91 [==============================] - 1s 16ms/step - loss: 0.0311 - accuracy: 0.9860 - val_loss: 1.4429 - val_accuracy: 0.8087\n",
            "Epoch 60/100\n",
            "91/91 [==============================] - 1s 16ms/step - loss: 0.0348 - accuracy: 0.9891 - val_loss: 1.2846 - val_accuracy: 0.8224\n",
            "Epoch 61/100\n",
            "91/91 [==============================] - 2s 17ms/step - loss: 0.0413 - accuracy: 0.9826 - val_loss: 1.4650 - val_accuracy: 0.8224\n",
            "Epoch 62/100\n",
            "91/91 [==============================] - 1s 16ms/step - loss: 0.0760 - accuracy: 0.9799 - val_loss: 1.8299 - val_accuracy: 0.7978\n",
            "Epoch 63/100\n",
            "91/91 [==============================] - 2s 16ms/step - loss: 0.0477 - accuracy: 0.9853 - val_loss: 1.6627 - val_accuracy: 0.8087\n",
            "Epoch 64/100\n",
            "91/91 [==============================] - 2s 20ms/step - loss: 0.0385 - accuracy: 0.9863 - val_loss: 1.7721 - val_accuracy: 0.7896\n",
            "Epoch 65/100\n",
            "91/91 [==============================] - 2s 21ms/step - loss: 0.0361 - accuracy: 0.9904 - val_loss: 1.3578 - val_accuracy: 0.8087\n",
            "Epoch 66/100\n",
            "91/91 [==============================] - 2s 17ms/step - loss: 0.0435 - accuracy: 0.9870 - val_loss: 1.3281 - val_accuracy: 0.8142\n",
            "Epoch 67/100\n",
            "91/91 [==============================] - 1s 16ms/step - loss: 0.0252 - accuracy: 0.9887 - val_loss: 1.2514 - val_accuracy: 0.8033\n",
            "Epoch 68/100\n",
            "91/91 [==============================] - 2s 17ms/step - loss: 0.0328 - accuracy: 0.9874 - val_loss: 1.5052 - val_accuracy: 0.8142\n",
            "Epoch 69/100\n",
            "91/91 [==============================] - 1s 16ms/step - loss: 0.0235 - accuracy: 0.9881 - val_loss: 1.5682 - val_accuracy: 0.8361\n",
            "Epoch 70/100\n",
            "91/91 [==============================] - 2s 19ms/step - loss: 0.0197 - accuracy: 0.9898 - val_loss: 1.9119 - val_accuracy: 0.8060\n",
            "Epoch 71/100\n",
            "91/91 [==============================] - 2s 21ms/step - loss: 0.0299 - accuracy: 0.9887 - val_loss: 1.4623 - val_accuracy: 0.8197\n",
            "Epoch 72/100\n",
            "91/91 [==============================] - 3s 32ms/step - loss: 0.0310 - accuracy: 0.9877 - val_loss: 1.6808 - val_accuracy: 0.8033\n",
            "Epoch 73/100\n",
            "91/91 [==============================] - 2s 21ms/step - loss: 0.0337 - accuracy: 0.9867 - val_loss: 1.4826 - val_accuracy: 0.7978\n",
            "Epoch 74/100\n",
            "91/91 [==============================] - 2s 19ms/step - loss: 0.0235 - accuracy: 0.9887 - val_loss: 2.2785 - val_accuracy: 0.7896\n",
            "Epoch 75/100\n",
            "91/91 [==============================] - 2s 18ms/step - loss: 0.0428 - accuracy: 0.9843 - val_loss: 1.9273 - val_accuracy: 0.8142\n",
            "Epoch 76/100\n",
            "91/91 [==============================] - 2s 18ms/step - loss: 0.0721 - accuracy: 0.9747 - val_loss: 2.3493 - val_accuracy: 0.7951\n",
            "Epoch 77/100\n",
            "91/91 [==============================] - 2s 18ms/step - loss: 0.0921 - accuracy: 0.9724 - val_loss: 3.1248 - val_accuracy: 0.7787\n",
            "Epoch 78/100\n",
            "91/91 [==============================] - 1s 16ms/step - loss: 0.1089 - accuracy: 0.9713 - val_loss: 2.0660 - val_accuracy: 0.8087\n",
            "Epoch 79/100\n",
            "91/91 [==============================] - 2s 19ms/step - loss: 0.0894 - accuracy: 0.9778 - val_loss: 1.6396 - val_accuracy: 0.7650\n",
            "Epoch 80/100\n",
            "91/91 [==============================] - 2s 20ms/step - loss: 0.0720 - accuracy: 0.9765 - val_loss: 1.6706 - val_accuracy: 0.8197\n",
            "Epoch 81/100\n",
            "91/91 [==============================] - 2s 18ms/step - loss: 0.0503 - accuracy: 0.9826 - val_loss: 1.7251 - val_accuracy: 0.8169\n",
            "Epoch 82/100\n",
            "91/91 [==============================] - 2s 17ms/step - loss: 0.0401 - accuracy: 0.9823 - val_loss: 2.0895 - val_accuracy: 0.7732\n",
            "Epoch 83/100\n",
            "91/91 [==============================] - 2s 17ms/step - loss: 0.0366 - accuracy: 0.9853 - val_loss: 1.9020 - val_accuracy: 0.7923\n",
            "Epoch 84/100\n",
            "91/91 [==============================] - 1s 16ms/step - loss: 0.0266 - accuracy: 0.9891 - val_loss: 1.7049 - val_accuracy: 0.7951\n",
            "Epoch 85/100\n",
            "91/91 [==============================] - 1s 16ms/step - loss: 0.0311 - accuracy: 0.9877 - val_loss: 1.5942 - val_accuracy: 0.8169\n",
            "Epoch 86/100\n",
            "91/91 [==============================] - 1s 16ms/step - loss: 0.0222 - accuracy: 0.9877 - val_loss: 1.8056 - val_accuracy: 0.7923\n",
            "Epoch 87/100\n",
            "91/91 [==============================] - 2s 17ms/step - loss: 0.0219 - accuracy: 0.9891 - val_loss: 1.7176 - val_accuracy: 0.8060\n",
            "Epoch 88/100\n",
            "91/91 [==============================] - 2s 22ms/step - loss: 0.0215 - accuracy: 0.9887 - val_loss: 1.8241 - val_accuracy: 0.8005\n",
            "Epoch 89/100\n",
            "91/91 [==============================] - 2s 20ms/step - loss: 0.0276 - accuracy: 0.9891 - val_loss: 1.6682 - val_accuracy: 0.8087\n",
            "Epoch 90/100\n",
            "91/91 [==============================] - 1s 16ms/step - loss: 0.0344 - accuracy: 0.9867 - val_loss: 1.6090 - val_accuracy: 0.8142\n",
            "Epoch 91/100\n",
            "91/91 [==============================] - 1s 16ms/step - loss: 0.0862 - accuracy: 0.9765 - val_loss: 1.7633 - val_accuracy: 0.8033\n",
            "Epoch 92/100\n",
            "91/91 [==============================] - 1s 16ms/step - loss: 0.0937 - accuracy: 0.9717 - val_loss: 2.1534 - val_accuracy: 0.7787\n",
            "Epoch 93/100\n",
            "91/91 [==============================] - 1s 16ms/step - loss: 0.0923 - accuracy: 0.9693 - val_loss: 2.2386 - val_accuracy: 0.7596\n",
            "Epoch 94/100\n",
            "91/91 [==============================] - 1s 16ms/step - loss: 0.0914 - accuracy: 0.9700 - val_loss: 1.9801 - val_accuracy: 0.8005\n",
            "Epoch 95/100\n",
            "91/91 [==============================] - 1s 16ms/step - loss: 0.0533 - accuracy: 0.9833 - val_loss: 1.8016 - val_accuracy: 0.7978\n",
            "Epoch 96/100\n",
            "91/91 [==============================] - 2s 21ms/step - loss: 0.0268 - accuracy: 0.9874 - val_loss: 1.6951 - val_accuracy: 0.8060\n",
            "Epoch 97/100\n",
            "91/91 [==============================] - 2s 20ms/step - loss: 0.0215 - accuracy: 0.9898 - val_loss: 1.8878 - val_accuracy: 0.8060\n",
            "Epoch 98/100\n",
            "91/91 [==============================] - 2s 17ms/step - loss: 0.0286 - accuracy: 0.9891 - val_loss: 1.6546 - val_accuracy: 0.8060\n",
            "Epoch 99/100\n",
            "91/91 [==============================] - 2s 16ms/step - loss: 0.0253 - accuracy: 0.9874 - val_loss: 1.7552 - val_accuracy: 0.8005\n",
            "Epoch 100/100\n",
            "91/91 [==============================] - 1s 16ms/step - loss: 0.0253 - accuracy: 0.9867 - val_loss: 1.7681 - val_accuracy: 0.7760\n"
          ]
        }
      ]
    },
    {
      "cell_type": "code",
      "source": [
        "model.evaluate([x_valid_vgg19_features, x_valid_resnet50_features], y_valid)     #30 epochs"
      ],
      "metadata": {
        "colab": {
          "base_uri": "https://localhost:8080/"
        },
        "id": "eYOomHWfP4CT",
        "outputId": "f8ac695f-893e-45bb-eb79-c7c0d98b2d59"
      },
      "execution_count": null,
      "outputs": [
        {
          "output_type": "stream",
          "name": "stdout",
          "text": [
            "12/12 [==============================] - 0s 10ms/step - loss: 1.0738 - accuracy: 0.8197\n"
          ]
        },
        {
          "output_type": "execute_result",
          "data": {
            "text/plain": [
              "[1.073848843574524, 0.8196721076965332]"
            ]
          },
          "metadata": {},
          "execution_count": 10
        }
      ]
    },
    {
      "cell_type": "code",
      "source": [
        "model.evaluate([x_valid_vgg19_features, x_valid_resnet50_features], y_valid)    #50 epochs"
      ],
      "metadata": {
        "colab": {
          "base_uri": "https://localhost:8080/"
        },
        "id": "zSYXw3flRIZ6",
        "outputId": "fbeb71e5-c8d1-4ee7-a019-84d7468b6f15"
      },
      "execution_count": null,
      "outputs": [
        {
          "output_type": "stream",
          "name": "stdout",
          "text": [
            "12/12 [==============================] - 0s 10ms/step - loss: 1.2106 - accuracy: 0.8224\n"
          ]
        },
        {
          "output_type": "execute_result",
          "data": {
            "text/plain": [
              "[1.2105671167373657, 0.8224043846130371]"
            ]
          },
          "metadata": {},
          "execution_count": 12
        }
      ]
    },
    {
      "cell_type": "code",
      "source": [
        "model.evaluate([x_valid_vgg19_features, x_valid_resnet50_features], y_valid)  #50 epochs"
      ],
      "metadata": {
        "colab": {
          "base_uri": "https://localhost:8080/"
        },
        "id": "NfOu-TzCSbp-",
        "outputId": "a2c3e6fb-1bb9-47b0-e528-4160b6e8dc7d"
      },
      "execution_count": null,
      "outputs": [
        {
          "output_type": "stream",
          "name": "stdout",
          "text": [
            "12/12 [==============================] - 0s 13ms/step - loss: 1.6482 - accuracy: 0.8033\n"
          ]
        },
        {
          "output_type": "execute_result",
          "data": {
            "text/plain": [
              "[1.6481736898422241, 0.8032786846160889]"
            ]
          },
          "metadata": {},
          "execution_count": 14
        }
      ]
    },
    {
      "cell_type": "code",
      "source": [
        "model.evaluate([x_valid_vgg19_features, x_valid_resnet50_features], y_valid)  #100 epochs"
      ],
      "metadata": {
        "colab": {
          "base_uri": "https://localhost:8080/"
        },
        "id": "EoOEfayaTOIK",
        "outputId": "eda7151a-34d6-47c9-b42b-7ec7d55f52b3"
      },
      "execution_count": null,
      "outputs": [
        {
          "output_type": "stream",
          "name": "stdout",
          "text": [
            "12/12 [==============================] - 0s 11ms/step - loss: 1.7841 - accuracy: 0.7787\n"
          ]
        },
        {
          "output_type": "execute_result",
          "data": {
            "text/plain": [
              "[1.7840569019317627, 0.7786885499954224]"
            ]
          },
          "metadata": {},
          "execution_count": 6
        }
      ]
    },
    {
      "cell_type": "code",
      "source": [
        "from tensorflow.keras.layers import Input, Concatenate, Dense\n",
        "from tensorflow.keras.models import Model\n",
        "BATCH_SIZE=32\n",
        "# Define input layers for VGG19 and ResNet50 features\n",
        "input_vgg19 = Input(shape=(x_train_vgg19_features.shape[1],))\n",
        "input_resnet50 = Input(shape=(x_train_resnet50_features.shape[1],))\n",
        "\n",
        "# Define the neural network layers\n",
        "dense_1 = Dense(512, activation='relu')(input_vgg19)\n",
        "dense_2 = Dense(256, activation='relu')(dense_1)\n",
        "dense_3 = Dense(128, activation='relu')(dense_2)\n",
        "\n",
        "# Cross-pooling layer to combine VGG19 and ResNet50 features\n",
        "cross_pooled = Concatenate()([dense_3, input_resnet50])\n",
        "\n",
        "dense_4 = Dense(64, activation='relu')(cross_pooled)\n",
        "dense_5 = Dense(32, activation='relu')(dense_4)\n",
        "output = Dense(5, activation='softmax')(dense_5)\n",
        "\n",
        "# Create the model\n",
        "model = Model(inputs=[input_vgg19, input_resnet50], outputs=output)\n",
        "model.compile(loss='sparse_categorical_crossentropy', optimizer='adam', metrics=['accuracy'])\n",
        "\n",
        "# Train the model\n",
        "history = model.fit(\n",
        "    [x_train_vgg19_features, x_train_resnet50_features], y_train,\n",
        "    #steps_per_epoch=x_train_vgg19_features.shape[0] / BATCH_SIZE,\n",
        "    epochs=100,\n",
        "    validation_data=([x_val_vgg19_features, x_val_resnet50_features], y_val)\n",
        ")\n"
      ],
      "metadata": {
        "colab": {
          "base_uri": "https://localhost:8080/"
        },
        "id": "mzGaPMJ7VFNr",
        "outputId": "b4aac6d4-8684-46a9-e61a-1ab20830943c"
      },
      "execution_count": null,
      "outputs": [
        {
          "output_type": "stream",
          "name": "stdout",
          "text": [
            "Epoch 1/100\n",
            "92/92 [==============================] - 4s 23ms/step - loss: 2.1659 - accuracy: 0.6686 - val_loss: 0.7263 - val_accuracy: 0.7923\n",
            "Epoch 2/100\n",
            "92/92 [==============================] - 1s 16ms/step - loss: 0.4254 - accuracy: 0.8594 - val_loss: 0.7370 - val_accuracy: 0.7814\n",
            "Epoch 3/100\n",
            "92/92 [==============================] - 1s 16ms/step - loss: 0.2528 - accuracy: 0.9229 - val_loss: 0.6904 - val_accuracy: 0.8087\n",
            "Epoch 4/100\n",
            "92/92 [==============================] - 1s 16ms/step - loss: 0.1597 - accuracy: 0.9519 - val_loss: 0.7244 - val_accuracy: 0.8033\n",
            "Epoch 5/100\n",
            "92/92 [==============================] - 2s 16ms/step - loss: 0.1554 - accuracy: 0.9519 - val_loss: 0.8166 - val_accuracy: 0.8142\n",
            "Epoch 6/100\n",
            "92/92 [==============================] - 2s 22ms/step - loss: 0.1348 - accuracy: 0.9563 - val_loss: 0.9018 - val_accuracy: 0.7923\n",
            "Epoch 7/100\n",
            "92/92 [==============================] - 2s 20ms/step - loss: 0.1235 - accuracy: 0.9686 - val_loss: 0.9507 - val_accuracy: 0.8087\n",
            "Epoch 8/100\n",
            "92/92 [==============================] - 1s 16ms/step - loss: 0.0901 - accuracy: 0.9802 - val_loss: 0.9111 - val_accuracy: 0.8224\n",
            "Epoch 9/100\n",
            "92/92 [==============================] - 2s 17ms/step - loss: 0.0954 - accuracy: 0.9758 - val_loss: 0.9675 - val_accuracy: 0.8142\n",
            "Epoch 10/100\n",
            "92/92 [==============================] - 2s 17ms/step - loss: 0.1153 - accuracy: 0.9696 - val_loss: 1.0722 - val_accuracy: 0.7978\n",
            "Epoch 11/100\n",
            "92/92 [==============================] - 1s 16ms/step - loss: 0.1282 - accuracy: 0.9679 - val_loss: 1.0635 - val_accuracy: 0.8033\n",
            "Epoch 12/100\n",
            "92/92 [==============================] - 1s 16ms/step - loss: 0.0795 - accuracy: 0.9802 - val_loss: 1.1075 - val_accuracy: 0.8115\n",
            "Epoch 13/100\n",
            "92/92 [==============================] - 1s 16ms/step - loss: 0.1126 - accuracy: 0.9720 - val_loss: 1.0034 - val_accuracy: 0.8251\n",
            "Epoch 14/100\n",
            "92/92 [==============================] - 2s 20ms/step - loss: 0.1025 - accuracy: 0.9713 - val_loss: 0.9166 - val_accuracy: 0.8197\n",
            "Epoch 15/100\n",
            "92/92 [==============================] - 2s 20ms/step - loss: 0.0668 - accuracy: 0.9826 - val_loss: 0.9325 - val_accuracy: 0.8169\n",
            "Epoch 16/100\n",
            "92/92 [==============================] - 1s 16ms/step - loss: 0.0958 - accuracy: 0.9734 - val_loss: 1.0705 - val_accuracy: 0.8005\n",
            "Epoch 17/100\n",
            "92/92 [==============================] - 2s 16ms/step - loss: 0.0656 - accuracy: 0.9836 - val_loss: 1.0044 - val_accuracy: 0.8033\n",
            "Epoch 18/100\n",
            "92/92 [==============================] - 1s 16ms/step - loss: 0.0735 - accuracy: 0.9846 - val_loss: 1.0255 - val_accuracy: 0.8087\n",
            "Epoch 19/100\n",
            "92/92 [==============================] - 1s 16ms/step - loss: 0.0485 - accuracy: 0.9850 - val_loss: 1.3678 - val_accuracy: 0.8033\n",
            "Epoch 20/100\n",
            "92/92 [==============================] - 2s 17ms/step - loss: 0.0763 - accuracy: 0.9802 - val_loss: 1.0095 - val_accuracy: 0.8060\n",
            "Epoch 21/100\n",
            "92/92 [==============================] - 1s 16ms/step - loss: 0.0841 - accuracy: 0.9758 - val_loss: 1.5489 - val_accuracy: 0.7869\n",
            "Epoch 22/100\n",
            "92/92 [==============================] - 2s 18ms/step - loss: 0.0798 - accuracy: 0.9771 - val_loss: 1.2339 - val_accuracy: 0.7951\n",
            "Epoch 23/100\n",
            "92/92 [==============================] - 2s 21ms/step - loss: 0.0707 - accuracy: 0.9778 - val_loss: 1.0558 - val_accuracy: 0.7978\n",
            "Epoch 24/100\n",
            "92/92 [==============================] - 2s 17ms/step - loss: 0.0577 - accuracy: 0.9850 - val_loss: 1.2829 - val_accuracy: 0.7951\n",
            "Epoch 25/100\n",
            "92/92 [==============================] - 1s 16ms/step - loss: 0.1231 - accuracy: 0.9655 - val_loss: 1.4339 - val_accuracy: 0.7951\n",
            "Epoch 26/100\n",
            "92/92 [==============================] - 1s 16ms/step - loss: 0.0977 - accuracy: 0.9703 - val_loss: 1.4578 - val_accuracy: 0.8115\n",
            "Epoch 27/100\n",
            "92/92 [==============================] - 1s 16ms/step - loss: 0.0855 - accuracy: 0.9744 - val_loss: 1.4764 - val_accuracy: 0.7705\n",
            "Epoch 28/100\n",
            "92/92 [==============================] - 2s 16ms/step - loss: 0.0871 - accuracy: 0.9737 - val_loss: 1.5542 - val_accuracy: 0.7978\n",
            "Epoch 29/100\n",
            "92/92 [==============================] - 1s 16ms/step - loss: 0.0519 - accuracy: 0.9853 - val_loss: 1.1392 - val_accuracy: 0.8087\n",
            "Epoch 30/100\n",
            "92/92 [==============================] - 2s 17ms/step - loss: 0.0391 - accuracy: 0.9860 - val_loss: 1.2348 - val_accuracy: 0.8142\n",
            "Epoch 31/100\n",
            "92/92 [==============================] - 2s 20ms/step - loss: 0.0470 - accuracy: 0.9877 - val_loss: 1.2247 - val_accuracy: 0.8224\n",
            "Epoch 32/100\n",
            "92/92 [==============================] - 2s 19ms/step - loss: 0.0553 - accuracy: 0.9843 - val_loss: 1.1212 - val_accuracy: 0.7787\n",
            "Epoch 33/100\n",
            "92/92 [==============================] - 1s 16ms/step - loss: 0.0395 - accuracy: 0.9881 - val_loss: 1.3134 - val_accuracy: 0.7842\n",
            "Epoch 34/100\n",
            "92/92 [==============================] - 1s 16ms/step - loss: 0.0324 - accuracy: 0.9887 - val_loss: 1.1255 - val_accuracy: 0.8224\n",
            "Epoch 35/100\n",
            "92/92 [==============================] - 1s 16ms/step - loss: 0.0359 - accuracy: 0.9891 - val_loss: 1.6500 - val_accuracy: 0.8060\n",
            "Epoch 36/100\n",
            "92/92 [==============================] - 2s 17ms/step - loss: 0.0334 - accuracy: 0.9887 - val_loss: 1.3826 - val_accuracy: 0.8115\n",
            "Epoch 37/100\n",
            "92/92 [==============================] - 2s 17ms/step - loss: 0.0309 - accuracy: 0.9884 - val_loss: 1.1953 - val_accuracy: 0.8060\n",
            "Epoch 38/100\n",
            "92/92 [==============================] - 2s 16ms/step - loss: 0.0390 - accuracy: 0.9867 - val_loss: 1.3800 - val_accuracy: 0.8197\n",
            "Epoch 39/100\n",
            "92/92 [==============================] - 2s 20ms/step - loss: 0.0618 - accuracy: 0.9805 - val_loss: 1.5580 - val_accuracy: 0.8087\n",
            "Epoch 40/100\n",
            "92/92 [==============================] - 2s 22ms/step - loss: 0.0687 - accuracy: 0.9761 - val_loss: 1.5605 - val_accuracy: 0.8005\n",
            "Epoch 41/100\n",
            "92/92 [==============================] - 2s 17ms/step - loss: 0.0604 - accuracy: 0.9805 - val_loss: 1.4467 - val_accuracy: 0.8005\n",
            "Epoch 42/100\n",
            "92/92 [==============================] - 2s 16ms/step - loss: 0.0515 - accuracy: 0.9823 - val_loss: 1.4098 - val_accuracy: 0.7896\n",
            "Epoch 43/100\n",
            "92/92 [==============================] - 1s 16ms/step - loss: 0.0643 - accuracy: 0.9805 - val_loss: 1.7435 - val_accuracy: 0.8115\n",
            "Epoch 44/100\n",
            "92/92 [==============================] - 2s 16ms/step - loss: 0.0681 - accuracy: 0.9788 - val_loss: 1.4251 - val_accuracy: 0.8169\n",
            "Epoch 45/100\n",
            "92/92 [==============================] - 1s 16ms/step - loss: 0.0450 - accuracy: 0.9874 - val_loss: 1.5978 - val_accuracy: 0.8087\n",
            "Epoch 46/100\n",
            "92/92 [==============================] - 1s 16ms/step - loss: 0.0448 - accuracy: 0.9846 - val_loss: 1.3877 - val_accuracy: 0.8169\n",
            "Epoch 47/100\n",
            "92/92 [==============================] - 2s 18ms/step - loss: 0.0308 - accuracy: 0.9904 - val_loss: 1.7172 - val_accuracy: 0.8005\n",
            "Epoch 48/100\n",
            "92/92 [==============================] - 2s 22ms/step - loss: 0.0361 - accuracy: 0.9867 - val_loss: 1.4276 - val_accuracy: 0.8115\n",
            "Epoch 49/100\n",
            "92/92 [==============================] - 2s 17ms/step - loss: 0.0264 - accuracy: 0.9887 - val_loss: 2.0769 - val_accuracy: 0.7978\n",
            "Epoch 50/100\n",
            "92/92 [==============================] - 1s 16ms/step - loss: 0.0404 - accuracy: 0.9846 - val_loss: 1.8739 - val_accuracy: 0.7814\n",
            "Epoch 51/100\n",
            "92/92 [==============================] - 1s 16ms/step - loss: 0.0286 - accuracy: 0.9877 - val_loss: 1.5631 - val_accuracy: 0.7842\n",
            "Epoch 52/100\n",
            "92/92 [==============================] - 1s 16ms/step - loss: 0.0210 - accuracy: 0.9894 - val_loss: 1.7026 - val_accuracy: 0.8142\n",
            "Epoch 53/100\n",
            "92/92 [==============================] - 1s 16ms/step - loss: 0.0255 - accuracy: 0.9881 - val_loss: 1.4433 - val_accuracy: 0.8005\n",
            "Epoch 54/100\n",
            "92/92 [==============================] - 1s 16ms/step - loss: 0.0305 - accuracy: 0.9863 - val_loss: 1.7337 - val_accuracy: 0.8060\n",
            "Epoch 55/100\n",
            "92/92 [==============================] - 2s 17ms/step - loss: 0.0362 - accuracy: 0.9843 - val_loss: 1.8769 - val_accuracy: 0.8087\n",
            "Epoch 56/100\n",
            "92/92 [==============================] - 2s 21ms/step - loss: 0.0324 - accuracy: 0.9874 - val_loss: 2.0437 - val_accuracy: 0.8005\n",
            "Epoch 57/100\n",
            "92/92 [==============================] - 2s 19ms/step - loss: 0.1035 - accuracy: 0.9703 - val_loss: 1.8405 - val_accuracy: 0.7978\n",
            "Epoch 58/100\n",
            "92/92 [==============================] - 1s 16ms/step - loss: 0.1666 - accuracy: 0.9522 - val_loss: 2.4396 - val_accuracy: 0.7295\n",
            "Epoch 59/100\n",
            "92/92 [==============================] - 1s 16ms/step - loss: 0.1662 - accuracy: 0.9549 - val_loss: 1.8234 - val_accuracy: 0.7923\n",
            "Epoch 60/100\n",
            "92/92 [==============================] - 2s 17ms/step - loss: 0.0523 - accuracy: 0.9826 - val_loss: 1.6405 - val_accuracy: 0.7978\n",
            "Epoch 61/100\n",
            "92/92 [==============================] - 1s 16ms/step - loss: 0.0343 - accuracy: 0.9846 - val_loss: 1.8467 - val_accuracy: 0.8033\n",
            "Epoch 62/100\n",
            "92/92 [==============================] - 1s 16ms/step - loss: 0.0248 - accuracy: 0.9877 - val_loss: 1.7681 - val_accuracy: 0.8115\n",
            "Epoch 63/100\n",
            "92/92 [==============================] - 2s 16ms/step - loss: 0.0306 - accuracy: 0.9874 - val_loss: 1.8704 - val_accuracy: 0.8033\n",
            "Epoch 64/100\n",
            "92/92 [==============================] - 2s 19ms/step - loss: 0.0204 - accuracy: 0.9908 - val_loss: 1.9445 - val_accuracy: 0.8087\n",
            "Epoch 65/100\n",
            "92/92 [==============================] - 2s 21ms/step - loss: 0.0378 - accuracy: 0.9860 - val_loss: 1.4290 - val_accuracy: 0.8005\n",
            "Epoch 66/100\n",
            "92/92 [==============================] - 2s 16ms/step - loss: 0.0839 - accuracy: 0.9785 - val_loss: 2.2980 - val_accuracy: 0.7377\n",
            "Epoch 67/100\n",
            "92/92 [==============================] - 1s 16ms/step - loss: 0.1140 - accuracy: 0.9666 - val_loss: 1.8080 - val_accuracy: 0.8306\n",
            "Epoch 68/100\n",
            "92/92 [==============================] - 2s 16ms/step - loss: 0.0472 - accuracy: 0.9829 - val_loss: 2.1952 - val_accuracy: 0.7951\n",
            "Epoch 69/100\n",
            "92/92 [==============================] - 2s 16ms/step - loss: 0.0348 - accuracy: 0.9867 - val_loss: 1.6206 - val_accuracy: 0.8115\n",
            "Epoch 70/100\n",
            "92/92 [==============================] - 2s 16ms/step - loss: 0.0263 - accuracy: 0.9877 - val_loss: 1.5829 - val_accuracy: 0.8033\n",
            "Epoch 71/100\n",
            "92/92 [==============================] - 1s 16ms/step - loss: 0.0194 - accuracy: 0.9925 - val_loss: 1.7530 - val_accuracy: 0.8033\n",
            "Epoch 72/100\n",
            "92/92 [==============================] - 2s 20ms/step - loss: 0.0243 - accuracy: 0.9881 - val_loss: 1.7845 - val_accuracy: 0.8033\n",
            "Epoch 73/100\n",
            "92/92 [==============================] - 2s 23ms/step - loss: 0.0227 - accuracy: 0.9881 - val_loss: 1.6959 - val_accuracy: 0.7978\n",
            "Epoch 74/100\n",
            "92/92 [==============================] - 1s 16ms/step - loss: 0.0249 - accuracy: 0.9901 - val_loss: 1.7976 - val_accuracy: 0.8115\n",
            "Epoch 75/100\n",
            "92/92 [==============================] - 2s 17ms/step - loss: 0.0298 - accuracy: 0.9850 - val_loss: 1.8135 - val_accuracy: 0.8115\n",
            "Epoch 76/100\n",
            "92/92 [==============================] - 1s 16ms/step - loss: 0.0238 - accuracy: 0.9898 - val_loss: 1.7817 - val_accuracy: 0.8087\n",
            "Epoch 77/100\n",
            "92/92 [==============================] - 2s 17ms/step - loss: 0.0598 - accuracy: 0.9778 - val_loss: 2.4130 - val_accuracy: 0.7842\n",
            "Epoch 78/100\n",
            "92/92 [==============================] - 1s 16ms/step - loss: 0.0845 - accuracy: 0.9730 - val_loss: 1.6883 - val_accuracy: 0.7896\n",
            "Epoch 79/100\n",
            "92/92 [==============================] - 2s 17ms/step - loss: 0.0528 - accuracy: 0.9833 - val_loss: 1.7074 - val_accuracy: 0.8087\n",
            "Epoch 80/100\n",
            "92/92 [==============================] - 2s 18ms/step - loss: 0.0347 - accuracy: 0.9874 - val_loss: 2.1711 - val_accuracy: 0.8060\n",
            "Epoch 81/100\n",
            "92/92 [==============================] - 2s 22ms/step - loss: 0.0546 - accuracy: 0.9788 - val_loss: 1.8666 - val_accuracy: 0.7350\n",
            "Epoch 82/100\n",
            "92/92 [==============================] - 2s 18ms/step - loss: 0.0949 - accuracy: 0.9717 - val_loss: 2.2040 - val_accuracy: 0.8279\n",
            "Epoch 83/100\n",
            "92/92 [==============================] - 2s 16ms/step - loss: 0.0383 - accuracy: 0.9857 - val_loss: 1.9755 - val_accuracy: 0.8033\n",
            "Epoch 84/100\n",
            "92/92 [==============================] - 2s 16ms/step - loss: 0.0439 - accuracy: 0.9823 - val_loss: 2.0686 - val_accuracy: 0.7842\n",
            "Epoch 85/100\n",
            "92/92 [==============================] - 1s 16ms/step - loss: 0.0488 - accuracy: 0.9833 - val_loss: 1.9827 - val_accuracy: 0.8005\n",
            "Epoch 86/100\n",
            "92/92 [==============================] - 1s 16ms/step - loss: 0.0396 - accuracy: 0.9870 - val_loss: 2.0415 - val_accuracy: 0.8197\n",
            "Epoch 87/100\n",
            "92/92 [==============================] - 2s 16ms/step - loss: 0.0443 - accuracy: 0.9843 - val_loss: 2.1341 - val_accuracy: 0.8142\n",
            "Epoch 88/100\n",
            "92/92 [==============================] - 2s 18ms/step - loss: 0.0300 - accuracy: 0.9887 - val_loss: 2.2689 - val_accuracy: 0.8115\n",
            "Epoch 89/100\n",
            "92/92 [==============================] - 2s 21ms/step - loss: 0.0245 - accuracy: 0.9894 - val_loss: 2.1951 - val_accuracy: 0.8005\n",
            "Epoch 90/100\n",
            "92/92 [==============================] - 2s 19ms/step - loss: 0.0223 - accuracy: 0.9901 - val_loss: 1.7708 - val_accuracy: 0.8224\n",
            "Epoch 91/100\n",
            "92/92 [==============================] - 1s 16ms/step - loss: 0.0306 - accuracy: 0.9881 - val_loss: 1.9317 - val_accuracy: 0.8060\n",
            "Epoch 92/100\n",
            "92/92 [==============================] - 2s 17ms/step - loss: 0.0279 - accuracy: 0.9863 - val_loss: 1.8135 - val_accuracy: 0.8060\n",
            "Epoch 93/100\n",
            "92/92 [==============================] - 2s 16ms/step - loss: 0.0188 - accuracy: 0.9891 - val_loss: 2.9114 - val_accuracy: 0.7923\n",
            "Epoch 94/100\n",
            "92/92 [==============================] - 1s 16ms/step - loss: 0.0304 - accuracy: 0.9884 - val_loss: 1.9067 - val_accuracy: 0.8197\n",
            "Epoch 95/100\n",
            "92/92 [==============================] - 1s 16ms/step - loss: 0.0237 - accuracy: 0.9901 - val_loss: 2.0351 - val_accuracy: 0.8033\n",
            "Epoch 96/100\n",
            "92/92 [==============================] - 2s 17ms/step - loss: 0.0249 - accuracy: 0.9884 - val_loss: 1.7152 - val_accuracy: 0.7705\n",
            "Epoch 97/100\n",
            "92/92 [==============================] - 2s 21ms/step - loss: 0.0366 - accuracy: 0.9891 - val_loss: 2.0913 - val_accuracy: 0.8115\n",
            "Epoch 98/100\n",
            "92/92 [==============================] - 2s 20ms/step - loss: 0.0245 - accuracy: 0.9891 - val_loss: 1.9451 - val_accuracy: 0.8087\n",
            "Epoch 99/100\n",
            "92/92 [==============================] - 1s 16ms/step - loss: 0.0268 - accuracy: 0.9877 - val_loss: 1.6712 - val_accuracy: 0.8060\n",
            "Epoch 100/100\n",
            "92/92 [==============================] - 1s 16ms/step - loss: 0.0211 - accuracy: 0.9898 - val_loss: 2.0182 - val_accuracy: 0.8087\n"
          ]
        }
      ]
    },
    {
      "cell_type": "code",
      "source": [
        "model.evaluate([x_valid_vgg19_features, x_valid_resnet50_features], y_valid)    #50 epochs"
      ],
      "metadata": {
        "colab": {
          "base_uri": "https://localhost:8080/"
        },
        "id": "u2C1Uqk4VZha",
        "outputId": "e1206d1e-cd65-4523-f7fe-ef0795dcea9e"
      },
      "execution_count": null,
      "outputs": [
        {
          "output_type": "stream",
          "name": "stdout",
          "text": [
            "12/12 [==============================] - 0s 15ms/step - loss: 1.6454 - accuracy: 0.8197\n"
          ]
        },
        {
          "output_type": "execute_result",
          "data": {
            "text/plain": [
              "[1.6453661918640137, 0.8196721076965332]"
            ]
          },
          "metadata": {},
          "execution_count": 9
        }
      ]
    },
    {
      "cell_type": "code",
      "source": [
        "model.evaluate([x_valid_vgg19_features, x_valid_resnet50_features], y_valid)    #100 epochs"
      ],
      "metadata": {
        "colab": {
          "base_uri": "https://localhost:8080/"
        },
        "id": "6xhQW5QcV_8i",
        "outputId": "3e3d57ff-d9d7-49e8-a6ac-3dabfdfbdf8c"
      },
      "execution_count": null,
      "outputs": [
        {
          "output_type": "stream",
          "name": "stdout",
          "text": [
            "12/12 [==============================] - 0s 13ms/step - loss: 1.9429 - accuracy: 0.8115\n"
          ]
        },
        {
          "output_type": "execute_result",
          "data": {
            "text/plain": [
              "[1.9428861141204834, 0.811475396156311]"
            ]
          },
          "metadata": {},
          "execution_count": 11
        }
      ]
    },
    {
      "cell_type": "code",
      "source": [
        "from tensorflow.keras.layers import Input, Concatenate, Dense\n",
        "from tensorflow.keras.models import Model\n",
        "BATCH_SIZE=32\n",
        "# Define input layers for VGG19 and ResNet50 features\n",
        "input_vgg19 = Input(shape=(x_train_vgg19_features.shape[1],))\n",
        "input_resnet50 = Input(shape=(x_train_resnet50_features.shape[1],))\n",
        "\n",
        "# Define the neural network layers\n",
        "dense_1 = Dense(512, activation='relu')(input_vgg19)\n",
        "dense_2 = Dense(256, activation='relu')(dense_1)\n",
        "dense_3 = Dense(128, activation='relu')(dense_2)\n",
        "\n",
        "# Cross-pooling layer to combine VGG19 and ResNet50 features\n",
        "cross_pooled = Concatenate()([dense_3, input_resnet50])\n",
        "\n",
        "dense_4 = Dense(64, activation='relu')(cross_pooled)\n",
        "dense_5 = Dense(32, activation='relu')(dense_4)\n",
        "output = Dense(5, activation='softmax')(dense_5)\n",
        "\n",
        "# Create the model\n",
        "model = Model(inputs=[input_vgg19, input_resnet50], outputs=output)\n",
        "model.compile(loss='sparse_categorical_crossentropy', optimizer='adam', metrics=['accuracy'])\n",
        "\n",
        "# Train the model\n",
        "history = model.fit(\n",
        "    [x_train_vgg19_features, x_train_resnet50_features], y_train,\n",
        "    steps_per_epoch=x_train_vgg19_features.shape[0] / BATCH_SIZE,batch_size=BATCH_SIZE,\n",
        "    epochs=50,\n",
        "    validation_data=([x_val_vgg19_features, x_val_resnet50_features], y_val)\n",
        ")\n"
      ],
      "metadata": {
        "colab": {
          "base_uri": "https://localhost:8080/"
        },
        "id": "o5zIy7quXXtt",
        "outputId": "899ac5ae-5639-4689-f593-a8ce8e76b252"
      },
      "execution_count": null,
      "outputs": [
        {
          "output_type": "stream",
          "name": "stdout",
          "text": [
            "Epoch 1/50\n",
            "91/91 [==============================] - 4s 24ms/step - loss: 3.1714 - accuracy: 0.6399 - val_loss: 0.9964 - val_accuracy: 0.7240\n",
            "Epoch 2/50\n",
            "91/91 [==============================] - 2s 22ms/step - loss: 0.4962 - accuracy: 0.8287 - val_loss: 0.8360 - val_accuracy: 0.7486\n",
            "Epoch 3/50\n",
            "91/91 [==============================] - 2s 18ms/step - loss: 0.3183 - accuracy: 0.8860 - val_loss: 0.7028 - val_accuracy: 0.8087\n",
            "Epoch 4/50\n",
            "91/91 [==============================] - 2s 16ms/step - loss: 0.2305 - accuracy: 0.9229 - val_loss: 0.8015 - val_accuracy: 0.8197\n",
            "Epoch 5/50\n",
            "91/91 [==============================] - 2s 16ms/step - loss: 0.2264 - accuracy: 0.9246 - val_loss: 0.7783 - val_accuracy: 0.8224\n",
            "Epoch 6/50\n",
            "91/91 [==============================] - 1s 16ms/step - loss: 0.1414 - accuracy: 0.9635 - val_loss: 0.8623 - val_accuracy: 0.7951\n",
            "Epoch 7/50\n",
            "91/91 [==============================] - 2s 17ms/step - loss: 0.1113 - accuracy: 0.9771 - val_loss: 0.9103 - val_accuracy: 0.8142\n",
            "Epoch 8/50\n",
            "91/91 [==============================] - 2s 17ms/step - loss: 0.0986 - accuracy: 0.9792 - val_loss: 0.8762 - val_accuracy: 0.8115\n",
            "Epoch 9/50\n",
            "91/91 [==============================] - 2s 17ms/step - loss: 0.0963 - accuracy: 0.9737 - val_loss: 0.9371 - val_accuracy: 0.8224\n",
            "Epoch 10/50\n",
            "91/91 [==============================] - 2s 21ms/step - loss: 0.0954 - accuracy: 0.9765 - val_loss: 0.8566 - val_accuracy: 0.8142\n",
            "Epoch 11/50\n",
            "91/91 [==============================] - 2s 19ms/step - loss: 0.0858 - accuracy: 0.9778 - val_loss: 1.1397 - val_accuracy: 0.8087\n",
            "Epoch 12/50\n",
            "91/91 [==============================] - 1s 16ms/step - loss: 0.0739 - accuracy: 0.9833 - val_loss: 1.0623 - val_accuracy: 0.7869\n",
            "Epoch 13/50\n",
            "91/91 [==============================] - 2s 17ms/step - loss: 0.1154 - accuracy: 0.9631 - val_loss: 1.1213 - val_accuracy: 0.8115\n",
            "Epoch 14/50\n",
            "91/91 [==============================] - 1s 16ms/step - loss: 0.1008 - accuracy: 0.9741 - val_loss: 1.0631 - val_accuracy: 0.8115\n",
            "Epoch 15/50\n",
            "91/91 [==============================] - 2s 17ms/step - loss: 0.0902 - accuracy: 0.9778 - val_loss: 1.1973 - val_accuracy: 0.8142\n",
            "Epoch 16/50\n",
            "91/91 [==============================] - 2s 16ms/step - loss: 0.0943 - accuracy: 0.9788 - val_loss: 1.1219 - val_accuracy: 0.8033\n",
            "Epoch 17/50\n",
            "91/91 [==============================] - 2s 16ms/step - loss: 0.0677 - accuracy: 0.9853 - val_loss: 1.1675 - val_accuracy: 0.8197\n",
            "Epoch 18/50\n",
            "91/91 [==============================] - 2s 21ms/step - loss: 0.1121 - accuracy: 0.9730 - val_loss: 1.2765 - val_accuracy: 0.7787\n",
            "Epoch 19/50\n",
            "91/91 [==============================] - 2s 21ms/step - loss: 0.0948 - accuracy: 0.9761 - val_loss: 1.2060 - val_accuracy: 0.7842\n",
            "Epoch 20/50\n",
            "91/91 [==============================] - 2s 17ms/step - loss: 0.0702 - accuracy: 0.9829 - val_loss: 1.2755 - val_accuracy: 0.7896\n",
            "Epoch 21/50\n",
            "91/91 [==============================] - 2s 17ms/step - loss: 0.0742 - accuracy: 0.9816 - val_loss: 1.4416 - val_accuracy: 0.7760\n",
            "Epoch 22/50\n",
            "91/91 [==============================] - 2s 17ms/step - loss: 0.0786 - accuracy: 0.9778 - val_loss: 1.3343 - val_accuracy: 0.8005\n",
            "Epoch 23/50\n",
            "91/91 [==============================] - 2s 17ms/step - loss: 0.0660 - accuracy: 0.9840 - val_loss: 1.1870 - val_accuracy: 0.7923\n",
            "Epoch 24/50\n",
            "91/91 [==============================] - 2s 16ms/step - loss: 0.0461 - accuracy: 0.9874 - val_loss: 1.1505 - val_accuracy: 0.7923\n",
            "Epoch 25/50\n",
            "91/91 [==============================] - 1s 16ms/step - loss: 0.0498 - accuracy: 0.9874 - val_loss: 1.3573 - val_accuracy: 0.8224\n",
            "Epoch 26/50\n",
            "91/91 [==============================] - 2s 19ms/step - loss: 0.0641 - accuracy: 0.9802 - val_loss: 1.1835 - val_accuracy: 0.7787\n",
            "Epoch 27/50\n",
            "91/91 [==============================] - 2s 20ms/step - loss: 0.0455 - accuracy: 0.9870 - val_loss: 1.2172 - val_accuracy: 0.7896\n",
            "Epoch 28/50\n",
            "91/91 [==============================] - 1s 16ms/step - loss: 0.0452 - accuracy: 0.9860 - val_loss: 1.0463 - val_accuracy: 0.8033\n",
            "Epoch 29/50\n",
            "91/91 [==============================] - 1s 16ms/step - loss: 0.0431 - accuracy: 0.9867 - val_loss: 1.2829 - val_accuracy: 0.7732\n",
            "Epoch 30/50\n",
            "91/91 [==============================] - 1s 16ms/step - loss: 0.0486 - accuracy: 0.9870 - val_loss: 1.2875 - val_accuracy: 0.8005\n",
            "Epoch 31/50\n",
            "91/91 [==============================] - 2s 17ms/step - loss: 0.0705 - accuracy: 0.9836 - val_loss: 1.6200 - val_accuracy: 0.8115\n",
            "Epoch 32/50\n",
            "91/91 [==============================] - 1s 16ms/step - loss: 0.1195 - accuracy: 0.9638 - val_loss: 1.1649 - val_accuracy: 0.8005\n",
            "Epoch 33/50\n",
            "91/91 [==============================] - 2s 16ms/step - loss: 0.1757 - accuracy: 0.9532 - val_loss: 1.9592 - val_accuracy: 0.7322\n",
            "Epoch 34/50\n",
            "91/91 [==============================] - 2s 17ms/step - loss: 0.1811 - accuracy: 0.9577 - val_loss: 1.5356 - val_accuracy: 0.7978\n",
            "Epoch 35/50\n",
            "91/91 [==============================] - 2s 20ms/step - loss: 0.0652 - accuracy: 0.9758 - val_loss: 1.2526 - val_accuracy: 0.8087\n",
            "Epoch 36/50\n",
            "91/91 [==============================] - 2s 24ms/step - loss: 0.0406 - accuracy: 0.9894 - val_loss: 1.2847 - val_accuracy: 0.8060\n",
            "Epoch 37/50\n",
            "91/91 [==============================] - 2s 19ms/step - loss: 0.0353 - accuracy: 0.9901 - val_loss: 1.3075 - val_accuracy: 0.8388\n",
            "Epoch 38/50\n",
            "91/91 [==============================] - 2s 16ms/step - loss: 0.0324 - accuracy: 0.9887 - val_loss: 1.3430 - val_accuracy: 0.8087\n",
            "Epoch 39/50\n",
            "91/91 [==============================] - 2s 17ms/step - loss: 0.0411 - accuracy: 0.9891 - val_loss: 1.3523 - val_accuracy: 0.7951\n",
            "Epoch 40/50\n",
            "91/91 [==============================] - 2s 17ms/step - loss: 0.0382 - accuracy: 0.9867 - val_loss: 2.0353 - val_accuracy: 0.8087\n",
            "Epoch 41/50\n",
            "91/91 [==============================] - 2s 17ms/step - loss: 0.0330 - accuracy: 0.9877 - val_loss: 1.2086 - val_accuracy: 0.8115\n",
            "Epoch 42/50\n",
            "91/91 [==============================] - 2s 20ms/step - loss: 0.0438 - accuracy: 0.9863 - val_loss: 1.2313 - val_accuracy: 0.8087\n",
            "Epoch 43/50\n",
            "91/91 [==============================] - 2s 21ms/step - loss: 0.0392 - accuracy: 0.9870 - val_loss: 1.3058 - val_accuracy: 0.7978\n",
            "Epoch 44/50\n",
            "91/91 [==============================] - 2s 17ms/step - loss: 0.0295 - accuracy: 0.9887 - val_loss: 1.1999 - val_accuracy: 0.8005\n",
            "Epoch 45/50\n",
            "91/91 [==============================] - 2s 16ms/step - loss: 0.0277 - accuracy: 0.9887 - val_loss: 1.3016 - val_accuracy: 0.8060\n",
            "Epoch 46/50\n",
            "91/91 [==============================] - 1s 16ms/step - loss: 0.0359 - accuracy: 0.9867 - val_loss: 1.4143 - val_accuracy: 0.8033\n",
            "Epoch 47/50\n",
            "91/91 [==============================] - 2s 19ms/step - loss: 0.0347 - accuracy: 0.9874 - val_loss: 1.6778 - val_accuracy: 0.7923\n",
            "Epoch 48/50\n",
            "91/91 [==============================] - 2s 17ms/step - loss: 0.0424 - accuracy: 0.9850 - val_loss: 1.7125 - val_accuracy: 0.8033\n",
            "Epoch 49/50\n",
            "91/91 [==============================] - 1s 16ms/step - loss: 0.0580 - accuracy: 0.9843 - val_loss: 2.0596 - val_accuracy: 0.7923\n",
            "Epoch 50/50\n",
            "91/91 [==============================] - 2s 19ms/step - loss: 0.1174 - accuracy: 0.9618 - val_loss: 1.2912 - val_accuracy: 0.8087\n"
          ]
        }
      ]
    },
    {
      "cell_type": "code",
      "source": [
        "model.evaluate([x_valid_vgg19_features, x_valid_resnet50_features], y_valid)    #50 epochs"
      ],
      "metadata": {
        "colab": {
          "base_uri": "https://localhost:8080/"
        },
        "id": "iUoEgqCQXrln",
        "outputId": "54e66ed4-520b-4025-d76d-f7c820e64aac"
      },
      "execution_count": null,
      "outputs": [
        {
          "output_type": "stream",
          "name": "stdout",
          "text": [
            "12/12 [==============================] - 0s 9ms/step - loss: 1.4460 - accuracy: 0.8197\n"
          ]
        },
        {
          "output_type": "execute_result",
          "data": {
            "text/plain": [
              "[1.4459642171859741, 0.8196721076965332]"
            ]
          },
          "metadata": {},
          "execution_count": 13
        }
      ]
    },
    {
      "cell_type": "code",
      "source": [
        "from tensorflow.keras.layers import Input, Concatenate, Dense\n",
        "from tensorflow.keras.models import Model\n",
        "BATCH_SIZE=32\n",
        "# Define input layers for VGG19 and ResNet50 features\n",
        "input_vgg19 = Input(shape=(x_train_vgg19_features.shape[1],))\n",
        "input_resnet50 = Input(shape=(x_train_resnet50_features.shape[1],))\n",
        "\n",
        "# Define the neural network layers\n",
        "dense_1 = Dense(256, activation='relu')(input_vgg19)\n",
        "#dense_2 = Dense(256, activation='relu')(dense_1)\n",
        "#dense_3 = Dense(128, activation='relu')(dense_2)\n",
        "\n",
        "# Cross-pooling layer to combine VGG19 and ResNet50 features\n",
        "cross_pooled = Concatenate()([dense_1, input_resnet50])\n",
        "\n",
        "#dense_4 = Dense(64, activation='relu')(cross_pooled)\n",
        "dense_5 = Dense(128, activation='relu')(cross_pooled)\n",
        "output = Dense(5, activation='softmax')(dense_5)\n",
        "\n",
        "# Create the model\n",
        "model = Model(inputs=[input_vgg19, input_resnet50], outputs=output)\n",
        "model.compile(loss='sparse_categorical_crossentropy', optimizer='adam', metrics=['accuracy'])\n",
        "\n",
        "# Train the model\n",
        "history = model.fit(\n",
        "    [x_train_vgg19_features, x_train_resnet50_features], y_train,\n",
        "    steps_per_epoch=x_train_vgg19_features.shape[0] / BATCH_SIZE,batch_size=BATCH_SIZE,\n",
        "    epochs=50,\n",
        "    validation_data=([x_val_vgg19_features, x_val_resnet50_features], y_val)\n",
        ")\n"
      ],
      "metadata": {
        "colab": {
          "base_uri": "https://localhost:8080/"
        },
        "id": "ZJw8O9HbYIbY",
        "outputId": "277446d5-0b16-49ba-817d-b035d0a778d7"
      },
      "execution_count": null,
      "outputs": [
        {
          "output_type": "stream",
          "name": "stdout",
          "text": [
            "Epoch 1/50\n",
            "91/91 [==============================] - 5s 23ms/step - loss: 4.4784 - accuracy: 0.6710 - val_loss: 0.7207 - val_accuracy: 0.7432\n",
            "Epoch 2/50\n",
            "91/91 [==============================] - 2s 16ms/step - loss: 0.5525 - accuracy: 0.8017 - val_loss: 0.7880 - val_accuracy: 0.7650\n",
            "Epoch 3/50\n",
            "91/91 [==============================] - 1s 16ms/step - loss: 0.4409 - accuracy: 0.8403 - val_loss: 0.7709 - val_accuracy: 0.7923\n",
            "Epoch 4/50\n",
            "91/91 [==============================] - 1s 16ms/step - loss: 0.3410 - accuracy: 0.8693 - val_loss: 0.8029 - val_accuracy: 0.7923\n",
            "Epoch 5/50\n",
            "91/91 [==============================] - 2s 19ms/step - loss: 0.2640 - accuracy: 0.9000 - val_loss: 1.0326 - val_accuracy: 0.7923\n",
            "Epoch 6/50\n",
            "91/91 [==============================] - 2s 21ms/step - loss: 0.1874 - accuracy: 0.9263 - val_loss: 0.7443 - val_accuracy: 0.8279\n",
            "Epoch 7/50\n",
            "91/91 [==============================] - 1s 16ms/step - loss: 0.1313 - accuracy: 0.9526 - val_loss: 0.9484 - val_accuracy: 0.8060\n",
            "Epoch 8/50\n",
            "91/91 [==============================] - 1s 16ms/step - loss: 0.1665 - accuracy: 0.9392 - val_loss: 0.9706 - val_accuracy: 0.7787\n",
            "Epoch 9/50\n",
            "91/91 [==============================] - 1s 16ms/step - loss: 0.1465 - accuracy: 0.9440 - val_loss: 0.9681 - val_accuracy: 0.7978\n",
            "Epoch 10/50\n",
            "91/91 [==============================] - 1s 16ms/step - loss: 0.0899 - accuracy: 0.9727 - val_loss: 1.0058 - val_accuracy: 0.8005\n",
            "Epoch 11/50\n",
            "91/91 [==============================] - 1s 15ms/step - loss: 0.0609 - accuracy: 0.9816 - val_loss: 1.2928 - val_accuracy: 0.7650\n",
            "Epoch 12/50\n",
            "91/91 [==============================] - 1s 16ms/step - loss: 0.0748 - accuracy: 0.9765 - val_loss: 1.1574 - val_accuracy: 0.8005\n",
            "Epoch 13/50\n",
            "91/91 [==============================] - 1s 16ms/step - loss: 0.0519 - accuracy: 0.9833 - val_loss: 1.4126 - val_accuracy: 0.8087\n",
            "Epoch 14/50\n",
            "91/91 [==============================] - 2s 20ms/step - loss: 0.0877 - accuracy: 0.9754 - val_loss: 1.1548 - val_accuracy: 0.8033\n",
            "Epoch 15/50\n",
            "91/91 [==============================] - 2s 19ms/step - loss: 0.0473 - accuracy: 0.9867 - val_loss: 1.0424 - val_accuracy: 0.8005\n",
            "Epoch 16/50\n",
            "91/91 [==============================] - 1s 16ms/step - loss: 0.0434 - accuracy: 0.9863 - val_loss: 1.3741 - val_accuracy: 0.7923\n",
            "Epoch 17/50\n",
            "91/91 [==============================] - 1s 16ms/step - loss: 0.0457 - accuracy: 0.9857 - val_loss: 1.4961 - val_accuracy: 0.8033\n",
            "Epoch 18/50\n",
            "91/91 [==============================] - 1s 16ms/step - loss: 0.0407 - accuracy: 0.9857 - val_loss: 1.2461 - val_accuracy: 0.7951\n",
            "Epoch 19/50\n",
            "91/91 [==============================] - 1s 16ms/step - loss: 0.0344 - accuracy: 0.9867 - val_loss: 1.4383 - val_accuracy: 0.7951\n",
            "Epoch 20/50\n",
            "91/91 [==============================] - 1s 15ms/step - loss: 0.0288 - accuracy: 0.9887 - val_loss: 1.2288 - val_accuracy: 0.8087\n",
            "Epoch 21/50\n",
            "91/91 [==============================] - 1s 16ms/step - loss: 0.0285 - accuracy: 0.9891 - val_loss: 1.4582 - val_accuracy: 0.7896\n",
            "Epoch 22/50\n",
            "91/91 [==============================] - 2s 21ms/step - loss: 0.0274 - accuracy: 0.9887 - val_loss: 1.5099 - val_accuracy: 0.8169\n",
            "Epoch 23/50\n",
            "91/91 [==============================] - 2s 21ms/step - loss: 0.0265 - accuracy: 0.9884 - val_loss: 1.3816 - val_accuracy: 0.8060\n",
            "Epoch 24/50\n",
            "91/91 [==============================] - 1s 16ms/step - loss: 0.0227 - accuracy: 0.9898 - val_loss: 1.5479 - val_accuracy: 0.8005\n",
            "Epoch 25/50\n",
            "91/91 [==============================] - 1s 16ms/step - loss: 0.0280 - accuracy: 0.9877 - val_loss: 1.3906 - val_accuracy: 0.8169\n",
            "Epoch 26/50\n",
            "91/91 [==============================] - 1s 16ms/step - loss: 0.0243 - accuracy: 0.9898 - val_loss: 1.4239 - val_accuracy: 0.8033\n",
            "Epoch 27/50\n",
            "91/91 [==============================] - 1s 16ms/step - loss: 0.1818 - accuracy: 0.9413 - val_loss: 1.7041 - val_accuracy: 0.7732\n",
            "Epoch 28/50\n",
            "91/91 [==============================] - 1s 16ms/step - loss: 0.1819 - accuracy: 0.9379 - val_loss: 2.5387 - val_accuracy: 0.7514\n",
            "Epoch 29/50\n",
            "91/91 [==============================] - 1s 16ms/step - loss: 0.1167 - accuracy: 0.9621 - val_loss: 1.6994 - val_accuracy: 0.7568\n",
            "Epoch 30/50\n",
            "91/91 [==============================] - 2s 19ms/step - loss: 0.1036 - accuracy: 0.9676 - val_loss: 1.7928 - val_accuracy: 0.7705\n",
            "Epoch 31/50\n",
            "91/91 [==============================] - 2s 22ms/step - loss: 0.0835 - accuracy: 0.9693 - val_loss: 1.7624 - val_accuracy: 0.8115\n",
            "Epoch 32/50\n",
            "91/91 [==============================] - 2s 18ms/step - loss: 0.0458 - accuracy: 0.9826 - val_loss: 1.6920 - val_accuracy: 0.8087\n",
            "Epoch 33/50\n",
            "91/91 [==============================] - 1s 16ms/step - loss: 0.0244 - accuracy: 0.9898 - val_loss: 1.5143 - val_accuracy: 0.8087\n",
            "Epoch 34/50\n",
            "91/91 [==============================] - 1s 16ms/step - loss: 0.0317 - accuracy: 0.9881 - val_loss: 1.5043 - val_accuracy: 0.8224\n",
            "Epoch 35/50\n",
            "91/91 [==============================] - 1s 15ms/step - loss: 0.0219 - accuracy: 0.9894 - val_loss: 1.4985 - val_accuracy: 0.8115\n",
            "Epoch 36/50\n",
            "91/91 [==============================] - 1s 16ms/step - loss: 0.0186 - accuracy: 0.9898 - val_loss: 1.5326 - val_accuracy: 0.8060\n",
            "Epoch 37/50\n",
            "91/91 [==============================] - 2s 20ms/step - loss: 0.0219 - accuracy: 0.9884 - val_loss: 2.0370 - val_accuracy: 0.7896\n",
            "Epoch 38/50\n",
            "91/91 [==============================] - 2s 27ms/step - loss: 0.0335 - accuracy: 0.9884 - val_loss: 1.6476 - val_accuracy: 0.7951\n",
            "Epoch 39/50\n",
            "91/91 [==============================] - 2s 22ms/step - loss: 0.0203 - accuracy: 0.9894 - val_loss: 1.6289 - val_accuracy: 0.8060\n",
            "Epoch 40/50\n",
            "91/91 [==============================] - 1s 16ms/step - loss: 0.0183 - accuracy: 0.9898 - val_loss: 1.7292 - val_accuracy: 0.8060\n",
            "Epoch 41/50\n",
            "91/91 [==============================] - 1s 16ms/step - loss: 0.0177 - accuracy: 0.9901 - val_loss: 1.6208 - val_accuracy: 0.8087\n",
            "Epoch 42/50\n",
            "91/91 [==============================] - 1s 16ms/step - loss: 0.0183 - accuracy: 0.9908 - val_loss: 1.6949 - val_accuracy: 0.8033\n",
            "Epoch 43/50\n",
            "91/91 [==============================] - 1s 16ms/step - loss: 0.0182 - accuracy: 0.9894 - val_loss: 1.7940 - val_accuracy: 0.8005\n",
            "Epoch 44/50\n",
            "91/91 [==============================] - 1s 16ms/step - loss: 0.0173 - accuracy: 0.9904 - val_loss: 1.9537 - val_accuracy: 0.8115\n",
            "Epoch 45/50\n",
            "91/91 [==============================] - 1s 16ms/step - loss: 0.0177 - accuracy: 0.9915 - val_loss: 1.7560 - val_accuracy: 0.8033\n",
            "Epoch 46/50\n",
            "91/91 [==============================] - 2s 19ms/step - loss: 0.0208 - accuracy: 0.9894 - val_loss: 2.1281 - val_accuracy: 0.8115\n",
            "Epoch 47/50\n",
            "91/91 [==============================] - 2s 24ms/step - loss: 0.0191 - accuracy: 0.9891 - val_loss: 1.7372 - val_accuracy: 0.8115\n",
            "Epoch 48/50\n",
            "91/91 [==============================] - 2s 17ms/step - loss: 0.0187 - accuracy: 0.9901 - val_loss: 1.7222 - val_accuracy: 0.8087\n",
            "Epoch 49/50\n",
            "91/91 [==============================] - 1s 16ms/step - loss: 0.0189 - accuracy: 0.9891 - val_loss: 2.0389 - val_accuracy: 0.8033\n",
            "Epoch 50/50\n",
            "91/91 [==============================] - 1s 16ms/step - loss: 0.0194 - accuracy: 0.9901 - val_loss: 2.0677 - val_accuracy: 0.8115\n"
          ]
        }
      ]
    },
    {
      "cell_type": "code",
      "source": [
        "model.evaluate([x_valid_vgg19_features, x_valid_resnet50_features], y_valid)    #50 epochs"
      ],
      "metadata": {
        "colab": {
          "base_uri": "https://localhost:8080/"
        },
        "id": "zrXuBb5DZV8I",
        "outputId": "e9fdd0ac-8fc8-4a8a-b89b-823401535df9"
      },
      "execution_count": null,
      "outputs": [
        {
          "output_type": "stream",
          "name": "stdout",
          "text": [
            "12/12 [==============================] - 0s 19ms/step - loss: 2.0684 - accuracy: 0.8142\n"
          ]
        },
        {
          "output_type": "execute_result",
          "data": {
            "text/plain": [
              "[2.068394660949707, 0.8142076730728149]"
            ]
          },
          "metadata": {},
          "execution_count": 7
        }
      ]
    },
    {
      "cell_type": "code",
      "source": [
        "from tensorflow.keras.layers import Input, Concatenate, Dense\n",
        "from tensorflow.keras.models import Model\n",
        "BATCH_SIZE=32\n",
        "# Define input layers for VGG19 and ResNet50 features\n",
        "input_vgg19 = Input(shape=(x_train_vgg19_features.shape[1],))\n",
        "input_resnet50 = Input(shape=(x_train_resnet50_features.shape[1],))\n",
        "\n",
        "# Define the neural network layers\n",
        "dense_1 = Dense(512, activation='relu')(input_vgg19)\n",
        "dense_2 = Dense(256, activation='relu')(dense_1)\n",
        "dense_3 = Dense(256, activation='relu')(dense_2)\n",
        "dense_03 = Dense(128, activation='relu')(dense_3)\n",
        "# Cross-pooling layer to combine VGG19 and ResNet50 features\n",
        "cross_pooled = Concatenate()([dense_1, input_resnet50])\n",
        "\n",
        "dense_4 = Dense(128, activation='relu')(cross_pooled)\n",
        "dense_04 = Dense(64, activation='relu')(dense_4)\n",
        "dense_5 = Dense(32, activation='relu')(dense_04)\n",
        "output = Dense(5, activation='softmax')(dense_5)\n",
        "\n",
        "# Create the model\n",
        "model = Model(inputs=[input_vgg19, input_resnet50], outputs=output)\n",
        "model.compile(loss='sparse_categorical_crossentropy', optimizer='adam', metrics=['accuracy'])\n",
        "\n",
        "# Train the model\n",
        "history = model.fit(\n",
        "    [x_train_vgg19_features, x_train_resnet50_features], y_train,\n",
        "    steps_per_epoch=x_train_vgg19_features.shape[0] / BATCH_SIZE,batch_size=BATCH_SIZE,\n",
        "    epochs=50,\n",
        "    validation_data=([x_val_vgg19_features, x_val_resnet50_features], y_val)\n",
        ")\n"
      ],
      "metadata": {
        "colab": {
          "base_uri": "https://localhost:8080/"
        },
        "id": "hfWp1f1uaCm2",
        "outputId": "3c7cf4e7-b9a1-4dc9-bb0e-09d78dc73925"
      },
      "execution_count": null,
      "outputs": [
        {
          "output_type": "stream",
          "name": "stdout",
          "text": [
            "Epoch 1/50\n",
            "91/91 [==============================] - 4s 24ms/step - loss: 1.9251 - accuracy: 0.6925 - val_loss: 0.6815 - val_accuracy: 0.7951\n",
            "Epoch 2/50\n",
            "91/91 [==============================] - 2s 20ms/step - loss: 0.5241 - accuracy: 0.8420 - val_loss: 0.7563 - val_accuracy: 0.7432\n",
            "Epoch 3/50\n",
            "91/91 [==============================] - 2s 25ms/step - loss: 0.2702 - accuracy: 0.9143 - val_loss: 0.8216 - val_accuracy: 0.7760\n",
            "Epoch 4/50\n",
            "91/91 [==============================] - 2s 18ms/step - loss: 0.1865 - accuracy: 0.9433 - val_loss: 0.9148 - val_accuracy: 0.8005\n",
            "Epoch 5/50\n",
            "91/91 [==============================] - 2s 19ms/step - loss: 0.2090 - accuracy: 0.9365 - val_loss: 0.9825 - val_accuracy: 0.8142\n",
            "Epoch 6/50\n",
            "91/91 [==============================] - 2s 18ms/step - loss: 0.0969 - accuracy: 0.9734 - val_loss: 0.8787 - val_accuracy: 0.8197\n",
            "Epoch 7/50\n",
            "91/91 [==============================] - 2s 18ms/step - loss: 0.1116 - accuracy: 0.9689 - val_loss: 0.8588 - val_accuracy: 0.8169\n",
            "Epoch 8/50\n",
            "91/91 [==============================] - 2s 18ms/step - loss: 0.0909 - accuracy: 0.9771 - val_loss: 0.9779 - val_accuracy: 0.8169\n",
            "Epoch 9/50\n",
            "91/91 [==============================] - 2s 21ms/step - loss: 0.1277 - accuracy: 0.9642 - val_loss: 1.1995 - val_accuracy: 0.7760\n",
            "Epoch 10/50\n",
            "91/91 [==============================] - 2s 23ms/step - loss: 0.0886 - accuracy: 0.9747 - val_loss: 0.9447 - val_accuracy: 0.8060\n",
            "Epoch 11/50\n",
            "91/91 [==============================] - 2s 20ms/step - loss: 0.1102 - accuracy: 0.9727 - val_loss: 1.1285 - val_accuracy: 0.8060\n",
            "Epoch 12/50\n",
            "91/91 [==============================] - 2s 19ms/step - loss: 0.1604 - accuracy: 0.9543 - val_loss: 1.3659 - val_accuracy: 0.7896\n",
            "Epoch 13/50\n",
            "91/91 [==============================] - 2s 18ms/step - loss: 0.1102 - accuracy: 0.9672 - val_loss: 0.9510 - val_accuracy: 0.8279\n",
            "Epoch 14/50\n",
            "91/91 [==============================] - 2s 19ms/step - loss: 0.0850 - accuracy: 0.9761 - val_loss: 1.3861 - val_accuracy: 0.7923\n",
            "Epoch 15/50\n",
            "91/91 [==============================] - 2s 18ms/step - loss: 0.1300 - accuracy: 0.9693 - val_loss: 1.0412 - val_accuracy: 0.8033\n",
            "Epoch 16/50\n",
            "91/91 [==============================] - 2s 18ms/step - loss: 0.0902 - accuracy: 0.9792 - val_loss: 1.4353 - val_accuracy: 0.7596\n",
            "Epoch 17/50\n",
            "91/91 [==============================] - 2s 25ms/step - loss: 0.0810 - accuracy: 0.9771 - val_loss: 1.3896 - val_accuracy: 0.8224\n",
            "Epoch 18/50\n",
            "91/91 [==============================] - 2s 20ms/step - loss: 0.1122 - accuracy: 0.9741 - val_loss: 1.5065 - val_accuracy: 0.7896\n",
            "Epoch 19/50\n",
            "91/91 [==============================] - 2s 18ms/step - loss: 0.1245 - accuracy: 0.9686 - val_loss: 1.1536 - val_accuracy: 0.7951\n",
            "Epoch 20/50\n",
            "91/91 [==============================] - 2s 18ms/step - loss: 0.0844 - accuracy: 0.9792 - val_loss: 1.6074 - val_accuracy: 0.8033\n",
            "Epoch 21/50\n",
            "91/91 [==============================] - 2s 23ms/step - loss: 0.0730 - accuracy: 0.9846 - val_loss: 1.3730 - val_accuracy: 0.7842\n",
            "Epoch 22/50\n",
            "91/91 [==============================] - 2s 20ms/step - loss: 0.0661 - accuracy: 0.9816 - val_loss: 1.1342 - val_accuracy: 0.8033\n",
            "Epoch 23/50\n",
            "91/91 [==============================] - 2s 18ms/step - loss: 0.0956 - accuracy: 0.9768 - val_loss: 1.2612 - val_accuracy: 0.8060\n",
            "Epoch 24/50\n",
            "91/91 [==============================] - 2s 23ms/step - loss: 0.0653 - accuracy: 0.9829 - val_loss: 1.1785 - val_accuracy: 0.8087\n",
            "Epoch 25/50\n",
            "91/91 [==============================] - 2s 21ms/step - loss: 0.0569 - accuracy: 0.9870 - val_loss: 1.1033 - val_accuracy: 0.8005\n",
            "Epoch 26/50\n",
            "91/91 [==============================] - 2s 18ms/step - loss: 0.0714 - accuracy: 0.9788 - val_loss: 1.3311 - val_accuracy: 0.7596\n",
            "Epoch 27/50\n",
            "91/91 [==============================] - 2s 18ms/step - loss: 0.0648 - accuracy: 0.9826 - val_loss: 1.0691 - val_accuracy: 0.8060\n",
            "Epoch 28/50\n",
            "91/91 [==============================] - 2s 19ms/step - loss: 0.0574 - accuracy: 0.9857 - val_loss: 1.1970 - val_accuracy: 0.8142\n",
            "Epoch 29/50\n",
            "91/91 [==============================] - 2s 18ms/step - loss: 0.0563 - accuracy: 0.9860 - val_loss: 1.0899 - val_accuracy: 0.8115\n",
            "Epoch 30/50\n",
            "91/91 [==============================] - 2s 18ms/step - loss: 0.0517 - accuracy: 0.9857 - val_loss: 1.1522 - val_accuracy: 0.7760\n",
            "Epoch 31/50\n",
            "91/91 [==============================] - 2s 20ms/step - loss: 0.0503 - accuracy: 0.9867 - val_loss: 1.0922 - val_accuracy: 0.7814\n",
            "Epoch 32/50\n",
            "91/91 [==============================] - 2s 25ms/step - loss: 0.0557 - accuracy: 0.9867 - val_loss: 1.4518 - val_accuracy: 0.8060\n",
            "Epoch 33/50\n",
            "91/91 [==============================] - 2s 19ms/step - loss: 0.0512 - accuracy: 0.9863 - val_loss: 1.1674 - val_accuracy: 0.7787\n",
            "Epoch 34/50\n",
            "91/91 [==============================] - 2s 19ms/step - loss: 0.0440 - accuracy: 0.9860 - val_loss: 1.1693 - val_accuracy: 0.8115\n",
            "Epoch 35/50\n",
            "91/91 [==============================] - 2s 18ms/step - loss: 0.0531 - accuracy: 0.9891 - val_loss: 1.0862 - val_accuracy: 0.7978\n",
            "Epoch 36/50\n",
            "91/91 [==============================] - 2s 18ms/step - loss: 0.0554 - accuracy: 0.9857 - val_loss: 1.1624 - val_accuracy: 0.8142\n",
            "Epoch 37/50\n",
            "91/91 [==============================] - 2s 19ms/step - loss: 0.0544 - accuracy: 0.9877 - val_loss: 1.5400 - val_accuracy: 0.7923\n",
            "Epoch 38/50\n",
            "91/91 [==============================] - 2s 21ms/step - loss: 0.0599 - accuracy: 0.9829 - val_loss: 1.4374 - val_accuracy: 0.7814\n",
            "Epoch 39/50\n",
            "91/91 [==============================] - 2s 25ms/step - loss: 0.1143 - accuracy: 0.9638 - val_loss: 1.3025 - val_accuracy: 0.8169\n",
            "Epoch 40/50\n",
            "91/91 [==============================] - 2s 19ms/step - loss: 0.0929 - accuracy: 0.9741 - val_loss: 1.5432 - val_accuracy: 0.8388\n",
            "Epoch 41/50\n",
            "91/91 [==============================] - 2s 21ms/step - loss: 0.1052 - accuracy: 0.9706 - val_loss: 1.0427 - val_accuracy: 0.8115\n",
            "Epoch 42/50\n",
            "91/91 [==============================] - 2s 18ms/step - loss: 0.0467 - accuracy: 0.9840 - val_loss: 1.2041 - val_accuracy: 0.8005\n",
            "Epoch 43/50\n",
            "91/91 [==============================] - 2s 18ms/step - loss: 0.0371 - accuracy: 0.9867 - val_loss: 1.2332 - val_accuracy: 0.8115\n",
            "Epoch 44/50\n",
            "91/91 [==============================] - 2s 18ms/step - loss: 0.0442 - accuracy: 0.9857 - val_loss: 1.1730 - val_accuracy: 0.7923\n",
            "Epoch 45/50\n",
            "91/91 [==============================] - 2s 18ms/step - loss: 0.0489 - accuracy: 0.9843 - val_loss: 1.1817 - val_accuracy: 0.8005\n",
            "Epoch 46/50\n",
            "91/91 [==============================] - 2s 25ms/step - loss: 0.0427 - accuracy: 0.9829 - val_loss: 2.2143 - val_accuracy: 0.8087\n",
            "Epoch 47/50\n",
            "91/91 [==============================] - 2s 20ms/step - loss: 0.0308 - accuracy: 0.9867 - val_loss: 1.4646 - val_accuracy: 0.8224\n",
            "Epoch 48/50\n",
            "91/91 [==============================] - 2s 19ms/step - loss: 0.0411 - accuracy: 0.9860 - val_loss: 1.2644 - val_accuracy: 0.8169\n",
            "Epoch 49/50\n",
            "91/91 [==============================] - 2s 18ms/step - loss: 0.0267 - accuracy: 0.9887 - val_loss: 1.2932 - val_accuracy: 0.7923\n",
            "Epoch 50/50\n",
            "91/91 [==============================] - 2s 21ms/step - loss: 0.0296 - accuracy: 0.9867 - val_loss: 1.2827 - val_accuracy: 0.8197\n"
          ]
        }
      ]
    },
    {
      "cell_type": "code",
      "source": [
        "model.evaluate([x_valid_vgg19_features, x_valid_resnet50_features], y_valid)    #50 epochs"
      ],
      "metadata": {
        "colab": {
          "base_uri": "https://localhost:8080/"
        },
        "id": "JpN3Qg9xaqcT",
        "outputId": "9a994337-70ca-4a9e-b00f-f49bbd245874"
      },
      "execution_count": null,
      "outputs": [
        {
          "output_type": "stream",
          "name": "stdout",
          "text": [
            "12/12 [==============================] - 0s 13ms/step - loss: 1.2310 - accuracy: 0.8224\n"
          ]
        },
        {
          "output_type": "execute_result",
          "data": {
            "text/plain": [
              "[1.230988621711731, 0.8224043846130371]"
            ]
          },
          "metadata": {},
          "execution_count": 9
        }
      ]
    },
    {
      "cell_type": "code",
      "source": [
        "from tensorflow.keras.layers import Input, Concatenate, Dense\n",
        "from tensorflow.keras.models import Model\n",
        "BATCH_SIZE=16\n",
        "# Define input layers for VGG19 and ResNet50 features\n",
        "input_vgg19 = Input(shape=(x_train_vgg19_features.shape[1],))\n",
        "input_resnet50 = Input(shape=(x_train_resnet50_features.shape[1],))\n",
        "\n",
        "# Define the neural network layers\n",
        "dense_1 = Dense(512, activation='relu')(input_vgg19)\n",
        "dense_2 = Dense(256, activation='relu')(dense_1)\n",
        "dense_3 = Dense(256, activation='relu')(dense_2)\n",
        "dense_03 = Dense(128, activation='relu')(dense_3)\n",
        "# Cross-pooling layer to combine VGG19 and ResNet50 features\n",
        "cross_pooled = Concatenate()([dense_1, input_resnet50])\n",
        "\n",
        "dense_4 = Dense(128, activation='relu')(cross_pooled)\n",
        "dense_04 = Dense(64, activation='relu')(dense_4)\n",
        "dense_5 = Dense(32, activation='relu')(dense_04)\n",
        "output = Dense(5, activation='softmax')(dense_5)\n",
        "\n",
        "# Create the model\n",
        "model = Model(inputs=[input_vgg19, input_resnet50], outputs=output)\n",
        "model.compile(loss='sparse_categorical_crossentropy', optimizer='adam', metrics=['accuracy'])\n",
        "\n",
        "# Train the model\n",
        "history = model.fit(\n",
        "    [x_train_vgg19_features, x_train_resnet50_features], y_train,\n",
        "    steps_per_epoch=x_train_vgg19_features.shape[0] / BATCH_SIZE,batch_size=BATCH_SIZE,\n",
        "    epochs=50,\n",
        "    validation_data=([x_val_vgg19_features, x_val_resnet50_features], y_val)\n",
        ")\n"
      ],
      "metadata": {
        "colab": {
          "base_uri": "https://localhost:8080/"
        },
        "id": "gsMrHvc0bF0p",
        "outputId": "3c56c094-f38e-46fc-b469-11b5e2777c9f"
      },
      "execution_count": null,
      "outputs": [
        {
          "output_type": "stream",
          "name": "stdout",
          "text": [
            "Epoch 1/50\n",
            "183/183 [==============================] - 5s 17ms/step - loss: 1.8204 - accuracy: 0.6925 - val_loss: 0.9784 - val_accuracy: 0.7896\n",
            "Epoch 2/50\n",
            "183/183 [==============================] - 2s 13ms/step - loss: 0.6578 - accuracy: 0.8089 - val_loss: 1.2368 - val_accuracy: 0.8033\n",
            "Epoch 3/50\n",
            "183/183 [==============================] - 2s 13ms/step - loss: 0.4419 - accuracy: 0.8590 - val_loss: 0.7300 - val_accuracy: 0.8169\n",
            "Epoch 4/50\n",
            "183/183 [==============================] - 3s 14ms/step - loss: 0.2018 - accuracy: 0.9276 - val_loss: 0.7815 - val_accuracy: 0.8087\n",
            "Epoch 5/50\n",
            "183/183 [==============================] - 3s 15ms/step - loss: 0.1665 - accuracy: 0.9461 - val_loss: 0.9812 - val_accuracy: 0.7541\n",
            "Epoch 6/50\n",
            "183/183 [==============================] - 3s 14ms/step - loss: 0.1439 - accuracy: 0.9573 - val_loss: 0.7969 - val_accuracy: 0.8224\n",
            "Epoch 7/50\n",
            "183/183 [==============================] - 2s 13ms/step - loss: 0.0943 - accuracy: 0.9700 - val_loss: 0.9196 - val_accuracy: 0.7787\n",
            "Epoch 8/50\n",
            "183/183 [==============================] - 2s 13ms/step - loss: 0.1304 - accuracy: 0.9659 - val_loss: 0.8753 - val_accuracy: 0.8060\n",
            "Epoch 9/50\n",
            "183/183 [==============================] - 3s 14ms/step - loss: 0.1920 - accuracy: 0.9464 - val_loss: 0.8324 - val_accuracy: 0.7896\n",
            "Epoch 10/50\n",
            "183/183 [==============================] - 3s 15ms/step - loss: 0.1920 - accuracy: 0.9488 - val_loss: 1.1226 - val_accuracy: 0.7951\n",
            "Epoch 11/50\n",
            "183/183 [==============================] - 2s 13ms/step - loss: 0.1894 - accuracy: 0.9454 - val_loss: 1.1767 - val_accuracy: 0.8005\n",
            "Epoch 12/50\n",
            "183/183 [==============================] - 2s 13ms/step - loss: 0.1683 - accuracy: 0.9502 - val_loss: 1.4016 - val_accuracy: 0.7814\n",
            "Epoch 13/50\n",
            "183/183 [==============================] - 2s 13ms/step - loss: 0.1242 - accuracy: 0.9652 - val_loss: 1.1666 - val_accuracy: 0.7896\n",
            "Epoch 14/50\n",
            "183/183 [==============================] - 2s 13ms/step - loss: 0.1575 - accuracy: 0.9590 - val_loss: 1.0699 - val_accuracy: 0.7705\n",
            "Epoch 15/50\n",
            "183/183 [==============================] - 3s 16ms/step - loss: 0.0959 - accuracy: 0.9761 - val_loss: 1.3584 - val_accuracy: 0.8115\n",
            "Epoch 16/50\n",
            "183/183 [==============================] - 2s 13ms/step - loss: 0.1073 - accuracy: 0.9765 - val_loss: 1.3104 - val_accuracy: 0.8005\n",
            "Epoch 17/50\n",
            "183/183 [==============================] - 2s 13ms/step - loss: 0.1068 - accuracy: 0.9768 - val_loss: 0.9167 - val_accuracy: 0.7923\n",
            "Epoch 18/50\n",
            "183/183 [==============================] - 2s 13ms/step - loss: 0.0811 - accuracy: 0.9788 - val_loss: 0.9329 - val_accuracy: 0.8115\n",
            "Epoch 19/50\n",
            "183/183 [==============================] - 2s 13ms/step - loss: 0.0597 - accuracy: 0.9833 - val_loss: 1.0470 - val_accuracy: 0.8115\n",
            "Epoch 20/50\n",
            "183/183 [==============================] - 3s 16ms/step - loss: 0.0672 - accuracy: 0.9819 - val_loss: 0.8246 - val_accuracy: 0.8115\n",
            "Epoch 21/50\n",
            "183/183 [==============================] - 3s 14ms/step - loss: 0.1610 - accuracy: 0.9539 - val_loss: 1.0418 - val_accuracy: 0.8087\n",
            "Epoch 22/50\n",
            "183/183 [==============================] - 2s 13ms/step - loss: 0.0798 - accuracy: 0.9768 - val_loss: 0.9437 - val_accuracy: 0.8361\n",
            "Epoch 23/50\n",
            "183/183 [==============================] - 2s 14ms/step - loss: 0.0593 - accuracy: 0.9812 - val_loss: 0.9777 - val_accuracy: 0.7896\n",
            "Epoch 24/50\n",
            "183/183 [==============================] - 2s 13ms/step - loss: 0.0426 - accuracy: 0.9870 - val_loss: 1.0270 - val_accuracy: 0.8115\n",
            "Epoch 25/50\n",
            "183/183 [==============================] - 3s 15ms/step - loss: 0.0679 - accuracy: 0.9857 - val_loss: 1.0810 - val_accuracy: 0.8142\n",
            "Epoch 26/50\n",
            "183/183 [==============================] - 3s 14ms/step - loss: 0.0524 - accuracy: 0.9874 - val_loss: 0.9412 - val_accuracy: 0.7923\n",
            "Epoch 27/50\n",
            "183/183 [==============================] - 2s 13ms/step - loss: 0.1207 - accuracy: 0.9652 - val_loss: 1.1711 - val_accuracy: 0.8005\n",
            "Epoch 28/50\n",
            "183/183 [==============================] - 2s 14ms/step - loss: 0.0839 - accuracy: 0.9754 - val_loss: 1.3807 - val_accuracy: 0.7923\n",
            "Epoch 29/50\n",
            "183/183 [==============================] - 2s 13ms/step - loss: 0.0675 - accuracy: 0.9840 - val_loss: 1.2351 - val_accuracy: 0.8142\n",
            "Epoch 30/50\n",
            "183/183 [==============================] - 3s 16ms/step - loss: 0.0509 - accuracy: 0.9863 - val_loss: 1.3984 - val_accuracy: 0.8060\n",
            "Epoch 31/50\n",
            "183/183 [==============================] - 3s 14ms/step - loss: 0.0420 - accuracy: 0.9877 - val_loss: 1.2461 - val_accuracy: 0.8060\n",
            "Epoch 32/50\n",
            "183/183 [==============================] - 2s 13ms/step - loss: 0.0300 - accuracy: 0.9887 - val_loss: 1.1737 - val_accuracy: 0.7923\n",
            "Epoch 33/50\n",
            "183/183 [==============================] - 2s 13ms/step - loss: 0.0445 - accuracy: 0.9881 - val_loss: 1.2820 - val_accuracy: 0.8142\n",
            "Epoch 34/50\n",
            "183/183 [==============================] - 2s 13ms/step - loss: 0.0704 - accuracy: 0.9799 - val_loss: 1.2837 - val_accuracy: 0.8060\n",
            "Epoch 35/50\n",
            "183/183 [==============================] - 3s 15ms/step - loss: 0.0521 - accuracy: 0.9846 - val_loss: 1.0603 - val_accuracy: 0.7951\n",
            "Epoch 36/50\n",
            "183/183 [==============================] - 3s 15ms/step - loss: 0.0392 - accuracy: 0.9863 - val_loss: 1.0053 - val_accuracy: 0.8197\n",
            "Epoch 37/50\n",
            "183/183 [==============================] - 2s 13ms/step - loss: 0.0387 - accuracy: 0.9863 - val_loss: 1.7597 - val_accuracy: 0.8060\n",
            "Epoch 38/50\n",
            "183/183 [==============================] - 2s 13ms/step - loss: 0.1164 - accuracy: 0.9590 - val_loss: 1.6550 - val_accuracy: 0.7678\n",
            "Epoch 39/50\n",
            "183/183 [==============================] - 2s 13ms/step - loss: 0.0894 - accuracy: 0.9730 - val_loss: 1.3156 - val_accuracy: 0.7923\n",
            "Epoch 40/50\n",
            "183/183 [==============================] - 3s 15ms/step - loss: 0.1085 - accuracy: 0.9672 - val_loss: 1.4084 - val_accuracy: 0.8087\n",
            "Epoch 41/50\n",
            "183/183 [==============================] - 3s 15ms/step - loss: 0.0468 - accuracy: 0.9843 - val_loss: 1.0702 - val_accuracy: 0.8142\n",
            "Epoch 42/50\n",
            "183/183 [==============================] - 3s 14ms/step - loss: 0.0636 - accuracy: 0.9799 - val_loss: 1.1575 - val_accuracy: 0.8169\n",
            "Epoch 43/50\n",
            "183/183 [==============================] - 2s 13ms/step - loss: 0.0334 - accuracy: 0.9881 - val_loss: 1.3812 - val_accuracy: 0.7923\n",
            "Epoch 44/50\n",
            "183/183 [==============================] - 2s 14ms/step - loss: 0.0289 - accuracy: 0.9874 - val_loss: 1.4990 - val_accuracy: 0.8169\n",
            "Epoch 45/50\n",
            "183/183 [==============================] - 3s 14ms/step - loss: 0.0435 - accuracy: 0.9857 - val_loss: 1.6262 - val_accuracy: 0.7978\n",
            "Epoch 46/50\n",
            "183/183 [==============================] - 3s 16ms/step - loss: 0.0460 - accuracy: 0.9867 - val_loss: 1.2344 - val_accuracy: 0.8197\n",
            "Epoch 47/50\n",
            "183/183 [==============================] - 2s 13ms/step - loss: 0.0313 - accuracy: 0.9891 - val_loss: 1.3004 - val_accuracy: 0.8060\n",
            "Epoch 48/50\n",
            "183/183 [==============================] - 2s 13ms/step - loss: 0.0559 - accuracy: 0.9816 - val_loss: 1.2674 - val_accuracy: 0.7814\n",
            "Epoch 49/50\n",
            "183/183 [==============================] - 2s 13ms/step - loss: 0.0628 - accuracy: 0.9799 - val_loss: 1.4924 - val_accuracy: 0.8060\n",
            "Epoch 50/50\n",
            "183/183 [==============================] - 2s 14ms/step - loss: 0.0502 - accuracy: 0.9826 - val_loss: 1.3181 - val_accuracy: 0.7978\n"
          ]
        }
      ]
    },
    {
      "cell_type": "code",
      "source": [
        "model.evaluate([x_valid_vgg19_features, x_valid_resnet50_features], y_valid)    #50 epochs"
      ],
      "metadata": {
        "colab": {
          "base_uri": "https://localhost:8080/"
        },
        "id": "beOPNNEEcoI_",
        "outputId": "3e5c4ef9-2a24-4267-89d2-e3232097c2a7"
      },
      "execution_count": null,
      "outputs": [
        {
          "output_type": "stream",
          "name": "stdout",
          "text": [
            "12/12 [==============================] - 0s 9ms/step - loss: 1.0959 - accuracy: 0.8279\n"
          ]
        },
        {
          "output_type": "execute_result",
          "data": {
            "text/plain": [
              "[1.0958802700042725, 0.8278688788414001]"
            ]
          },
          "metadata": {},
          "execution_count": 8
        }
      ]
    },
    {
      "cell_type": "code",
      "source": [
        "from tensorflow.keras.layers import Input, Concatenate, Dense\n",
        "from tensorflow.keras.models import Model\n",
        "BATCH_SIZE=16\n",
        "# Define input layers for VGG19 and ResNet50 features\n",
        "input_vgg19 = Input(shape=(x_train_vgg19_features.shape[1],))\n",
        "input_resnet50 = Input(shape=(x_train_resnet50_features.shape[1],))\n",
        "\n",
        "# Define the neural network layers\n",
        "dense_1 = Dense(512, activation='relu')(input_vgg19)\n",
        "dense_2 = Dense(, activation='relu')(dense_1)\n",
        "dense_2 = Dense(128, activation='relu')(dense_1)\n",
        "# Cross-pooling layer to combine VGG19 and ResNet50 features\n",
        "cross_pooled = Concatenate()([dense_1, input_resnet50])\n",
        "\n",
        "dense_04 = Dense(64, activation='relu')(cross_pooled)\n",
        "dense_5 = Dense(32, activation='relu')(dense_04)\n",
        "output = Dense(5, activation='softmax')(dense_5)\n",
        "\n",
        "# Create the model\n",
        "model = Model(inputs=[input_vgg19, input_resnet50], outputs=output)\n",
        "model.compile(loss='sparse_categorical_crossentropy', optimizer='adam', metrics=['accuracy'])\n",
        "\n",
        "# Train the model\n",
        "history = model.fit(\n",
        "    [x_train_vgg19_features, x_train_resnet50_features], y_train,\n",
        "    steps_per_epoch=x_train_vgg19_features.shape[0] / BATCH_SIZE,batch_size=BATCH_SIZE,\n",
        "    epochs=50,\n",
        "    validation_data=([x_val_vgg19_features, x_val_resnet50_features], y_val)\n",
        ")\n"
      ],
      "metadata": {
        "id": "94nJ7uw5eRzP",
        "colab": {
          "base_uri": "https://localhost:8080/"
        },
        "outputId": "fec08836-266a-4913-fb53-a20c1ae563b2"
      },
      "execution_count": null,
      "outputs": [
        {
          "output_type": "stream",
          "name": "stdout",
          "text": [
            "Epoch 1/50\n",
            "183/183 [==============================] - 7s 22ms/step - loss: 2.2205 - accuracy: 0.6471 - val_loss: 0.8832 - val_accuracy: 0.6503\n",
            "Epoch 2/50\n",
            "183/183 [==============================] - 3s 15ms/step - loss: 0.6605 - accuracy: 0.7648 - val_loss: 0.5696 - val_accuracy: 0.7951\n",
            "Epoch 3/50\n",
            "183/183 [==============================] - 3s 15ms/step - loss: 0.4110 - accuracy: 0.8556 - val_loss: 0.5968 - val_accuracy: 0.8033\n",
            "Epoch 4/50\n",
            "183/183 [==============================] - 3s 16ms/step - loss: 0.3057 - accuracy: 0.8918 - val_loss: 0.6426 - val_accuracy: 0.8115\n",
            "Epoch 5/50\n",
            "183/183 [==============================] - 3s 17ms/step - loss: 0.2207 - accuracy: 0.9167 - val_loss: 0.6501 - val_accuracy: 0.7896\n",
            "Epoch 6/50\n",
            "183/183 [==============================] - 3s 16ms/step - loss: 0.1725 - accuracy: 0.9430 - val_loss: 0.9257 - val_accuracy: 0.7459\n",
            "Epoch 7/50\n",
            "183/183 [==============================] - 3s 15ms/step - loss: 0.2311 - accuracy: 0.9297 - val_loss: 0.7421 - val_accuracy: 0.8060\n",
            "Epoch 8/50\n",
            "183/183 [==============================] - 3s 15ms/step - loss: 0.1142 - accuracy: 0.9669 - val_loss: 0.9939 - val_accuracy: 0.7814\n",
            "Epoch 9/50\n",
            "183/183 [==============================] - 3s 15ms/step - loss: 0.1613 - accuracy: 0.9549 - val_loss: 0.9184 - val_accuracy: 0.8115\n",
            "Epoch 10/50\n",
            "183/183 [==============================] - 3s 18ms/step - loss: 0.1127 - accuracy: 0.9710 - val_loss: 0.8335 - val_accuracy: 0.8115\n",
            "Epoch 11/50\n",
            "183/183 [==============================] - 4s 20ms/step - loss: 0.1007 - accuracy: 0.9727 - val_loss: 0.9679 - val_accuracy: 0.8060\n",
            "Epoch 12/50\n",
            "183/183 [==============================] - 3s 14ms/step - loss: 0.0909 - accuracy: 0.9747 - val_loss: 0.8476 - val_accuracy: 0.8142\n",
            "Epoch 13/50\n",
            "183/183 [==============================] - 3s 14ms/step - loss: 0.0791 - accuracy: 0.9805 - val_loss: 1.0953 - val_accuracy: 0.8115\n",
            "Epoch 14/50\n",
            "183/183 [==============================] - 3s 16ms/step - loss: 0.1390 - accuracy: 0.9638 - val_loss: 0.7987 - val_accuracy: 0.8224\n",
            "Epoch 15/50\n",
            "183/183 [==============================] - 3s 17ms/step - loss: 0.0871 - accuracy: 0.9741 - val_loss: 0.8994 - val_accuracy: 0.8005\n",
            "Epoch 16/50\n",
            "183/183 [==============================] - 3s 14ms/step - loss: 0.0796 - accuracy: 0.9792 - val_loss: 1.1060 - val_accuracy: 0.8087\n",
            "Epoch 17/50\n",
            "183/183 [==============================] - 3s 14ms/step - loss: 0.0761 - accuracy: 0.9754 - val_loss: 1.0460 - val_accuracy: 0.7978\n",
            "Epoch 18/50\n",
            "183/183 [==============================] - 3s 15ms/step - loss: 0.0720 - accuracy: 0.9754 - val_loss: 1.2372 - val_accuracy: 0.7760\n",
            "Epoch 19/50\n",
            "183/183 [==============================] - 3s 17ms/step - loss: 0.0603 - accuracy: 0.9823 - val_loss: 1.2429 - val_accuracy: 0.8033\n",
            "Epoch 20/50\n",
            "183/183 [==============================] - 3s 17ms/step - loss: 0.0865 - accuracy: 0.9744 - val_loss: 1.1238 - val_accuracy: 0.7623\n",
            "Epoch 21/50\n",
            "183/183 [==============================] - 3s 14ms/step - loss: 0.0777 - accuracy: 0.9765 - val_loss: 1.2402 - val_accuracy: 0.7978\n",
            "Epoch 22/50\n",
            "183/183 [==============================] - 3s 15ms/step - loss: 0.0791 - accuracy: 0.9761 - val_loss: 0.9290 - val_accuracy: 0.8005\n",
            "Epoch 23/50\n",
            "183/183 [==============================] - 3s 15ms/step - loss: 0.1044 - accuracy: 0.9693 - val_loss: 1.0887 - val_accuracy: 0.7732\n",
            "Epoch 24/50\n",
            "183/183 [==============================] - 3s 18ms/step - loss: 0.0690 - accuracy: 0.9812 - val_loss: 0.9779 - val_accuracy: 0.8169\n",
            "Epoch 25/50\n",
            "183/183 [==============================] - 3s 15ms/step - loss: 0.0527 - accuracy: 0.9853 - val_loss: 0.9765 - val_accuracy: 0.8251\n",
            "Epoch 26/50\n",
            "183/183 [==============================] - 3s 15ms/step - loss: 0.0427 - accuracy: 0.9874 - val_loss: 1.0208 - val_accuracy: 0.8033\n",
            "Epoch 27/50\n",
            "183/183 [==============================] - 3s 15ms/step - loss: 0.0522 - accuracy: 0.9863 - val_loss: 0.8862 - val_accuracy: 0.8033\n",
            "Epoch 28/50\n",
            "183/183 [==============================] - 3s 14ms/step - loss: 0.1031 - accuracy: 0.9713 - val_loss: 0.9037 - val_accuracy: 0.8033\n",
            "Epoch 29/50\n",
            "183/183 [==============================] - 3s 18ms/step - loss: 0.0881 - accuracy: 0.9751 - val_loss: 1.1149 - val_accuracy: 0.8060\n",
            "Epoch 30/50\n",
            "183/183 [==============================] - 3s 15ms/step - loss: 0.0659 - accuracy: 0.9816 - val_loss: 0.9244 - val_accuracy: 0.8005\n",
            "Epoch 31/50\n",
            "183/183 [==============================] - 3s 15ms/step - loss: 0.0648 - accuracy: 0.9775 - val_loss: 1.0661 - val_accuracy: 0.8060\n",
            "Epoch 32/50\n",
            "183/183 [==============================] - 3s 14ms/step - loss: 0.0483 - accuracy: 0.9826 - val_loss: 0.9653 - val_accuracy: 0.7923\n",
            "Epoch 33/50\n",
            "183/183 [==============================] - 3s 16ms/step - loss: 0.0394 - accuracy: 0.9863 - val_loss: 1.1352 - val_accuracy: 0.7623\n",
            "Epoch 34/50\n",
            "183/183 [==============================] - 3s 17ms/step - loss: 0.0551 - accuracy: 0.9853 - val_loss: 1.2613 - val_accuracy: 0.8251\n",
            "Epoch 35/50\n",
            "183/183 [==============================] - 3s 14ms/step - loss: 0.0757 - accuracy: 0.9758 - val_loss: 0.9925 - val_accuracy: 0.8279\n",
            "Epoch 36/50\n",
            "183/183 [==============================] - 3s 14ms/step - loss: 0.0640 - accuracy: 0.9799 - val_loss: 1.1258 - val_accuracy: 0.7869\n",
            "Epoch 37/50\n",
            "183/183 [==============================] - 3s 14ms/step - loss: 0.0417 - accuracy: 0.9853 - val_loss: 1.2290 - val_accuracy: 0.7978\n",
            "Epoch 38/50\n",
            "183/183 [==============================] - 3s 16ms/step - loss: 0.0653 - accuracy: 0.9805 - val_loss: 1.0997 - val_accuracy: 0.7978\n",
            "Epoch 39/50\n",
            "183/183 [==============================] - 3s 16ms/step - loss: 0.0418 - accuracy: 0.9843 - val_loss: 1.2881 - val_accuracy: 0.7923\n",
            "Epoch 40/50\n",
            "183/183 [==============================] - 2s 13ms/step - loss: 0.0349 - accuracy: 0.9850 - val_loss: 0.9823 - val_accuracy: 0.8060\n",
            "Epoch 41/50\n",
            "183/183 [==============================] - 2s 13ms/step - loss: 0.0528 - accuracy: 0.9823 - val_loss: 1.2487 - val_accuracy: 0.8169\n",
            "Epoch 42/50\n",
            "183/183 [==============================] - 3s 15ms/step - loss: 0.0348 - accuracy: 0.9863 - val_loss: 0.9934 - val_accuracy: 0.8142\n",
            "Epoch 43/50\n",
            "183/183 [==============================] - 3s 14ms/step - loss: 0.0255 - accuracy: 0.9884 - val_loss: 1.1204 - val_accuracy: 0.8033\n",
            "Epoch 44/50\n",
            "183/183 [==============================] - 3s 16ms/step - loss: 0.0250 - accuracy: 0.9884 - val_loss: 1.0634 - val_accuracy: 0.8005\n",
            "Epoch 45/50\n",
            "183/183 [==============================] - 2s 14ms/step - loss: 0.0351 - accuracy: 0.9843 - val_loss: 1.1984 - val_accuracy: 0.7951\n",
            "Epoch 46/50\n",
            "183/183 [==============================] - 2s 13ms/step - loss: 0.0477 - accuracy: 0.9843 - val_loss: 1.0645 - val_accuracy: 0.8033\n",
            "Epoch 47/50\n",
            "183/183 [==============================] - 2s 13ms/step - loss: 0.0505 - accuracy: 0.9833 - val_loss: 1.3984 - val_accuracy: 0.7951\n",
            "Epoch 48/50\n",
            "183/183 [==============================] - 3s 14ms/step - loss: 0.0459 - accuracy: 0.9857 - val_loss: 1.0579 - val_accuracy: 0.7814\n",
            "Epoch 49/50\n",
            "183/183 [==============================] - 3s 17ms/step - loss: 0.0304 - accuracy: 0.9887 - val_loss: 1.1351 - val_accuracy: 0.8169\n",
            "Epoch 50/50\n",
            "183/183 [==============================] - 2s 14ms/step - loss: 0.0225 - accuracy: 0.9870 - val_loss: 1.2299 - val_accuracy: 0.8087\n"
          ]
        }
      ]
    },
    {
      "cell_type": "code",
      "source": [
        "model.evaluate([x_valid_vgg19_features, x_valid_resnet50_features], y_valid)    #50 epochs"
      ],
      "metadata": {
        "colab": {
          "base_uri": "https://localhost:8080/"
        },
        "id": "zp4GLxIX1iop",
        "outputId": "5cc2cde3-3ba4-4510-e907-d885eff1acd7"
      },
      "execution_count": null,
      "outputs": [
        {
          "output_type": "stream",
          "name": "stdout",
          "text": [
            "12/12 [==============================] - 0s 20ms/step - loss: 1.0875 - accuracy: 0.8333\n"
          ]
        },
        {
          "output_type": "execute_result",
          "data": {
            "text/plain": [
              "[1.0874905586242676, 0.8333333134651184]"
            ]
          },
          "metadata": {},
          "execution_count": 6
        }
      ]
    },
    {
      "cell_type": "code",
      "source": [
        "from sklearn.metrics import roc_curve, auc\n",
        "import matplotlib.pyplot as plt\n",
        "\n",
        "# Assuming you have already trained your model and have the validation data\n",
        "\n",
        "# Predict probabilities for each class using validation data\n",
        "y_pred_probs = model.predict([x_valid_vgg19_features, x_valid_resnet50_features])\n",
        "\n",
        "# Compute ROC curve and ROC area for each class\n",
        "fpr = dict()\n",
        "tpr = dict()\n",
        "roc_auc = dict()\n",
        "for i in range(5):  # Assuming 5 classes\n",
        "    fpr[i], tpr[i], _ = roc_curve(y_valid, y_pred_probs[:, i], pos_label=i)\n",
        "    roc_auc[i] = auc(fpr[i], tpr[i])\n",
        "l=['Normal','Mild','Moderate','Intense','Proliferative']\n",
        "# Plot ROC curve for each class\n",
        "plt.figure(figsize=(8, 6))\n",
        "for i in range(5):\n",
        "    plt.plot(fpr[i], tpr[i], label=f'Class {l[i]} (AUC = {roc_auc[i]:.2f})')\n",
        "\n",
        "plt.plot([0, 1], [0, 1], 'k--', label='Random')\n",
        "plt.xlabel('False Positive Rate')\n",
        "plt.ylabel('True Positive Rate')\n",
        "plt.title('ROC Curve')\n",
        "plt.legend(loc='lower right')\n",
        "plt.show()\n"
      ],
      "metadata": {
        "colab": {
          "base_uri": "https://localhost:8080/",
          "height": 581
        },
        "id": "4XnTMX6O2I8_",
        "outputId": "e7cf8f7b-f5ae-4d63-eeed-3661d2b262ff"
      },
      "execution_count": null,
      "outputs": [
        {
          "output_type": "stream",
          "name": "stdout",
          "text": [
            "12/12 [==============================] - 0s 9ms/step\n"
          ]
        },
        {
          "output_type": "display_data",
          "data": {
            "text/plain": [
              "<Figure size 800x600 with 1 Axes>"
            ],
            "image/png": "[encoded data removed]"
          },
          "metadata": {}
        }
      ]
    },
    {
      "cell_type": "code",
      "source": [
        "import matplotlib.pyplot as plt\n",
        "\n",
        "# Assuming 'history' is the output from the 'fit' method of your model\n",
        "\n",
        "# Extract accuracy and validation accuracy\n",
        "acc = history.history['accuracy']\n",
        "val_acc = history.history['val_accuracy']\n",
        "\n",
        "# Extract the number of epochs\n",
        "epochs = range(1, len(acc) + 1)\n",
        "\n",
        "# Plot training and validation accuracy\n",
        "plt.figure(figsize=(10, 6))\n",
        "plt.plot(epochs, acc,  label='Training Accuracy')\n",
        "plt.plot(epochs, val_acc, label='Validation Accuracy')\n",
        "plt.title('Training and Validation Accuracy')\n",
        "plt.xlabel('Epochs')\n",
        "plt.ylabel('Accuracy')\n",
        "plt.ylim(0, 1)\n",
        "plt.legend()\n",
        "\n",
        "plt.show()\n"
      ],
      "metadata": {
        "colab": {
          "base_uri": "https://localhost:8080/",
          "height": 564
        },
        "id": "7gV4l82a23-M",
        "outputId": "72933621-03d4-4a03-b019-e8b4af86b43d"
      },
      "execution_count": null,
      "outputs": [
        {
          "output_type": "display_data",
          "data": {
            "text/plain": [
              "<Figure size 1000x600 with 1 Axes>"
            ],
            "image/png": "[encoded data removed]"
          },
          "metadata": {}
        }
      ]
    },
    {
      "cell_type": "code",
      "source": [
        "from sklearn.metrics import confusion_matrix\n",
        "import numpy as np\n",
        "import seaborn as sns\n",
        "import matplotlib.pyplot as plt\n",
        "from sklearn.metrics import confusion_matrix\n",
        "from tensorflow.keras.utils import to_categorical\n",
        "\n",
        "# Assuming you already have a model and validation data prepared\n",
        "# Predict classes\n",
        "\n",
        "y_pred_classes = np.argmax(y_pred_probs, axis=1)\n",
        "\n",
        "# If your y_val is in one-hot encoded format, convert it back to class indices\n",
        "y_true = np.argmax(y_valid, axis=1) if y_valid.ndim > 1 else y_valid\n",
        "\n",
        "# Compute the confusion matrix\n",
        "cm = confusion_matrix(y_valid, y_pred_classes)\n",
        "\n",
        "# Normalize the confusion matrix\n",
        "cm_normalized = cm.astype('float') / cm.sum(axis=1)[:, np.newaxis]\n",
        "l=['Normal','Mild','Moderate','Intense','Proliferative']\n",
        "\n",
        "# Plotting\n",
        "plt.figure(figsize=(10, 7))\n",
        "sns.heatmap(cm_normalized, annot=True, fmt=\".2%\", cmap='Blues', cbar=False,\n",
        "            xticklabels=[f' {l[i]}' for i in range(cm.shape[1])],\n",
        "            yticklabels=[f' {l[i]}' for i in range(cm.shape[0])])\n",
        "plt.title('Normalized Confusion Matrix')\n",
        "plt.xlabel('Predicted Label')\n",
        "plt.ylabel('True Label')\n",
        "\n",
        "plt.show()\n"
      ],
      "metadata": {
        "colab": {
          "base_uri": "https://localhost:8080/",
          "height": 641
        },
        "id": "xaAZSLEO4b4S",
        "outputId": "fe7b79f8-ba1c-45a1-ad92-e47d3dde491f"
      },
      "execution_count": null,
      "outputs": [
        {
          "output_type": "display_data",
          "data": {
            "text/plain": [
              "<Figure size 1000x700 with 1 Axes>"
            ],
            "image/png": "[encoded data removed]"
          },
          "metadata": {}
        }
      ]
    },
    {
      "cell_type": "code",
      "source": [
        "from sklearn.metrics import classification_report\n",
        "print(classification_report(y_pred_classes,y_true))"
      ],
      "metadata": {
        "colab": {
          "base_uri": "https://localhost:8080/"
        },
        "id": "UJxsBK847oZk",
        "outputId": "4985460b-4241-4cee-8bea-24b86d7a8721"
      },
      "execution_count": null,
      "outputs": [
        {
          "output_type": "stream",
          "name": "stdout",
          "text": [
            "              precision    recall  f1-score   support\n",
            "\n",
            "           0       0.99      0.97      0.98       176\n",
            "           1       0.72      0.76      0.74        38\n",
            "           2       0.83      0.70      0.76       122\n",
            "           3       0.36      0.53      0.43        15\n",
            "           4       0.43      0.80      0.56        15\n",
            "\n",
            "    accuracy                           0.83       366\n",
            "   macro avg       0.67      0.75      0.69       366\n",
            "weighted avg       0.86      0.83      0.84       366\n",
            "\n"
          ]
        }
      ]
    },
    {
      "cell_type": "code",
      "source": [],
      "metadata": {
        "id": "sZ_nCh0X55JA"
      },
      "execution_count": null,
      "outputs": []
    },
    {
      "cell_type": "code",
      "source": [],
      "metadata": {
        "id": "c0U3ov32-vgF"
      },
      "execution_count": null,
      "outputs": []
    },
    {
      "cell_type": "code",
      "source": [
        "from tensorflow.keras.layers import Input, Dense, Concatenate, Dropout, ActivityRegularization\n",
        "from tensorflow.keras.models import Model\n",
        "from tensorflow.keras.regularizers import l1\n",
        "\n",
        "# Load your previously prepared combined features\n",
        "# Assuming x_train_combined, x_val_combined\n",
        "x_train_combined = np.hstack((x_train_vgg19_features, x_train_resnet50_features))\n",
        "x_val_combined = np.hstack((x_val_vgg19_features, x_val_resnet50_features))\n",
        "# Step 1: Define the Sparse Autoencoder\n",
        "input_shape = x_train_combined.shape[1]\n",
        "input_layer = Input(shape=(input_shape,))\n",
        "# Encoder\n",
        "encoded = Dense(256, activation='relu', activity_regularizer=l1(1e-5))(input_layer)  # Sparse representation\n",
        "# Decoder\n",
        "decoded = Dense(input_shape, activation='sigmoid')(encoded)\n",
        "\n",
        "# Autoencoder Model\n",
        "autoencoder = Model(inputs=input_layer, outputs=decoded)\n",
        "autoencoder.compile(optimizer='adam', loss='mse')\n",
        "\n",
        "# Step 2: Train Autoencoder\n",
        "autoencoder.fit(x_train_combined, x_train_combined,\n",
        "                epochs=50,\n",
        "                batch_size=256,\n",
        "                shuffle=True,\n",
        "                validation_data=(x_val_combined, x_val_combined))\n",
        "\n",
        "# Step 3: Define Encoder Model for Feature Extraction\n",
        "encoder = Model(inputs=input_layer, outputs=encoded)\n",
        "\n",
        "# Extract Encoded Features\n",
        "x_train_encoded = encoder.predict(x_train_combined)\n",
        "x_val_encoded = encoder.predict(x_val_combined)\n",
        "\n",
        "# Step 4: Train a DNN with the Encoded Features\n",
        "dnn_model = Sequential([\n",
        "    Dense(512, activation='relu', input_shape=(256,)),  # Adjust input shape based on encoder output\n",
        "    Dropout(0.5),\n",
        "    Dense(128, activation='relu'),\n",
        "    Dropout(0.5),\n",
        "    Dense(5, activation='softmax')\n",
        "])\n",
        "dnn_model.compile(loss='sparse_categorical_crossentropy', optimizer='adam', metrics=['accuracy'])\n",
        "\n",
        "# Train DNN\n",
        "history = dnn_model.fit(\n",
        "    x_train_encoded, y_train,\n",
        "    epochs=50,\n",
        "    batch_size=32,\n",
        "    validation_data=(x_val_encoded, y_val)\n",
        ")\n"
      ],
      "metadata": {
        "colab": {
          "base_uri": "https://localhost:8080/"
        },
        "id": "eAw8lr4E-vYh",
        "outputId": "0d2f46a5-6179-4ce0-b0d9-c3345a01ee11"
      },
      "execution_count": null,
      "outputs": [
        {
          "output_type": "stream",
          "name": "stdout",
          "text": [
            "Epoch 1/50\n",
            "12/12 [==============================] - 6s 307ms/step - loss: 7.0372 - val_loss: 6.9540\n",
            "Epoch 2/50\n",
            "12/12 [==============================] - 3s 278ms/step - loss: 6.9305 - val_loss: 6.9059\n",
            "Epoch 3/50\n",
            "12/12 [==============================] - 4s 309ms/step - loss: 6.8895 - val_loss: 6.8752\n",
            "Epoch 4/50\n",
            "12/12 [==============================] - 3s 247ms/step - loss: 6.8666 - val_loss: 6.8617\n",
            "Epoch 5/50\n",
            "12/12 [==============================] - 3s 252ms/step - loss: 6.8565 - val_loss: 6.8553\n",
            "Epoch 6/50\n",
            "12/12 [==============================] - 3s 212ms/step - loss: 6.8512 - val_loss: 6.8515\n",
            "Epoch 7/50\n",
            "12/12 [==============================] - 3s 240ms/step - loss: 6.8478 - val_loss: 6.8490\n",
            "Epoch 8/50\n",
            "12/12 [==============================] - 4s 347ms/step - loss: 6.8452 - val_loss: 6.8471\n",
            "Epoch 9/50\n",
            "12/12 [==============================] - 3s 231ms/step - loss: 6.8431 - val_loss: 6.8455\n",
            "Epoch 10/50\n",
            "12/12 [==============================] - 2s 213ms/step - loss: 6.8412 - val_loss: 6.8440\n",
            "Epoch 11/50\n",
            "12/12 [==============================] - 3s 215ms/step - loss: 6.8394 - val_loss: 6.8427\n",
            "Epoch 12/50\n",
            "12/12 [==============================] - 3s 282ms/step - loss: 6.8378 - val_loss: 6.8415\n",
            "Epoch 13/50\n",
            "12/12 [==============================] - 3s 249ms/step - loss: 6.8365 - val_loss: 6.8406\n",
            "Epoch 14/50\n",
            "12/12 [==============================] - 3s 221ms/step - loss: 6.8353 - val_loss: 6.8397\n",
            "Epoch 15/50\n",
            "12/12 [==============================] - 3s 215ms/step - loss: 6.8343 - val_loss: 6.8391\n",
            "Epoch 16/50\n",
            "12/12 [==============================] - 3s 221ms/step - loss: 6.8334 - val_loss: 6.8385\n",
            "Epoch 17/50\n",
            "12/12 [==============================] - 4s 329ms/step - loss: 6.8326 - val_loss: 6.8381\n",
            "Epoch 18/50\n",
            "12/12 [==============================] - 3s 270ms/step - loss: 6.8320 - val_loss: 6.8375\n",
            "Epoch 19/50\n",
            "12/12 [==============================] - 3s 221ms/step - loss: 6.8315 - val_loss: 6.8371\n",
            "Epoch 20/50\n",
            "12/12 [==============================] - 3s 219ms/step - loss: 6.8310 - val_loss: 6.8369\n",
            "Epoch 21/50\n",
            "12/12 [==============================] - 3s 225ms/step - loss: 6.8307 - val_loss: 6.8367\n",
            "Epoch 22/50\n",
            "12/12 [==============================] - 3s 292ms/step - loss: 6.8301 - val_loss: 6.8362\n",
            "Epoch 23/50\n",
            "12/12 [==============================] - 3s 282ms/step - loss: 6.8298 - val_loss: 6.8360\n",
            "Epoch 24/50\n",
            "12/12 [==============================] - 3s 222ms/step - loss: 6.8294 - val_loss: 6.8357\n",
            "Epoch 25/50\n",
            "12/12 [==============================] - 3s 229ms/step - loss: 6.8291 - val_loss: 6.8354\n",
            "Epoch 26/50\n",
            "12/12 [==============================] - 3s 219ms/step - loss: 6.8287 - val_loss: 6.8352\n",
            "Epoch 27/50\n",
            "12/12 [==============================] - 3s 262ms/step - loss: 6.8284 - val_loss: 6.8351\n",
            "Epoch 28/50\n",
            "12/12 [==============================] - 3s 287ms/step - loss: 6.8282 - val_loss: 6.8350\n",
            "Epoch 29/50\n",
            "12/12 [==============================] - 3s 217ms/step - loss: 6.8280 - val_loss: 6.8348\n",
            "Epoch 30/50\n",
            "12/12 [==============================] - 3s 270ms/step - loss: 6.8278 - val_loss: 6.8349\n",
            "Epoch 31/50\n",
            "12/12 [==============================] - 3s 219ms/step - loss: 6.8277 - val_loss: 6.8346\n",
            "Epoch 32/50\n",
            "12/12 [==============================] - 3s 293ms/step - loss: 6.8275 - val_loss: 6.8346\n",
            "Epoch 33/50\n",
            "12/12 [==============================] - 3s 273ms/step - loss: 6.8273 - val_loss: 6.8344\n",
            "Epoch 34/50\n",
            "12/12 [==============================] - 3s 222ms/step - loss: 6.8270 - val_loss: 6.8342\n",
            "Epoch 35/50\n",
            "12/12 [==============================] - 3s 215ms/step - loss: 6.8269 - val_loss: 6.8342\n",
            "Epoch 36/50\n",
            "12/12 [==============================] - 3s 238ms/step - loss: 6.8267 - val_loss: 6.8340\n",
            "Epoch 37/50\n",
            "12/12 [==============================] - 4s 314ms/step - loss: 6.8265 - val_loss: 6.8340\n",
            "Epoch 38/50\n",
            "12/12 [==============================] - 3s 246ms/step - loss: 6.8265 - val_loss: 6.8340\n",
            "Epoch 39/50\n",
            "12/12 [==============================] - 3s 224ms/step - loss: 6.8263 - val_loss: 6.8341\n",
            "Epoch 40/50\n",
            "12/12 [==============================] - 3s 222ms/step - loss: 6.8263 - val_loss: 6.8339\n",
            "Epoch 41/50\n",
            "12/12 [==============================] - 2s 213ms/step - loss: 6.8261 - val_loss: 6.8337\n",
            "Epoch 42/50\n",
            "12/12 [==============================] - 4s 325ms/step - loss: 6.8259 - val_loss: 6.8336\n",
            "Epoch 43/50\n",
            "12/12 [==============================] - 3s 248ms/step - loss: 6.8259 - val_loss: 6.8337\n",
            "Epoch 44/50\n",
            "12/12 [==============================] - 3s 216ms/step - loss: 6.8258 - val_loss: 6.8337\n",
            "Epoch 45/50\n",
            "12/12 [==============================] - 3s 219ms/step - loss: 6.8257 - val_loss: 6.8334\n",
            "Epoch 46/50\n",
            "12/12 [==============================] - 3s 222ms/step - loss: 6.8256 - val_loss: 6.8334\n",
            "Epoch 47/50\n",
            "12/12 [==============================] - 3s 271ms/step - loss: 6.8255 - val_loss: 6.8336\n",
            "Epoch 48/50\n",
            "12/12 [==============================] - 3s 297ms/step - loss: 6.8256 - val_loss: 6.8334\n",
            "Epoch 49/50\n",
            "12/12 [==============================] - 3s 224ms/step - loss: 6.8257 - val_loss: 6.8335\n",
            "Epoch 50/50\n",
            "12/12 [==============================] - 2s 164ms/step - loss: 6.8256 - val_loss: 6.8333\n",
            "92/92 [==============================] - 1s 12ms/step\n",
            "12/12 [==============================] - 0s 9ms/step\n",
            "Epoch 1/50\n",
            "92/92 [==============================] - 4s 5ms/step - loss: 4.8281 - accuracy: 0.5693 - val_loss: 0.7509 - val_accuracy: 0.7131\n",
            "Epoch 2/50\n",
            "92/92 [==============================] - 0s 4ms/step - loss: 1.3059 - accuracy: 0.6154 - val_loss: 0.8344 - val_accuracy: 0.7568\n",
            "Epoch 3/50\n",
            "92/92 [==============================] - 0s 4ms/step - loss: 1.0377 - accuracy: 0.6553 - val_loss: 0.7461 - val_accuracy: 0.7541\n",
            "Epoch 4/50\n",
            "92/92 [==============================] - 0s 4ms/step - loss: 0.9663 - accuracy: 0.6829 - val_loss: 0.7250 - val_accuracy: 0.7514\n",
            "Epoch 5/50\n",
            "92/92 [==============================] - 0s 4ms/step - loss: 0.8894 - accuracy: 0.7020 - val_loss: 0.6892 - val_accuracy: 0.7678\n",
            "Epoch 6/50\n",
            "92/92 [==============================] - 0s 4ms/step - loss: 0.8579 - accuracy: 0.7072 - val_loss: 0.6978 - val_accuracy: 0.7623\n",
            "Epoch 7/50\n",
            "92/92 [==============================] - 0s 4ms/step - loss: 0.8250 - accuracy: 0.7133 - val_loss: 0.7212 - val_accuracy: 0.7541\n",
            "Epoch 8/50\n",
            "92/92 [==============================] - 0s 4ms/step - loss: 0.7940 - accuracy: 0.7174 - val_loss: 0.6733 - val_accuracy: 0.7678\n",
            "Epoch 9/50\n",
            "92/92 [==============================] - 0s 4ms/step - loss: 0.8126 - accuracy: 0.7239 - val_loss: 0.6837 - val_accuracy: 0.7623\n",
            "Epoch 10/50\n",
            "92/92 [==============================] - 0s 4ms/step - loss: 0.7764 - accuracy: 0.7317 - val_loss: 0.6807 - val_accuracy: 0.7623\n",
            "Epoch 11/50\n",
            "92/92 [==============================] - 0s 4ms/step - loss: 0.7684 - accuracy: 0.7317 - val_loss: 0.6645 - val_accuracy: 0.7678\n",
            "Epoch 12/50\n",
            "92/92 [==============================] - 0s 4ms/step - loss: 0.7728 - accuracy: 0.7283 - val_loss: 0.6740 - val_accuracy: 0.7568\n",
            "Epoch 13/50\n",
            "92/92 [==============================] - 0s 5ms/step - loss: 0.7433 - accuracy: 0.7341 - val_loss: 0.6536 - val_accuracy: 0.7650\n",
            "Epoch 14/50\n",
            "92/92 [==============================] - 1s 6ms/step - loss: 0.7436 - accuracy: 0.7273 - val_loss: 0.6559 - val_accuracy: 0.7568\n",
            "Epoch 15/50\n",
            "92/92 [==============================] - 1s 6ms/step - loss: 0.7365 - accuracy: 0.7355 - val_loss: 0.6842 - val_accuracy: 0.7678\n",
            "Epoch 16/50\n",
            "92/92 [==============================] - 1s 6ms/step - loss: 0.7551 - accuracy: 0.7307 - val_loss: 0.6491 - val_accuracy: 0.7732\n",
            "Epoch 17/50\n",
            "92/92 [==============================] - 1s 6ms/step - loss: 0.7251 - accuracy: 0.7365 - val_loss: 0.6422 - val_accuracy: 0.7732\n",
            "Epoch 18/50\n",
            "92/92 [==============================] - 1s 6ms/step - loss: 0.7076 - accuracy: 0.7365 - val_loss: 0.6600 - val_accuracy: 0.7650\n",
            "Epoch 19/50\n",
            "92/92 [==============================] - 1s 6ms/step - loss: 0.6887 - accuracy: 0.7464 - val_loss: 0.6858 - val_accuracy: 0.7705\n",
            "Epoch 20/50\n",
            "92/92 [==============================] - 0s 4ms/step - loss: 0.6990 - accuracy: 0.7382 - val_loss: 0.6648 - val_accuracy: 0.7732\n",
            "Epoch 21/50\n",
            "92/92 [==============================] - 0s 4ms/step - loss: 0.7041 - accuracy: 0.7427 - val_loss: 0.6386 - val_accuracy: 0.7650\n",
            "Epoch 22/50\n",
            "92/92 [==============================] - 0s 4ms/step - loss: 0.7148 - accuracy: 0.7413 - val_loss: 0.6412 - val_accuracy: 0.7650\n",
            "Epoch 23/50\n",
            "92/92 [==============================] - 0s 4ms/step - loss: 0.6899 - accuracy: 0.7444 - val_loss: 0.6394 - val_accuracy: 0.7678\n",
            "Epoch 24/50\n",
            "92/92 [==============================] - 0s 4ms/step - loss: 0.7065 - accuracy: 0.7444 - val_loss: 0.6465 - val_accuracy: 0.7650\n",
            "Epoch 25/50\n",
            "92/92 [==============================] - 0s 4ms/step - loss: 0.6934 - accuracy: 0.7485 - val_loss: 0.6374 - val_accuracy: 0.7678\n",
            "Epoch 26/50\n",
            "92/92 [==============================] - 0s 4ms/step - loss: 0.6813 - accuracy: 0.7474 - val_loss: 0.6229 - val_accuracy: 0.7678\n",
            "Epoch 27/50\n",
            "92/92 [==============================] - 0s 4ms/step - loss: 0.6667 - accuracy: 0.7553 - val_loss: 0.6444 - val_accuracy: 0.7814\n",
            "Epoch 28/50\n",
            "92/92 [==============================] - 0s 4ms/step - loss: 0.6763 - accuracy: 0.7481 - val_loss: 0.6241 - val_accuracy: 0.7732\n",
            "Epoch 29/50\n",
            "92/92 [==============================] - 0s 4ms/step - loss: 0.6873 - accuracy: 0.7444 - val_loss: 0.6368 - val_accuracy: 0.7596\n",
            "Epoch 30/50\n",
            "92/92 [==============================] - 0s 4ms/step - loss: 0.6677 - accuracy: 0.7488 - val_loss: 0.6467 - val_accuracy: 0.7705\n",
            "Epoch 31/50\n",
            "92/92 [==============================] - 0s 4ms/step - loss: 0.6748 - accuracy: 0.7543 - val_loss: 0.6440 - val_accuracy: 0.7760\n",
            "Epoch 32/50\n",
            "92/92 [==============================] - 0s 4ms/step - loss: 0.6794 - accuracy: 0.7526 - val_loss: 0.6346 - val_accuracy: 0.7705\n",
            "Epoch 33/50\n",
            "92/92 [==============================] - 0s 4ms/step - loss: 0.6760 - accuracy: 0.7543 - val_loss: 0.6301 - val_accuracy: 0.7678\n",
            "Epoch 34/50\n",
            "92/92 [==============================] - 0s 4ms/step - loss: 0.6791 - accuracy: 0.7485 - val_loss: 0.6278 - val_accuracy: 0.7596\n",
            "Epoch 35/50\n",
            "92/92 [==============================] - 0s 4ms/step - loss: 0.6471 - accuracy: 0.7491 - val_loss: 0.6180 - val_accuracy: 0.7760\n",
            "Epoch 36/50\n",
            "92/92 [==============================] - 0s 4ms/step - loss: 0.6661 - accuracy: 0.7512 - val_loss: 0.6477 - val_accuracy: 0.7705\n",
            "Epoch 37/50\n",
            "92/92 [==============================] - 0s 4ms/step - loss: 0.6539 - accuracy: 0.7509 - val_loss: 0.6493 - val_accuracy: 0.7705\n",
            "Epoch 38/50\n",
            "92/92 [==============================] - 0s 4ms/step - loss: 0.6571 - accuracy: 0.7584 - val_loss: 0.6606 - val_accuracy: 0.7787\n",
            "Epoch 39/50\n",
            "92/92 [==============================] - 0s 4ms/step - loss: 0.6461 - accuracy: 0.7560 - val_loss: 0.6567 - val_accuracy: 0.7760\n",
            "Epoch 40/50\n",
            "92/92 [==============================] - 0s 4ms/step - loss: 0.6586 - accuracy: 0.7546 - val_loss: 0.6419 - val_accuracy: 0.7732\n",
            "Epoch 41/50\n",
            "92/92 [==============================] - 0s 4ms/step - loss: 0.6350 - accuracy: 0.7590 - val_loss: 0.6548 - val_accuracy: 0.7705\n",
            "Epoch 42/50\n",
            "92/92 [==============================] - 0s 4ms/step - loss: 0.6294 - accuracy: 0.7693 - val_loss: 0.6647 - val_accuracy: 0.7760\n",
            "Epoch 43/50\n",
            "92/92 [==============================] - 0s 4ms/step - loss: 0.6408 - accuracy: 0.7608 - val_loss: 0.6600 - val_accuracy: 0.7842\n",
            "Epoch 44/50\n",
            "92/92 [==============================] - 0s 4ms/step - loss: 0.6428 - accuracy: 0.7590 - val_loss: 0.6500 - val_accuracy: 0.7787\n",
            "Epoch 45/50\n",
            "92/92 [==============================] - 0s 5ms/step - loss: 0.6382 - accuracy: 0.7608 - val_loss: 0.6472 - val_accuracy: 0.7787\n",
            "Epoch 46/50\n",
            "92/92 [==============================] - 0s 5ms/step - loss: 0.6409 - accuracy: 0.7648 - val_loss: 0.6600 - val_accuracy: 0.7732\n",
            "Epoch 47/50\n",
            "92/92 [==============================] - 1s 6ms/step - loss: 0.6276 - accuracy: 0.7594 - val_loss: 0.6661 - val_accuracy: 0.7760\n",
            "Epoch 48/50\n",
            "92/92 [==============================] - 1s 6ms/step - loss: 0.6196 - accuracy: 0.7573 - val_loss: 0.6663 - val_accuracy: 0.7705\n",
            "Epoch 49/50\n",
            "92/92 [==============================] - 1s 6ms/step - loss: 0.6297 - accuracy: 0.7652 - val_loss: 0.6650 - val_accuracy: 0.7678\n",
            "Epoch 50/50\n",
            "92/92 [==============================] - 1s 6ms/step - loss: 0.6093 - accuracy: 0.7659 - val_loss: 0.6429 - val_accuracy: 0.7705\n"
          ]
        }
      ]
    },
    {
      "cell_type": "code",
      "source": [
        "x_valid_combined = np.hstack((x_valid_vgg19_features, x_valid_resnet50_features))\n",
        "x_valid_encoded = encoder.predict(x_valid_combined)\n",
        "dnn_model.evaluate(x_valid_encoded, y_valid)"
      ],
      "metadata": {
        "colab": {
          "base_uri": "https://localhost:8080/"
        },
        "id": "GW54Vk1L_8ma",
        "outputId": "0ef6f980-bcf1-40c5-ed7e-c1a18a251d0f"
      },
      "execution_count": null,
      "outputs": [
        {
          "output_type": "stream",
          "name": "stdout",
          "text": [
            "12/12 [==============================] - 0s 8ms/step\n",
            "12/12 [==============================] - 0s 2ms/step - loss: 0.6009 - accuracy: 0.7678\n"
          ]
        },
        {
          "output_type": "execute_result",
          "data": {
            "text/plain": [
              "[0.6008691191673279, 0.7677595615386963]"
            ]
          },
          "metadata": {},
          "execution_count": 22
        }
      ]
    },
    {
      "cell_type": "code",
      "source": [
        "dnn_model = Sequential([\n",
        "    Dense(512, activation='relu', input_shape=(256,)),  # 1st hidden layer\n",
        "    Dense(256, activation='relu'),  # 2nd hidden layer\n",
        "    Dense(128, activation='relu'),  # 3rd hidden layer\n",
        "    Dense(64, activation='relu'),   # 4th hidden layer\n",
        "    Dense(32, activation='relu'),   # 5th hidden layer\n",
        "    Dense(5, activation='softmax')  # Output layer\n",
        "])\n",
        "dnn_model.compile(loss='sparse_categorical_crossentropy', optimizer='adam', metrics=['accuracy'])\n",
        "\n",
        "# Train DNN\n",
        "history = dnn_model.fit(\n",
        "    x_train_encoded, y_train,\n",
        "    epochs=50,\n",
        "    batch_size=32,\n",
        "    validation_data=(x_val_encoded, y_val)\n",
        ")"
      ],
      "metadata": {
        "colab": {
          "base_uri": "https://localhost:8080/"
        },
        "id": "2EFx9-5-BPEQ",
        "outputId": "30a03051-e21b-463f-9bc7-0707c7934abe"
      },
      "execution_count": null,
      "outputs": [
        {
          "output_type": "stream",
          "name": "stdout",
          "text": [
            "Epoch 1/50\n",
            "92/92 [==============================] - 3s 9ms/step - loss: 0.8575 - accuracy: 0.7102 - val_loss: 0.6726 - val_accuracy: 0.7514\n",
            "Epoch 2/50\n",
            "92/92 [==============================] - 1s 7ms/step - loss: 0.6882 - accuracy: 0.7471 - val_loss: 0.6420 - val_accuracy: 0.7678\n",
            "Epoch 3/50\n",
            "92/92 [==============================] - 0s 5ms/step - loss: 0.6505 - accuracy: 0.7563 - val_loss: 0.6684 - val_accuracy: 0.7732\n",
            "Epoch 4/50\n",
            "92/92 [==============================] - 0s 4ms/step - loss: 0.6214 - accuracy: 0.7652 - val_loss: 0.6272 - val_accuracy: 0.7514\n",
            "Epoch 5/50\n",
            "92/92 [==============================] - 0s 5ms/step - loss: 0.6118 - accuracy: 0.7666 - val_loss: 0.6354 - val_accuracy: 0.7705\n",
            "Epoch 6/50\n",
            "92/92 [==============================] - 0s 4ms/step - loss: 0.5883 - accuracy: 0.7761 - val_loss: 0.6284 - val_accuracy: 0.7623\n",
            "Epoch 7/50\n",
            "92/92 [==============================] - 0s 5ms/step - loss: 0.5652 - accuracy: 0.7853 - val_loss: 0.6123 - val_accuracy: 0.7842\n",
            "Epoch 8/50\n",
            "92/92 [==============================] - 0s 4ms/step - loss: 0.5585 - accuracy: 0.7877 - val_loss: 0.5887 - val_accuracy: 0.7869\n",
            "Epoch 9/50\n",
            "92/92 [==============================] - 0s 5ms/step - loss: 0.5436 - accuracy: 0.7935 - val_loss: 0.6611 - val_accuracy: 0.7705\n",
            "Epoch 10/50\n",
            "92/92 [==============================] - 0s 5ms/step - loss: 0.5309 - accuracy: 0.7939 - val_loss: 0.6180 - val_accuracy: 0.7650\n",
            "Epoch 11/50\n",
            "92/92 [==============================] - 0s 4ms/step - loss: 0.5176 - accuracy: 0.7990 - val_loss: 0.6220 - val_accuracy: 0.7923\n",
            "Epoch 12/50\n",
            "92/92 [==============================] - 0s 5ms/step - loss: 0.4993 - accuracy: 0.8051 - val_loss: 0.6853 - val_accuracy: 0.7732\n",
            "Epoch 13/50\n",
            "92/92 [==============================] - 0s 5ms/step - loss: 0.4962 - accuracy: 0.8038 - val_loss: 0.6451 - val_accuracy: 0.7596\n",
            "Epoch 14/50\n",
            "92/92 [==============================] - 0s 5ms/step - loss: 0.4788 - accuracy: 0.8157 - val_loss: 0.6969 - val_accuracy: 0.7623\n",
            "Epoch 15/50\n",
            "92/92 [==============================] - 0s 5ms/step - loss: 0.4596 - accuracy: 0.8246 - val_loss: 0.6941 - val_accuracy: 0.7650\n",
            "Epoch 16/50\n",
            "92/92 [==============================] - 0s 4ms/step - loss: 0.4480 - accuracy: 0.8345 - val_loss: 0.8139 - val_accuracy: 0.7623\n",
            "Epoch 17/50\n",
            "92/92 [==============================] - 0s 5ms/step - loss: 0.4430 - accuracy: 0.8270 - val_loss: 0.7110 - val_accuracy: 0.7596\n",
            "Epoch 18/50\n",
            "92/92 [==============================] - 0s 4ms/step - loss: 0.4093 - accuracy: 0.8430 - val_loss: 0.8123 - val_accuracy: 0.7650\n",
            "Epoch 19/50\n",
            "92/92 [==============================] - 0s 5ms/step - loss: 0.4042 - accuracy: 0.8430 - val_loss: 0.7028 - val_accuracy: 0.7760\n",
            "Epoch 20/50\n",
            "92/92 [==============================] - 0s 5ms/step - loss: 0.3769 - accuracy: 0.8491 - val_loss: 0.7494 - val_accuracy: 0.7623\n",
            "Epoch 21/50\n",
            "92/92 [==============================] - 0s 5ms/step - loss: 0.3604 - accuracy: 0.8655 - val_loss: 0.8598 - val_accuracy: 0.7541\n",
            "Epoch 22/50\n",
            "92/92 [==============================] - 0s 5ms/step - loss: 0.3541 - accuracy: 0.8652 - val_loss: 0.8395 - val_accuracy: 0.7596\n",
            "Epoch 23/50\n",
            "92/92 [==============================] - 0s 5ms/step - loss: 0.3330 - accuracy: 0.8700 - val_loss: 0.9045 - val_accuracy: 0.7650\n",
            "Epoch 24/50\n",
            "92/92 [==============================] - 0s 4ms/step - loss: 0.3068 - accuracy: 0.8836 - val_loss: 0.9973 - val_accuracy: 0.7541\n",
            "Epoch 25/50\n",
            "92/92 [==============================] - 0s 5ms/step - loss: 0.2978 - accuracy: 0.8891 - val_loss: 0.9846 - val_accuracy: 0.7486\n",
            "Epoch 26/50\n",
            "92/92 [==============================] - 1s 6ms/step - loss: 0.2919 - accuracy: 0.8857 - val_loss: 1.0155 - val_accuracy: 0.7568\n",
            "Epoch 27/50\n",
            "92/92 [==============================] - 1s 6ms/step - loss: 0.2739 - accuracy: 0.8997 - val_loss: 1.0422 - val_accuracy: 0.7514\n",
            "Epoch 28/50\n",
            "92/92 [==============================] - 1s 6ms/step - loss: 0.2920 - accuracy: 0.8850 - val_loss: 1.1610 - val_accuracy: 0.7623\n",
            "Epoch 29/50\n",
            "92/92 [==============================] - 1s 6ms/step - loss: 0.2755 - accuracy: 0.8993 - val_loss: 1.1566 - val_accuracy: 0.7514\n",
            "Epoch 30/50\n",
            "92/92 [==============================] - 1s 7ms/step - loss: 0.2419 - accuracy: 0.9068 - val_loss: 1.2087 - val_accuracy: 0.7596\n",
            "Epoch 31/50\n",
            "92/92 [==============================] - 1s 5ms/step - loss: 0.2280 - accuracy: 0.9143 - val_loss: 1.1591 - val_accuracy: 0.7678\n",
            "Epoch 32/50\n",
            "92/92 [==============================] - 0s 5ms/step - loss: 0.2142 - accuracy: 0.9191 - val_loss: 1.3196 - val_accuracy: 0.7514\n",
            "Epoch 33/50\n",
            "92/92 [==============================] - 0s 5ms/step - loss: 0.2026 - accuracy: 0.9218 - val_loss: 1.2978 - val_accuracy: 0.7541\n",
            "Epoch 34/50\n",
            "92/92 [==============================] - 0s 5ms/step - loss: 0.1900 - accuracy: 0.9276 - val_loss: 1.4190 - val_accuracy: 0.7650\n",
            "Epoch 35/50\n",
            "92/92 [==============================] - 0s 4ms/step - loss: 0.1765 - accuracy: 0.9331 - val_loss: 1.3360 - val_accuracy: 0.7650\n",
            "Epoch 36/50\n",
            "92/92 [==============================] - 0s 5ms/step - loss: 0.1908 - accuracy: 0.9304 - val_loss: 1.3971 - val_accuracy: 0.7486\n",
            "Epoch 37/50\n",
            "92/92 [==============================] - 0s 4ms/step - loss: 0.1732 - accuracy: 0.9375 - val_loss: 1.3664 - val_accuracy: 0.7568\n",
            "Epoch 38/50\n",
            "92/92 [==============================] - 0s 4ms/step - loss: 0.1709 - accuracy: 0.9365 - val_loss: 1.4717 - val_accuracy: 0.7541\n",
            "Epoch 39/50\n",
            "92/92 [==============================] - 0s 4ms/step - loss: 0.1841 - accuracy: 0.9334 - val_loss: 1.4812 - val_accuracy: 0.7623\n",
            "Epoch 40/50\n",
            "92/92 [==============================] - 0s 4ms/step - loss: 0.1949 - accuracy: 0.9276 - val_loss: 1.2966 - val_accuracy: 0.7705\n",
            "Epoch 41/50\n",
            "92/92 [==============================] - 0s 5ms/step - loss: 0.1501 - accuracy: 0.9430 - val_loss: 1.4979 - val_accuracy: 0.7623\n",
            "Epoch 42/50\n",
            "92/92 [==============================] - 0s 4ms/step - loss: 0.1403 - accuracy: 0.9461 - val_loss: 1.5931 - val_accuracy: 0.7514\n",
            "Epoch 43/50\n",
            "92/92 [==============================] - 0s 5ms/step - loss: 0.1215 - accuracy: 0.9519 - val_loss: 1.7510 - val_accuracy: 0.7486\n",
            "Epoch 44/50\n",
            "92/92 [==============================] - 0s 5ms/step - loss: 0.1305 - accuracy: 0.9529 - val_loss: 1.7870 - val_accuracy: 0.7678\n",
            "Epoch 45/50\n",
            "92/92 [==============================] - 0s 5ms/step - loss: 0.1465 - accuracy: 0.9413 - val_loss: 1.6560 - val_accuracy: 0.7705\n",
            "Epoch 46/50\n",
            "92/92 [==============================] - 0s 5ms/step - loss: 0.1733 - accuracy: 0.9365 - val_loss: 1.3802 - val_accuracy: 0.7650\n",
            "Epoch 47/50\n",
            "92/92 [==============================] - 0s 4ms/step - loss: 0.1329 - accuracy: 0.9468 - val_loss: 1.6084 - val_accuracy: 0.7541\n",
            "Epoch 48/50\n",
            "92/92 [==============================] - 0s 5ms/step - loss: 0.1145 - accuracy: 0.9543 - val_loss: 1.6777 - val_accuracy: 0.7404\n",
            "Epoch 49/50\n",
            "92/92 [==============================] - 0s 4ms/step - loss: 0.1028 - accuracy: 0.9662 - val_loss: 1.8902 - val_accuracy: 0.7514\n",
            "Epoch 50/50\n",
            "92/92 [==============================] - 0s 5ms/step - loss: 0.1261 - accuracy: 0.9512 - val_loss: 1.7069 - val_accuracy: 0.7322\n"
          ]
        }
      ]
    },
    {
      "cell_type": "code",
      "source": [
        "dnn_model.evaluate(x_valid_encoded, y_valid)"
      ],
      "metadata": {
        "colab": {
          "base_uri": "https://localhost:8080/"
        },
        "id": "bWZW4aDuCQcI",
        "outputId": "38937418-458d-498c-e615-95b8d45e9ba0"
      },
      "execution_count": null,
      "outputs": [
        {
          "output_type": "stream",
          "name": "stdout",
          "text": [
            "12/12 [==============================] - 0s 3ms/step - loss: 1.4056 - accuracy: 0.7158\n"
          ]
        },
        {
          "output_type": "execute_result",
          "data": {
            "text/plain": [
              "[1.4056073427200317, 0.7158470153808594]"
            ]
          },
          "metadata": {},
          "execution_count": 25
        }
      ]
    },
    {
      "cell_type": "code",
      "source": [
        "from tensorflow.keras.layers import Input, Concatenate, Dense\n",
        "from tensorflow.keras.models import Model\n",
        "BATCH_SIZE=16\n",
        "# Define input layers for VGG19 and ResNet50 features\n",
        "input_vgg19 = Input(shape=(x_train_vgg19_features.shape[1],))\n",
        "input_resnet50 = Input(shape=(x_train_resnet50_features.shape[1],))\n",
        "\n",
        "# Define the neural network layers\n",
        "dense_1 = Dense(512, activation='relu')(input_vgg19)\n",
        "dense_2 = Dense(256, activation='relu')(dense_1)\n",
        "dense_3 = Dense(256, activation='relu')(dense_2)\n",
        "dense_03 = Dense(128, activation='relu')(dense_3)\n",
        "# Cross-pooling layer to combine VGG19 and ResNet50 features\n",
        "cross_pooled = Concatenate()([dense_1, input_resnet50])\n",
        "\n",
        "dense_4 = Dense(128, activation='relu')(cross_pooled)\n",
        "dense_04 = Dense(64, activation='relu')(dense_4)\n",
        "dense_5 = Dense(32, activation='relu')(dense_04)\n",
        "output = Dense(5, activation='softmax')(dense_5)\n",
        "\n",
        "# Create the model\n",
        "model = Model(inputs=[input_vgg19, input_resnet50], outputs=output)\n",
        "model.compile(loss='sparse_categorical_crossentropy', optimizer='adam', metrics=['accuracy'])\n",
        "\n",
        "# Train the model\n",
        "history = model.fit(\n",
        "    [x_train_vgg19_features, x_train_resnet50_features], y_train,\n",
        "    steps_per_epoch=x_train_vgg19_features.shape[0] / BATCH_SIZE,batch_size=BATCH_SIZE,\n",
        "    epochs=50,\n",
        "    validation_data=([x_val_vgg19_features, x_val_resnet50_features], y_val)\n",
        ")\n"
      ],
      "metadata": {
        "id": "2wHGxLKECjuS",
        "colab": {
          "base_uri": "https://localhost:8080/"
        },
        "outputId": "b5b28a8c-94e9-47a6-a210-f5b1cbc76784"
      },
      "execution_count": null,
      "outputs": [
        {
          "output_type": "stream",
          "name": "stdout",
          "text": [
            "Epoch 1/50\n",
            "183/183 [==============================] - 6s 16ms/step - loss: 2.4506 - accuracy: 0.6679 - val_loss: 1.0847 - val_accuracy: 0.7596\n",
            "Epoch 2/50\n",
            "183/183 [==============================] - 3s 15ms/step - loss: 0.5418 - accuracy: 0.8215 - val_loss: 0.6997 - val_accuracy: 0.7978\n",
            "Epoch 3/50\n",
            "183/183 [==============================] - 3s 16ms/step - loss: 0.3630 - accuracy: 0.8792 - val_loss: 0.9638 - val_accuracy: 0.7923\n",
            "Epoch 4/50\n",
            "183/183 [==============================] - 2s 13ms/step - loss: 0.2309 - accuracy: 0.9205 - val_loss: 1.0066 - val_accuracy: 0.8169\n",
            "Epoch 5/50\n",
            "183/183 [==============================] - 2s 14ms/step - loss: 0.2180 - accuracy: 0.9307 - val_loss: 0.9070 - val_accuracy: 0.7814\n",
            "Epoch 6/50\n",
            "183/183 [==============================] - 2s 13ms/step - loss: 0.1724 - accuracy: 0.9512 - val_loss: 0.9216 - val_accuracy: 0.7923\n",
            "Epoch 7/50\n",
            "183/183 [==============================] - 2s 14ms/step - loss: 0.1240 - accuracy: 0.9625 - val_loss: 1.0250 - val_accuracy: 0.8115\n",
            "Epoch 8/50\n",
            "183/183 [==============================] - 3s 17ms/step - loss: 0.2310 - accuracy: 0.9399 - val_loss: 0.9840 - val_accuracy: 0.7951\n",
            "Epoch 9/50\n",
            "183/183 [==============================] - 2s 13ms/step - loss: 0.1158 - accuracy: 0.9724 - val_loss: 0.9352 - val_accuracy: 0.8005\n",
            "Epoch 10/50\n",
            "183/183 [==============================] - 2s 13ms/step - loss: 0.1202 - accuracy: 0.9706 - val_loss: 1.0310 - val_accuracy: 0.7896\n",
            "Epoch 11/50\n",
            "183/183 [==============================] - 2s 13ms/step - loss: 0.1689 - accuracy: 0.9485 - val_loss: 1.2848 - val_accuracy: 0.7568\n",
            "Epoch 12/50\n",
            "183/183 [==============================] - 2s 13ms/step - loss: 0.1378 - accuracy: 0.9625 - val_loss: 1.1210 - val_accuracy: 0.8033\n",
            "Epoch 13/50\n",
            "183/183 [==============================] - 3s 17ms/step - loss: 0.1054 - accuracy: 0.9693 - val_loss: 1.2065 - val_accuracy: 0.8169\n",
            "Epoch 14/50\n",
            "183/183 [==============================] - 2s 14ms/step - loss: 0.0990 - accuracy: 0.9741 - val_loss: 1.2693 - val_accuracy: 0.7896\n",
            "Epoch 15/50\n",
            "183/183 [==============================] - 2s 13ms/step - loss: 0.0799 - accuracy: 0.9795 - val_loss: 1.2660 - val_accuracy: 0.7896\n",
            "Epoch 16/50\n",
            "183/183 [==============================] - 2s 13ms/step - loss: 0.1195 - accuracy: 0.9720 - val_loss: 1.0954 - val_accuracy: 0.7896\n",
            "Epoch 17/50\n",
            "183/183 [==============================] - 2s 14ms/step - loss: 0.0718 - accuracy: 0.9833 - val_loss: 1.0744 - val_accuracy: 0.7869\n",
            "Epoch 18/50\n",
            "183/183 [==============================] - 3s 17ms/step - loss: 0.0857 - accuracy: 0.9669 - val_loss: 1.1417 - val_accuracy: 0.8060\n",
            "Epoch 19/50\n",
            "183/183 [==============================] - 3s 14ms/step - loss: 0.0623 - accuracy: 0.9799 - val_loss: 1.7005 - val_accuracy: 0.7787\n",
            "Epoch 20/50\n",
            "183/183 [==============================] - 2s 13ms/step - loss: 0.1091 - accuracy: 0.9669 - val_loss: 1.2773 - val_accuracy: 0.8087\n",
            "Epoch 21/50\n",
            "183/183 [==============================] - 2s 13ms/step - loss: 0.0960 - accuracy: 0.9713 - val_loss: 1.3777 - val_accuracy: 0.7923\n",
            "Epoch 22/50\n",
            "183/183 [==============================] - 2s 13ms/step - loss: 0.1058 - accuracy: 0.9676 - val_loss: 1.3576 - val_accuracy: 0.7869\n",
            "Epoch 23/50\n",
            "183/183 [==============================] - 3s 15ms/step - loss: 0.1060 - accuracy: 0.9666 - val_loss: 1.1479 - val_accuracy: 0.8197\n",
            "Epoch 24/50\n",
            "183/183 [==============================] - 3s 15ms/step - loss: 0.0702 - accuracy: 0.9788 - val_loss: 1.1473 - val_accuracy: 0.7896\n",
            "Epoch 25/50\n",
            "183/183 [==============================] - 3s 16ms/step - loss: 0.0511 - accuracy: 0.9823 - val_loss: 1.2049 - val_accuracy: 0.8197\n",
            "Epoch 26/50\n",
            "183/183 [==============================] - 3s 18ms/step - loss: 0.0521 - accuracy: 0.9843 - val_loss: 1.5201 - val_accuracy: 0.8224\n",
            "Epoch 27/50\n",
            "183/183 [==============================] - 3s 16ms/step - loss: 0.0507 - accuracy: 0.9833 - val_loss: 1.1295 - val_accuracy: 0.8033\n",
            "Epoch 28/50\n",
            "183/183 [==============================] - 3s 16ms/step - loss: 0.0485 - accuracy: 0.9853 - val_loss: 1.3040 - val_accuracy: 0.8060\n",
            "Epoch 29/50\n",
            "183/183 [==============================] - 2s 13ms/step - loss: 0.1203 - accuracy: 0.9652 - val_loss: 1.5470 - val_accuracy: 0.8060\n",
            "Epoch 30/50\n",
            "183/183 [==============================] - 2s 13ms/step - loss: 0.0777 - accuracy: 0.9778 - val_loss: 1.4359 - val_accuracy: 0.8087\n",
            "Epoch 31/50\n",
            "183/183 [==============================] - 2s 13ms/step - loss: 0.0598 - accuracy: 0.9833 - val_loss: 1.1776 - val_accuracy: 0.8169\n",
            "Epoch 32/50\n",
            "183/183 [==============================] - 2s 13ms/step - loss: 0.0503 - accuracy: 0.9833 - val_loss: 1.3227 - val_accuracy: 0.8115\n",
            "Epoch 33/50\n",
            "183/183 [==============================] - 3s 16ms/step - loss: 0.0422 - accuracy: 0.9874 - val_loss: 1.1786 - val_accuracy: 0.7869\n",
            "Epoch 34/50\n",
            "183/183 [==============================] - 3s 14ms/step - loss: 0.0447 - accuracy: 0.9857 - val_loss: 1.3940 - val_accuracy: 0.8087\n",
            "Epoch 35/50\n",
            "183/183 [==============================] - 2s 13ms/step - loss: 0.0490 - accuracy: 0.9809 - val_loss: 1.0724 - val_accuracy: 0.8087\n",
            "Epoch 36/50\n",
            "183/183 [==============================] - 2s 13ms/step - loss: 0.0415 - accuracy: 0.9836 - val_loss: 1.1221 - val_accuracy: 0.8033\n",
            "Epoch 37/50\n",
            "183/183 [==============================] - 2s 13ms/step - loss: 0.0489 - accuracy: 0.9812 - val_loss: 1.2889 - val_accuracy: 0.8033\n",
            "Epoch 38/50\n",
            "183/183 [==============================] - 3s 15ms/step - loss: 0.1346 - accuracy: 0.9625 - val_loss: 1.7519 - val_accuracy: 0.8087\n",
            "Epoch 39/50\n",
            "183/183 [==============================] - 3s 15ms/step - loss: 0.1130 - accuracy: 0.9683 - val_loss: 1.4583 - val_accuracy: 0.8279\n",
            "Epoch 40/50\n",
            "183/183 [==============================] - 2s 13ms/step - loss: 0.0364 - accuracy: 0.9887 - val_loss: 1.4610 - val_accuracy: 0.7896\n",
            "Epoch 41/50\n",
            "183/183 [==============================] - 2s 14ms/step - loss: 0.0447 - accuracy: 0.9826 - val_loss: 1.3404 - val_accuracy: 0.8142\n",
            "Epoch 42/50\n",
            "183/183 [==============================] - 2s 13ms/step - loss: 0.0417 - accuracy: 0.9850 - val_loss: 1.1590 - val_accuracy: 0.8251\n",
            "Epoch 43/50\n",
            "183/183 [==============================] - 3s 15ms/step - loss: 0.0323 - accuracy: 0.9881 - val_loss: 1.3431 - val_accuracy: 0.8115\n",
            "Epoch 44/50\n",
            "183/183 [==============================] - 3s 15ms/step - loss: 0.0256 - accuracy: 0.9884 - val_loss: 1.4256 - val_accuracy: 0.8197\n",
            "Epoch 45/50\n",
            "183/183 [==============================] - 2s 13ms/step - loss: 0.0309 - accuracy: 0.9860 - val_loss: 1.3017 - val_accuracy: 0.7923\n",
            "Epoch 46/50\n",
            "183/183 [==============================] - 2s 13ms/step - loss: 0.0419 - accuracy: 0.9850 - val_loss: 1.2433 - val_accuracy: 0.8115\n",
            "Epoch 47/50\n",
            "183/183 [==============================] - 2s 13ms/step - loss: 0.0305 - accuracy: 0.9877 - val_loss: 1.3796 - val_accuracy: 0.8169\n",
            "Epoch 48/50\n",
            "183/183 [==============================] - 3s 15ms/step - loss: 0.0636 - accuracy: 0.9785 - val_loss: 1.3259 - val_accuracy: 0.8005\n",
            "Epoch 49/50\n",
            "183/183 [==============================] - 3s 15ms/step - loss: 0.1041 - accuracy: 0.9631 - val_loss: 1.3893 - val_accuracy: 0.7760\n",
            "Epoch 50/50\n",
            "183/183 [==============================] - 2s 13ms/step - loss: 0.0978 - accuracy: 0.9717 - val_loss: 1.1583 - val_accuracy: 0.8060\n"
          ]
        }
      ]
    },
    {
      "cell_type": "code",
      "source": [
        "model.evaluate([x_valid_vgg19_features, x_valid_resnet50_features], y_valid)    #50 epochs"
      ],
      "metadata": {
        "colab": {
          "base_uri": "https://localhost:8080/"
        },
        "id": "jLGk8NWpcuPM",
        "outputId": "c09e46ca-8d80-40a6-bf11-d53365cfa23d"
      },
      "execution_count": null,
      "outputs": [
        {
          "output_type": "stream",
          "name": "stdout",
          "text": [
            "12/12 [==============================] - 0s 12ms/step - loss: 1.1736 - accuracy: 0.8333\n"
          ]
        },
        {
          "output_type": "execute_result",
          "data": {
            "text/plain": [
              "[1.1735895872116089, 0.8333333134651184]"
            ]
          },
          "metadata": {},
          "execution_count": 6
        }
      ]
    },
    {
      "cell_type": "code",
      "source": [
        "model.save('multi_model.keras')"
      ],
      "metadata": {
        "id": "kIqGZfmzdUAC"
      },
      "execution_count": null,
      "outputs": []
    },
    {
      "cell_type": "code",
      "source": [
        "!mkdir -p saved_model\n",
        "model.save('saved_model/multi_model')"
      ],
      "metadata": {
        "id": "Q5Inun2zdqH-"
      },
      "execution_count": null,
      "outputs": []
    },
    {
      "cell_type": "code",
      "source": [
        "new_model = tf.keras.models.load_model('saved_model/multi_model')\n",
        "new_model.summary()"
      ],
      "metadata": {
        "colab": {
          "base_uri": "https://localhost:8080/"
        },
        "id": "4ed1RJMrdy_J",
        "outputId": "93ec1e56-9473-4d81-8017-00c399199518"
      },
      "execution_count": null,
      "outputs": [
        {
          "output_type": "stream",
          "name": "stdout",
          "text": [
            "Model: \"model\"\n",
            "__________________________________________________________________________________________________\n",
            " Layer (type)                Output Shape                 Param #   Connected to                  \n",
            "==================================================================================================\n",
            " input_1 (InputLayer)        [(None, 25088)]              0         []                            \n",
            "                                                                                                  \n",
            " dense (Dense)               (None, 512)                  1284556   ['input_1[0][0]']             \n",
            "                                                          8                                       \n",
            "                                                                                                  \n",
            " input_2 (InputLayer)        [(None, 100352)]             0         []                            \n",
            "                                                                                                  \n",
            " concatenate (Concatenate)   (None, 100864)               0         ['dense[0][0]',               \n",
            "                                                                     'input_2[0][0]']             \n",
            "                                                                                                  \n",
            " dense_4 (Dense)             (None, 128)                  1291072   ['concatenate[0][0]']         \n",
            "                                                          0                                       \n",
            "                                                                                                  \n",
            " dense_5 (Dense)             (None, 64)                   8256      ['dense_4[0][0]']             \n",
            "                                                                                                  \n",
            " dense_6 (Dense)             (None, 32)                   2080      ['dense_5[0][0]']             \n",
            "                                                                                                  \n",
            " dense_7 (Dense)             (None, 5)                    165       ['dense_6[0][0]']             \n",
            "                                                                                                  \n",
            "==================================================================================================\n",
            "Total params: 25766789 (98.29 MB)\n",
            "Trainable params: 25766789 (98.29 MB)\n",
            "Non-trainable params: 0 (0.00 Byte)\n",
            "__________________________________________________________________________________________________\n"
          ]
        }
      ]
    },
    {
      "cell_type": "code",
      "source": [
        "model.save('multi_model.h5')"
      ],
      "metadata": {
        "colab": {
          "base_uri": "https://localhost:8080/"
        },
        "id": "jlAASNtAeABE",
        "outputId": "9ca336d2-0a8b-4a14-8314-85bfab8e189e"
      },
      "execution_count": null,
      "outputs": [
        {
          "output_type": "stream",
          "name": "stderr",
          "text": [
            "/usr/local/lib/python3.10/dist-packages/keras/src/engine/training.py:3103: UserWarning: You are saving your model as an HDF5 file via `model.save()`. This file format is considered legacy. We recommend using instead the native Keras format, e.g. `model.save('my_model.keras')`.\n",
            "  saving_api.save_model(\n"
          ]
        }
      ]
    },
    {
      "cell_type": "code",
      "source": [
        "from tensorflow.keras.layers import Input, Concatenate, Dense, Dropout, BatchNormalization\n",
        "from tensorflow.keras.models import Model\n",
        "BATCH_SIZE = 16\n",
        "\n",
        "# Define input layers for VGG19 and ResNet50 features\n",
        "input_vgg19 = Input(shape=(x_train_vgg19_features.shape[1],))\n",
        "input_resnet50 = Input(shape=(x_train_resnet50_features.shape[1],))\n",
        "\n",
        "# Define the neural network layers for VGG19 pathway\n",
        "dense_1 = Dense(512, activation='relu')(input_vgg19)\n",
        "bn1 = BatchNormalization()(dense_1)\n",
        "dropout1 = Dropout(0.25)(bn1)  # Dropout rate of 50%\n",
        "\n",
        "dense_2 = Dense(256, activation='relu')(dropout1)\n",
        "\n",
        "dropout2 = Dropout(0.25)(dense_2)  # Consistent dropout rate\n",
        "\n",
        "\n",
        "# Concatenate VGG19 processed features with ResNet50 features\n",
        "cross_pooled = Concatenate()([dropout2, input_resnet50])\n",
        "\n",
        "# Further processing after concatenation\n",
        "dense_4 = Dense(128, activation='relu')(cross_pooled)\n",
        "bn4 = BatchNormalization()(dense_4)\n",
        "dropout4 = Dropout(0.25)(bn4)\n",
        "\n",
        "\n",
        "# Final output layer\n",
        "output = Dense(5, activation='softmax')(dropout4)\n",
        "\n",
        "# Create and compile the model\n",
        "model = Model(inputs=[input_vgg19, input_resnet50], outputs=output)\n",
        "model.compile(loss='sparse_categorical_crossentropy', optimizer='adam', metrics=['accuracy'])\n",
        "\n",
        "# Train the model\n",
        "history = model.fit(\n",
        "    [x_train_vgg19_features, x_train_resnet50_features], y_train,\n",
        "    steps_per_epoch=x_train_vgg19_features.shape[0] // BATCH_SIZE,\n",
        "    batch_size=BATCH_SIZE,\n",
        "    epochs=100,\n",
        "    validation_data=([x_val_vgg19_features, x_val_resnet50_features], y_val)\n",
        ")\n"
      ],
      "metadata": {
        "colab": {
          "base_uri": "https://localhost:8080/"
        },
        "id": "_EElcfoCfKWt",
        "outputId": "165180da-b781-4d9f-e334-96db030a34c8"
      },
      "execution_count": null,
      "outputs": [
        {
          "output_type": "stream",
          "name": "stdout",
          "text": [
            "Epoch 1/100\n",
            "183/183 [==============================] - 8s 24ms/step - loss: 0.8275 - accuracy: 0.7176 - val_loss: 0.6280 - val_accuracy: 0.7978\n",
            "Epoch 2/100\n",
            "183/183 [==============================] - 3s 14ms/step - loss: 0.4581 - accuracy: 0.8411 - val_loss: 0.6171 - val_accuracy: 0.7869\n",
            "Epoch 3/100\n",
            "183/183 [==============================] - 3s 14ms/step - loss: 0.3074 - accuracy: 0.8926 - val_loss: 0.5858 - val_accuracy: 0.8197\n",
            "Epoch 4/100\n",
            "183/183 [==============================] - 3s 14ms/step - loss: 0.2153 - accuracy: 0.9375 - val_loss: 0.6043 - val_accuracy: 0.8251\n",
            "Epoch 5/100\n",
            "183/183 [==============================] - 3s 16ms/step - loss: 0.1381 - accuracy: 0.9640 - val_loss: 0.6981 - val_accuracy: 0.8060\n",
            "Epoch 6/100\n",
            "183/183 [==============================] - 3s 16ms/step - loss: 0.1319 - accuracy: 0.9633 - val_loss: 0.7846 - val_accuracy: 0.7623\n",
            "Epoch 7/100\n",
            "183/183 [==============================] - 3s 14ms/step - loss: 0.1067 - accuracy: 0.9715 - val_loss: 0.7541 - val_accuracy: 0.8033\n",
            "Epoch 8/100\n",
            "183/183 [==============================] - 3s 14ms/step - loss: 0.1128 - accuracy: 0.9729 - val_loss: 0.9028 - val_accuracy: 0.8087\n",
            "Epoch 9/100\n",
            "183/183 [==============================] - 3s 14ms/step - loss: 0.0785 - accuracy: 0.9801 - val_loss: 0.8088 - val_accuracy: 0.8060\n",
            "Epoch 10/100\n",
            "183/183 [==============================] - 3s 16ms/step - loss: 0.0764 - accuracy: 0.9791 - val_loss: 0.8980 - val_accuracy: 0.7678\n",
            "Epoch 11/100\n",
            "183/183 [==============================] - 3s 17ms/step - loss: 0.0972 - accuracy: 0.9774 - val_loss: 0.8207 - val_accuracy: 0.8197\n",
            "Epoch 12/100\n",
            "183/183 [==============================] - 3s 18ms/step - loss: 0.0838 - accuracy: 0.9743 - val_loss: 0.7160 - val_accuracy: 0.8224\n",
            "Epoch 13/100\n",
            "183/183 [==============================] - 3s 17ms/step - loss: 0.0740 - accuracy: 0.9801 - val_loss: 0.7271 - val_accuracy: 0.8142\n",
            "Epoch 14/100\n",
            "183/183 [==============================] - 4s 21ms/step - loss: 0.0576 - accuracy: 0.9835 - val_loss: 0.7980 - val_accuracy: 0.8197\n",
            "Epoch 15/100\n",
            "183/183 [==============================] - 3s 16ms/step - loss: 0.0739 - accuracy: 0.9784 - val_loss: 1.0362 - val_accuracy: 0.8142\n",
            "Epoch 16/100\n",
            "183/183 [==============================] - 3s 14ms/step - loss: 0.0781 - accuracy: 0.9798 - val_loss: 0.8219 - val_accuracy: 0.8197\n",
            "Epoch 17/100\n",
            "183/183 [==============================] - 3s 14ms/step - loss: 0.0802 - accuracy: 0.9787 - val_loss: 0.7812 - val_accuracy: 0.8087\n",
            "Epoch 18/100\n",
            "183/183 [==============================] - 3s 14ms/step - loss: 0.0808 - accuracy: 0.9801 - val_loss: 0.7610 - val_accuracy: 0.8142\n",
            "Epoch 19/100\n",
            "183/183 [==============================] - 3s 17ms/step - loss: 0.0795 - accuracy: 0.9811 - val_loss: 0.7906 - val_accuracy: 0.8060\n",
            "Epoch 20/100\n",
            "183/183 [==============================] - 3s 15ms/step - loss: 0.0687 - accuracy: 0.9839 - val_loss: 0.7860 - val_accuracy: 0.8224\n",
            "Epoch 21/100\n",
            "183/183 [==============================] - 3s 14ms/step - loss: 0.0663 - accuracy: 0.9828 - val_loss: 0.9581 - val_accuracy: 0.8033\n",
            "Epoch 22/100\n",
            "183/183 [==============================] - 3s 14ms/step - loss: 0.0513 - accuracy: 0.9852 - val_loss: 0.8426 - val_accuracy: 0.7842\n",
            "Epoch 23/100\n",
            "183/183 [==============================] - 3s 14ms/step - loss: 0.0682 - accuracy: 0.9825 - val_loss: 0.8163 - val_accuracy: 0.7978\n",
            "Epoch 24/100\n",
            "183/183 [==============================] - 4s 21ms/step - loss: 0.0669 - accuracy: 0.9835 - val_loss: 0.8096 - val_accuracy: 0.8251\n",
            "Epoch 25/100\n",
            "183/183 [==============================] - 3s 18ms/step - loss: 0.0655 - accuracy: 0.9815 - val_loss: 1.0023 - val_accuracy: 0.7541\n",
            "Epoch 26/100\n",
            "183/183 [==============================] - 3s 16ms/step - loss: 0.0660 - accuracy: 0.9835 - val_loss: 0.9038 - val_accuracy: 0.8224\n",
            "Epoch 27/100\n",
            "183/183 [==============================] - 3s 14ms/step - loss: 0.0506 - accuracy: 0.9894 - val_loss: 0.8456 - val_accuracy: 0.8087\n",
            "Epoch 28/100\n",
            "183/183 [==============================] - 3s 16ms/step - loss: 0.0529 - accuracy: 0.9852 - val_loss: 0.8505 - val_accuracy: 0.8169\n",
            "Epoch 29/100\n",
            "183/183 [==============================] - 3s 16ms/step - loss: 0.0627 - accuracy: 0.9818 - val_loss: 0.9282 - val_accuracy: 0.8060\n",
            "Epoch 30/100\n",
            "183/183 [==============================] - 3s 14ms/step - loss: 0.0680 - accuracy: 0.9835 - val_loss: 0.8771 - val_accuracy: 0.8033\n",
            "Epoch 31/100\n",
            "183/183 [==============================] - 3s 14ms/step - loss: 0.0511 - accuracy: 0.9863 - val_loss: 0.7762 - val_accuracy: 0.8115\n",
            "Epoch 32/100\n",
            "183/183 [==============================] - 3s 14ms/step - loss: 0.0593 - accuracy: 0.9835 - val_loss: 0.8082 - val_accuracy: 0.8033\n",
            "Epoch 33/100\n",
            "183/183 [==============================] - 3s 17ms/step - loss: 0.0557 - accuracy: 0.9870 - val_loss: 0.8795 - val_accuracy: 0.8087\n",
            "Epoch 34/100\n",
            "183/183 [==============================] - 3s 15ms/step - loss: 0.0582 - accuracy: 0.9808 - val_loss: 0.8965 - val_accuracy: 0.7978\n",
            "Epoch 35/100\n",
            "183/183 [==============================] - 3s 14ms/step - loss: 0.0528 - accuracy: 0.9866 - val_loss: 0.7647 - val_accuracy: 0.7923\n",
            "Epoch 36/100\n",
            "183/183 [==============================] - 3s 14ms/step - loss: 0.0460 - accuracy: 0.9873 - val_loss: 0.8660 - val_accuracy: 0.7951\n",
            "Epoch 37/100\n",
            "183/183 [==============================] - 3s 14ms/step - loss: 0.0580 - accuracy: 0.9849 - val_loss: 0.9895 - val_accuracy: 0.7951\n",
            "Epoch 38/100\n",
            "183/183 [==============================] - 3s 17ms/step - loss: 0.0603 - accuracy: 0.9835 - val_loss: 0.7864 - val_accuracy: 0.8142\n",
            "Epoch 39/100\n",
            "183/183 [==============================] - 3s 15ms/step - loss: 0.0543 - accuracy: 0.9870 - val_loss: 0.8104 - val_accuracy: 0.8115\n",
            "Epoch 40/100\n",
            "183/183 [==============================] - 3s 14ms/step - loss: 0.0487 - accuracy: 0.9873 - val_loss: 0.8424 - val_accuracy: 0.8197\n",
            "Epoch 41/100\n",
            "183/183 [==============================] - 3s 14ms/step - loss: 0.0649 - accuracy: 0.9832 - val_loss: 0.9839 - val_accuracy: 0.8115\n",
            "Epoch 42/100\n",
            "183/183 [==============================] - 3s 14ms/step - loss: 0.0535 - accuracy: 0.9842 - val_loss: 0.9036 - val_accuracy: 0.8224\n",
            "Epoch 43/100\n",
            "183/183 [==============================] - 3s 16ms/step - loss: 0.0519 - accuracy: 0.9859 - val_loss: 0.9524 - val_accuracy: 0.7978\n",
            "Epoch 44/100\n",
            "183/183 [==============================] - 3s 15ms/step - loss: 0.0528 - accuracy: 0.9849 - val_loss: 0.8634 - val_accuracy: 0.8115\n",
            "Epoch 45/100\n",
            "183/183 [==============================] - 3s 14ms/step - loss: 0.0463 - accuracy: 0.9873 - val_loss: 0.8857 - val_accuracy: 0.8087\n",
            "Epoch 46/100\n",
            "183/183 [==============================] - 3s 14ms/step - loss: 0.0558 - accuracy: 0.9832 - val_loss: 0.9253 - val_accuracy: 0.7978\n",
            "Epoch 47/100\n",
            "183/183 [==============================] - 3s 14ms/step - loss: 0.0522 - accuracy: 0.9832 - val_loss: 0.8843 - val_accuracy: 0.7896\n",
            "Epoch 48/100\n",
            "183/183 [==============================] - 3s 17ms/step - loss: 0.0343 - accuracy: 0.9907 - val_loss: 1.0448 - val_accuracy: 0.8060\n",
            "Epoch 49/100\n",
            "183/183 [==============================] - 3s 14ms/step - loss: 0.0556 - accuracy: 0.9849 - val_loss: 0.9529 - val_accuracy: 0.8060\n",
            "Epoch 50/100\n",
            "183/183 [==============================] - 3s 14ms/step - loss: 0.0468 - accuracy: 0.9870 - val_loss: 0.8884 - val_accuracy: 0.7951\n",
            "Epoch 51/100\n",
            "183/183 [==============================] - 3s 14ms/step - loss: 0.0556 - accuracy: 0.9849 - val_loss: 1.0276 - val_accuracy: 0.8087\n",
            "Epoch 52/100\n",
            "183/183 [==============================] - 3s 14ms/step - loss: 0.0527 - accuracy: 0.9846 - val_loss: 0.9983 - val_accuracy: 0.7951\n",
            "Epoch 53/100\n",
            "183/183 [==============================] - 3s 17ms/step - loss: 0.0391 - accuracy: 0.9897 - val_loss: 0.9081 - val_accuracy: 0.8060\n",
            "Epoch 54/100\n",
            "183/183 [==============================] - 3s 14ms/step - loss: 0.0461 - accuracy: 0.9887 - val_loss: 0.8545 - val_accuracy: 0.8115\n",
            "Epoch 55/100\n",
            "183/183 [==============================] - 3s 14ms/step - loss: 0.0397 - accuracy: 0.9887 - val_loss: 0.9294 - val_accuracy: 0.8005\n",
            "Epoch 56/100\n",
            "183/183 [==============================] - 3s 14ms/step - loss: 0.0476 - accuracy: 0.9842 - val_loss: 0.9343 - val_accuracy: 0.8060\n",
            "Epoch 57/100\n",
            "183/183 [==============================] - 3s 14ms/step - loss: 0.0440 - accuracy: 0.9873 - val_loss: 0.9469 - val_accuracy: 0.8033\n",
            "Epoch 58/100\n",
            "183/183 [==============================] - 3s 17ms/step - loss: 0.0375 - accuracy: 0.9887 - val_loss: 0.8786 - val_accuracy: 0.7978\n",
            "Epoch 59/100\n",
            "183/183 [==============================] - 3s 15ms/step - loss: 0.0387 - accuracy: 0.9887 - val_loss: 0.9874 - val_accuracy: 0.8115\n",
            "Epoch 60/100\n",
            "183/183 [==============================] - 3s 14ms/step - loss: 0.0468 - accuracy: 0.9846 - val_loss: 0.9494 - val_accuracy: 0.8060\n",
            "Epoch 61/100\n",
            "183/183 [==============================] - 3s 14ms/step - loss: 0.0426 - accuracy: 0.9839 - val_loss: 0.8836 - val_accuracy: 0.8115\n",
            "Epoch 62/100\n",
            "183/183 [==============================] - 3s 15ms/step - loss: 0.0397 - accuracy: 0.9887 - val_loss: 0.9171 - val_accuracy: 0.7978\n",
            "Epoch 63/100\n",
            "183/183 [==============================] - 3s 17ms/step - loss: 0.0441 - accuracy: 0.9859 - val_loss: 0.8832 - val_accuracy: 0.8142\n",
            "Epoch 64/100\n",
            "183/183 [==============================] - 3s 14ms/step - loss: 0.0473 - accuracy: 0.9835 - val_loss: 1.0661 - val_accuracy: 0.7951\n",
            "Epoch 65/100\n",
            "183/183 [==============================] - 3s 16ms/step - loss: 0.0389 - accuracy: 0.9870 - val_loss: 0.9362 - val_accuracy: 0.8005\n",
            "Epoch 66/100\n",
            "183/183 [==============================] - 3s 15ms/step - loss: 0.0432 - accuracy: 0.9866 - val_loss: 0.9255 - val_accuracy: 0.8115\n",
            "Epoch 67/100\n",
            "183/183 [==============================] - 3s 15ms/step - loss: 0.0341 - accuracy: 0.9904 - val_loss: 0.9619 - val_accuracy: 0.8115\n",
            "Epoch 68/100\n",
            "183/183 [==============================] - 3s 17ms/step - loss: 0.0447 - accuracy: 0.9866 - val_loss: 0.9696 - val_accuracy: 0.8087\n",
            "Epoch 69/100\n",
            "183/183 [==============================] - 3s 14ms/step - loss: 0.0345 - accuracy: 0.9887 - val_loss: 0.8953 - val_accuracy: 0.8033\n",
            "Epoch 70/100\n",
            "183/183 [==============================] - 3s 14ms/step - loss: 0.0442 - accuracy: 0.9856 - val_loss: 0.9307 - val_accuracy: 0.7951\n",
            "Epoch 71/100\n",
            "183/183 [==============================] - 3s 14ms/step - loss: 0.0405 - accuracy: 0.9846 - val_loss: 0.8295 - val_accuracy: 0.8197\n",
            "Epoch 72/100\n",
            "183/183 [==============================] - 3s 16ms/step - loss: 0.0383 - accuracy: 0.9897 - val_loss: 0.8734 - val_accuracy: 0.7923\n",
            "Epoch 73/100\n",
            "183/183 [==============================] - 3s 16ms/step - loss: 0.0440 - accuracy: 0.9849 - val_loss: 0.9959 - val_accuracy: 0.7978\n",
            "Epoch 74/100\n",
            "183/183 [==============================] - 3s 14ms/step - loss: 0.0358 - accuracy: 0.9887 - val_loss: 0.9369 - val_accuracy: 0.7951\n",
            "Epoch 75/100\n",
            "183/183 [==============================] - 3s 14ms/step - loss: 0.0424 - accuracy: 0.9859 - val_loss: 0.9170 - val_accuracy: 0.8060\n",
            "Epoch 76/100\n",
            "183/183 [==============================] - 3s 14ms/step - loss: 0.0465 - accuracy: 0.9839 - val_loss: 0.9489 - val_accuracy: 0.8142\n",
            "Epoch 77/100\n",
            "183/183 [==============================] - 3s 16ms/step - loss: 0.0368 - accuracy: 0.9863 - val_loss: 0.9046 - val_accuracy: 0.8169\n",
            "Epoch 78/100\n",
            "183/183 [==============================] - 3s 16ms/step - loss: 0.0469 - accuracy: 0.9852 - val_loss: 0.8505 - val_accuracy: 0.8169\n",
            "Epoch 79/100\n",
            "183/183 [==============================] - 3s 14ms/step - loss: 0.0405 - accuracy: 0.9870 - val_loss: 0.9463 - val_accuracy: 0.8142\n",
            "Epoch 80/100\n",
            "183/183 [==============================] - 3s 14ms/step - loss: 0.0319 - accuracy: 0.9887 - val_loss: 1.0549 - val_accuracy: 0.7896\n",
            "Epoch 81/100\n",
            "183/183 [==============================] - 3s 14ms/step - loss: 0.0357 - accuracy: 0.9890 - val_loss: 0.9691 - val_accuracy: 0.8033\n",
            "Epoch 82/100\n",
            "183/183 [==============================] - 3s 15ms/step - loss: 0.0429 - accuracy: 0.9876 - val_loss: 0.9928 - val_accuracy: 0.7923\n",
            "Epoch 83/100\n",
            "183/183 [==============================] - 3s 16ms/step - loss: 0.0317 - accuracy: 0.9897 - val_loss: 0.9567 - val_accuracy: 0.7978\n",
            "Epoch 84/100\n",
            "183/183 [==============================] - 3s 14ms/step - loss: 0.0468 - accuracy: 0.9863 - val_loss: 1.0522 - val_accuracy: 0.7951\n",
            "Epoch 85/100\n",
            "183/183 [==============================] - 3s 14ms/step - loss: 0.0316 - accuracy: 0.9914 - val_loss: 1.1414 - val_accuracy: 0.7705\n",
            "Epoch 86/100\n",
            "183/183 [==============================] - 3s 14ms/step - loss: 0.0380 - accuracy: 0.9883 - val_loss: 0.9851 - val_accuracy: 0.8060\n",
            "Epoch 87/100\n",
            "183/183 [==============================] - 3s 16ms/step - loss: 0.0382 - accuracy: 0.9863 - val_loss: 0.9113 - val_accuracy: 0.8087\n",
            "Epoch 88/100\n",
            "183/183 [==============================] - 3s 15ms/step - loss: 0.0300 - accuracy: 0.9907 - val_loss: 1.0230 - val_accuracy: 0.8033\n",
            "Epoch 89/100\n",
            "183/183 [==============================] - 3s 14ms/step - loss: 0.0387 - accuracy: 0.9880 - val_loss: 1.0565 - val_accuracy: 0.8087\n",
            "Epoch 90/100\n",
            "183/183 [==============================] - 3s 14ms/step - loss: 0.0302 - accuracy: 0.9907 - val_loss: 0.9712 - val_accuracy: 0.8142\n",
            "Epoch 91/100\n",
            "183/183 [==============================] - 3s 14ms/step - loss: 0.0427 - accuracy: 0.9839 - val_loss: 0.9380 - val_accuracy: 0.7896\n",
            "Epoch 92/100\n",
            "183/183 [==============================] - 3s 17ms/step - loss: 0.0383 - accuracy: 0.9859 - val_loss: 0.9323 - val_accuracy: 0.7978\n",
            "Epoch 93/100\n",
            "183/183 [==============================] - 3s 15ms/step - loss: 0.0432 - accuracy: 0.9866 - val_loss: 1.0939 - val_accuracy: 0.7923\n",
            "Epoch 94/100\n",
            "183/183 [==============================] - 3s 14ms/step - loss: 0.0309 - accuracy: 0.9894 - val_loss: 0.9946 - val_accuracy: 0.7923\n",
            "Epoch 95/100\n",
            "183/183 [==============================] - 3s 14ms/step - loss: 0.0330 - accuracy: 0.9880 - val_loss: 0.8963 - val_accuracy: 0.7978\n",
            "Epoch 96/100\n",
            "183/183 [==============================] - 3s 14ms/step - loss: 0.0301 - accuracy: 0.9907 - val_loss: 0.9666 - val_accuracy: 0.8115\n",
            "Epoch 97/100\n",
            "183/183 [==============================] - 3s 16ms/step - loss: 0.0385 - accuracy: 0.9890 - val_loss: 1.0082 - val_accuracy: 0.8060\n",
            "Epoch 98/100\n",
            "183/183 [==============================] - 3s 15ms/step - loss: 0.0470 - accuracy: 0.9863 - val_loss: 0.9658 - val_accuracy: 0.7951\n",
            "Epoch 99/100\n",
            "183/183 [==============================] - 3s 14ms/step - loss: 0.0380 - accuracy: 0.9866 - val_loss: 1.0502 - val_accuracy: 0.8033\n",
            "Epoch 100/100\n",
            "183/183 [==============================] - 3s 14ms/step - loss: 0.0342 - accuracy: 0.9887 - val_loss: 0.9955 - val_accuracy: 0.8142\n"
          ]
        }
      ]
    },
    {
      "cell_type": "code",
      "source": [
        "model.evaluate([x_valid_vgg19_features, x_valid_resnet50_features], y_valid)    #50 epochs  remving 1 layer from 4 layers"
      ],
      "metadata": {
        "colab": {
          "base_uri": "https://localhost:8080/"
        },
        "id": "colZ2nN_iHzw",
        "outputId": "40c9a8e7-b4d9-49f8-96a1-39b3e60e0785"
      },
      "execution_count": null,
      "outputs": [
        {
          "output_type": "stream",
          "name": "stdout",
          "text": [
            "12/12 [==============================] - 0s 9ms/step - loss: 0.9390 - accuracy: 0.8115\n"
          ]
        },
        {
          "output_type": "execute_result",
          "data": {
            "text/plain": [
              "[0.939001202583313, 0.811475396156311]"
            ]
          },
          "metadata": {},
          "execution_count": 15
        }
      ]
    },
    {
      "cell_type": "code",
      "source": [
        "model.evaluate([x_valid_vgg19_features, x_valid_resnet50_features], y_valid)    #50 epochs removing 1bn of 3 layers"
      ],
      "metadata": {
        "colab": {
          "base_uri": "https://localhost:8080/"
        },
        "id": "FtKswZgyi0WS",
        "outputId": "a348f307-ec4d-4280-8eda-cdd8740dcf17"
      },
      "execution_count": null,
      "outputs": [
        {
          "output_type": "stream",
          "name": "stdout",
          "text": [
            "12/12 [==============================] - 0s 9ms/step - loss: 0.8601 - accuracy: 0.8251\n"
          ]
        },
        {
          "output_type": "execute_result",
          "data": {
            "text/plain": [
              "[0.8601483702659607, 0.8251366019248962]"
            ]
          },
          "metadata": {},
          "execution_count": 17
        }
      ]
    },
    {
      "cell_type": "code",
      "source": [
        "model.evaluate([x_valid_vgg19_features, x_valid_resnet50_features], y_valid)    #50 epochs removing 2bn of 3 layers"
      ],
      "metadata": {
        "colab": {
          "base_uri": "https://localhost:8080/"
        },
        "id": "PXA5FenvktlS",
        "outputId": "3745330a-a691-4c11-904b-33dd89e3e0ea"
      },
      "execution_count": null,
      "outputs": [
        {
          "output_type": "stream",
          "name": "stdout",
          "text": [
            "12/12 [==============================] - 0s 11ms/step - loss: 1.9852 - accuracy: 0.7760\n"
          ]
        },
        {
          "output_type": "execute_result",
          "data": {
            "text/plain": [
              "[1.9851961135864258, 0.7759562730789185]"
            ]
          },
          "metadata": {},
          "execution_count": 6
        }
      ]
    },
    {
      "cell_type": "code",
      "source": [
        "model.evaluate([x_valid_vgg19_features, x_valid_resnet50_features], y_valid)    #50 epochs removing 1bn,1dp of 3 layers"
      ],
      "metadata": {
        "colab": {
          "base_uri": "https://localhost:8080/"
        },
        "id": "b81o4kOSmMHH",
        "outputId": "e204a952-3029-43df-fad3-db18d6d3f027"
      },
      "execution_count": null,
      "outputs": [
        {
          "output_type": "stream",
          "name": "stdout",
          "text": [
            "12/12 [==============================] - 0s 9ms/step - loss: 0.8148 - accuracy: 0.8142\n"
          ]
        },
        {
          "output_type": "execute_result",
          "data": {
            "text/plain": [
              "[0.8148192763328552, 0.8142076730728149]"
            ]
          },
          "metadata": {},
          "execution_count": 8
        }
      ]
    },
    {
      "cell_type": "code",
      "source": [
        "model.evaluate([x_valid_vgg19_features, x_valid_resnet50_features], y_valid)    #100 epochs removing 1bn of 3 layers"
      ],
      "metadata": {
        "colab": {
          "base_uri": "https://localhost:8080/"
        },
        "id": "TVRk76fZnGNH",
        "outputId": "65933437-feac-4a61-c755-2157e2d4a4f1"
      },
      "execution_count": null,
      "outputs": [
        {
          "output_type": "stream",
          "name": "stdout",
          "text": [
            "12/12 [==============================] - 0s 12ms/step - loss: 0.7994 - accuracy: 0.8279\n"
          ]
        },
        {
          "output_type": "execute_result",
          "data": {
            "text/plain": [
              "[0.7994113564491272, 0.8278688788414001]"
            ]
          },
          "metadata": {},
          "execution_count": 10
        }
      ]
    },
    {
      "cell_type": "code",
      "source": [
        "from tensorflow.keras.layers import Input, Concatenate, Dense, Dropout, BatchNormalization\n",
        "from tensorflow.keras.models import Model\n",
        "BATCH_SIZE = 16\n",
        "\n",
        "# Define input layers for VGG19 and ResNet50 features\n",
        "input_vgg19 = Input(shape=(x_train_vgg19_features.shape[1],))\n",
        "input_resnet50 = Input(shape=(x_train_resnet50_features.shape[1],))\n",
        "\n",
        "# Define the neural network layers for VGG19 pathway\n",
        "dense_1 = Dense(512, activation='relu')(input_vgg19)\n",
        "bn1 = BatchNormalization()(dense_1)\n",
        "dropout1 = Dropout(0.25)(bn1)  # Dropout rate of 50%\n",
        "\n",
        "dense_2 = Dense(256, activation='relu')(dropout1)\n",
        "bn2 = BatchNormalization()(dense_2)\n",
        "dropout2 = Dropout(0.25)(bn2)  # Consistent dropout rate\n",
        "\n",
        "dense_3 = Dense(128, activation='relu')(dropout2)\n",
        "bn3 = BatchNormalization()(dense_3)\n",
        "dropout3 = Dropout(0.25)(bn3)\n",
        "\n",
        "# Concatenate VGG19 processed features with ResNet50 features\n",
        "cross_pooled = Concatenate()([dropout3, input_resnet50])\n",
        "\n",
        "# Further processing after concatenation\n",
        "dense_4 = Dense(64, activation='relu')(cross_pooled)\n",
        "bn4 = BatchNormalization()(dense_4)\n",
        "dropout4 = Dropout(0.25)(bn4)\n",
        "\n",
        "dense_5 = Dense(32, activation='relu')(dropout4)\n",
        "bn5 = BatchNormalization()(dense_5)\n",
        "dropout5 = Dropout(0.25)(bn5)\n",
        "\n",
        "# Final output layer\n",
        "output = Dense(5, activation='softmax')(dropout5)\n",
        "\n",
        "# Create and compile the model\n",
        "model = Model(inputs=[input_vgg19, input_resnet50], outputs=output)\n",
        "model.compile(loss='sparse_categorical_crossentropy', optimizer='adam', metrics=['accuracy'])\n",
        "\n",
        "# Train the model\n",
        "history = model.fit(\n",
        "    [x_train_vgg19_features, x_train_resnet50_features], y_train,\n",
        "    steps_per_epoch=x_train_vgg19_features.shape[0] // BATCH_SIZE,\n",
        "    batch_size=BATCH_SIZE,\n",
        "    epochs=50,\n",
        "    validation_data=([x_val_vgg19_features, x_val_resnet50_features], y_val)\n",
        ")\n"
      ],
      "metadata": {
        "colab": {
          "base_uri": "https://localhost:8080/"
        },
        "id": "xSs1ArX4ojrk",
        "outputId": "21d48ea6-141a-4627-f18b-69b936eac83d"
      },
      "execution_count": null,
      "outputs": [
        {
          "output_type": "stream",
          "name": "stdout",
          "text": [
            "Epoch 1/50\n",
            "183/183 [==============================] - 11s 19ms/step - loss: 0.9881 - accuracy: 0.6352 - val_loss: 0.6002 - val_accuracy: 0.7705\n",
            "Epoch 2/50\n",
            "183/183 [==============================] - 3s 19ms/step - loss: 0.6525 - accuracy: 0.7563 - val_loss: 0.5611 - val_accuracy: 0.7923\n",
            "Epoch 3/50\n",
            "183/183 [==============================] - 3s 15ms/step - loss: 0.5124 - accuracy: 0.8171 - val_loss: 0.5732 - val_accuracy: 0.8087\n",
            "Epoch 4/50\n",
            "183/183 [==============================] - 3s 15ms/step - loss: 0.4346 - accuracy: 0.8469 - val_loss: 0.5537 - val_accuracy: 0.8142\n",
            "Epoch 5/50\n",
            "183/183 [==============================] - 3s 15ms/step - loss: 0.3510 - accuracy: 0.8785 - val_loss: 0.5921 - val_accuracy: 0.8169\n",
            "Epoch 6/50\n",
            "183/183 [==============================] - 3s 16ms/step - loss: 0.2840 - accuracy: 0.9005 - val_loss: 0.6705 - val_accuracy: 0.8005\n",
            "Epoch 7/50\n",
            "183/183 [==============================] - 3s 17ms/step - loss: 0.2561 - accuracy: 0.9156 - val_loss: 0.6138 - val_accuracy: 0.7951\n",
            "Epoch 8/50\n",
            "183/183 [==============================] - 3s 15ms/step - loss: 0.2291 - accuracy: 0.9235 - val_loss: 0.7096 - val_accuracy: 0.8306\n",
            "Epoch 9/50\n",
            "183/183 [==============================] - 3s 15ms/step - loss: 0.1833 - accuracy: 0.9430 - val_loss: 0.6870 - val_accuracy: 0.7978\n",
            "Epoch 10/50\n",
            "183/183 [==============================] - 3s 15ms/step - loss: 0.1638 - accuracy: 0.9520 - val_loss: 0.6949 - val_accuracy: 0.8251\n",
            "Epoch 11/50\n",
            "183/183 [==============================] - 3s 18ms/step - loss: 0.1550 - accuracy: 0.9513 - val_loss: 0.7860 - val_accuracy: 0.8033\n",
            "Epoch 12/50\n",
            "183/183 [==============================] - 3s 16ms/step - loss: 0.1391 - accuracy: 0.9550 - val_loss: 0.8074 - val_accuracy: 0.8224\n",
            "Epoch 13/50\n",
            "183/183 [==============================] - 3s 14ms/step - loss: 0.1289 - accuracy: 0.9626 - val_loss: 0.8727 - val_accuracy: 0.8087\n",
            "Epoch 14/50\n",
            "183/183 [==============================] - 3s 15ms/step - loss: 0.1621 - accuracy: 0.9530 - val_loss: 0.7802 - val_accuracy: 0.8060\n",
            "Epoch 15/50\n",
            "183/183 [==============================] - 3s 15ms/step - loss: 0.1286 - accuracy: 0.9657 - val_loss: 0.7887 - val_accuracy: 0.8115\n",
            "Epoch 16/50\n",
            "183/183 [==============================] - 4s 21ms/step - loss: 0.1181 - accuracy: 0.9653 - val_loss: 0.7837 - val_accuracy: 0.7896\n",
            "Epoch 17/50\n",
            "183/183 [==============================] - 3s 16ms/step - loss: 0.1127 - accuracy: 0.9633 - val_loss: 0.8037 - val_accuracy: 0.8169\n",
            "Epoch 18/50\n",
            "183/183 [==============================] - 3s 15ms/step - loss: 0.0925 - accuracy: 0.9698 - val_loss: 0.8629 - val_accuracy: 0.8115\n",
            "Epoch 19/50\n",
            "183/183 [==============================] - 3s 15ms/step - loss: 0.1289 - accuracy: 0.9605 - val_loss: 0.9038 - val_accuracy: 0.7978\n",
            "Epoch 20/50\n",
            "183/183 [==============================] - 3s 17ms/step - loss: 0.1086 - accuracy: 0.9636 - val_loss: 0.9210 - val_accuracy: 0.8169\n",
            "Epoch 21/50\n",
            "183/183 [==============================] - 3s 17ms/step - loss: 0.0959 - accuracy: 0.9719 - val_loss: 0.7551 - val_accuracy: 0.8142\n",
            "Epoch 22/50\n",
            "183/183 [==============================] - 3s 14ms/step - loss: 0.1100 - accuracy: 0.9629 - val_loss: 0.8156 - val_accuracy: 0.8224\n",
            "Epoch 23/50\n",
            "183/183 [==============================] - 3s 15ms/step - loss: 0.0958 - accuracy: 0.9681 - val_loss: 0.8511 - val_accuracy: 0.8005\n",
            "Epoch 24/50\n",
            "183/183 [==============================] - 3s 15ms/step - loss: 0.0859 - accuracy: 0.9743 - val_loss: 0.8463 - val_accuracy: 0.8197\n",
            "Epoch 25/50\n",
            "183/183 [==============================] - 5s 25ms/step - loss: 0.0978 - accuracy: 0.9695 - val_loss: 0.8261 - val_accuracy: 0.7951\n",
            "Epoch 26/50\n",
            "183/183 [==============================] - 3s 17ms/step - loss: 0.0817 - accuracy: 0.9743 - val_loss: 0.9327 - val_accuracy: 0.8306\n",
            "Epoch 27/50\n",
            "183/183 [==============================] - 3s 15ms/step - loss: 0.0790 - accuracy: 0.9746 - val_loss: 0.9783 - val_accuracy: 0.8169\n",
            "Epoch 28/50\n",
            "183/183 [==============================] - 3s 15ms/step - loss: 0.1065 - accuracy: 0.9664 - val_loss: 0.8676 - val_accuracy: 0.8115\n",
            "Epoch 29/50\n",
            "183/183 [==============================] - 3s 17ms/step - loss: 0.1089 - accuracy: 0.9671 - val_loss: 0.9654 - val_accuracy: 0.8279\n",
            "Epoch 30/50\n",
            "183/183 [==============================] - 4s 24ms/step - loss: 0.0828 - accuracy: 0.9760 - val_loss: 0.8793 - val_accuracy: 0.8142\n",
            "Epoch 31/50\n",
            "183/183 [==============================] - 4s 24ms/step - loss: 0.1012 - accuracy: 0.9743 - val_loss: 0.8933 - val_accuracy: 0.8005\n",
            "Epoch 32/50\n",
            "183/183 [==============================] - 5s 27ms/step - loss: 0.0877 - accuracy: 0.9701 - val_loss: 0.8165 - val_accuracy: 0.8279\n",
            "Epoch 33/50\n",
            "183/183 [==============================] - 4s 25ms/step - loss: 0.0867 - accuracy: 0.9701 - val_loss: 0.9177 - val_accuracy: 0.8251\n",
            "Epoch 34/50\n",
            "183/183 [==============================] - 3s 16ms/step - loss: 0.0836 - accuracy: 0.9732 - val_loss: 0.8450 - val_accuracy: 0.8251\n",
            "Epoch 35/50\n",
            "183/183 [==============================] - 3s 14ms/step - loss: 0.0807 - accuracy: 0.9767 - val_loss: 0.9176 - val_accuracy: 0.8169\n",
            "Epoch 36/50\n",
            "183/183 [==============================] - 3s 17ms/step - loss: 0.0905 - accuracy: 0.9701 - val_loss: 0.9261 - val_accuracy: 0.8169\n",
            "Epoch 37/50\n",
            "183/183 [==============================] - 3s 17ms/step - loss: 0.0887 - accuracy: 0.9695 - val_loss: 1.0206 - val_accuracy: 0.8197\n",
            "Epoch 38/50\n",
            "183/183 [==============================] - 3s 15ms/step - loss: 0.0621 - accuracy: 0.9787 - val_loss: 0.8608 - val_accuracy: 0.8115\n",
            "Epoch 39/50\n",
            "183/183 [==============================] - 3s 15ms/step - loss: 0.0582 - accuracy: 0.9839 - val_loss: 0.9326 - val_accuracy: 0.8115\n",
            "Epoch 40/50\n",
            "183/183 [==============================] - 3s 14ms/step - loss: 0.0688 - accuracy: 0.9811 - val_loss: 0.9598 - val_accuracy: 0.8142\n",
            "Epoch 41/50\n",
            "183/183 [==============================] - 3s 18ms/step - loss: 0.0577 - accuracy: 0.9808 - val_loss: 0.9160 - val_accuracy: 0.8115\n",
            "Epoch 42/50\n",
            "183/183 [==============================] - 3s 15ms/step - loss: 0.0623 - accuracy: 0.9828 - val_loss: 0.9285 - val_accuracy: 0.8142\n",
            "Epoch 43/50\n",
            "183/183 [==============================] - 3s 14ms/step - loss: 0.0677 - accuracy: 0.9808 - val_loss: 0.9614 - val_accuracy: 0.8087\n",
            "Epoch 44/50\n",
            "183/183 [==============================] - 3s 15ms/step - loss: 0.0683 - accuracy: 0.9760 - val_loss: 0.9067 - val_accuracy: 0.8142\n",
            "Epoch 45/50\n",
            "183/183 [==============================] - 3s 15ms/step - loss: 0.0518 - accuracy: 0.9832 - val_loss: 1.0127 - val_accuracy: 0.8087\n",
            "Epoch 46/50\n",
            "183/183 [==============================] - 3s 19ms/step - loss: 0.0536 - accuracy: 0.9811 - val_loss: 0.9600 - val_accuracy: 0.8115\n",
            "Epoch 47/50\n",
            "183/183 [==============================] - 3s 15ms/step - loss: 0.0885 - accuracy: 0.9743 - val_loss: 1.1651 - val_accuracy: 0.8087\n",
            "Epoch 48/50\n",
            "183/183 [==============================] - 3s 14ms/step - loss: 0.0701 - accuracy: 0.9753 - val_loss: 1.1370 - val_accuracy: 0.8142\n",
            "Epoch 49/50\n",
            "183/183 [==============================] - 3s 15ms/step - loss: 0.0558 - accuracy: 0.9818 - val_loss: 1.0347 - val_accuracy: 0.8251\n",
            "Epoch 50/50\n",
            "183/183 [==============================] - 3s 17ms/step - loss: 0.0714 - accuracy: 0.9760 - val_loss: 1.0504 - val_accuracy: 0.7951\n"
          ]
        }
      ]
    },
    {
      "cell_type": "code",
      "source": [
        "model.evaluate([x_valid_vgg19_features, x_valid_resnet50_features], y_valid) # 5layers, 0.5dp"
      ],
      "metadata": {
        "colab": {
          "base_uri": "https://localhost:8080/"
        },
        "id": "9ulSjL2-o9Wx",
        "outputId": "462d0431-a43c-4738-b464-d9ee86d35351"
      },
      "execution_count": null,
      "outputs": [
        {
          "output_type": "stream",
          "name": "stdout",
          "text": [
            "12/12 [==============================] - 0s 10ms/step - loss: 0.8439 - accuracy: 0.8197\n"
          ]
        },
        {
          "output_type": "execute_result",
          "data": {
            "text/plain": [
              "[0.8438794016838074, 0.8196721076965332]"
            ]
          },
          "metadata": {},
          "execution_count": 12
        }
      ]
    },
    {
      "cell_type": "code",
      "source": [
        "model.evaluate([x_valid_vgg19_features, x_valid_resnet50_features], y_valid) # 5layers, 0.25dp"
      ],
      "metadata": {
        "colab": {
          "base_uri": "https://localhost:8080/"
        },
        "id": "r6fyYmp0ppuG",
        "outputId": "1180d219-f947-4448-a572-ceed97c406be"
      },
      "execution_count": null,
      "outputs": [
        {
          "output_type": "stream",
          "name": "stdout",
          "text": [
            "12/12 [==============================] - 0s 9ms/step - loss: 1.0716 - accuracy: 0.8060\n"
          ]
        },
        {
          "output_type": "execute_result",
          "data": {
            "text/plain": [
              "[1.0715835094451904, 0.806010901927948]"
            ]
          },
          "metadata": {},
          "execution_count": 6
        }
      ]
    },
    {
      "cell_type": "code",
      "source": [
        "from tensorflow.keras.layers import Input, Concatenate, Dense, Dropout, BatchNormalization\n",
        "from tensorflow.keras.models import Model\n",
        "BATCH_SIZE = 16\n",
        "\n",
        "# Define input layers for VGG19 and ResNet50 features\n",
        "input_vgg19 = Input(shape=(x_train_vgg19_features.shape[1],))\n",
        "input_resnet50 = Input(shape=(x_train_resnet50_features.shape[1],))\n",
        "\n",
        "# Define the neural network layers for VGG19 pathway\n",
        "dense_1 = Dense(512, activation='relu')(input_vgg19)\n",
        "bn1 = BatchNormalization()(dense_1)\n",
        "\n",
        "dense_2 = Dense(256, activation='relu')(bn1)\n",
        "bn2 = BatchNormalization()(dense_2)\n",
        "\n",
        "dense_3 = Dense(128, activation='relu')(bn2)\n",
        "bn3 = BatchNormalization()(dense_3)\n",
        "\n",
        "# Concatenate VGG19 processed features with ResNet50 features\n",
        "cross_pooled = Concatenate()([bn3, input_resnet50])\n",
        "\n",
        "# Further processing after concatenation\n",
        "dense_4 = Dense(64, activation='relu')(cross_pooled)\n",
        "bn4 = BatchNormalization()(dense_4)\n",
        "\n",
        "dense_5 = Dense(32, activation='relu')(bn4)\n",
        "bn5 = BatchNormalization()(dense_5)\n",
        "\n",
        "# Final output layer\n",
        "output = Dense(5, activation='softmax')(bn5)\n",
        "\n",
        "# Create and compile the model\n",
        "model = Model(inputs=[input_vgg19, input_resnet50], outputs=output)\n",
        "model.compile(loss='sparse_categorical_crossentropy', optimizer='adam', metrics=['accuracy'])\n",
        "\n",
        "# Train the model\n",
        "history = model.fit(\n",
        "    [x_train_vgg19_features, x_train_resnet50_features], y_train,\n",
        "    steps_per_epoch=x_train_vgg19_features.shape[0] // BATCH_SIZE,\n",
        "    batch_size=BATCH_SIZE,\n",
        "    epochs=50,\n",
        "    validation_data=([x_val_vgg19_features, x_val_resnet50_features], y_val)\n",
        ")\n"
      ],
      "metadata": {
        "colab": {
          "base_uri": "https://localhost:8080/"
        },
        "id": "mnN2SPRmqquH",
        "outputId": "9d15d771-8724-49fe-cde9-b76410fb5015"
      },
      "execution_count": null,
      "outputs": [
        {
          "output_type": "stream",
          "name": "stdout",
          "text": [
            "Epoch 1/50\n",
            "183/183 [==============================] - 10s 28ms/step - loss: 0.8105 - accuracy: 0.7179 - val_loss: 0.6330 - val_accuracy: 0.7732\n",
            "Epoch 2/50\n",
            "183/183 [==============================] - 5s 26ms/step - loss: 0.4531 - accuracy: 0.8401 - val_loss: 0.6208 - val_accuracy: 0.7650\n",
            "Epoch 3/50\n",
            "183/183 [==============================] - 4s 23ms/step - loss: 0.3172 - accuracy: 0.8977 - val_loss: 0.7834 - val_accuracy: 0.7650\n",
            "Epoch 4/50\n",
            "183/183 [==============================] - 4s 21ms/step - loss: 0.2127 - accuracy: 0.9369 - val_loss: 0.6849 - val_accuracy: 0.7923\n",
            "Epoch 5/50\n",
            "183/183 [==============================] - 3s 19ms/step - loss: 0.1632 - accuracy: 0.9502 - val_loss: 0.7366 - val_accuracy: 0.7842\n",
            "Epoch 6/50\n",
            "183/183 [==============================] - 3s 19ms/step - loss: 0.1422 - accuracy: 0.9571 - val_loss: 0.7397 - val_accuracy: 0.8005\n",
            "Epoch 7/50\n",
            "183/183 [==============================] - 3s 14ms/step - loss: 0.1445 - accuracy: 0.9502 - val_loss: 0.7244 - val_accuracy: 0.8279\n",
            "Epoch 8/50\n",
            "183/183 [==============================] - 3s 14ms/step - loss: 0.1120 - accuracy: 0.9684 - val_loss: 0.8382 - val_accuracy: 0.8115\n",
            "Epoch 9/50\n",
            "183/183 [==============================] - 3s 14ms/step - loss: 0.0862 - accuracy: 0.9722 - val_loss: 0.6728 - val_accuracy: 0.8197\n",
            "Epoch 10/50\n",
            "183/183 [==============================] - 3s 16ms/step - loss: 0.0900 - accuracy: 0.9722 - val_loss: 0.7989 - val_accuracy: 0.8087\n",
            "Epoch 11/50\n",
            "183/183 [==============================] - 3s 17ms/step - loss: 0.0818 - accuracy: 0.9746 - val_loss: 0.8241 - val_accuracy: 0.8115\n",
            "Epoch 12/50\n",
            "183/183 [==============================] - 3s 14ms/step - loss: 0.0695 - accuracy: 0.9818 - val_loss: 0.7535 - val_accuracy: 0.8087\n",
            "Epoch 13/50\n",
            "183/183 [==============================] - 3s 14ms/step - loss: 0.0718 - accuracy: 0.9763 - val_loss: 0.8854 - val_accuracy: 0.7869\n",
            "Epoch 14/50\n",
            "183/183 [==============================] - 3s 14ms/step - loss: 0.0843 - accuracy: 0.9777 - val_loss: 0.8815 - val_accuracy: 0.8197\n",
            "Epoch 15/50\n",
            "183/183 [==============================] - 3s 17ms/step - loss: 0.0594 - accuracy: 0.9804 - val_loss: 0.8052 - val_accuracy: 0.8033\n",
            "Epoch 16/50\n",
            "183/183 [==============================] - 3s 16ms/step - loss: 0.0680 - accuracy: 0.9736 - val_loss: 1.0711 - val_accuracy: 0.7732\n",
            "Epoch 17/50\n",
            "183/183 [==============================] - 3s 14ms/step - loss: 0.0564 - accuracy: 0.9811 - val_loss: 1.4141 - val_accuracy: 0.7268\n",
            "Epoch 18/50\n",
            "183/183 [==============================] - 3s 14ms/step - loss: 0.0516 - accuracy: 0.9818 - val_loss: 0.9896 - val_accuracy: 0.7951\n",
            "Epoch 19/50\n",
            "183/183 [==============================] - 3s 14ms/step - loss: 0.0615 - accuracy: 0.9791 - val_loss: 0.9683 - val_accuracy: 0.7978\n",
            "Epoch 20/50\n",
            "183/183 [==============================] - 3s 17ms/step - loss: 0.0575 - accuracy: 0.9784 - val_loss: 0.9549 - val_accuracy: 0.7869\n",
            "Epoch 21/50\n",
            "183/183 [==============================] - 3s 16ms/step - loss: 0.0494 - accuracy: 0.9811 - val_loss: 1.2013 - val_accuracy: 0.7760\n",
            "Epoch 22/50\n",
            "183/183 [==============================] - 3s 14ms/step - loss: 0.0526 - accuracy: 0.9832 - val_loss: 0.8825 - val_accuracy: 0.8115\n",
            "Epoch 23/50\n",
            "183/183 [==============================] - 3s 14ms/step - loss: 0.0462 - accuracy: 0.9828 - val_loss: 1.0144 - val_accuracy: 0.8115\n",
            "Epoch 24/50\n",
            "183/183 [==============================] - 3s 14ms/step - loss: 0.0432 - accuracy: 0.9849 - val_loss: 1.0225 - val_accuracy: 0.8087\n",
            "Epoch 25/50\n",
            "183/183 [==============================] - 3s 18ms/step - loss: 0.0396 - accuracy: 0.9839 - val_loss: 0.9466 - val_accuracy: 0.8197\n",
            "Epoch 26/50\n",
            "183/183 [==============================] - 3s 15ms/step - loss: 0.0382 - accuracy: 0.9835 - val_loss: 0.9959 - val_accuracy: 0.8060\n",
            "Epoch 27/50\n",
            "183/183 [==============================] - 3s 14ms/step - loss: 0.0512 - accuracy: 0.9815 - val_loss: 0.9889 - val_accuracy: 0.8115\n",
            "Epoch 28/50\n",
            "183/183 [==============================] - 3s 14ms/step - loss: 0.0716 - accuracy: 0.9712 - val_loss: 1.0133 - val_accuracy: 0.8115\n",
            "Epoch 29/50\n",
            "183/183 [==============================] - 3s 17ms/step - loss: 0.0668 - accuracy: 0.9798 - val_loss: 0.9308 - val_accuracy: 0.8169\n",
            "Epoch 30/50\n",
            "183/183 [==============================] - 3s 18ms/step - loss: 0.0492 - accuracy: 0.9828 - val_loss: 0.8530 - val_accuracy: 0.8251\n",
            "Epoch 31/50\n",
            "183/183 [==============================] - 3s 14ms/step - loss: 0.0391 - accuracy: 0.9846 - val_loss: 0.9115 - val_accuracy: 0.8169\n",
            "Epoch 32/50\n",
            "183/183 [==============================] - 3s 14ms/step - loss: 0.0498 - accuracy: 0.9808 - val_loss: 1.0053 - val_accuracy: 0.8087\n",
            "Epoch 33/50\n",
            "183/183 [==============================] - 3s 14ms/step - loss: 0.0563 - accuracy: 0.9784 - val_loss: 0.9344 - val_accuracy: 0.8087\n",
            "Epoch 34/50\n",
            "183/183 [==============================] - 3s 16ms/step - loss: 0.0467 - accuracy: 0.9804 - val_loss: 0.9605 - val_accuracy: 0.8060\n",
            "Epoch 35/50\n",
            "183/183 [==============================] - 3s 16ms/step - loss: 0.0405 - accuracy: 0.9832 - val_loss: 1.1311 - val_accuracy: 0.8115\n",
            "Epoch 36/50\n",
            "183/183 [==============================] - 3s 14ms/step - loss: 0.0451 - accuracy: 0.9839 - val_loss: 1.0563 - val_accuracy: 0.8033\n",
            "Epoch 37/50\n",
            "183/183 [==============================] - 3s 14ms/step - loss: 0.0413 - accuracy: 0.9839 - val_loss: 1.0540 - val_accuracy: 0.8115\n",
            "Epoch 38/50\n",
            "183/183 [==============================] - 3s 17ms/step - loss: 0.0351 - accuracy: 0.9859 - val_loss: 1.0232 - val_accuracy: 0.8142\n",
            "Epoch 39/50\n",
            "183/183 [==============================] - 3s 18ms/step - loss: 0.0455 - accuracy: 0.9815 - val_loss: 0.9679 - val_accuracy: 0.8142\n",
            "Epoch 40/50\n",
            "183/183 [==============================] - 3s 15ms/step - loss: 0.0341 - accuracy: 0.9852 - val_loss: 1.0488 - val_accuracy: 0.7923\n",
            "Epoch 41/50\n",
            "183/183 [==============================] - 3s 14ms/step - loss: 0.0338 - accuracy: 0.9880 - val_loss: 1.0284 - val_accuracy: 0.8060\n",
            "Epoch 42/50\n",
            "183/183 [==============================] - 3s 14ms/step - loss: 0.0376 - accuracy: 0.9863 - val_loss: 1.0920 - val_accuracy: 0.8060\n",
            "Epoch 43/50\n",
            "183/183 [==============================] - 3s 14ms/step - loss: 0.0457 - accuracy: 0.9808 - val_loss: 0.9454 - val_accuracy: 0.8142\n",
            "Epoch 44/50\n",
            "183/183 [==============================] - 3s 19ms/step - loss: 0.0354 - accuracy: 0.9835 - val_loss: 0.9882 - val_accuracy: 0.8142\n",
            "Epoch 45/50\n",
            "183/183 [==============================] - 3s 14ms/step - loss: 0.0341 - accuracy: 0.9863 - val_loss: 0.9777 - val_accuracy: 0.8033\n",
            "Epoch 46/50\n",
            "183/183 [==============================] - 3s 14ms/step - loss: 0.0435 - accuracy: 0.9811 - val_loss: 1.0494 - val_accuracy: 0.8115\n",
            "Epoch 47/50\n",
            "183/183 [==============================] - 3s 14ms/step - loss: 0.0382 - accuracy: 0.9849 - val_loss: 1.0508 - val_accuracy: 0.8142\n",
            "Epoch 48/50\n",
            "183/183 [==============================] - 5s 30ms/step - loss: 0.0569 - accuracy: 0.9794 - val_loss: 1.0852 - val_accuracy: 0.8033\n",
            "Epoch 49/50\n",
            "183/183 [==============================] - 4s 24ms/step - loss: 0.0382 - accuracy: 0.9849 - val_loss: 1.0901 - val_accuracy: 0.7978\n",
            "Epoch 50/50\n",
            "183/183 [==============================] - 3s 19ms/step - loss: 0.0371 - accuracy: 0.9849 - val_loss: 0.9998 - val_accuracy: 0.8115\n"
          ]
        }
      ]
    },
    {
      "cell_type": "code",
      "source": [
        "model.evaluate([x_valid_vgg19_features, x_valid_resnet50_features], y_valid) # no-dp,5bn"
      ],
      "metadata": {
        "colab": {
          "base_uri": "https://localhost:8080/"
        },
        "id": "19P6e1XNrS4v",
        "outputId": "2f1b0912-7f9b-41d8-a45d-e2870326c5d7"
      },
      "execution_count": null,
      "outputs": [
        {
          "output_type": "stream",
          "name": "stdout",
          "text": [
            "12/12 [==============================] - 0s 12ms/step - loss: 1.0787 - accuracy: 0.8087\n"
          ]
        },
        {
          "output_type": "execute_result",
          "data": {
            "text/plain": [
              "[1.0787054300308228, 0.8087431788444519]"
            ]
          },
          "metadata": {},
          "execution_count": 10
        }
      ]
    },
    {
      "cell_type": "code",
      "source": [
        "from tensorflow.keras.layers import Input, Concatenate, Dense, Dropout, BatchNormalization\n",
        "from tensorflow.keras.models import Model\n",
        "BATCH_SIZE = 16\n",
        "\n",
        "# Define input layers for VGG19 and ResNet50 features\n",
        "input_vgg19 = Input(shape=(x_train_vgg19_features.shape[1],))\n",
        "input_resnet50 = Input(shape=(x_train_resnet50_features.shape[1],))\n",
        "\n",
        "# Define the neural network layers for VGG19 pathway\n",
        "dense_1 = Dense(512, activation='relu')(input_vgg19)\n",
        "bn1 = BatchNormalization()(dense_1)\n",
        "\n",
        "dense_2 = Dense(256, activation='relu')(bn1)\n",
        "bn2 = BatchNormalization()(dense_2)\n",
        "\n",
        "\n",
        "\n",
        "# Concatenate VGG19 processed features with ResNet50 features\n",
        "cross_pooled = Concatenate()([bn2, input_resnet50])\n",
        "\n",
        "# Further processing after concatenation\n",
        "dense_4 = Dense(128, activation='relu')(cross_pooled)\n",
        "bn4 = BatchNormalization()(dense_4)\n",
        "\n",
        "\n",
        "# Final output layer\n",
        "output = Dense(5, activation='softmax')(bn4)\n",
        "\n",
        "# Create and compile the model\n",
        "model = Model(inputs=[input_vgg19, input_resnet50], outputs=output)\n",
        "model.compile(loss='sparse_categorical_crossentropy', optimizer='adam', metrics=['accuracy'])\n",
        "\n",
        "# Train the model\n",
        "history = model.fit(\n",
        "    [x_train_vgg19_features, x_train_resnet50_features], y_train,\n",
        "    steps_per_epoch=x_train_vgg19_features.shape[0] // BATCH_SIZE,\n",
        "    batch_size=BATCH_SIZE,\n",
        "    epochs=50,\n",
        "    validation_data=([x_val_vgg19_features, x_val_resnet50_features], y_val)\n",
        ")\n"
      ],
      "metadata": {
        "colab": {
          "base_uri": "https://localhost:8080/"
        },
        "id": "PTjUO6KssQRA",
        "outputId": "2e0b136d-e5cf-4be1-d27e-4dfeb83ceecf"
      },
      "execution_count": null,
      "outputs": [
        {
          "output_type": "stream",
          "name": "stdout",
          "text": [
            "Epoch 1/50\n",
            "183/183 [==============================] - 5s 18ms/step - loss: 0.7578 - accuracy: 0.7391 - val_loss: 0.6014 - val_accuracy: 0.7978\n",
            "Epoch 2/50\n",
            "183/183 [==============================] - 3s 15ms/step - loss: 0.3870 - accuracy: 0.8734 - val_loss: 0.8223 - val_accuracy: 0.7896\n",
            "Epoch 3/50\n",
            "183/183 [==============================] - 3s 17ms/step - loss: 0.2479 - accuracy: 0.9176 - val_loss: 0.6482 - val_accuracy: 0.8142\n",
            "Epoch 4/50\n",
            "183/183 [==============================] - 4s 20ms/step - loss: 0.1636 - accuracy: 0.9550 - val_loss: 0.6078 - val_accuracy: 0.8169\n",
            "Epoch 5/50\n",
            "183/183 [==============================] - 4s 20ms/step - loss: 0.1319 - accuracy: 0.9623 - val_loss: 0.7073 - val_accuracy: 0.8251\n",
            "Epoch 6/50\n",
            "183/183 [==============================] - 3s 19ms/step - loss: 0.1101 - accuracy: 0.9715 - val_loss: 0.7047 - val_accuracy: 0.8251\n",
            "Epoch 7/50\n",
            "183/183 [==============================] - 4s 20ms/step - loss: 0.0922 - accuracy: 0.9791 - val_loss: 1.1297 - val_accuracy: 0.7131\n",
            "Epoch 8/50\n",
            "183/183 [==============================] - 4s 19ms/step - loss: 0.0923 - accuracy: 0.9749 - val_loss: 0.6869 - val_accuracy: 0.8060\n",
            "Epoch 9/50\n",
            "183/183 [==============================] - 3s 17ms/step - loss: 0.0890 - accuracy: 0.9794 - val_loss: 0.6662 - val_accuracy: 0.8142\n",
            "Epoch 10/50\n",
            "183/183 [==============================] - 3s 15ms/step - loss: 0.0765 - accuracy: 0.9815 - val_loss: 0.7373 - val_accuracy: 0.8087\n",
            "Epoch 11/50\n",
            "183/183 [==============================] - 3s 17ms/step - loss: 0.0777 - accuracy: 0.9794 - val_loss: 0.6916 - val_accuracy: 0.8279\n",
            "Epoch 12/50\n",
            "183/183 [==============================] - 3s 15ms/step - loss: 0.0730 - accuracy: 0.9822 - val_loss: 0.8062 - val_accuracy: 0.7978\n",
            "Epoch 13/50\n",
            "183/183 [==============================] - 3s 15ms/step - loss: 0.0679 - accuracy: 0.9832 - val_loss: 0.9307 - val_accuracy: 0.7869\n",
            "Epoch 14/50\n",
            "183/183 [==============================] - 3s 14ms/step - loss: 0.0700 - accuracy: 0.9832 - val_loss: 0.7546 - val_accuracy: 0.8197\n",
            "Epoch 15/50\n",
            "183/183 [==============================] - 3s 17ms/step - loss: 0.0546 - accuracy: 0.9856 - val_loss: 0.6788 - val_accuracy: 0.8060\n",
            "Epoch 16/50\n",
            "183/183 [==============================] - 3s 17ms/step - loss: 0.0711 - accuracy: 0.9804 - val_loss: 0.7495 - val_accuracy: 0.8142\n",
            "Epoch 17/50\n",
            "183/183 [==============================] - 3s 15ms/step - loss: 0.0501 - accuracy: 0.9887 - val_loss: 0.7580 - val_accuracy: 0.8087\n",
            "Epoch 18/50\n",
            "183/183 [==============================] - 3s 14ms/step - loss: 0.0573 - accuracy: 0.9866 - val_loss: 0.8308 - val_accuracy: 0.8251\n",
            "Epoch 19/50\n",
            "183/183 [==============================] - 3s 14ms/step - loss: 0.0707 - accuracy: 0.9804 - val_loss: 0.8312 - val_accuracy: 0.8197\n",
            "Epoch 20/50\n",
            "183/183 [==============================] - 3s 17ms/step - loss: 0.0651 - accuracy: 0.9811 - val_loss: 0.7950 - val_accuracy: 0.7978\n",
            "Epoch 21/50\n",
            "183/183 [==============================] - 3s 16ms/step - loss: 0.0719 - accuracy: 0.9818 - val_loss: 0.8352 - val_accuracy: 0.8087\n",
            "Epoch 22/50\n",
            "183/183 [==============================] - 3s 14ms/step - loss: 0.0589 - accuracy: 0.9849 - val_loss: 0.7362 - val_accuracy: 0.8333\n",
            "Epoch 23/50\n",
            "183/183 [==============================] - 3s 15ms/step - loss: 0.0530 - accuracy: 0.9856 - val_loss: 0.7572 - val_accuracy: 0.7951\n",
            "Epoch 24/50\n",
            "183/183 [==============================] - 3s 15ms/step - loss: 0.0544 - accuracy: 0.9839 - val_loss: 0.7975 - val_accuracy: 0.7896\n",
            "Epoch 25/50\n",
            "183/183 [==============================] - 3s 18ms/step - loss: 0.0544 - accuracy: 0.9866 - val_loss: 0.7690 - val_accuracy: 0.7978\n",
            "Epoch 26/50\n",
            "183/183 [==============================] - 3s 15ms/step - loss: 0.0504 - accuracy: 0.9849 - val_loss: 0.8590 - val_accuracy: 0.8005\n",
            "Epoch 27/50\n",
            "183/183 [==============================] - 3s 15ms/step - loss: 0.0559 - accuracy: 0.9849 - val_loss: 0.9359 - val_accuracy: 0.8005\n",
            "Epoch 28/50\n",
            "183/183 [==============================] - 4s 21ms/step - loss: 0.0542 - accuracy: 0.9852 - val_loss: 0.8441 - val_accuracy: 0.7978\n",
            "Epoch 29/50\n",
            "183/183 [==============================] - 3s 17ms/step - loss: 0.0586 - accuracy: 0.9835 - val_loss: 0.8612 - val_accuracy: 0.8033\n",
            "Epoch 30/50\n",
            "183/183 [==============================] - 3s 16ms/step - loss: 0.0410 - accuracy: 0.9887 - val_loss: 0.7596 - val_accuracy: 0.7978\n",
            "Epoch 31/50\n",
            "183/183 [==============================] - 3s 15ms/step - loss: 0.0680 - accuracy: 0.9832 - val_loss: 0.8208 - val_accuracy: 0.8005\n",
            "Epoch 32/50\n",
            "183/183 [==============================] - 3s 14ms/step - loss: 0.0545 - accuracy: 0.9828 - val_loss: 0.8598 - val_accuracy: 0.8060\n",
            "Epoch 33/50\n",
            "183/183 [==============================] - 3s 15ms/step - loss: 0.0515 - accuracy: 0.9873 - val_loss: 0.7669 - val_accuracy: 0.8169\n",
            "Epoch 34/50\n",
            "183/183 [==============================] - 3s 18ms/step - loss: 0.0557 - accuracy: 0.9839 - val_loss: 0.7543 - val_accuracy: 0.8224\n",
            "Epoch 35/50\n",
            "183/183 [==============================] - 3s 15ms/step - loss: 0.0485 - accuracy: 0.9846 - val_loss: 0.8568 - val_accuracy: 0.8169\n",
            "Epoch 36/50\n",
            "183/183 [==============================] - 3s 14ms/step - loss: 0.0450 - accuracy: 0.9870 - val_loss: 1.0584 - val_accuracy: 0.8115\n",
            "Epoch 37/50\n",
            "183/183 [==============================] - 3s 14ms/step - loss: 0.0531 - accuracy: 0.9846 - val_loss: 0.9535 - val_accuracy: 0.7923\n",
            "Epoch 38/50\n",
            "183/183 [==============================] - 3s 15ms/step - loss: 0.0414 - accuracy: 0.9859 - val_loss: 0.8941 - val_accuracy: 0.7896\n",
            "Epoch 39/50\n",
            "183/183 [==============================] - 3s 18ms/step - loss: 0.0408 - accuracy: 0.9859 - val_loss: 0.9550 - val_accuracy: 0.8033\n",
            "Epoch 40/50\n",
            "183/183 [==============================] - 3s 14ms/step - loss: 0.0395 - accuracy: 0.9883 - val_loss: 0.8641 - val_accuracy: 0.8224\n",
            "Epoch 41/50\n",
            "183/183 [==============================] - 3s 17ms/step - loss: 0.0439 - accuracy: 0.9866 - val_loss: 0.8683 - val_accuracy: 0.7896\n",
            "Epoch 42/50\n",
            "183/183 [==============================] - 3s 15ms/step - loss: 0.0484 - accuracy: 0.9842 - val_loss: 0.8541 - val_accuracy: 0.8251\n",
            "Epoch 43/50\n",
            "183/183 [==============================] - 3s 17ms/step - loss: 0.0405 - accuracy: 0.9883 - val_loss: 0.7905 - val_accuracy: 0.8033\n",
            "Epoch 44/50\n",
            "183/183 [==============================] - 3s 16ms/step - loss: 0.0422 - accuracy: 0.9880 - val_loss: 0.9029 - val_accuracy: 0.7978\n",
            "Epoch 45/50\n",
            "183/183 [==============================] - 3s 15ms/step - loss: 0.0446 - accuracy: 0.9849 - val_loss: 0.8300 - val_accuracy: 0.7923\n",
            "Epoch 46/50\n",
            "183/183 [==============================] - 3s 14ms/step - loss: 0.0440 - accuracy: 0.9863 - val_loss: 0.8955 - val_accuracy: 0.8087\n",
            "Epoch 47/50\n",
            "183/183 [==============================] - 3s 14ms/step - loss: 0.0386 - accuracy: 0.9911 - val_loss: 0.8516 - val_accuracy: 0.7978\n",
            "Epoch 48/50\n",
            "183/183 [==============================] - 3s 18ms/step - loss: 0.0439 - accuracy: 0.9870 - val_loss: 0.9002 - val_accuracy: 0.8115\n",
            "Epoch 49/50\n",
            "183/183 [==============================] - 3s 15ms/step - loss: 0.0451 - accuracy: 0.9859 - val_loss: 1.0682 - val_accuracy: 0.8005\n",
            "Epoch 50/50\n",
            "183/183 [==============================] - 3s 14ms/step - loss: 0.0380 - accuracy: 0.9873 - val_loss: 0.7822 - val_accuracy: 0.8033\n"
          ]
        }
      ]
    },
    {
      "cell_type": "code",
      "source": [
        "model.evaluate([x_valid_vgg19_features, x_valid_resnet50_features], y_valid)   # 3 layers,no-dp,3 bn"
      ],
      "metadata": {
        "colab": {
          "base_uri": "https://localhost:8080/"
        },
        "id": "UgkYl_Y_tAzH",
        "outputId": "745b3375-aa5c-48fc-b506-4b8103fa6a3f"
      },
      "execution_count": null,
      "outputs": [
        {
          "output_type": "stream",
          "name": "stdout",
          "text": [
            "12/12 [==============================] - 0s 10ms/step - loss: 0.7696 - accuracy: 0.8279\n"
          ]
        },
        {
          "output_type": "execute_result",
          "data": {
            "text/plain": [
              "[0.7695798873901367, 0.8278688788414001]"
            ]
          },
          "metadata": {},
          "execution_count": 12
        }
      ]
    },
    {
      "cell_type": "code",
      "source": [
        "from tensorflow.keras.layers import Input, Concatenate, Dense, Dropout, BatchNormalization\n",
        "from tensorflow.keras.models import Model\n",
        "BATCH_SIZE = 16\n",
        "\n",
        "# Define input layers for VGG19 and ResNet50 features\n",
        "input_vgg19 = Input(shape=(x_train_vgg19_features.shape[1],))\n",
        "input_resnet50 = Input(shape=(x_train_resnet50_features.shape[1],))\n",
        "\n",
        "# Define the neural network layers for VGG19 pathway\n",
        "dense_1 = Dense(512, activation='relu')(input_vgg19)\n",
        "\n",
        "dense_2 = Dense(256, activation='relu')(dense_1)\n",
        "\n",
        "\n",
        "\n",
        "# Concatenate VGG19 processed features with ResNet50 features\n",
        "cross_pooled = Concatenate()([dense_2, input_resnet50])\n",
        "\n",
        "# Further processing after concatenation\n",
        "dense_4 = Dense(128, activation='relu')(cross_pooled)\n",
        "\n",
        "\n",
        "# Final output layer\n",
        "output = Dense(5, activation='softmax')(dense_4)\n",
        "\n",
        "# Create and compile the model\n",
        "model = Model(inputs=[input_vgg19, input_resnet50], outputs=output)\n",
        "model.compile(loss='sparse_categorical_crossentropy', optimizer='adam', metrics=['accuracy'])\n",
        "\n",
        "# Train the model\n",
        "history = model.fit(\n",
        "    [x_train_vgg19_features, x_train_resnet50_features], y_train,\n",
        "    steps_per_epoch=x_train_vgg19_features.shape[0] // BATCH_SIZE,\n",
        "    batch_size=BATCH_SIZE,\n",
        "    epochs=50,\n",
        "    validation_data=([x_val_vgg19_features, x_val_resnet50_features], y_val)\n",
        ")\n"
      ],
      "metadata": {
        "colab": {
          "base_uri": "https://localhost:8080/"
        },
        "id": "PsPix1J9tIob",
        "outputId": "4b058887-a9ca-4ff1-8198-4eb0fc7246ca"
      },
      "execution_count": null,
      "outputs": [
        {
          "output_type": "stream",
          "name": "stdout",
          "text": [
            "Epoch 1/50\n",
            "183/183 [==============================] - 5s 16ms/step - loss: 4.8095 - accuracy: 0.6861 - val_loss: 1.9669 - val_accuracy: 0.7678\n",
            "Epoch 2/50\n",
            "183/183 [==============================] - 3s 15ms/step - loss: 1.1158 - accuracy: 0.8264 - val_loss: 1.7674 - val_accuracy: 0.7896\n",
            "Epoch 3/50\n",
            "183/183 [==============================] - 3s 15ms/step - loss: 0.4844 - accuracy: 0.8936 - val_loss: 1.3367 - val_accuracy: 0.8087\n",
            "Epoch 4/50\n",
            "183/183 [==============================] - 2s 13ms/step - loss: 0.2387 - accuracy: 0.9338 - val_loss: 1.7982 - val_accuracy: 0.8033\n",
            "Epoch 5/50\n",
            "183/183 [==============================] - 2s 13ms/step - loss: 0.1895 - accuracy: 0.9581 - val_loss: 1.6230 - val_accuracy: 0.8169\n",
            "Epoch 6/50\n",
            "183/183 [==============================] - 2s 13ms/step - loss: 0.1782 - accuracy: 0.9571 - val_loss: 1.4209 - val_accuracy: 0.8087\n",
            "Epoch 7/50\n",
            "183/183 [==============================] - 2s 13ms/step - loss: 0.1438 - accuracy: 0.9623 - val_loss: 1.3951 - val_accuracy: 0.8005\n",
            "Epoch 8/50\n",
            "183/183 [==============================] - 3s 16ms/step - loss: 0.1365 - accuracy: 0.9674 - val_loss: 1.7740 - val_accuracy: 0.7896\n",
            "Epoch 9/50\n",
            "183/183 [==============================] - 2s 13ms/step - loss: 0.2918 - accuracy: 0.9341 - val_loss: 1.4587 - val_accuracy: 0.7842\n",
            "Epoch 10/50\n",
            "183/183 [==============================] - 2s 13ms/step - loss: 0.1363 - accuracy: 0.9684 - val_loss: 1.5629 - val_accuracy: 0.8005\n",
            "Epoch 11/50\n",
            "183/183 [==============================] - 2s 13ms/step - loss: 0.1717 - accuracy: 0.9629 - val_loss: 1.3513 - val_accuracy: 0.8169\n",
            "Epoch 12/50\n",
            "183/183 [==============================] - 2s 13ms/step - loss: 0.1125 - accuracy: 0.9794 - val_loss: 1.3342 - val_accuracy: 0.8005\n",
            "Epoch 13/50\n",
            "183/183 [==============================] - 3s 15ms/step - loss: 0.1014 - accuracy: 0.9770 - val_loss: 1.2809 - val_accuracy: 0.7896\n",
            "Epoch 14/50\n",
            "183/183 [==============================] - 3s 14ms/step - loss: 0.0898 - accuracy: 0.9811 - val_loss: 1.6756 - val_accuracy: 0.7978\n",
            "Epoch 15/50\n",
            "183/183 [==============================] - 2s 13ms/step - loss: 0.0984 - accuracy: 0.9767 - val_loss: 1.2834 - val_accuracy: 0.8279\n",
            "Epoch 16/50\n",
            "183/183 [==============================] - 2s 13ms/step - loss: 0.0804 - accuracy: 0.9794 - val_loss: 1.2681 - val_accuracy: 0.8060\n",
            "Epoch 17/50\n",
            "183/183 [==============================] - 2s 13ms/step - loss: 0.0708 - accuracy: 0.9870 - val_loss: 1.2210 - val_accuracy: 0.8142\n",
            "Epoch 18/50\n",
            "183/183 [==============================] - 3s 14ms/step - loss: 0.0801 - accuracy: 0.9780 - val_loss: 1.3791 - val_accuracy: 0.8033\n",
            "Epoch 19/50\n",
            "183/183 [==============================] - 3s 15ms/step - loss: 0.0571 - accuracy: 0.9856 - val_loss: 1.2580 - val_accuracy: 0.8169\n",
            "Epoch 20/50\n",
            "183/183 [==============================] - 2s 13ms/step - loss: 0.0960 - accuracy: 0.9739 - val_loss: 1.2760 - val_accuracy: 0.7978\n",
            "Epoch 21/50\n",
            "183/183 [==============================] - 2s 13ms/step - loss: 0.0974 - accuracy: 0.9770 - val_loss: 1.2610 - val_accuracy: 0.7842\n",
            "Epoch 22/50\n",
            "183/183 [==============================] - 2s 13ms/step - loss: 0.0847 - accuracy: 0.9767 - val_loss: 1.4156 - val_accuracy: 0.7951\n",
            "Epoch 23/50\n",
            "183/183 [==============================] - 2s 13ms/step - loss: 0.0740 - accuracy: 0.9770 - val_loss: 1.7412 - val_accuracy: 0.8033\n",
            "Epoch 24/50\n",
            "183/183 [==============================] - 3s 16ms/step - loss: 0.0933 - accuracy: 0.9695 - val_loss: 1.2073 - val_accuracy: 0.7814\n",
            "Epoch 25/50\n",
            "183/183 [==============================] - 2s 13ms/step - loss: 0.0760 - accuracy: 0.9798 - val_loss: 1.3079 - val_accuracy: 0.8115\n",
            "Epoch 26/50\n",
            "183/183 [==============================] - 2s 13ms/step - loss: 0.0632 - accuracy: 0.9801 - val_loss: 1.2624 - val_accuracy: 0.7978\n",
            "Epoch 27/50\n",
            "183/183 [==============================] - 2s 13ms/step - loss: 0.0523 - accuracy: 0.9825 - val_loss: 1.2829 - val_accuracy: 0.8033\n",
            "Epoch 28/50\n",
            "183/183 [==============================] - 2s 13ms/step - loss: 0.0335 - accuracy: 0.9887 - val_loss: 1.3526 - val_accuracy: 0.8115\n",
            "Epoch 29/50\n",
            "183/183 [==============================] - 3s 14ms/step - loss: 0.0421 - accuracy: 0.9852 - val_loss: 1.3001 - val_accuracy: 0.7760\n",
            "Epoch 30/50\n",
            "183/183 [==============================] - 3s 14ms/step - loss: 0.0486 - accuracy: 0.9825 - val_loss: 1.2099 - val_accuracy: 0.8251\n",
            "Epoch 31/50\n",
            "183/183 [==============================] - 2s 13ms/step - loss: 0.0836 - accuracy: 0.9763 - val_loss: 1.2291 - val_accuracy: 0.8361\n",
            "Epoch 32/50\n",
            "183/183 [==============================] - 2s 13ms/step - loss: 0.1086 - accuracy: 0.9684 - val_loss: 1.1444 - val_accuracy: 0.8224\n",
            "Epoch 33/50\n",
            "183/183 [==============================] - 2s 13ms/step - loss: 0.1137 - accuracy: 0.9612 - val_loss: 1.3980 - val_accuracy: 0.8306\n",
            "Epoch 34/50\n",
            "183/183 [==============================] - 3s 14ms/step - loss: 0.0559 - accuracy: 0.9818 - val_loss: 1.4339 - val_accuracy: 0.7951\n",
            "Epoch 35/50\n",
            "183/183 [==============================] - 3s 15ms/step - loss: 0.0364 - accuracy: 0.9863 - val_loss: 1.3918 - val_accuracy: 0.8142\n",
            "Epoch 36/50\n",
            "183/183 [==============================] - 2s 13ms/step - loss: 0.0497 - accuracy: 0.9825 - val_loss: 1.8614 - val_accuracy: 0.8060\n",
            "Epoch 37/50\n",
            "183/183 [==============================] - 2s 13ms/step - loss: 0.0428 - accuracy: 0.9832 - val_loss: 1.4011 - val_accuracy: 0.8033\n",
            "Epoch 38/50\n",
            "183/183 [==============================] - 2s 13ms/step - loss: 0.0967 - accuracy: 0.9671 - val_loss: 1.4526 - val_accuracy: 0.8197\n",
            "Epoch 39/50\n",
            "183/183 [==============================] - 2s 13ms/step - loss: 0.0307 - accuracy: 0.9859 - val_loss: 1.5316 - val_accuracy: 0.8224\n",
            "Epoch 40/50\n",
            "183/183 [==============================] - 3s 16ms/step - loss: 0.0292 - accuracy: 0.9866 - val_loss: 1.4996 - val_accuracy: 0.8279\n",
            "Epoch 41/50\n",
            "183/183 [==============================] - 2s 13ms/step - loss: 0.0243 - accuracy: 0.9914 - val_loss: 1.5350 - val_accuracy: 0.8197\n",
            "Epoch 42/50\n",
            "183/183 [==============================] - 2s 13ms/step - loss: 0.0379 - accuracy: 0.9849 - val_loss: 1.4369 - val_accuracy: 0.8224\n",
            "Epoch 43/50\n",
            "183/183 [==============================] - 2s 13ms/step - loss: 0.0212 - accuracy: 0.9897 - val_loss: 1.6101 - val_accuracy: 0.7896\n",
            "Epoch 44/50\n",
            "183/183 [==============================] - 2s 13ms/step - loss: 0.1539 - accuracy: 0.9581 - val_loss: 2.2842 - val_accuracy: 0.8060\n",
            "Epoch 45/50\n",
            "183/183 [==============================] - 3s 15ms/step - loss: 0.1135 - accuracy: 0.9623 - val_loss: 1.6161 - val_accuracy: 0.8087\n",
            "Epoch 46/50\n",
            "183/183 [==============================] - 3s 14ms/step - loss: 0.0536 - accuracy: 0.9818 - val_loss: 1.4935 - val_accuracy: 0.8169\n",
            "Epoch 47/50\n",
            "183/183 [==============================] - 2s 13ms/step - loss: 0.0221 - accuracy: 0.9887 - val_loss: 1.7567 - val_accuracy: 0.8197\n",
            "Epoch 48/50\n",
            "183/183 [==============================] - 2s 13ms/step - loss: 0.0466 - accuracy: 0.9798 - val_loss: 1.4480 - val_accuracy: 0.8224\n",
            "Epoch 49/50\n",
            "183/183 [==============================] - 2s 13ms/step - loss: 0.0178 - accuracy: 0.9904 - val_loss: 1.5235 - val_accuracy: 0.8333\n",
            "Epoch 50/50\n",
            "183/183 [==============================] - 3s 14ms/step - loss: 0.0203 - accuracy: 0.9887 - val_loss: 1.7593 - val_accuracy: 0.8142\n"
          ]
        }
      ]
    },
    {
      "cell_type": "code",
      "source": [
        "model.evaluate([x_valid_vgg19_features, x_valid_resnet50_features], y_valid)"
      ],
      "metadata": {
        "colab": {
          "base_uri": "https://localhost:8080/"
        },
        "id": "U5O7Rgfot0hw",
        "outputId": "45fac52c-9843-418b-c6d0-c6d0a7211d9d"
      },
      "execution_count": null,
      "outputs": [
        {
          "output_type": "stream",
          "name": "stdout",
          "text": [
            "12/12 [==============================] - 0s 10ms/step - loss: 1.7160 - accuracy: 0.8142\n"
          ]
        },
        {
          "output_type": "execute_result",
          "data": {
            "text/plain": [
              "[1.716017723083496, 0.8142076730728149]"
            ]
          },
          "metadata": {},
          "execution_count": 14
        }
      ]
    },
    {
      "cell_type": "code",
      "source": [],
      "metadata": {
        "id": "k0gE79kat3dD"
      },
      "execution_count": null,
      "outputs": []
    },
    {
      "cell_type": "code",
      "source": [
        "x_train_vgg19_features=np.load(\"/content/drive/MyDrive/aptos 2019/vgg19_X_train.npy\")\n",
        "x_val_vgg19_features=np.load(\"/content/drive/MyDrive/aptos 2019/vgg19_X_val.npy\")"
      ],
      "metadata": {
        "id": "79YMew83UnbD"
      },
      "execution_count": null,
      "outputs": []
    },
    {
      "cell_type": "code",
      "source": [
        "x_train=np.load(\"/content/drive/MyDrive/aptos 2019/X_train1.npy\")\n",
        "x_test=np.load(\"/content/drive/MyDrive/aptos 2019/X_val.npy\")\n",
        "x_valid=np.load('/content/drive/MyDrive/aptos 2019/X_valid.npy')"
      ],
      "metadata": {
        "id": "0ErToFg2j36Y"
      },
      "execution_count": null,
      "outputs": []
    },
    {
      "cell_type": "markdown",
      "source": [],
      "metadata": {
        "id": "YNRCDv1kkGd-"
      }
    },
    {
      "cell_type": "code",
      "source": [
        "from sklearn.preprocessing import StandardScaler\n",
        "from keras import backend as K\n",
        "from keras.layers import Input, Dense, Lambda\n",
        "x_train_flattened = x_train.reshape((x_train.shape[0], -1))\n",
        "x_test_flattened = x_test.reshape((x_test.shape[0], -1))\n",
        "x_valid_flattened = x_test.reshape((x_valid.shape[0], -1))\n",
        "# Define and train an undercomplete autoencoder\n",
        "encoder = Sequential([\n",
        "    Dense(128, activation='relu', input_shape=(x_train_flattened.shape[1],)),\n",
        "    Dense(64, activation='relu'),\n",
        "    Dense(32, activation='relu')  # Set bottleneck layer size to 32\n",
        "])\n",
        "\n",
        "decoder = Sequential([\n",
        "    Dense(64, activation='relu', input_shape=(32,)),  # Reverse the bottleneck layer size\n",
        "    Dense(128, activation='relu'),\n",
        "    Dense(x_train_flattened.shape[1], activation='relu')\n",
        "])\n",
        "\n",
        "autoencoder = Sequential([encoder, decoder])\n",
        "autoencoder.compile(optimizer='adam', loss='mean_squared_error')\n",
        "autoencoder.fit(x_train_flattened, x_train_flattened, epochs=30, batch_size=32, validation_split=0.2)\n",
        "\n",
        "# Extract features using the trained autoencoder\n",
        "encoded_train_features = encoder.predict(x_train_flattened)\n",
        "encoded_test_features = encoder.predict(x_test_flattened)\n",
        "encoded_valid_features = encoder.predict(x_valid_flattened)"
      ],
      "metadata": {
        "colab": {
          "base_uri": "https://localhost:8080/"
        },
        "id": "IPiKbP3xh7jS",
        "outputId": "8c65baa9-b075-4e58-edaf-df3779e1250d"
      },
      "execution_count": null,
      "outputs": [
        {
          "output_type": "stream",
          "name": "stdout",
          "text": [
            "Epoch 1/30\n",
            "74/74 [==============================] - 9s 64ms/step - loss: 4323.3120 - val_loss: 2643.0481\n",
            "Epoch 2/30\n",
            "74/74 [==============================] - 3s 43ms/step - loss: 2402.8337 - val_loss: 2113.4807\n",
            "Epoch 3/30\n",
            "74/74 [==============================] - 3s 38ms/step - loss: 1968.6752 - val_loss: 1781.9331\n",
            "Epoch 4/30\n",
            "74/74 [==============================] - 3s 37ms/step - loss: 1705.4103 - val_loss: 1586.3650\n",
            "Epoch 5/30\n",
            "74/74 [==============================] - 3s 37ms/step - loss: 1522.5565 - val_loss: 1394.6516\n",
            "Epoch 6/30\n",
            "74/74 [==============================] - 3s 43ms/step - loss: 1288.7338 - val_loss: 1149.7528\n",
            "Epoch 7/30\n",
            "74/74 [==============================] - 3s 40ms/step - loss: 1070.1783 - val_loss: 984.6068\n",
            "Epoch 8/30\n",
            "74/74 [==============================] - 3s 38ms/step - loss: 948.7878 - val_loss: 894.3138\n",
            "Epoch 9/30\n",
            "74/74 [==============================] - 3s 40ms/step - loss: 878.7494 - val_loss: 835.3732\n",
            "Epoch 10/30\n",
            "74/74 [==============================] - 3s 41ms/step - loss: 831.5747 - val_loss: 804.0745\n",
            "Epoch 11/30\n",
            "74/74 [==============================] - 3s 43ms/step - loss: 799.9876 - val_loss: 779.4304\n",
            "Epoch 12/30\n",
            "74/74 [==============================] - 3s 38ms/step - loss: 774.8322 - val_loss: 756.1921\n",
            "Epoch 13/30\n",
            "74/74 [==============================] - 3s 38ms/step - loss: 742.4332 - val_loss: 717.5733\n",
            "Epoch 14/30\n",
            "74/74 [==============================] - 3s 37ms/step - loss: 719.7203 - val_loss: 703.8658\n",
            "Epoch 15/30\n",
            "74/74 [==============================] - 3s 46ms/step - loss: 703.1631 - val_loss: 691.2349\n",
            "Epoch 16/30\n",
            "74/74 [==============================] - 3s 38ms/step - loss: 688.8319 - val_loss: 684.9521\n",
            "Epoch 17/30\n",
            "74/74 [==============================] - 3s 36ms/step - loss: 672.5934 - val_loss: 659.2944\n",
            "Epoch 18/30\n",
            "74/74 [==============================] - 3s 37ms/step - loss: 663.7466 - val_loss: 643.2681\n",
            "Epoch 19/30\n",
            "74/74 [==============================] - 3s 39ms/step - loss: 648.4071 - val_loss: 635.4861\n",
            "Epoch 20/30\n",
            "74/74 [==============================] - 3s 43ms/step - loss: 636.1827 - val_loss: 630.3284\n",
            "Epoch 21/30\n",
            "74/74 [==============================] - 3s 37ms/step - loss: 628.8986 - val_loss: 611.0162\n",
            "Epoch 22/30\n",
            "74/74 [==============================] - 3s 36ms/step - loss: 619.8647 - val_loss: 607.4152\n",
            "Epoch 23/30\n",
            "74/74 [==============================] - 3s 37ms/step - loss: 609.8173 - val_loss: 598.0825\n",
            "Epoch 24/30\n",
            "74/74 [==============================] - 3s 46ms/step - loss: 604.0767 - val_loss: 591.1493\n",
            "Epoch 25/30\n",
            "74/74 [==============================] - 3s 39ms/step - loss: 594.6078 - val_loss: 581.9487\n",
            "Epoch 26/30\n",
            "74/74 [==============================] - 3s 37ms/step - loss: 603.8018 - val_loss: 576.5543\n",
            "Epoch 27/30\n",
            "74/74 [==============================] - 3s 38ms/step - loss: 567.2298 - val_loss: 552.2496\n",
            "Epoch 28/30\n",
            "74/74 [==============================] - 3s 39ms/step - loss: 552.2206 - val_loss: 541.1902\n",
            "Epoch 29/30\n",
            "74/74 [==============================] - 3s 45ms/step - loss: 547.6590 - val_loss: 538.9689\n",
            "Epoch 30/30\n",
            "74/74 [==============================] - 3s 36ms/step - loss: 547.1535 - val_loss: 535.9258\n"
          ]
        }
      ]
    },
    {
      "cell_type": "code",
      "source": [
        "from tensorflow.keras.applications import DenseNet121, MobileNetV2\n",
        "import numpy as np\n",
        "\n",
        "# Load DenseNet121 and MobileNetV2 with pre-trained ImageNet weights\n",
        "densenet = DenseNet121(weights='imagenet', include_top=False, input_shape=(224, 224, 3))\n",
        "mobilenet = MobileNetV2(weights='imagenet', include_top=False, input_shape=(224, 224, 3))\n",
        "\n",
        "def extract_features(model, x_data):\n",
        "    features = model.predict(x_data, batch_size=32, verbose=1)\n",
        "    features_flattened = features.reshape((features.shape[0], -1))\n",
        "    return features_flattened\n",
        "\n",
        "# Assuming 'x_valid' is your validation dataset pre-processed to the required input size (224x224)\n",
        "x_train_densenet_features = extract_features(densenet, x_train)\n",
        "x_train_mobilenet_features = extract_features(mobilenet, x_train)\n",
        "x_test_densenet_features = extract_features(densenet, x_test)\n",
        "x_test_mobilenet_features = extract_features(mobilenet, x_valid)\n",
        "x_valid_densenet_features = extract_features(densenet, x_valid)\n",
        "x_valid_mobilenet_features = extract_features(mobilenet, x_valid)\n",
        "# Combine the features from both models\n",
        "x_valid_combined = np.hstack((x_valid_densenet_features, x_valid_mobilenet_features))\n"
      ],
      "metadata": {
        "colab": {
          "base_uri": "https://localhost:8080/"
        },
        "id": "jIxDULask23Y",
        "outputId": "4410e90f-d9c5-45bd-c820-06f41e27a944"
      },
      "execution_count": null,
      "outputs": [
        {
          "output_type": "stream",
          "name": "stdout",
          "text": [
            "Downloading data from https://storage.googleapis.com/tensorflow/keras-applications/densenet/densenet121_weights_tf_dim_ordering_tf_kernels_notop.h5\n",
            "29084464/29084464 [==============================] - 0s 0us/step\n",
            "Downloading data from https://storage.googleapis.com/tensorflow/keras-applications/mobilenet_v2/mobilenet_v2_weights_tf_dim_ordering_tf_kernels_1.0_224_no_top.h5\n",
            "9406464/9406464 [==============================] - 0s 0us/step\n",
            "92/92 [==============================] - 29s 144ms/step\n",
            "92/92 [==============================] - 6s 40ms/step\n",
            "12/12 [==============================] - 4s 344ms/step\n",
            "12/12 [==============================] - 1s 99ms/step\n",
            "12/12 [==============================] - 1s 76ms/step\n",
            "12/12 [==============================] - 0s 31ms/step\n"
          ]
        }
      ]
    },
    {
      "cell_type": "code",
      "source": [
        "import numpy as np\n",
        "np.save(\"/content/drive/MyDrive/aptos 2019/x_train_densenet_features.npy\",x_train_densenet_features)\n",
        "np.save(\"/content/drive/MyDrive/aptos 2019/x_train_mobilenet_features.npy\",x_train_mobilenet_features)\n",
        "np.save(\"/content/drive/MyDrive/aptos 2019/x_test_densenet_features.npy\",x_test_densenet_features)\n",
        "np.save(\"/content/drive/MyDrive/aptos 2019/x_test_mobilenet_features.npy\",x_test_mobilenet_features)\n",
        "np.save(\"/content/drive/MyDrive/aptos 2019/x_valid_densenet_features.npy\",x_valid_densenet_features)\n",
        "np.save(\"/content/drive/MyDrive/aptos 2019/x_valid_mobilenet_features.npy\",x_valid_mobilenet_features)"
      ],
      "metadata": {
        "id": "9zT9AyAbLwKT"
      },
      "execution_count": null,
      "outputs": []
    },
    {
      "cell_type": "code",
      "source": [
        "x_train_densenet_features=np.load(\"/content/drive/MyDrive/aptos 2019/x_train_densenet_features.npy\")\n",
        "x_train_mobilenet_features=np.load(\"/content/drive/MyDrive/aptos 2019/x_train_mobilenet_features.npy\")\n",
        "x_test_densenet_features=np.load(\"/content/drive/MyDrive/aptos 2019/x_test_densenet_features.npy\")\n",
        "x_test_mobilenet_features=np.load(\"/content/drive/MyDrive/aptos 2019/x_test_mobilenet_features.npy\")\n",
        "x_valid_densenet_features=np.load(\"/content/drive/MyDrive/aptos 2019/x_valid_densenet_features.npy\")\n",
        "x_valid_mobilenet_features=np.load(\"/content/drive/MyDrive/aptos 2019/x_valid_mobilenet_features.npy\")"
      ],
      "metadata": {
        "id": "m9TgdmIeMYVn"
      },
      "execution_count": null,
      "outputs": []
    },
    {
      "cell_type": "code",
      "source": [
        "from tensorflow.keras.layers import Input, Concatenate, Dense\n",
        "from tensorflow.keras.models import Model\n",
        "BATCH_SIZE=16\n",
        "# Define input layers for VGG19 and ResNet50 features\n",
        "input_densenet = Input(shape=(x_train_densenet_features.shape[1],))\n",
        "input_mobilenet = Input(shape=(x_train_mobilenet_features.shape[1],))\n",
        "\n",
        "# Define the neural network layers\n",
        "dense_1 = Dense(512, activation='relu')(input_densenet)\n",
        "dense_2 = Dense(256, activation='relu')(dense_1)\n",
        "dense_3 = Dense(256, activation='relu')(dense_2)\n",
        "dense_03 = Dense(128, activation='relu')(dense_3)\n",
        "# Cross-pooling layer to combine VGG19 and ResNet50 features\n",
        "cross_pooled = Concatenate()([dense_1, input_mobilenet])\n",
        "\n",
        "dense_4 = Dense(128, activation='relu')(cross_pooled)\n",
        "dense_04 = Dense(64, activation='relu')(dense_4)\n",
        "dense_5 = Dense(32, activation='relu')(dense_04)\n",
        "output = Dense(5, activation='softmax')(dense_5)\n",
        "\n",
        "# Create the model\n",
        "model = Model(inputs=[input_densenet, input_mobilenet], outputs=output)\n",
        "model.compile(loss='sparse_categorical_crossentropy', optimizer='adam', metrics=['accuracy'])\n",
        "\n",
        "# Train the model\n",
        "history = model.fit(\n",
        "    [x_train_densenet_features, x_train_mobilenet_features], y_train,\n",
        "    steps_per_epoch=x_train_densenet_features.shape[0] / BATCH_SIZE,batch_size=BATCH_SIZE,\n",
        "    epochs=50,\n",
        "    validation_data=([x_test_densenet_features, x_test_mobilenet_features], y_val)\n",
        ")\n"
      ],
      "metadata": {
        "colab": {
          "base_uri": "https://localhost:8080/"
        },
        "id": "AxTYcMx7s1ku",
        "outputId": "1201e4eb-3890-4d67-dc51-1bdc6c1db42c"
      },
      "execution_count": null,
      "outputs": [
        {
          "output_type": "stream",
          "name": "stdout",
          "text": [
            "Epoch 1/50\n",
            "183/183 [==============================] - 8s 19ms/step - loss: 1.4943 - accuracy: 0.6461 - val_loss: 0.8703 - val_accuracy: 0.7514\n",
            "Epoch 2/50\n",
            "183/183 [==============================] - 3s 16ms/step - loss: 0.7133 - accuracy: 0.7488 - val_loss: 0.9330 - val_accuracy: 0.7568\n",
            "Epoch 3/50\n",
            "183/183 [==============================] - 3s 15ms/step - loss: 0.5855 - accuracy: 0.7928 - val_loss: 0.8238 - val_accuracy: 0.7732\n",
            "Epoch 4/50\n",
            "183/183 [==============================] - 3s 18ms/step - loss: 0.4455 - accuracy: 0.8321 - val_loss: 0.7122 - val_accuracy: 0.7568\n",
            "Epoch 5/50\n",
            "183/183 [==============================] - 3s 16ms/step - loss: 0.3933 - accuracy: 0.8560 - val_loss: 0.8775 - val_accuracy: 0.7568\n",
            "Epoch 6/50\n",
            "183/183 [==============================] - 3s 16ms/step - loss: 0.3606 - accuracy: 0.8686 - val_loss: 0.8864 - val_accuracy: 0.7432\n",
            "Epoch 7/50\n",
            "183/183 [==============================] - 3s 15ms/step - loss: 0.2874 - accuracy: 0.9003 - val_loss: 1.0468 - val_accuracy: 0.7377\n",
            "Epoch 8/50\n",
            "183/183 [==============================] - 3s 17ms/step - loss: 0.2173 - accuracy: 0.9253 - val_loss: 1.1665 - val_accuracy: 0.7322\n",
            "Epoch 9/50\n",
            "183/183 [==============================] - 3s 18ms/step - loss: 0.2277 - accuracy: 0.9205 - val_loss: 0.9684 - val_accuracy: 0.7732\n",
            "Epoch 10/50\n",
            "183/183 [==============================] - 4s 21ms/step - loss: 0.1898 - accuracy: 0.9406 - val_loss: 1.0975 - val_accuracy: 0.7432\n",
            "Epoch 11/50\n",
            "183/183 [==============================] - 3s 17ms/step - loss: 0.1944 - accuracy: 0.9365 - val_loss: 1.1398 - val_accuracy: 0.7568\n",
            "Epoch 12/50\n",
            "183/183 [==============================] - 5s 26ms/step - loss: 0.0838 - accuracy: 0.9751 - val_loss: 1.2639 - val_accuracy: 0.7541\n",
            "Epoch 13/50\n",
            "183/183 [==============================] - 5s 26ms/step - loss: 0.1375 - accuracy: 0.9549 - val_loss: 1.5183 - val_accuracy: 0.7650\n",
            "Epoch 14/50\n",
            "183/183 [==============================] - 4s 21ms/step - loss: 0.1199 - accuracy: 0.9604 - val_loss: 1.3134 - val_accuracy: 0.7650\n",
            "Epoch 15/50\n",
            "183/183 [==============================] - 5s 25ms/step - loss: 0.1011 - accuracy: 0.9700 - val_loss: 1.1632 - val_accuracy: 0.7514\n",
            "Epoch 16/50\n",
            "183/183 [==============================] - 5s 25ms/step - loss: 0.0783 - accuracy: 0.9778 - val_loss: 1.1048 - val_accuracy: 0.7650\n",
            "Epoch 17/50\n",
            "183/183 [==============================] - 4s 21ms/step - loss: 0.0814 - accuracy: 0.9741 - val_loss: 1.3039 - val_accuracy: 0.7596\n",
            "Epoch 18/50\n",
            "183/183 [==============================] - 5s 26ms/step - loss: 0.0805 - accuracy: 0.9747 - val_loss: 1.3064 - val_accuracy: 0.7568\n",
            "Epoch 19/50\n",
            "183/183 [==============================] - 5s 26ms/step - loss: 0.1067 - accuracy: 0.9720 - val_loss: 1.3096 - val_accuracy: 0.7404\n",
            "Epoch 20/50\n",
            "183/183 [==============================] - 3s 19ms/step - loss: 0.0910 - accuracy: 0.9713 - val_loss: 1.2967 - val_accuracy: 0.7568\n",
            "Epoch 21/50\n",
            "183/183 [==============================] - 5s 28ms/step - loss: 0.0766 - accuracy: 0.9751 - val_loss: 1.3523 - val_accuracy: 0.7787\n",
            "Epoch 22/50\n",
            "183/183 [==============================] - 6s 30ms/step - loss: 0.0749 - accuracy: 0.9792 - val_loss: 1.3134 - val_accuracy: 0.7541\n",
            "Epoch 23/50\n",
            "183/183 [==============================] - 4s 20ms/step - loss: 0.0608 - accuracy: 0.9819 - val_loss: 1.5739 - val_accuracy: 0.7623\n",
            "Epoch 24/50\n",
            "183/183 [==============================] - 3s 18ms/step - loss: 0.0645 - accuracy: 0.9812 - val_loss: 1.5363 - val_accuracy: 0.7650\n",
            "Epoch 25/50\n",
            "183/183 [==============================] - 3s 18ms/step - loss: 0.1031 - accuracy: 0.9672 - val_loss: 1.3701 - val_accuracy: 0.7158\n",
            "Epoch 26/50\n",
            "183/183 [==============================] - 3s 16ms/step - loss: 0.0649 - accuracy: 0.9809 - val_loss: 1.6328 - val_accuracy: 0.7486\n",
            "Epoch 27/50\n",
            "183/183 [==============================] - 3s 16ms/step - loss: 0.0432 - accuracy: 0.9857 - val_loss: 1.4585 - val_accuracy: 0.7514\n",
            "Epoch 28/50\n",
            "183/183 [==============================] - 3s 17ms/step - loss: 0.0670 - accuracy: 0.9809 - val_loss: 1.5798 - val_accuracy: 0.7732\n",
            "Epoch 29/50\n",
            "183/183 [==============================] - 4s 20ms/step - loss: 0.0882 - accuracy: 0.9710 - val_loss: 1.6614 - val_accuracy: 0.7623\n",
            "Epoch 30/50\n",
            "183/183 [==============================] - 3s 18ms/step - loss: 0.1205 - accuracy: 0.9683 - val_loss: 1.3447 - val_accuracy: 0.7432\n",
            "Epoch 31/50\n",
            "183/183 [==============================] - 3s 17ms/step - loss: 0.0591 - accuracy: 0.9802 - val_loss: 2.2908 - val_accuracy: 0.6858\n",
            "Epoch 32/50\n",
            "183/183 [==============================] - 3s 16ms/step - loss: 0.1596 - accuracy: 0.9549 - val_loss: 1.6320 - val_accuracy: 0.7486\n",
            "Epoch 33/50\n",
            "183/183 [==============================] - 3s 17ms/step - loss: 0.0742 - accuracy: 0.9795 - val_loss: 1.3757 - val_accuracy: 0.7842\n",
            "Epoch 34/50\n",
            "183/183 [==============================] - 3s 18ms/step - loss: 0.0405 - accuracy: 0.9874 - val_loss: 1.3218 - val_accuracy: 0.7869\n",
            "Epoch 35/50\n",
            "183/183 [==============================] - 3s 16ms/step - loss: 0.0360 - accuracy: 0.9874 - val_loss: 1.6557 - val_accuracy: 0.7842\n",
            "Epoch 36/50\n",
            "183/183 [==============================] - 3s 16ms/step - loss: 0.0364 - accuracy: 0.9898 - val_loss: 1.1993 - val_accuracy: 0.7923\n",
            "Epoch 37/50\n",
            "183/183 [==============================] - 3s 16ms/step - loss: 0.0386 - accuracy: 0.9857 - val_loss: 1.4819 - val_accuracy: 0.7486\n",
            "Epoch 38/50\n",
            "183/183 [==============================] - 4s 19ms/step - loss: 0.0680 - accuracy: 0.9782 - val_loss: 1.2299 - val_accuracy: 0.7923\n",
            "Epoch 39/50\n",
            "183/183 [==============================] - 3s 16ms/step - loss: 0.0384 - accuracy: 0.9863 - val_loss: 1.3415 - val_accuracy: 0.7705\n",
            "Epoch 40/50\n",
            "183/183 [==============================] - 3s 15ms/step - loss: 0.0307 - accuracy: 0.9870 - val_loss: 1.2963 - val_accuracy: 0.7678\n",
            "Epoch 41/50\n",
            "183/183 [==============================] - 3s 18ms/step - loss: 0.0234 - accuracy: 0.9904 - val_loss: 1.5736 - val_accuracy: 0.7732\n",
            "Epoch 42/50\n",
            "183/183 [==============================] - 3s 18ms/step - loss: 0.0290 - accuracy: 0.9874 - val_loss: 1.5358 - val_accuracy: 0.7623\n",
            "Epoch 43/50\n",
            "183/183 [==============================] - 3s 16ms/step - loss: 0.0302 - accuracy: 0.9877 - val_loss: 1.3692 - val_accuracy: 0.7650\n",
            "Epoch 44/50\n",
            "183/183 [==============================] - 3s 16ms/step - loss: 0.0597 - accuracy: 0.9809 - val_loss: 1.5062 - val_accuracy: 0.7678\n",
            "Epoch 45/50\n",
            "183/183 [==============================] - 3s 16ms/step - loss: 0.2352 - accuracy: 0.9294 - val_loss: 1.2205 - val_accuracy: 0.7705\n",
            "Epoch 46/50\n",
            "183/183 [==============================] - 3s 17ms/step - loss: 0.0770 - accuracy: 0.9741 - val_loss: 1.4091 - val_accuracy: 0.7541\n",
            "Epoch 47/50\n",
            "183/183 [==============================] - 3s 17ms/step - loss: 0.0401 - accuracy: 0.9843 - val_loss: 1.5108 - val_accuracy: 0.7787\n",
            "Epoch 48/50\n",
            "183/183 [==============================] - 3s 16ms/step - loss: 0.0283 - accuracy: 0.9877 - val_loss: 1.2853 - val_accuracy: 0.7623\n",
            "Epoch 49/50\n",
            "183/183 [==============================] - 3s 16ms/step - loss: 0.0182 - accuracy: 0.9908 - val_loss: 1.5514 - val_accuracy: 0.7760\n",
            "Epoch 50/50\n",
            "183/183 [==============================] - 3s 15ms/step - loss: 0.0547 - accuracy: 0.9840 - val_loss: 1.4263 - val_accuracy: 0.7568\n"
          ]
        }
      ]
    },
    {
      "cell_type": "code",
      "source": [
        "model.evaluate([x_valid_densenet_features, x_valid_mobilenet_features], y_valid)"
      ],
      "metadata": {
        "colab": {
          "base_uri": "https://localhost:8080/"
        },
        "id": "XWTJVKhjM6g1",
        "outputId": "287da868-c5e9-4b4b-b0d2-41cb96701f09"
      },
      "execution_count": null,
      "outputs": [
        {
          "output_type": "stream",
          "name": "stdout",
          "text": [
            "12/12 [==============================] - 0s 15ms/step - loss: 1.5661 - accuracy: 0.7213\n"
          ]
        },
        {
          "output_type": "execute_result",
          "data": {
            "text/plain": [
              "[1.5661407709121704, 0.7213114500045776]"
            ]
          },
          "metadata": {},
          "execution_count": 6
        }
      ]
    },
    {
      "cell_type": "code",
      "source": [
        "import pandas as pd\n",
        "import seaborn as sns\n",
        "sns.set()\n",
        "# Create a list of names and scores\n",
        "names = [ 'InceptionV3 + MLP [10]', 'MobileNet + DNN [10]',\n",
        "         'VGG & Xception + DNN [5]', 'Composite Gated Attention DNN [3]','Modified xception [10]','VGG19 & RESNET50 + DNN(proposed)']\n",
        "scores = [78.72, 79.01, 80.96, 82.54,83.09,83.33]\n",
        "\n",
        "# Create a DataFrame using a dictionary\n",
        "df = pd.DataFrame({\n",
        "    'models': names,\n",
        "    'accuracy': scores\n",
        "})\n",
        "\n",
        "# Print the DataFrame\n",
        "\n",
        "import pandas as pd\n",
        "import matplotlib.pyplot as plt\n",
        "\n",
        "\n",
        "\n",
        "# Plotting\n",
        "plt.figure(figsize=(10, 6))  # Set the figure size (optional)\n",
        "bars=plt.bar(df['models'], df['accuracy'], color='skyblue',label='accuracy')  # Create a bar plot\n",
        "for bar, value in zip(bars, df['accuracy']):\n",
        "    plt.text(bar.get_x() + bar.get_width() / 2, bar.get_height() + 0.5, f'{value:.2f}', ha='center', va='bottom')\n",
        "plt.xlabel('Model')  # Label on X-axis\n",
        "plt.ylabel('Accuracy')  # Label on Y-axis\n",
        "plt.plot(df['models'], df['accuracy'], marker='o', color='black', label='Accuracy Trend')\n",
        "plt.xticks(rotation=60)\n",
        "plt.xticks(fontsize=10)\n",
        "plt.legend()  # Show the legend\n",
        "plt.ylim(70, 90)  # Limit for Y-axis (optional)\n",
        "plt.show()\n"
      ],
      "metadata": {
        "colab": {
          "base_uri": "https://localhost:8080/",
          "height": 780
        },
        "id": "ddoHxt9-OX9f",
        "outputId": "14fb1808-a824-49f6-b057-5e188f2027d3"
      },
      "execution_count": null,
      "outputs": [
        {
          "output_type": "display_data",
          "data": {
            "text/plain": [
              "<Figure size 1000x600 with 1 Axes>"
            ],
            "image/png": "[encoded data removed]"
          },
          "metadata": {}
        }
      ]
    },
    {
      "cell_type": "code",
      "source": [
        "import pandas as pd\n",
        "import matplotlib.pyplot as plt\n",
        "\n",
        "# Create a DataFrame\n",
        "names = ['NASNet + t-SNE + SVM [18]', 'InceptionV3 + MLP [19]', 'MobileNet [19]',\n",
        "         'Blended VGG & Xception + DNN [20]', 'Composite Gated Attention DNN [21]',\n",
        "         'Modified Xception [19]', 'VGG19 & RESNET50 + DNN (proposed)']\n",
        "scores = [77.90, 78.72, 79.01, 80.96, 82.54, 83.09, 83.33]\n",
        "df = pd.DataFrame({'models': names, 'accuracy': scores})\n",
        "\n",
        "# Plotting\n",
        "plt.figure(figsize=(10, 6))  # Set the figure size (optional)\n",
        "\n",
        "# Bar plot\n",
        "plt.bar(df['models'], df['accuracy'], color='skyblue', label='Accuracy', width=0.5)\n",
        "\n",
        "# Line plot\n",
        "plt.plot(df['models'], df['accuracy'], marker='o', color='red', label='Accuracy Trend')\n",
        "\n",
        "# Customize the plot\n",
        "\n",
        "plt.xlabel('Model')\n",
        "plt.ylabel('Accuracy')\n",
        "plt.xticks(rotation=90, fontsize=10)\n",
        "plt.title('Comparison of Proposed Models with Existing Models')\n",
        "plt.ylim(70, 90)  # Limit for Y-axis (optional)\n",
        "plt.legend()  # Show the legend\n",
        "plt.grid(axis='y')  # Show grid lines on the y-axis\n",
        "plt.tight_layout()  # Adjust layout to prevent clipping of labels\n",
        "\n",
        "plt.show()\n"
      ],
      "metadata": {
        "colab": {
          "base_uri": "https://localhost:8080/",
          "height": 601
        },
        "id": "CyQiDMKdmO_e",
        "outputId": "755f1938-c7e4-4433-98b0-85e5fbf9a9f4"
      },
      "execution_count": null,
      "outputs": [
        {
          "output_type": "display_data",
          "data": {
            "text/plain": [
              "<Figure size 1000x600 with 1 Axes>"
            ],
            "image/png": "[encoded data removed]"
          },
          "metadata": {}
        }
      ]
    },
    {
      "cell_type": "code",
      "source": [
        "from tensorflow.keras.layers import Input, Concatenate, Dense\n",
        "from tensorflow.keras.models import Model\n",
        "BATCH_SIZE=16\n",
        "# Define input layers for VGG19 and ResNet50 features\n",
        "input_vgg19 = Input(shape=(x_train_vgg19_features.shape[1],))\n",
        "input_resnet50 = Input(shape=(x_train_resnet50_features.shape[1],))\n",
        "\n",
        "# Define the neural network layers\n",
        "dense_1 = Dense(512, activation='relu')(input_vgg19)\n",
        "cross_pooled = Concatenate()([dense_1, input_resnet50])\n",
        "dense_2 = Dense(128, activation='relu')(cross_pooled)\n",
        "dense_3 = Dense(64, activation='relu')(dense_2)\n",
        "dense_4 = Dense(32, activation='relu')(dense_3)\n",
        "output = Dense(5, activation='softmax')(dense_4)\n",
        "\n",
        "# Create the model\n",
        "model = Model(inputs=[input_vgg19, input_resnet50], outputs=output)\n",
        "model.compile(loss='sparse_categorical_crossentropy', optimizer='adam', metrics=['accuracy'])\n",
        "\n",
        "# Train the model\n",
        "history = model.fit(\n",
        "    [x_train_vgg19_features, x_train_resnet50_features], y_train,\n",
        "    steps_per_epoch=x_train_vgg19_features.shape[0] / BATCH_SIZE,batch_size=BATCH_SIZE,\n",
        "    epochs=50,\n",
        "    validation_data=([x_val_vgg19_features, x_val_resnet50_features], y_val)\n",
        ")\n"
      ],
      "metadata": {
        "id": "KATNLxhKnLmX",
        "colab": {
          "base_uri": "https://localhost:8080/"
        },
        "outputId": "c9a4f5f1-f75e-4b57-edfb-74b7db847582"
      },
      "execution_count": null,
      "outputs": [
        {
          "output_type": "stream",
          "name": "stdout",
          "text": [
            "Epoch 1/50\n",
            "183/183 [==============================] - 6s 17ms/step - loss: 1.8895 - accuracy: 0.6853 - val_loss: 1.2848 - val_accuracy: 0.7377\n",
            "Epoch 2/50\n",
            "183/183 [==============================] - 3s 16ms/step - loss: 0.5206 - accuracy: 0.8358 - val_loss: 0.8778 - val_accuracy: 0.8005\n",
            "Epoch 3/50\n",
            "183/183 [==============================] - 2s 13ms/step - loss: 0.3538 - accuracy: 0.8775 - val_loss: 0.6443 - val_accuracy: 0.8115\n",
            "Epoch 4/50\n",
            "183/183 [==============================] - 2s 13ms/step - loss: 0.2215 - accuracy: 0.9229 - val_loss: 0.8629 - val_accuracy: 0.7869\n",
            "Epoch 5/50\n",
            "183/183 [==============================] - 2s 13ms/step - loss: 0.2962 - accuracy: 0.9119 - val_loss: 0.8648 - val_accuracy: 0.7732\n",
            "Epoch 6/50\n",
            "183/183 [==============================] - 2s 14ms/step - loss: 0.2051 - accuracy: 0.9386 - val_loss: 0.8607 - val_accuracy: 0.7596\n",
            "Epoch 7/50\n",
            "183/183 [==============================] - 3s 17ms/step - loss: 0.1370 - accuracy: 0.9618 - val_loss: 1.3280 - val_accuracy: 0.7596\n",
            "Epoch 8/50\n",
            "183/183 [==============================] - 2s 14ms/step - loss: 0.2613 - accuracy: 0.9181 - val_loss: 0.8901 - val_accuracy: 0.7705\n",
            "Epoch 9/50\n",
            "183/183 [==============================] - 2s 13ms/step - loss: 0.1072 - accuracy: 0.9696 - val_loss: 0.9817 - val_accuracy: 0.8279\n",
            "Epoch 10/50\n",
            "183/183 [==============================] - 2s 13ms/step - loss: 0.1052 - accuracy: 0.9710 - val_loss: 1.0731 - val_accuracy: 0.8033\n",
            "Epoch 11/50\n",
            "183/183 [==============================] - 2s 13ms/step - loss: 0.0850 - accuracy: 0.9785 - val_loss: 0.8450 - val_accuracy: 0.8279\n",
            "Epoch 12/50\n",
            "183/183 [==============================] - 3s 17ms/step - loss: 0.0758 - accuracy: 0.9816 - val_loss: 0.8756 - val_accuracy: 0.8142\n",
            "Epoch 13/50\n",
            "183/183 [==============================] - 3s 14ms/step - loss: 0.0894 - accuracy: 0.9720 - val_loss: 0.9673 - val_accuracy: 0.8033\n",
            "Epoch 14/50\n",
            "183/183 [==============================] - 3s 15ms/step - loss: 0.1673 - accuracy: 0.9614 - val_loss: 1.3472 - val_accuracy: 0.7814\n",
            "Epoch 15/50\n",
            "183/183 [==============================] - 3s 16ms/step - loss: 0.1337 - accuracy: 0.9631 - val_loss: 0.8496 - val_accuracy: 0.8115\n",
            "Epoch 16/50\n",
            "183/183 [==============================] - 3s 14ms/step - loss: 0.0750 - accuracy: 0.9758 - val_loss: 1.0835 - val_accuracy: 0.7404\n",
            "Epoch 17/50\n",
            "183/183 [==============================] - 3s 16ms/step - loss: 0.1478 - accuracy: 0.9567 - val_loss: 1.1684 - val_accuracy: 0.7896\n",
            "Epoch 18/50\n",
            "183/183 [==============================] - 2s 14ms/step - loss: 0.0702 - accuracy: 0.9799 - val_loss: 1.0624 - val_accuracy: 0.8005\n",
            "Epoch 19/50\n",
            "183/183 [==============================] - 2s 14ms/step - loss: 0.1010 - accuracy: 0.9741 - val_loss: 1.6001 - val_accuracy: 0.7568\n",
            "Epoch 20/50\n",
            "183/183 [==============================] - 2s 13ms/step - loss: 0.0769 - accuracy: 0.9782 - val_loss: 1.0563 - val_accuracy: 0.8060\n",
            "Epoch 21/50\n",
            "183/183 [==============================] - 2s 14ms/step - loss: 0.0996 - accuracy: 0.9727 - val_loss: 1.0096 - val_accuracy: 0.7923\n",
            "Epoch 22/50\n",
            "183/183 [==============================] - 3s 18ms/step - loss: 0.0592 - accuracy: 0.9826 - val_loss: 1.0543 - val_accuracy: 0.8033\n",
            "Epoch 23/50\n",
            "183/183 [==============================] - 2s 13ms/step - loss: 0.0567 - accuracy: 0.9826 - val_loss: 0.9944 - val_accuracy: 0.8060\n",
            "Epoch 24/50\n",
            "183/183 [==============================] - 2s 13ms/step - loss: 0.0497 - accuracy: 0.9853 - val_loss: 1.1213 - val_accuracy: 0.7951\n",
            "Epoch 25/50\n",
            "183/183 [==============================] - 3s 17ms/step - loss: 0.0465 - accuracy: 0.9853 - val_loss: 1.4042 - val_accuracy: 0.7732\n",
            "Epoch 26/50\n",
            "183/183 [==============================] - 4s 24ms/step - loss: 0.0647 - accuracy: 0.9836 - val_loss: 0.9605 - val_accuracy: 0.7951\n",
            "Epoch 27/50\n",
            "183/183 [==============================] - 4s 20ms/step - loss: 0.0860 - accuracy: 0.9741 - val_loss: 1.0625 - val_accuracy: 0.8005\n",
            "Epoch 28/50\n",
            "183/183 [==============================] - 2s 14ms/step - loss: 0.0802 - accuracy: 0.9775 - val_loss: 1.0875 - val_accuracy: 0.7541\n",
            "Epoch 29/50\n",
            "183/183 [==============================] - 2s 13ms/step - loss: 0.1381 - accuracy: 0.9608 - val_loss: 0.9482 - val_accuracy: 0.8087\n",
            "Epoch 30/50\n",
            "183/183 [==============================] - 2s 13ms/step - loss: 0.0588 - accuracy: 0.9823 - val_loss: 1.0974 - val_accuracy: 0.7923\n",
            "Epoch 31/50\n",
            "183/183 [==============================] - 3s 17ms/step - loss: 0.0721 - accuracy: 0.9812 - val_loss: 1.1271 - val_accuracy: 0.8169\n",
            "Epoch 32/50\n",
            "183/183 [==============================] - 3s 14ms/step - loss: 0.0613 - accuracy: 0.9823 - val_loss: 1.3614 - val_accuracy: 0.7760\n",
            "Epoch 33/50\n",
            "183/183 [==============================] - 2s 14ms/step - loss: 0.0430 - accuracy: 0.9867 - val_loss: 1.0084 - val_accuracy: 0.8169\n",
            "Epoch 34/50\n",
            "183/183 [==============================] - 2s 13ms/step - loss: 0.0317 - accuracy: 0.9881 - val_loss: 1.6874 - val_accuracy: 0.8033\n",
            "Epoch 35/50\n",
            "183/183 [==============================] - 2s 13ms/step - loss: 0.0493 - accuracy: 0.9853 - val_loss: 1.2233 - val_accuracy: 0.7541\n",
            "Epoch 36/50\n",
            "183/183 [==============================] - 3s 16ms/step - loss: 0.0627 - accuracy: 0.9792 - val_loss: 1.1138 - val_accuracy: 0.8197\n",
            "Epoch 37/50\n",
            "183/183 [==============================] - 3s 14ms/step - loss: 0.0944 - accuracy: 0.9734 - val_loss: 1.2254 - val_accuracy: 0.7842\n",
            "Epoch 38/50\n",
            "183/183 [==============================] - 2s 13ms/step - loss: 0.0476 - accuracy: 0.9846 - val_loss: 1.4183 - val_accuracy: 0.8142\n",
            "Epoch 39/50\n",
            "183/183 [==============================] - 2s 13ms/step - loss: 0.0523 - accuracy: 0.9836 - val_loss: 1.7925 - val_accuracy: 0.8005\n",
            "Epoch 40/50\n",
            "183/183 [==============================] - 2s 13ms/step - loss: 0.0431 - accuracy: 0.9877 - val_loss: 1.1018 - val_accuracy: 0.8197\n",
            "Epoch 41/50\n",
            "183/183 [==============================] - 3s 16ms/step - loss: 0.0401 - accuracy: 0.9857 - val_loss: 1.2476 - val_accuracy: 0.8005\n",
            "Epoch 42/50\n",
            "183/183 [==============================] - 3s 15ms/step - loss: 0.0451 - accuracy: 0.9860 - val_loss: 0.9001 - val_accuracy: 0.8115\n",
            "Epoch 43/50\n",
            "183/183 [==============================] - 2s 13ms/step - loss: 0.0342 - accuracy: 0.9870 - val_loss: 1.0939 - val_accuracy: 0.7978\n",
            "Epoch 44/50\n",
            "183/183 [==============================] - 2s 13ms/step - loss: 0.0295 - accuracy: 0.9863 - val_loss: 1.7358 - val_accuracy: 0.7951\n",
            "Epoch 45/50\n",
            "183/183 [==============================] - 2s 13ms/step - loss: 0.0501 - accuracy: 0.9840 - val_loss: 1.2440 - val_accuracy: 0.7869\n",
            "Epoch 46/50\n",
            "183/183 [==============================] - 3s 14ms/step - loss: 0.0668 - accuracy: 0.9761 - val_loss: 1.4731 - val_accuracy: 0.8060\n",
            "Epoch 47/50\n",
            "183/183 [==============================] - 3s 16ms/step - loss: 0.0585 - accuracy: 0.9840 - val_loss: 1.2969 - val_accuracy: 0.8005\n",
            "Epoch 48/50\n",
            "183/183 [==============================] - 2s 13ms/step - loss: 0.0442 - accuracy: 0.9823 - val_loss: 1.6004 - val_accuracy: 0.8033\n",
            "Epoch 49/50\n",
            "183/183 [==============================] - 2s 13ms/step - loss: 0.0747 - accuracy: 0.9751 - val_loss: 1.0621 - val_accuracy: 0.8087\n",
            "Epoch 50/50\n",
            "183/183 [==============================] - 3s 16ms/step - loss: 0.0357 - accuracy: 0.9867 - val_loss: 1.0012 - val_accuracy: 0.8142\n"
          ]
        }
      ]
    },
    {
      "cell_type": "code",
      "source": [
        "(model.evaluate([x_valid_vgg19_features, x_valid_resnet50_features], y_valid)"
      ],
      "metadata": {
        "colab": {
          "base_uri": "https://localhost:8080/"
        },
        "id": "tJ3_5s73hDsS",
        "outputId": "daf98d0c-9f7c-48ce-e4a2-1f92e1453033"
      },
      "execution_count": null,
      "outputs": [
        {
          "output_type": "stream",
          "name": "stdout",
          "text": [
            "12/12 [==============================] - 0s 13ms/step - loss: 0.9455 - accuracy: 0.8306\n"
          ]
        },
        {
          "output_type": "execute_result",
          "data": {
            "text/plain": [
              "[0.9454805850982666, 0.8306010961532593]"
            ]
          },
          "metadata": {},
          "execution_count": 6
        }
      ]
    },
    {
      "cell_type": "code",
      "source": [
        "from tensorflow.keras.layers import Input, Concatenate, Dense\n",
        "from tensorflow.keras.models import Model\n",
        "import numpy as np\n",
        "BATCH_SIZE=16\n",
        "# Define input layers for VGG19 and ResNet50 features\n",
        "\n",
        "x_train_combined = np.hstack((x_train_vgg19_features, x_train_resnet50_features))# Define the neural network layers\n",
        "x_test_combined = np.hstack((x_val_vgg19_features, x_val_resnet50_features))\n",
        "input_combine = Input(shape=(x_train_combined.shape[1],))\n",
        "dense_1 = Dense(512, activation='relu')(input_combine)\n",
        "dense_2 = Dense(128, activation='relu')(dense_1)\n",
        "dense_3 = Dense(64, activation='relu')(dense_2)\n",
        "dense_4 = Dense(32, activation='relu')(dense_3)\n",
        "output = Dense(5, activation='softmax')(dense_4)\n",
        "\n",
        "# Create the model\n",
        "model = Model(inputs=[input_combine], outputs=output)\n",
        "model.compile(loss='sparse_categorical_crossentropy', optimizer='adam', metrics=['accuracy'])\n",
        "\n",
        "# Train the model\n",
        "history = model.fit(\n",
        "    x_train_combined, y_train,\n",
        "    steps_per_epoch=x_train_combined.shape[0] / BATCH_SIZE,batch_size=BATCH_SIZE,\n",
        "    epochs=50,\n",
        "    validation_data=(x_test_combined, y_val)\n",
        ")\n"
      ],
      "metadata": {
        "colab": {
          "base_uri": "https://localhost:8080/"
        },
        "id": "GMHhp249ho53",
        "outputId": "ff359bd0-5588-4168-a545-e98fa856b1bd"
      },
      "execution_count": null,
      "outputs": [
        {
          "output_type": "stream",
          "name": "stdout",
          "text": [
            "Epoch 1/50\n",
            "183/183 [==============================] - 7s 29ms/step - loss: 3.4236 - accuracy: 0.6689 - val_loss: 0.9018 - val_accuracy: 0.7514\n",
            "Epoch 2/50\n",
            "183/183 [==============================] - 5s 25ms/step - loss: 0.7516 - accuracy: 0.7904 - val_loss: 0.8846 - val_accuracy: 0.7322\n",
            "Epoch 3/50\n",
            "183/183 [==============================] - 6s 31ms/step - loss: 0.4112 - accuracy: 0.8638 - val_loss: 0.9150 - val_accuracy: 0.7650\n",
            "Epoch 4/50\n",
            "183/183 [==============================] - 6s 34ms/step - loss: 0.2380 - accuracy: 0.9225 - val_loss: 0.8600 - val_accuracy: 0.7814\n",
            "Epoch 5/50\n",
            "183/183 [==============================] - 6s 33ms/step - loss: 0.1718 - accuracy: 0.9454 - val_loss: 0.8198 - val_accuracy: 0.8115\n",
            "Epoch 6/50\n",
            "183/183 [==============================] - 6s 34ms/step - loss: 0.1639 - accuracy: 0.9481 - val_loss: 1.0003 - val_accuracy: 0.7678\n",
            "Epoch 7/50\n",
            "183/183 [==============================] - 5s 29ms/step - loss: 0.1493 - accuracy: 0.9549 - val_loss: 1.2027 - val_accuracy: 0.7978\n",
            "Epoch 8/50\n",
            "183/183 [==============================] - 5s 29ms/step - loss: 0.1129 - accuracy: 0.9696 - val_loss: 1.0858 - val_accuracy: 0.7514\n",
            "Epoch 9/50\n",
            "183/183 [==============================] - 6s 33ms/step - loss: 0.1314 - accuracy: 0.9560 - val_loss: 1.0765 - val_accuracy: 0.8005\n",
            "Epoch 10/50\n",
            "183/183 [==============================] - 5s 28ms/step - loss: 0.1143 - accuracy: 0.9672 - val_loss: 1.3307 - val_accuracy: 0.7978\n",
            "Epoch 11/50\n",
            "183/183 [==============================] - 6s 32ms/step - loss: 0.1390 - accuracy: 0.9621 - val_loss: 1.5082 - val_accuracy: 0.8005\n",
            "Epoch 12/50\n",
            "183/183 [==============================] - 5s 30ms/step - loss: 0.2809 - accuracy: 0.9283 - val_loss: 1.2904 - val_accuracy: 0.7486\n",
            "Epoch 13/50\n",
            "183/183 [==============================] - 5s 29ms/step - loss: 0.2566 - accuracy: 0.9280 - val_loss: 1.1277 - val_accuracy: 0.8197\n",
            "Epoch 14/50\n",
            "183/183 [==============================] - 6s 31ms/step - loss: 0.1603 - accuracy: 0.9556 - val_loss: 1.1342 - val_accuracy: 0.7869\n",
            "Epoch 15/50\n",
            "183/183 [==============================] - 5s 28ms/step - loss: 0.1458 - accuracy: 0.9570 - val_loss: 1.0195 - val_accuracy: 0.8142\n",
            "Epoch 16/50\n",
            "183/183 [==============================] - 6s 30ms/step - loss: 0.0751 - accuracy: 0.9823 - val_loss: 0.9786 - val_accuracy: 0.8060\n",
            "Epoch 17/50\n",
            "183/183 [==============================] - 5s 29ms/step - loss: 0.0633 - accuracy: 0.9812 - val_loss: 1.1038 - val_accuracy: 0.8060\n",
            "Epoch 18/50\n",
            "183/183 [==============================] - 5s 29ms/step - loss: 0.0701 - accuracy: 0.9846 - val_loss: 0.9165 - val_accuracy: 0.8005\n",
            "Epoch 19/50\n",
            "183/183 [==============================] - 6s 33ms/step - loss: 0.0690 - accuracy: 0.9812 - val_loss: 0.9764 - val_accuracy: 0.8142\n",
            "Epoch 20/50\n",
            "183/183 [==============================] - 5s 29ms/step - loss: 0.0511 - accuracy: 0.9860 - val_loss: 1.0393 - val_accuracy: 0.8033\n",
            "Epoch 21/50\n",
            "183/183 [==============================] - 6s 35ms/step - loss: 0.1735 - accuracy: 0.9597 - val_loss: 1.3062 - val_accuracy: 0.8087\n",
            "Epoch 22/50\n",
            "183/183 [==============================] - 6s 33ms/step - loss: 0.1251 - accuracy: 0.9648 - val_loss: 1.3106 - val_accuracy: 0.7814\n",
            "Epoch 23/50\n",
            "183/183 [==============================] - 5s 30ms/step - loss: 0.0701 - accuracy: 0.9792 - val_loss: 1.0817 - val_accuracy: 0.7787\n",
            "Epoch 24/50\n",
            "183/183 [==============================] - 6s 31ms/step - loss: 0.0572 - accuracy: 0.9840 - val_loss: 1.2278 - val_accuracy: 0.7896\n",
            "Epoch 25/50\n",
            "183/183 [==============================] - 5s 29ms/step - loss: 0.1298 - accuracy: 0.9621 - val_loss: 1.4866 - val_accuracy: 0.8115\n",
            "Epoch 26/50\n",
            "183/183 [==============================] - 5s 30ms/step - loss: 0.1497 - accuracy: 0.9621 - val_loss: 1.2323 - val_accuracy: 0.7678\n",
            "Epoch 27/50\n",
            "183/183 [==============================] - 6s 32ms/step - loss: 0.1098 - accuracy: 0.9679 - val_loss: 1.8325 - val_accuracy: 0.7896\n",
            "Epoch 28/50\n",
            "183/183 [==============================] - 5s 25ms/step - loss: 0.0725 - accuracy: 0.9799 - val_loss: 1.3174 - val_accuracy: 0.7978\n",
            "Epoch 29/50\n",
            "183/183 [==============================] - 6s 31ms/step - loss: 0.0474 - accuracy: 0.9850 - val_loss: 1.1525 - val_accuracy: 0.7923\n",
            "Epoch 30/50\n",
            "183/183 [==============================] - 6s 32ms/step - loss: 0.0427 - accuracy: 0.9840 - val_loss: 1.4536 - val_accuracy: 0.7650\n",
            "Epoch 31/50\n",
            "183/183 [==============================] - 6s 32ms/step - loss: 0.0470 - accuracy: 0.9829 - val_loss: 1.1418 - val_accuracy: 0.7486\n",
            "Epoch 32/50\n",
            "183/183 [==============================] - 6s 30ms/step - loss: 0.1136 - accuracy: 0.9659 - val_loss: 1.3473 - val_accuracy: 0.8060\n",
            "Epoch 33/50\n",
            "183/183 [==============================] - 4s 24ms/step - loss: 0.0469 - accuracy: 0.9846 - val_loss: 1.1275 - val_accuracy: 0.8115\n",
            "Epoch 34/50\n",
            "183/183 [==============================] - 5s 26ms/step - loss: 0.0473 - accuracy: 0.9826 - val_loss: 1.0553 - val_accuracy: 0.7923\n",
            "Epoch 35/50\n",
            "183/183 [==============================] - 4s 24ms/step - loss: 0.0390 - accuracy: 0.9898 - val_loss: 1.1007 - val_accuracy: 0.8005\n",
            "Epoch 36/50\n",
            "183/183 [==============================] - 4s 24ms/step - loss: 0.0593 - accuracy: 0.9782 - val_loss: 1.1519 - val_accuracy: 0.8197\n",
            "Epoch 37/50\n",
            "183/183 [==============================] - 5s 26ms/step - loss: 0.0474 - accuracy: 0.9881 - val_loss: 1.4150 - val_accuracy: 0.8033\n",
            "Epoch 38/50\n",
            "183/183 [==============================] - 4s 24ms/step - loss: 0.0478 - accuracy: 0.9836 - val_loss: 1.5544 - val_accuracy: 0.7923\n",
            "Epoch 39/50\n",
            "183/183 [==============================] - 4s 23ms/step - loss: 0.3245 - accuracy: 0.9321 - val_loss: 1.1467 - val_accuracy: 0.7596\n",
            "Epoch 40/50\n",
            "183/183 [==============================] - 5s 26ms/step - loss: 0.1308 - accuracy: 0.9645 - val_loss: 1.0070 - val_accuracy: 0.8005\n",
            "Epoch 41/50\n",
            "183/183 [==============================] - 4s 24ms/step - loss: 0.0447 - accuracy: 0.9860 - val_loss: 1.4633 - val_accuracy: 0.8005\n",
            "Epoch 42/50\n",
            "183/183 [==============================] - 4s 24ms/step - loss: 0.0622 - accuracy: 0.9826 - val_loss: 1.0361 - val_accuracy: 0.8333\n",
            "Epoch 43/50\n",
            "183/183 [==============================] - 5s 27ms/step - loss: 0.0382 - accuracy: 0.9840 - val_loss: 0.9277 - val_accuracy: 0.8197\n",
            "Epoch 44/50\n",
            "183/183 [==============================] - 4s 24ms/step - loss: 0.0366 - accuracy: 0.9860 - val_loss: 0.9508 - val_accuracy: 0.8169\n",
            "Epoch 45/50\n",
            "183/183 [==============================] - 4s 24ms/step - loss: 0.0411 - accuracy: 0.9860 - val_loss: 1.5888 - val_accuracy: 0.8005\n",
            "Epoch 46/50\n",
            "183/183 [==============================] - 5s 26ms/step - loss: 0.1312 - accuracy: 0.9638 - val_loss: 0.9651 - val_accuracy: 0.8169\n",
            "Epoch 47/50\n",
            "183/183 [==============================] - 4s 24ms/step - loss: 0.0555 - accuracy: 0.9812 - val_loss: 1.0953 - val_accuracy: 0.8224\n",
            "Epoch 48/50\n",
            "183/183 [==============================] - 4s 24ms/step - loss: 0.0340 - accuracy: 0.9860 - val_loss: 1.2172 - val_accuracy: 0.8087\n",
            "Epoch 49/50\n",
            "183/183 [==============================] - 5s 26ms/step - loss: 0.0478 - accuracy: 0.9819 - val_loss: 1.2662 - val_accuracy: 0.8060\n",
            "Epoch 50/50\n",
            "183/183 [==============================] - 4s 24ms/step - loss: 0.0516 - accuracy: 0.9805 - val_loss: 0.9332 - val_accuracy: 0.7923\n"
          ]
        }
      ]
    },
    {
      "cell_type": "code",
      "source": [
        "(x_valid_combined = np.hstack((x_valid_vgg19_features, x_valid_resnet50_features))\n",
        "model.evaluate(x_valid_combined,y_valid)"
      ],
      "metadata": {
        "colab": {
          "base_uri": "https://localhost:8080/"
        },
        "id": "gjyom9JHjfHH",
        "outputId": "6ad7a7b4-751e-4e79-84fd-3e485ace362d"
      },
      "execution_count": null,
      "outputs": [
        {
          "output_type": "stream",
          "name": "stdout",
          "text": [
            "12/12 [==============================] - 0s 13ms/step - loss: 0.8375 - accuracy: 0.7869\n"
          ]
        },
        {
          "output_type": "execute_result",
          "data": {
            "text/plain": [
              "[0.8375318646430969, 0.7868852615356445]"
            ]
          },
          "metadata": {},
          "execution_count": 8
        }
      ]
    },
    {
      "cell_type": "code",
      "source": [
        "from tensorflow.keras.layers import Input, Concatenate, Dense\n",
        "from tensorflow.keras.models import Model\n",
        "\n",
        "BATCH_SIZE = 16\n",
        "\n",
        "# Assuming x_train_vgg19_features and x_train_resnet50_features are your training datasets from VGG19 and ResNet50\n",
        "# Similarly for x_val_vgg19_features and x_val_resnet50_features for validation datasets\n",
        "# These should be loaded or defined earlier in your code\n",
        "\n",
        "# Define input layers for VGG19 and ResNet50 features\n",
        "input_vgg19 = Input(shape=(x_train_vgg19_features.shape[1],))\n",
        "input_resnet50 = Input(shape=(x_train_resnet50_features.shape[1],))\n",
        "\n",
        "# Concatenate features\n",
        "concatenated_features = Concatenate()([input_vgg19, input_resnet50])\n",
        "\n",
        "# Define the neural network layers\n",
        "dense_1 = Dense(512, activation='relu')(concatenated_features)\n",
        "dense_2 = Dense(128, activation='relu')(dense_1)\n",
        "dense_3 = Dense(64, activation='relu')(dense_2)\n",
        "dense_4 = Dense(32, activation='relu')(dense_3)\n",
        "output = Dense(5, activation='softmax')(dense_4)\n",
        "\n",
        "# Create the model\n",
        "model = Model(inputs=[input_vgg19, input_resnet50], outputs=output)\n",
        "model.compile(loss='sparse_categorical_crossentropy', optimizer='adam', metrics=['accuracy'])\n",
        "\n",
        "# Train the model\n",
        "history = model.fit(\n",
        "    [x_train_vgg19_features, x_train_resnet50_features], y_train,\n",
        "    steps_per_epoch=len(x_train_vgg19_features) / BATCH_SIZE,\n",
        "    batch_size=BATCH_SIZE,\n",
        "    epochs=50,\n",
        "    validation_data=([x_val_vgg19_features, x_val_resnet50_features], y_val)\n",
        ")\n"
      ],
      "metadata": {
        "colab": {
          "base_uri": "https://localhost:8080/"
        },
        "id": "crWijRCJk1u6",
        "outputId": "da014f07-7ba1-439f-916b-ae7f549e85d0"
      },
      "execution_count": null,
      "outputs": [
        {
          "output_type": "stream",
          "name": "stdout",
          "text": [
            "Epoch 1/50\n",
            "183/183 [==============================] - 8s 30ms/step - loss: 3.3545 - accuracy: 0.6590 - val_loss: 0.7737 - val_accuracy: 0.7678\n",
            "Epoch 2/50\n",
            "183/183 [==============================] - 4s 23ms/step - loss: 0.6040 - accuracy: 0.8113 - val_loss: 1.1555 - val_accuracy: 0.6803\n",
            "Epoch 3/50\n",
            "183/183 [==============================] - 4s 24ms/step - loss: 0.4452 - accuracy: 0.8539 - val_loss: 0.7049 - val_accuracy: 0.7869\n",
            "Epoch 4/50\n",
            "183/183 [==============================] - 5s 25ms/step - loss: 0.2754 - accuracy: 0.9055 - val_loss: 1.0519 - val_accuracy: 0.7732\n",
            "Epoch 5/50\n",
            "183/183 [==============================] - 4s 24ms/step - loss: 0.1918 - accuracy: 0.9345 - val_loss: 1.2205 - val_accuracy: 0.6885\n",
            "Epoch 6/50\n",
            "183/183 [==============================] - 4s 25ms/step - loss: 0.3841 - accuracy: 0.8928 - val_loss: 0.9329 - val_accuracy: 0.7732\n",
            "Epoch 7/50\n",
            "183/183 [==============================] - 5s 25ms/step - loss: 0.1161 - accuracy: 0.9635 - val_loss: 0.9758 - val_accuracy: 0.7842\n",
            "Epoch 8/50\n",
            "183/183 [==============================] - 4s 23ms/step - loss: 0.1333 - accuracy: 0.9560 - val_loss: 0.8643 - val_accuracy: 0.7896\n",
            "Epoch 9/50\n",
            "183/183 [==============================] - 5s 25ms/step - loss: 0.1018 - accuracy: 0.9689 - val_loss: 1.0434 - val_accuracy: 0.7732\n",
            "Epoch 10/50\n",
            "183/183 [==============================] - 4s 24ms/step - loss: 0.1455 - accuracy: 0.9604 - val_loss: 0.8172 - val_accuracy: 0.8033\n",
            "Epoch 11/50\n",
            "183/183 [==============================] - 4s 24ms/step - loss: 0.1043 - accuracy: 0.9720 - val_loss: 0.9809 - val_accuracy: 0.8169\n",
            "Epoch 12/50\n",
            "183/183 [==============================] - 4s 24ms/step - loss: 0.0898 - accuracy: 0.9737 - val_loss: 1.1941 - val_accuracy: 0.7596\n",
            "Epoch 13/50\n",
            "183/183 [==============================] - 4s 24ms/step - loss: 0.1102 - accuracy: 0.9652 - val_loss: 1.4290 - val_accuracy: 0.7814\n",
            "Epoch 14/50\n",
            "183/183 [==============================] - 4s 23ms/step - loss: 0.1253 - accuracy: 0.9618 - val_loss: 1.2100 - val_accuracy: 0.7787\n",
            "Epoch 15/50\n",
            "183/183 [==============================] - 5s 26ms/step - loss: 0.1407 - accuracy: 0.9611 - val_loss: 0.9041 - val_accuracy: 0.8005\n",
            "Epoch 16/50\n",
            "183/183 [==============================] - 4s 24ms/step - loss: 0.0748 - accuracy: 0.9788 - val_loss: 1.1716 - val_accuracy: 0.7869\n",
            "Epoch 17/50\n",
            "183/183 [==============================] - 4s 23ms/step - loss: 0.1273 - accuracy: 0.9625 - val_loss: 1.3180 - val_accuracy: 0.7869\n",
            "Epoch 18/50\n",
            "183/183 [==============================] - 5s 26ms/step - loss: 0.1269 - accuracy: 0.9601 - val_loss: 1.1871 - val_accuracy: 0.7732\n",
            "Epoch 19/50\n",
            "183/183 [==============================] - 4s 24ms/step - loss: 0.1368 - accuracy: 0.9573 - val_loss: 1.4227 - val_accuracy: 0.7951\n",
            "Epoch 20/50\n",
            "183/183 [==============================] - 4s 23ms/step - loss: 0.3037 - accuracy: 0.9263 - val_loss: 1.2263 - val_accuracy: 0.6776\n",
            "Epoch 21/50\n",
            "183/183 [==============================] - 5s 25ms/step - loss: 0.1077 - accuracy: 0.9676 - val_loss: 1.1868 - val_accuracy: 0.8224\n",
            "Epoch 22/50\n",
            "183/183 [==============================] - 4s 23ms/step - loss: 0.0635 - accuracy: 0.9802 - val_loss: 1.0486 - val_accuracy: 0.8033\n",
            "Epoch 23/50\n",
            "183/183 [==============================] - 4s 23ms/step - loss: 0.0534 - accuracy: 0.9843 - val_loss: 1.1771 - val_accuracy: 0.8169\n",
            "Epoch 24/50\n",
            "183/183 [==============================] - 5s 25ms/step - loss: 0.0532 - accuracy: 0.9836 - val_loss: 1.0841 - val_accuracy: 0.7978\n",
            "Epoch 25/50\n",
            "183/183 [==============================] - 4s 24ms/step - loss: 0.0435 - accuracy: 0.9857 - val_loss: 1.4191 - val_accuracy: 0.8005\n",
            "Epoch 26/50\n",
            "183/183 [==============================] - 4s 23ms/step - loss: 0.0851 - accuracy: 0.9706 - val_loss: 1.2239 - val_accuracy: 0.8033\n",
            "Epoch 27/50\n",
            "183/183 [==============================] - 5s 25ms/step - loss: 0.0769 - accuracy: 0.9788 - val_loss: 1.4332 - val_accuracy: 0.7842\n",
            "Epoch 28/50\n",
            "183/183 [==============================] - 4s 23ms/step - loss: 0.0591 - accuracy: 0.9788 - val_loss: 1.3491 - val_accuracy: 0.8033\n",
            "Epoch 29/50\n",
            "183/183 [==============================] - 4s 23ms/step - loss: 0.0461 - accuracy: 0.9836 - val_loss: 1.2216 - val_accuracy: 0.7951\n",
            "Epoch 30/50\n",
            "183/183 [==============================] - 5s 25ms/step - loss: 0.0558 - accuracy: 0.9823 - val_loss: 1.2646 - val_accuracy: 0.7568\n",
            "Epoch 31/50\n",
            "183/183 [==============================] - 4s 23ms/step - loss: 0.0600 - accuracy: 0.9785 - val_loss: 1.5507 - val_accuracy: 0.7623\n",
            "Epoch 32/50\n",
            "183/183 [==============================] - 4s 24ms/step - loss: 0.1289 - accuracy: 0.9648 - val_loss: 1.0727 - val_accuracy: 0.8060\n",
            "Epoch 33/50\n",
            "183/183 [==============================] - 5s 25ms/step - loss: 0.1039 - accuracy: 0.9669 - val_loss: 0.9247 - val_accuracy: 0.7978\n",
            "Epoch 34/50\n",
            "183/183 [==============================] - 4s 23ms/step - loss: 0.1626 - accuracy: 0.9553 - val_loss: 1.0360 - val_accuracy: 0.8033\n",
            "Epoch 35/50\n",
            "183/183 [==============================] - 4s 23ms/step - loss: 0.0679 - accuracy: 0.9823 - val_loss: 1.1173 - val_accuracy: 0.8115\n",
            "Epoch 36/50\n",
            "183/183 [==============================] - 5s 26ms/step - loss: 0.0368 - accuracy: 0.9870 - val_loss: 1.0793 - val_accuracy: 0.8087\n",
            "Epoch 37/50\n",
            "183/183 [==============================] - 4s 23ms/step - loss: 0.0347 - accuracy: 0.9894 - val_loss: 1.3749 - val_accuracy: 0.8033\n",
            "Epoch 38/50\n",
            "183/183 [==============================] - 4s 23ms/step - loss: 0.1008 - accuracy: 0.9683 - val_loss: 1.0594 - val_accuracy: 0.8115\n",
            "Epoch 39/50\n",
            "183/183 [==============================] - 5s 28ms/step - loss: 0.0508 - accuracy: 0.9826 - val_loss: 1.2128 - val_accuracy: 0.8142\n",
            "Epoch 40/50\n",
            "183/183 [==============================] - 5s 25ms/step - loss: 0.0491 - accuracy: 0.9805 - val_loss: 1.0243 - val_accuracy: 0.7923\n",
            "Epoch 41/50\n",
            "183/183 [==============================] - 4s 23ms/step - loss: 0.0283 - accuracy: 0.9877 - val_loss: 1.0915 - val_accuracy: 0.7951\n",
            "Epoch 42/50\n",
            "183/183 [==============================] - 5s 25ms/step - loss: 0.0193 - accuracy: 0.9901 - val_loss: 1.1887 - val_accuracy: 0.8060\n",
            "Epoch 43/50\n",
            "183/183 [==============================] - 4s 24ms/step - loss: 0.0229 - accuracy: 0.9894 - val_loss: 1.2054 - val_accuracy: 0.8115\n",
            "Epoch 44/50\n",
            "183/183 [==============================] - 4s 23ms/step - loss: 0.0435 - accuracy: 0.9857 - val_loss: 1.1790 - val_accuracy: 0.8087\n",
            "Epoch 45/50\n",
            "183/183 [==============================] - 5s 25ms/step - loss: 0.2933 - accuracy: 0.9403 - val_loss: 1.2923 - val_accuracy: 0.7732\n",
            "Epoch 46/50\n",
            "183/183 [==============================] - 4s 24ms/step - loss: 0.1631 - accuracy: 0.9635 - val_loss: 1.1176 - val_accuracy: 0.7978\n",
            "Epoch 47/50\n",
            "183/183 [==============================] - 4s 23ms/step - loss: 0.0626 - accuracy: 0.9795 - val_loss: 1.2029 - val_accuracy: 0.7923\n",
            "Epoch 48/50\n",
            "183/183 [==============================] - 5s 26ms/step - loss: 0.0258 - accuracy: 0.9870 - val_loss: 1.2196 - val_accuracy: 0.7869\n",
            "Epoch 49/50\n",
            "183/183 [==============================] - 4s 23ms/step - loss: 0.0200 - accuracy: 0.9901 - val_loss: 1.3181 - val_accuracy: 0.8005\n",
            "Epoch 50/50\n",
            "183/183 [==============================] - 4s 23ms/step - loss: 0.0178 - accuracy: 0.9901 - val_loss: 1.4874 - val_accuracy: 0.8033\n"
          ]
        }
      ]
    },
    {
      "cell_type": "code",
      "source": [
        "model.evaluate([x_valid_vgg19_features, x_valid_resnet50_features], y_valid)"
      ],
      "metadata": {
        "colab": {
          "base_uri": "https://localhost:8080/"
        },
        "id": "IXrvFNOLln6F",
        "outputId": "ffd5726a-2e25-451d-97ea-a971fc4051ef"
      },
      "execution_count": null,
      "outputs": [
        {
          "output_type": "stream",
          "name": "stdout",
          "text": [
            "12/12 [==============================] - 0s 12ms/step - loss: 1.2512 - accuracy: 0.8142\n"
          ]
        },
        {
          "output_type": "execute_result",
          "data": {
            "text/plain": [
              "[1.2511597871780396, 0.8142076730728149]"
            ]
          },
          "metadata": {},
          "execution_count": 10
        }
      ]
    },
    {
      "cell_type": "code",
      "source": [
        "from tensorflow.keras.layers import Input, Concatenate, Dense\n",
        "from tensorflow.keras.models import Model\n",
        "import numpy as np\n",
        "BATCH_SIZE=16\n",
        "# Define input layers for VGG19 and ResNet50 features\n",
        "\n",
        "x_train_combined = np.concatenate((x_train_vgg19_features, x_train_resnet50_features),axis=1)# Define the neural network layers\n",
        "x_test_combined = np.concatenate((x_val_vgg19_features, x_val_resnet50_features),axis=1)\n",
        "input_combine = Input(shape=(x_train_combined.shape[1],))\n",
        "dense_1 = Dense(512, activation='relu')(input_combine)\n",
        "dense_2 = Dense(128, activation='relu')(dense_1)\n",
        "dense_3 = Dense(64, activation='relu')(dense_2)\n",
        "dense_4 = Dense(32, activation='relu')(dense_3)\n",
        "output = Dense(5, activation='softmax')(dense_4)\n",
        "\n",
        "# Create the model\n",
        "model = Model(inputs=[input_combine], outputs=output)\n",
        "model.compile(loss='sparse_categorical_crossentropy', optimizer='adam', metrics=['accuracy'])\n",
        "\n",
        "# Train the model\n",
        "history = model.fit(\n",
        "    x_train_combined, y_train,\n",
        "    steps_per_epoch=x_train_combined.shape[0] / BATCH_SIZE,batch_size=BATCH_SIZE,\n",
        "    epochs=50,\n",
        "    validation_data=(x_test_combined, y_val)\n",
        ")\n"
      ],
      "metadata": {
        "colab": {
          "base_uri": "https://localhost:8080/"
        },
        "id": "tkyPuiC8mp-n",
        "outputId": "b349902d-3dd7-44d3-e7ad-0254747c1b50"
      },
      "execution_count": null,
      "outputs": [
        {
          "output_type": "stream",
          "name": "stdout",
          "text": [
            "Epoch 1/50\n",
            "183/183 [==============================] - 11s 37ms/step - loss: 4.0543 - accuracy: 0.6587 - val_loss: 1.1482 - val_accuracy: 0.7814\n",
            "Epoch 2/50\n",
            "183/183 [==============================] - 7s 37ms/step - loss: 0.6795 - accuracy: 0.8051 - val_loss: 0.7495 - val_accuracy: 0.7814\n",
            "Epoch 3/50\n",
            "183/183 [==============================] - 6s 35ms/step - loss: 0.3392 - accuracy: 0.8925 - val_loss: 0.7049 - val_accuracy: 0.7842\n",
            "Epoch 4/50\n",
            "183/183 [==============================] - 6s 35ms/step - loss: 0.2359 - accuracy: 0.9259 - val_loss: 0.6876 - val_accuracy: 0.8197\n",
            "Epoch 5/50\n",
            "183/183 [==============================] - 6s 33ms/step - loss: 0.1999 - accuracy: 0.9331 - val_loss: 1.1134 - val_accuracy: 0.7432\n",
            "Epoch 6/50\n",
            "183/183 [==============================] - 6s 34ms/step - loss: 0.1837 - accuracy: 0.9471 - val_loss: 0.8845 - val_accuracy: 0.8005\n",
            "Epoch 7/50\n",
            "183/183 [==============================] - 6s 34ms/step - loss: 0.1682 - accuracy: 0.9522 - val_loss: 1.1454 - val_accuracy: 0.7896\n",
            "Epoch 8/50\n",
            "183/183 [==============================] - 6s 33ms/step - loss: 0.1301 - accuracy: 0.9631 - val_loss: 1.2092 - val_accuracy: 0.7951\n",
            "Epoch 9/50\n",
            "183/183 [==============================] - 6s 33ms/step - loss: 0.2368 - accuracy: 0.9372 - val_loss: 1.1196 - val_accuracy: 0.7732\n",
            "Epoch 10/50\n",
            "183/183 [==============================] - 5s 30ms/step - loss: 0.1668 - accuracy: 0.9522 - val_loss: 0.9520 - val_accuracy: 0.8115\n",
            "Epoch 11/50\n",
            "183/183 [==============================] - 6s 31ms/step - loss: 0.1430 - accuracy: 0.9529 - val_loss: 1.0101 - val_accuracy: 0.8169\n",
            "Epoch 12/50\n",
            "183/183 [==============================] - 5s 29ms/step - loss: 0.0967 - accuracy: 0.9775 - val_loss: 1.0674 - val_accuracy: 0.7951\n",
            "Epoch 13/50\n",
            "183/183 [==============================] - 6s 31ms/step - loss: 0.1067 - accuracy: 0.9744 - val_loss: 1.0029 - val_accuracy: 0.7923\n",
            "Epoch 14/50\n",
            "183/183 [==============================] - 7s 36ms/step - loss: 0.0887 - accuracy: 0.9758 - val_loss: 1.2375 - val_accuracy: 0.8005\n",
            "Epoch 15/50\n",
            "183/183 [==============================] - 6s 31ms/step - loss: 0.1248 - accuracy: 0.9625 - val_loss: 1.5611 - val_accuracy: 0.7240\n",
            "Epoch 16/50\n",
            "183/183 [==============================] - 6s 31ms/step - loss: 0.1287 - accuracy: 0.9652 - val_loss: 0.9738 - val_accuracy: 0.8142\n",
            "Epoch 17/50\n",
            "183/183 [==============================] - 5s 29ms/step - loss: 0.1005 - accuracy: 0.9730 - val_loss: 1.1952 - val_accuracy: 0.8005\n",
            "Epoch 18/50\n",
            "183/183 [==============================] - 5s 30ms/step - loss: 0.1686 - accuracy: 0.9546 - val_loss: 1.1532 - val_accuracy: 0.7923\n",
            "Epoch 19/50\n",
            "183/183 [==============================] - 6s 32ms/step - loss: 0.1473 - accuracy: 0.9560 - val_loss: 1.4976 - val_accuracy: 0.7268\n",
            "Epoch 20/50\n",
            "183/183 [==============================] - 5s 27ms/step - loss: 0.1546 - accuracy: 0.9553 - val_loss: 1.1558 - val_accuracy: 0.8279\n",
            "Epoch 21/50\n",
            "183/183 [==============================] - 6s 31ms/step - loss: 0.1271 - accuracy: 0.9659 - val_loss: 1.1377 - val_accuracy: 0.7842\n",
            "Epoch 22/50\n",
            "183/183 [==============================] - 5s 29ms/step - loss: 0.0782 - accuracy: 0.9771 - val_loss: 1.4974 - val_accuracy: 0.7787\n",
            "Epoch 23/50\n",
            "183/183 [==============================] - 5s 30ms/step - loss: 0.2929 - accuracy: 0.9287 - val_loss: 1.2709 - val_accuracy: 0.7486\n",
            "Epoch 24/50\n",
            "183/183 [==============================] - 6s 32ms/step - loss: 0.1414 - accuracy: 0.9608 - val_loss: 1.0557 - val_accuracy: 0.7951\n",
            "Epoch 25/50\n",
            "183/183 [==============================] - 5s 29ms/step - loss: 0.0873 - accuracy: 0.9765 - val_loss: 0.9930 - val_accuracy: 0.8115\n",
            "Epoch 26/50\n",
            "183/183 [==============================] - 6s 32ms/step - loss: 0.0443 - accuracy: 0.9857 - val_loss: 0.8315 - val_accuracy: 0.8251\n",
            "Epoch 27/50\n",
            "183/183 [==============================] - 6s 31ms/step - loss: 0.0537 - accuracy: 0.9836 - val_loss: 1.2818 - val_accuracy: 0.8087\n",
            "Epoch 28/50\n",
            "183/183 [==============================] - 6s 32ms/step - loss: 0.0780 - accuracy: 0.9747 - val_loss: 0.8812 - val_accuracy: 0.8005\n",
            "Epoch 29/50\n",
            "183/183 [==============================] - 6s 31ms/step - loss: 0.0388 - accuracy: 0.9877 - val_loss: 1.1897 - val_accuracy: 0.7760\n",
            "Epoch 30/50\n",
            "183/183 [==============================] - 5s 30ms/step - loss: 0.0513 - accuracy: 0.9836 - val_loss: 0.9046 - val_accuracy: 0.8306\n",
            "Epoch 31/50\n",
            "183/183 [==============================] - 6s 31ms/step - loss: 0.0410 - accuracy: 0.9860 - val_loss: 0.9722 - val_accuracy: 0.8033\n",
            "Epoch 32/50\n",
            "183/183 [==============================] - 5s 28ms/step - loss: 0.0523 - accuracy: 0.9836 - val_loss: 1.2964 - val_accuracy: 0.7896\n",
            "Epoch 33/50\n",
            "183/183 [==============================] - 6s 31ms/step - loss: 0.0843 - accuracy: 0.9788 - val_loss: 1.1817 - val_accuracy: 0.8087\n",
            "Epoch 34/50\n",
            "183/183 [==============================] - 6s 33ms/step - loss: 0.0596 - accuracy: 0.9833 - val_loss: 1.2737 - val_accuracy: 0.7432\n",
            "Epoch 35/50\n",
            "183/183 [==============================] - 6s 32ms/step - loss: 0.1778 - accuracy: 0.9570 - val_loss: 1.0351 - val_accuracy: 0.7760\n",
            "Epoch 36/50\n",
            "183/183 [==============================] - 7s 36ms/step - loss: 0.1201 - accuracy: 0.9683 - val_loss: 1.0961 - val_accuracy: 0.7869\n",
            "Epoch 37/50\n",
            "183/183 [==============================] - 5s 27ms/step - loss: 0.0770 - accuracy: 0.9744 - val_loss: 1.2661 - val_accuracy: 0.8087\n",
            "Epoch 38/50\n",
            "183/183 [==============================] - 5s 25ms/step - loss: 0.0476 - accuracy: 0.9833 - val_loss: 1.0924 - val_accuracy: 0.8033\n",
            "Epoch 39/50\n",
            "183/183 [==============================] - 5s 25ms/step - loss: 0.0344 - accuracy: 0.9870 - val_loss: 1.1493 - val_accuracy: 0.8060\n",
            "Epoch 40/50\n",
            "183/183 [==============================] - 4s 24ms/step - loss: 0.0551 - accuracy: 0.9860 - val_loss: 1.1053 - val_accuracy: 0.8224\n",
            "Epoch 41/50\n",
            "183/183 [==============================] - 5s 26ms/step - loss: 0.0292 - accuracy: 0.9877 - val_loss: 1.1788 - val_accuracy: 0.7869\n",
            "Epoch 42/50\n",
            "183/183 [==============================] - 5s 25ms/step - loss: 0.0360 - accuracy: 0.9846 - val_loss: 1.3235 - val_accuracy: 0.7951\n",
            "Epoch 43/50\n",
            "183/183 [==============================] - 4s 24ms/step - loss: 0.0521 - accuracy: 0.9812 - val_loss: 1.5169 - val_accuracy: 0.8060\n",
            "Epoch 44/50\n",
            "183/183 [==============================] - 5s 25ms/step - loss: 0.1204 - accuracy: 0.9648 - val_loss: 1.7624 - val_accuracy: 0.7978\n",
            "Epoch 45/50\n",
            "183/183 [==============================] - 5s 25ms/step - loss: 0.1471 - accuracy: 0.9645 - val_loss: 1.1283 - val_accuracy: 0.7404\n",
            "Epoch 46/50\n",
            "183/183 [==============================] - 4s 24ms/step - loss: 0.0618 - accuracy: 0.9823 - val_loss: 1.1686 - val_accuracy: 0.7923\n",
            "Epoch 47/50\n",
            "183/183 [==============================] - 5s 26ms/step - loss: 0.0835 - accuracy: 0.9730 - val_loss: 1.2992 - val_accuracy: 0.7842\n",
            "Epoch 48/50\n",
            "183/183 [==============================] - 4s 25ms/step - loss: 0.0688 - accuracy: 0.9792 - val_loss: 1.1554 - val_accuracy: 0.8005\n",
            "Epoch 49/50\n",
            "183/183 [==============================] - 4s 24ms/step - loss: 0.0458 - accuracy: 0.9816 - val_loss: 1.5079 - val_accuracy: 0.7896\n",
            "Epoch 50/50\n",
            "183/183 [==============================] - 5s 26ms/step - loss: 0.0572 - accuracy: 0.9802 - val_loss: 1.3041 - val_accuracy: 0.7869\n"
          ]
        }
      ]
    },
    {
      "cell_type": "code",
      "source": [
        "x_valid_combined = np.concatenate((x_valid_vgg19_features, x_valid_resnet50_features),axis=1)\n",
        "model.evaluate(x_valid_combined,y_valid)"
      ],
      "metadata": {
        "colab": {
          "base_uri": "https://localhost:8080/"
        },
        "id": "Aq83UtJmn0-1",
        "outputId": "76fbb9b8-85b5-46f5-a83d-e6321f609785"
      },
      "execution_count": null,
      "outputs": [
        {
          "output_type": "stream",
          "name": "stdout",
          "text": [
            "12/12 [==============================] - 0s 14ms/step - loss: 1.0973 - accuracy: 0.8279\n"
          ]
        },
        {
          "output_type": "execute_result",
          "data": {
            "text/plain": [
              "[1.0972696542739868, 0.8278688788414001]"
            ]
          },
          "metadata": {},
          "execution_count": 6
        }
      ]
    },
    {
      "cell_type": "code",
      "source": [
        "x_train=np.load(\"/content/drive/MyDrive/aptos 2019/X_train1.npy\")\n",
        "x_val=np.load(\"/content/drive/MyDrive/aptos 2019/X_val.npy\")\n",
        "x_valid=np.load(\"/content/drive/MyDrive/aptos 2019/X_valid.npy\")"
      ],
      "metadata": {
        "id": "yCLE3Pdg126f"
      },
      "execution_count": null,
      "outputs": []
    },
    {
      "cell_type": "code",
      "source": [
        "import numpy as np\n",
        "import tensorflow as tf\n",
        "from tensorflow.keras.applications import VGG19, ResNet50\n",
        "from tensorflow.keras.layers import Input, GlobalAveragePooling2D, GlobalMaxPooling2D, Concatenate, Dense\n",
        "from tensorflow.keras.models import Model\n",
        "\n",
        "vgg19 = VGG19(weights='imagenet', include_top=False,input_shape=(224,224,3))\n",
        "resnet50 = ResNet50(weights='imagenet', include_top=False,input_shape=(224,224,3))\n",
        "\n",
        "vgg19_output = vgg19.output\n",
        "resnet50_output = resnet50.output\n",
        "# Apply Global Average Pooling and Global Max Pooling to each model's output\n",
        "vgg19_avg_pool = GlobalAveragePooling2D()(vgg19_output)\n",
        "resnet50_avg_pool = GlobalAveragePooling2D()(resnet50_output)\n",
        "vgg19_max_pool = GlobalMaxPooling2D()(vgg19_output)\n",
        "resnet50_max_pool = GlobalMaxPooling2D()(resnet50_output)\n",
        "\n",
        "# Cross-Model Pooling - Average and Max\n",
        "average_pooled = Concatenate()([vgg19_avg_pool, resnet50_avg_pool])\n",
        "max_pooled = Concatenate()([vgg19_max_pool, resnet50_max_pool])\n",
        "\n",
        "# Concatenate the average and max pooling outputs\n",
        "combined_features = Concatenate()([average_pooled, max_pooled])\n",
        "input_combine = Input(shape=(combined_features.shape[1],))\n",
        "dense_1 = Dense(512, activation='relu')(combined_features)\n",
        "dense_2 = Dense(128, activation='relu')(dense_1)\n",
        "dense_3 = Dense(64, activation='relu')(dense_2)\n",
        "dense_4 = Dense(32, activation='relu')(dense_3)\n",
        "output = Dense(10, activation='softmax')(dense_4)  # Change the number of classes if necessary\n",
        "# Create the model\n",
        "final_model = Model(inputs=[vgg19.input, resnet50.input], outputs=output)\n",
        "final_model.compile(loss='sparse_categorical_crossentropy', optimizer='adam', metrics=['accuracy'])\n",
        "\n",
        "# Training is performed assuming you have the feature arrays prepared similar to x_train_combined\n",
        "# Note: Ensure that x_train and y_train are formatted correctly and correspond to the extracted features\n",
        "# and prepared labels.\n"
      ],
      "metadata": {
        "id": "hMD5B9j3pJC0"
      },
      "execution_count": null,
      "outputs": []
    },
    {
      "cell_type": "code",
      "source": [
        "BATCH_SIZE=32\n",
        "history = final_model.fit(\n",
        "    [x_train_vgg19_features, x_train_resnet50_features], y_train,\n",
        "    steps_per_epoch=len(x_train_vgg19_features) / BATCH_SIZE,\n",
        "    batch_size=BATCH_SIZE,\n",
        "    epochs=50,\n",
        "    validation_data=([x_val_vgg19_features, x_val_resnet50_features], y_val)\n",
        ")"
      ],
      "metadata": {
        "colab": {
          "base_uri": "https://localhost:8080/",
          "height": 755
        },
        "id": "ff9-Dt0FzYKf",
        "outputId": "c3a0ccbc-1956-4d75-e0af-1d212fc14484"
      },
      "execution_count": null,
      "outputs": [
        {
          "output_type": "stream",
          "name": "stdout",
          "text": [
            "Epoch 1/50\n"
          ]
        },
        {
          "output_type": "error",
          "ename": "ValueError",
          "evalue": "in user code:\n\n    File \"/usr/local/lib/python3.10/dist-packages/keras/src/engine/training.py\", line 1401, in train_function  *\n        return step_function(self, iterator)\n    File \"/usr/local/lib/python3.10/dist-packages/keras/src/engine/training.py\", line 1384, in step_function  **\n        outputs = model.distribute_strategy.run(run_step, args=(data,))\n    File \"/usr/local/lib/python3.10/dist-packages/keras/src/engine/training.py\", line 1373, in run_step  **\n        outputs = model.train_step(data)\n    File \"/usr/local/lib/python3.10/dist-packages/keras/src/engine/training.py\", line 1150, in train_step\n        y_pred = self(x, training=True)\n    File \"/usr/local/lib/python3.10/dist-packages/keras/src/utils/traceback_utils.py\", line 70, in error_handler\n        raise e.with_traceback(filtered_tb) from None\n    File \"/usr/local/lib/python3.10/dist-packages/keras/src/engine/input_spec.py\", line 235, in assert_input_compatibility\n        raise ValueError(\n\n    ValueError: Exception encountered when calling layer 'model' (type Functional).\n    \n    Input 0 of layer \"conv1_pad\" is incompatible with the layer: expected ndim=4, found ndim=2. Full shape received: (None, 100352)\n    \n    Call arguments received by layer 'model' (type Functional):\n      • inputs=('tf.Tensor(shape=(None, 25088), dtype=float32)', 'tf.Tensor(shape=(None, 100352), dtype=float32)')\n      • training=True\n      • mask=None\n",
          "traceback": [
            "\u001b[0;31m---------------------------------------------------------------------------\u001b[0m",
            "\u001b[0;31mValueError\u001b[0m                                Traceback (most recent call last)",
            "\u001b[0;32m<ipython-input-9-4ea4c286e2bd>\u001b[0m in \u001b[0;36m<cell line: 2>\u001b[0;34m()\u001b[0m\n\u001b[1;32m      1\u001b[0m \u001b[0mBATCH_SIZE\u001b[0m\u001b[0;34m=\u001b[0m\u001b[0;36m32\u001b[0m\u001b[0;34m\u001b[0m\u001b[0;34m\u001b[0m\u001b[0m\n\u001b[0;32m----> 2\u001b[0;31m history = final_model.fit(\n\u001b[0m\u001b[1;32m      3\u001b[0m     \u001b[0;34m[\u001b[0m\u001b[0mx_train_vgg19_features\u001b[0m\u001b[0;34m,\u001b[0m \u001b[0mx_train_resnet50_features\u001b[0m\u001b[0;34m]\u001b[0m\u001b[0;34m,\u001b[0m \u001b[0my_train\u001b[0m\u001b[0;34m,\u001b[0m\u001b[0;34m\u001b[0m\u001b[0;34m\u001b[0m\u001b[0m\n\u001b[1;32m      4\u001b[0m     \u001b[0msteps_per_epoch\u001b[0m\u001b[0;34m=\u001b[0m\u001b[0mlen\u001b[0m\u001b[0;34m(\u001b[0m\u001b[0mx_train_vgg19_features\u001b[0m\u001b[0;34m)\u001b[0m \u001b[0;34m/\u001b[0m \u001b[0mBATCH_SIZE\u001b[0m\u001b[0;34m,\u001b[0m\u001b[0;34m\u001b[0m\u001b[0;34m\u001b[0m\u001b[0m\n\u001b[1;32m      5\u001b[0m     \u001b[0mbatch_size\u001b[0m\u001b[0;34m=\u001b[0m\u001b[0mBATCH_SIZE\u001b[0m\u001b[0;34m,\u001b[0m\u001b[0;34m\u001b[0m\u001b[0;34m\u001b[0m\u001b[0m\n",
            "\u001b[0;32m/usr/local/lib/python3.10/dist-packages/keras/src/utils/traceback_utils.py\u001b[0m in \u001b[0;36merror_handler\u001b[0;34m(*args, **kwargs)\u001b[0m\n\u001b[1;32m     68\u001b[0m             \u001b[0;31m# To get the full stack trace, call:\u001b[0m\u001b[0;34m\u001b[0m\u001b[0;34m\u001b[0m\u001b[0m\n\u001b[1;32m     69\u001b[0m             \u001b[0;31m# `tf.debugging.disable_traceback_filtering()`\u001b[0m\u001b[0;34m\u001b[0m\u001b[0;34m\u001b[0m\u001b[0m\n\u001b[0;32m---> 70\u001b[0;31m             \u001b[0;32mraise\u001b[0m \u001b[0me\u001b[0m\u001b[0;34m.\u001b[0m\u001b[0mwith_traceback\u001b[0m\u001b[0;34m(\u001b[0m\u001b[0mfiltered_tb\u001b[0m\u001b[0;34m)\u001b[0m \u001b[0;32mfrom\u001b[0m \u001b[0;32mNone\u001b[0m\u001b[0;34m\u001b[0m\u001b[0;34m\u001b[0m\u001b[0m\n\u001b[0m\u001b[1;32m     71\u001b[0m         \u001b[0;32mfinally\u001b[0m\u001b[0;34m:\u001b[0m\u001b[0;34m\u001b[0m\u001b[0;34m\u001b[0m\u001b[0m\n\u001b[1;32m     72\u001b[0m             \u001b[0;32mdel\u001b[0m \u001b[0mfiltered_tb\u001b[0m\u001b[0;34m\u001b[0m\u001b[0;34m\u001b[0m\u001b[0m\n",
            "\u001b[0;32m/usr/local/lib/python3.10/dist-packages/keras/src/engine/training.py\u001b[0m in \u001b[0;36mtf__train_function\u001b[0;34m(iterator)\u001b[0m\n\u001b[1;32m     13\u001b[0m                 \u001b[0;32mtry\u001b[0m\u001b[0;34m:\u001b[0m\u001b[0;34m\u001b[0m\u001b[0;34m\u001b[0m\u001b[0m\n\u001b[1;32m     14\u001b[0m                     \u001b[0mdo_return\u001b[0m \u001b[0;34m=\u001b[0m \u001b[0;32mTrue\u001b[0m\u001b[0;34m\u001b[0m\u001b[0;34m\u001b[0m\u001b[0m\n\u001b[0;32m---> 15\u001b[0;31m                     \u001b[0mretval_\u001b[0m \u001b[0;34m=\u001b[0m \u001b[0mag__\u001b[0m\u001b[0;34m.\u001b[0m\u001b[0mconverted_call\u001b[0m\u001b[0;34m(\u001b[0m\u001b[0mag__\u001b[0m\u001b[0;34m.\u001b[0m\u001b[0mld\u001b[0m\u001b[0;34m(\u001b[0m\u001b[0mstep_function\u001b[0m\u001b[0;34m)\u001b[0m\u001b[0;34m,\u001b[0m \u001b[0;34m(\u001b[0m\u001b[0mag__\u001b[0m\u001b[0;34m.\u001b[0m\u001b[0mld\u001b[0m\u001b[0;34m(\u001b[0m\u001b[0mself\u001b[0m\u001b[0;34m)\u001b[0m\u001b[0;34m,\u001b[0m \u001b[0mag__\u001b[0m\u001b[0;34m.\u001b[0m\u001b[0mld\u001b[0m\u001b[0;34m(\u001b[0m\u001b[0miterator\u001b[0m\u001b[0;34m)\u001b[0m\u001b[0;34m)\u001b[0m\u001b[0;34m,\u001b[0m \u001b[0;32mNone\u001b[0m\u001b[0;34m,\u001b[0m \u001b[0mfscope\u001b[0m\u001b[0;34m)\u001b[0m\u001b[0;34m\u001b[0m\u001b[0;34m\u001b[0m\u001b[0m\n\u001b[0m\u001b[1;32m     16\u001b[0m                 \u001b[0;32mexcept\u001b[0m\u001b[0;34m:\u001b[0m\u001b[0;34m\u001b[0m\u001b[0;34m\u001b[0m\u001b[0m\n\u001b[1;32m     17\u001b[0m                     \u001b[0mdo_return\u001b[0m \u001b[0;34m=\u001b[0m \u001b[0;32mFalse\u001b[0m\u001b[0;34m\u001b[0m\u001b[0;34m\u001b[0m\u001b[0m\n",
            "\u001b[0;31mValueError\u001b[0m: in user code:\n\n    File \"/usr/local/lib/python3.10/dist-packages/keras/src/engine/training.py\", line 1401, in train_function  *\n        return step_function(self, iterator)\n    File \"/usr/local/lib/python3.10/dist-packages/keras/src/engine/training.py\", line 1384, in step_function  **\n        outputs = model.distribute_strategy.run(run_step, args=(data,))\n    File \"/usr/local/lib/python3.10/dist-packages/keras/src/engine/training.py\", line 1373, in run_step  **\n        outputs = model.train_step(data)\n    File \"/usr/local/lib/python3.10/dist-packages/keras/src/engine/training.py\", line 1150, in train_step\n        y_pred = self(x, training=True)\n    File \"/usr/local/lib/python3.10/dist-packages/keras/src/utils/traceback_utils.py\", line 70, in error_handler\n        raise e.with_traceback(filtered_tb) from None\n    File \"/usr/local/lib/python3.10/dist-packages/keras/src/engine/input_spec.py\", line 235, in assert_input_compatibility\n        raise ValueError(\n\n    ValueError: Exception encountered when calling layer 'model' (type Functional).\n    \n    Input 0 of layer \"conv1_pad\" is incompatible with the layer: expected ndim=4, found ndim=2. Full shape received: (None, 100352)\n    \n    Call arguments received by layer 'model' (type Functional):\n      • inputs=('tf.Tensor(shape=(None, 25088), dtype=float32)', 'tf.Tensor(shape=(None, 100352), dtype=float32)')\n      • training=True\n      • mask=None\n"
          ]
        }
      ]
    },
    {
      "cell_type": "code",
      "source": [
        "import numpy as np\n",
        "from tensorflow.keras.applications import VGG19, ResNet50\n",
        "from tensorflow.keras.layers import Input, GlobalAveragePooling2D, GlobalMaxPooling2D, Concatenate, Dense\n",
        "from tensorflow.keras.models import Model\n",
        "\n",
        "# Assuming x_train_vgg and x_train_resnet are your extracted features from VGG19 and ResNet50\n",
        "# Shape of x_train_vgg: (num_samples, vgg_features)\n",
        "# Shape of x_train_resnet: (num_samples, resnet_features)\n",
        "\n",
        "# Define input layers for the extracted features\n",
        "input_vgg = Input(shape=(x_train_vgg19_features.shape[1],))\n",
        "input_resnet = Input(shape=(x_train_resnet50_features.shape[1],))\n",
        "\n",
        "# Apply Global Average Pooling and Global Max Pooling to each model's output\n",
        "vgg_avg_pool = GlobalAveragePooling2D()(input_vgg)\n",
        "resnet_avg_pool = GlobalAveragePooling2D()(input_resnet)\n",
        "vgg_max_pool = GlobalMaxPooling2D()(input_vgg)\n",
        "resnet_max_pool = GlobalMaxPooling2D()(input_resnet)\n",
        "\n",
        "# Cross-Model Pooling - Average and Max\n",
        "average_pooled = Concatenate()([vgg_avg_pool, resnet_avg_pool])\n",
        "max_pooled = Concatenate()([vgg_max_pool, resnet_max_pool])\n",
        "\n",
        "# Concatenate the average and max pooling outputs\n",
        "combined_features = Concatenate()([average_pooled, max_pooled])\n",
        "\n",
        "# Adding dense layers for classification\n",
        "dense_1 = Dense(512, activation='relu')(combined_features)\n",
        "dense_2 = Dense(128, activation='relu')(dense_1)\n",
        "dense_3 = Dense(64, activation='relu')(dense_2)\n",
        "dense_4 = Dense(32, activation='relu')(dense_3)\n",
        "output = Dense(10, activation='softmax')(dense_4)  # Assuming 10 classes for classification\n",
        "\n",
        "# Create the model\n",
        "model = Model(inputs=[input_vgg, input_resnet], outputs=output)\n",
        "model.compile(loss='sparse_categorical_crossentropy', optimizer='adam', metrics=['accuracy'])\n",
        "\n",
        "# Train the model (assuming you have corresponding y_train for labels)\n",
        "history = model.fit(\n",
        "    [x_train_vgg19_features, x_train_resnet50_features], y_train,\n",
        "    batch_size=16,\n",
        "    epochs=50,\n",
        "   validation_data=([x_val_vgg19_features, x_val_resnet50_features], y_val)\n",
        ")\n"
      ],
      "metadata": {
        "colab": {
          "base_uri": "https://localhost:8080/",
          "height": 356
        },
        "id": "qh50wm1m0TBH",
        "outputId": "3f1957c0-3b53-4af4-bb9d-7dbf00285d4a"
      },
      "execution_count": null,
      "outputs": [
        {
          "output_type": "error",
          "ename": "ValueError",
          "evalue": "Input 0 of layer \"global_average_pooling2d_2\" is incompatible with the layer: expected ndim=4, found ndim=2. Full shape received: (None, 25088)",
          "traceback": [
            "\u001b[0;31m---------------------------------------------------------------------------\u001b[0m",
            "\u001b[0;31mValueError\u001b[0m                                Traceback (most recent call last)",
            "\u001b[0;32m<ipython-input-11-b6f193b53787>\u001b[0m in \u001b[0;36m<cell line: 15>\u001b[0;34m()\u001b[0m\n\u001b[1;32m     13\u001b[0m \u001b[0;34m\u001b[0m\u001b[0m\n\u001b[1;32m     14\u001b[0m \u001b[0;31m# Apply Global Average Pooling and Global Max Pooling to each model's output\u001b[0m\u001b[0;34m\u001b[0m\u001b[0;34m\u001b[0m\u001b[0m\n\u001b[0;32m---> 15\u001b[0;31m \u001b[0mvgg_avg_pool\u001b[0m \u001b[0;34m=\u001b[0m \u001b[0mGlobalAveragePooling2D\u001b[0m\u001b[0;34m(\u001b[0m\u001b[0;34m)\u001b[0m\u001b[0;34m(\u001b[0m\u001b[0minput_vgg\u001b[0m\u001b[0;34m)\u001b[0m\u001b[0;34m\u001b[0m\u001b[0;34m\u001b[0m\u001b[0m\n\u001b[0m\u001b[1;32m     16\u001b[0m \u001b[0mresnet_avg_pool\u001b[0m \u001b[0;34m=\u001b[0m \u001b[0mGlobalAveragePooling2D\u001b[0m\u001b[0;34m(\u001b[0m\u001b[0;34m)\u001b[0m\u001b[0;34m(\u001b[0m\u001b[0minput_resnet\u001b[0m\u001b[0;34m)\u001b[0m\u001b[0;34m\u001b[0m\u001b[0;34m\u001b[0m\u001b[0m\n\u001b[1;32m     17\u001b[0m \u001b[0mvgg_max_pool\u001b[0m \u001b[0;34m=\u001b[0m \u001b[0mGlobalMaxPooling2D\u001b[0m\u001b[0;34m(\u001b[0m\u001b[0;34m)\u001b[0m\u001b[0;34m(\u001b[0m\u001b[0minput_vgg\u001b[0m\u001b[0;34m)\u001b[0m\u001b[0;34m\u001b[0m\u001b[0;34m\u001b[0m\u001b[0m\n",
            "\u001b[0;32m/usr/local/lib/python3.10/dist-packages/keras/src/utils/traceback_utils.py\u001b[0m in \u001b[0;36merror_handler\u001b[0;34m(*args, **kwargs)\u001b[0m\n\u001b[1;32m     68\u001b[0m             \u001b[0;31m# To get the full stack trace, call:\u001b[0m\u001b[0;34m\u001b[0m\u001b[0;34m\u001b[0m\u001b[0m\n\u001b[1;32m     69\u001b[0m             \u001b[0;31m# `tf.debugging.disable_traceback_filtering()`\u001b[0m\u001b[0;34m\u001b[0m\u001b[0;34m\u001b[0m\u001b[0m\n\u001b[0;32m---> 70\u001b[0;31m             \u001b[0;32mraise\u001b[0m \u001b[0me\u001b[0m\u001b[0;34m.\u001b[0m\u001b[0mwith_traceback\u001b[0m\u001b[0;34m(\u001b[0m\u001b[0mfiltered_tb\u001b[0m\u001b[0;34m)\u001b[0m \u001b[0;32mfrom\u001b[0m \u001b[0;32mNone\u001b[0m\u001b[0;34m\u001b[0m\u001b[0;34m\u001b[0m\u001b[0m\n\u001b[0m\u001b[1;32m     71\u001b[0m         \u001b[0;32mfinally\u001b[0m\u001b[0;34m:\u001b[0m\u001b[0;34m\u001b[0m\u001b[0;34m\u001b[0m\u001b[0m\n\u001b[1;32m     72\u001b[0m             \u001b[0;32mdel\u001b[0m \u001b[0mfiltered_tb\u001b[0m\u001b[0;34m\u001b[0m\u001b[0;34m\u001b[0m\u001b[0m\n",
            "\u001b[0;32m/usr/local/lib/python3.10/dist-packages/keras/src/engine/input_spec.py\u001b[0m in \u001b[0;36massert_input_compatibility\u001b[0;34m(input_spec, inputs, layer_name)\u001b[0m\n\u001b[1;32m    233\u001b[0m             \u001b[0mndim\u001b[0m \u001b[0;34m=\u001b[0m \u001b[0mshape\u001b[0m\u001b[0;34m.\u001b[0m\u001b[0mrank\u001b[0m\u001b[0;34m\u001b[0m\u001b[0;34m\u001b[0m\u001b[0m\n\u001b[1;32m    234\u001b[0m             \u001b[0;32mif\u001b[0m \u001b[0mndim\u001b[0m \u001b[0;34m!=\u001b[0m \u001b[0mspec\u001b[0m\u001b[0;34m.\u001b[0m\u001b[0mndim\u001b[0m\u001b[0;34m:\u001b[0m\u001b[0;34m\u001b[0m\u001b[0;34m\u001b[0m\u001b[0m\n\u001b[0;32m--> 235\u001b[0;31m                 raise ValueError(\n\u001b[0m\u001b[1;32m    236\u001b[0m                     \u001b[0;34mf'Input {input_index} of layer \"{layer_name}\" '\u001b[0m\u001b[0;34m\u001b[0m\u001b[0;34m\u001b[0m\u001b[0m\n\u001b[1;32m    237\u001b[0m                     \u001b[0;34m\"is incompatible with the layer: \"\u001b[0m\u001b[0;34m\u001b[0m\u001b[0;34m\u001b[0m\u001b[0m\n",
            "\u001b[0;31mValueError\u001b[0m: Input 0 of layer \"global_average_pooling2d_2\" is incompatible with the layer: expected ndim=4, found ndim=2. Full shape received: (None, 25088)"
          ]
        }
      ]
    },
    {
      "cell_type": "code",
      "source": [
        "import numpy as np\n",
        "from tensorflow.keras.applications import VGG19, ResNet50\n",
        "from tensorflow.keras.layers import Input, GlobalAveragePooling2D, GlobalMaxPooling2D, Concatenate, Dense\n",
        "from tensorflow.keras.models import Model\n",
        "\n",
        "# Assuming x_train_vgg19_features and x_train_resnet50_features are your extracted features from VGG19 and ResNet50\n",
        "# Shape of x_train_vgg19_features: (num_samples, height, width, channels)\n",
        "# Shape of x_train_resnet50_features: (num_samples, height, width, channels)\n",
        "\n",
        "# Define input layers for the extracted features\n",
        "input_vgg = Input(shape=(x_train_vgg19_features.shape[1:]))  # Assuming shape is (height, width, channels)\n",
        "input_resnet = Input(shape=(x_train_resnet50_features.shape[1:]))\n",
        "\n",
        "# Apply Global Average Pooling and Global Max Pooling to each model's output\n",
        "vgg_avg_pool = GlobalAveragePooling2D()(input_vgg)\n",
        "resnet_avg_pool = GlobalAveragePooling2D()(input_resnet)\n",
        "vgg_max_pool = GlobalMaxPooling2D()(input_vgg)\n",
        "resnet_max_pool = GlobalMaxPooling2D()(input_resnet)\n",
        "\n",
        "# Cross-Model Pooling - Average and Max\n",
        "average_pooled = Concatenate()([vgg_avg_pool, resnet_avg_pool])\n",
        "max_pooled = Concatenate()([vgg_max_pool, resnet_max_pool])\n",
        "\n",
        "# Concatenate the average and max pooling outputs\n",
        "combined_features = Concatenate()([average_pooled, max_pooled])\n",
        "\n",
        "# Adding dense layers for classification\n",
        "dense_1 = Dense(512, activation='relu')(combined_features)\n",
        "dense_2 = Dense(128, activation='relu')(dense_1)\n",
        "dense_3 = Dense(64, activation='relu')(dense_2)\n",
        "dense_4 = Dense(32, activation='relu')(dense_3)\n",
        "output = Dense(10, activation='softmax')(dense_4)  # Assuming 10 classes for classification\n",
        "\n",
        "# Create the model\n",
        "model = Model(inputs=[input_vgg, input_resnet], outputs=output)\n",
        "model.compile(loss='sparse_categorical_crossentropy', optimizer='adam', metrics=['accuracy'])\n",
        "\n",
        "# Train the model (assuming you have corresponding y_train for labels)\n",
        "history = model.fit(\n",
        "    [x_train_vgg19_features, x_train_resnet50_features], y_train,\n",
        "    batch_size=16,\n",
        "    epochs=50,\n",
        "    validation_data=([x_val_vgg19_features, x_val_resnet50_features], y_val)\n",
        ")\n"
      ],
      "metadata": {
        "colab": {
          "base_uri": "https://localhost:8080/",
          "height": 356
        },
        "id": "jL8Iuknv2zMg",
        "outputId": "43f98d93-4212-48cb-e0be-dbab2ea82f62"
      },
      "execution_count": null,
      "outputs": [
        {
          "output_type": "error",
          "ename": "ValueError",
          "evalue": "Input 0 of layer \"global_average_pooling2d_3\" is incompatible with the layer: expected ndim=4, found ndim=2. Full shape received: (None, 25088)",
          "traceback": [
            "\u001b[0;31m---------------------------------------------------------------------------\u001b[0m",
            "\u001b[0;31mValueError\u001b[0m                                Traceback (most recent call last)",
            "\u001b[0;32m<ipython-input-12-fe5e83afd389>\u001b[0m in \u001b[0;36m<cell line: 15>\u001b[0;34m()\u001b[0m\n\u001b[1;32m     13\u001b[0m \u001b[0;34m\u001b[0m\u001b[0m\n\u001b[1;32m     14\u001b[0m \u001b[0;31m# Apply Global Average Pooling and Global Max Pooling to each model's output\u001b[0m\u001b[0;34m\u001b[0m\u001b[0;34m\u001b[0m\u001b[0m\n\u001b[0;32m---> 15\u001b[0;31m \u001b[0mvgg_avg_pool\u001b[0m \u001b[0;34m=\u001b[0m \u001b[0mGlobalAveragePooling2D\u001b[0m\u001b[0;34m(\u001b[0m\u001b[0;34m)\u001b[0m\u001b[0;34m(\u001b[0m\u001b[0minput_vgg\u001b[0m\u001b[0;34m)\u001b[0m\u001b[0;34m\u001b[0m\u001b[0;34m\u001b[0m\u001b[0m\n\u001b[0m\u001b[1;32m     16\u001b[0m \u001b[0mresnet_avg_pool\u001b[0m \u001b[0;34m=\u001b[0m \u001b[0mGlobalAveragePooling2D\u001b[0m\u001b[0;34m(\u001b[0m\u001b[0;34m)\u001b[0m\u001b[0;34m(\u001b[0m\u001b[0minput_resnet\u001b[0m\u001b[0;34m)\u001b[0m\u001b[0;34m\u001b[0m\u001b[0;34m\u001b[0m\u001b[0m\n\u001b[1;32m     17\u001b[0m \u001b[0mvgg_max_pool\u001b[0m \u001b[0;34m=\u001b[0m \u001b[0mGlobalMaxPooling2D\u001b[0m\u001b[0;34m(\u001b[0m\u001b[0;34m)\u001b[0m\u001b[0;34m(\u001b[0m\u001b[0minput_vgg\u001b[0m\u001b[0;34m)\u001b[0m\u001b[0;34m\u001b[0m\u001b[0;34m\u001b[0m\u001b[0m\n",
            "\u001b[0;32m/usr/local/lib/python3.10/dist-packages/keras/src/utils/traceback_utils.py\u001b[0m in \u001b[0;36merror_handler\u001b[0;34m(*args, **kwargs)\u001b[0m\n\u001b[1;32m     68\u001b[0m             \u001b[0;31m# To get the full stack trace, call:\u001b[0m\u001b[0;34m\u001b[0m\u001b[0;34m\u001b[0m\u001b[0m\n\u001b[1;32m     69\u001b[0m             \u001b[0;31m# `tf.debugging.disable_traceback_filtering()`\u001b[0m\u001b[0;34m\u001b[0m\u001b[0;34m\u001b[0m\u001b[0m\n\u001b[0;32m---> 70\u001b[0;31m             \u001b[0;32mraise\u001b[0m \u001b[0me\u001b[0m\u001b[0;34m.\u001b[0m\u001b[0mwith_traceback\u001b[0m\u001b[0;34m(\u001b[0m\u001b[0mfiltered_tb\u001b[0m\u001b[0;34m)\u001b[0m \u001b[0;32mfrom\u001b[0m \u001b[0;32mNone\u001b[0m\u001b[0;34m\u001b[0m\u001b[0;34m\u001b[0m\u001b[0m\n\u001b[0m\u001b[1;32m     71\u001b[0m         \u001b[0;32mfinally\u001b[0m\u001b[0;34m:\u001b[0m\u001b[0;34m\u001b[0m\u001b[0;34m\u001b[0m\u001b[0m\n\u001b[1;32m     72\u001b[0m             \u001b[0;32mdel\u001b[0m \u001b[0mfiltered_tb\u001b[0m\u001b[0;34m\u001b[0m\u001b[0;34m\u001b[0m\u001b[0m\n",
            "\u001b[0;32m/usr/local/lib/python3.10/dist-packages/keras/src/engine/input_spec.py\u001b[0m in \u001b[0;36massert_input_compatibility\u001b[0;34m(input_spec, inputs, layer_name)\u001b[0m\n\u001b[1;32m    233\u001b[0m             \u001b[0mndim\u001b[0m \u001b[0;34m=\u001b[0m \u001b[0mshape\u001b[0m\u001b[0;34m.\u001b[0m\u001b[0mrank\u001b[0m\u001b[0;34m\u001b[0m\u001b[0;34m\u001b[0m\u001b[0m\n\u001b[1;32m    234\u001b[0m             \u001b[0;32mif\u001b[0m \u001b[0mndim\u001b[0m \u001b[0;34m!=\u001b[0m \u001b[0mspec\u001b[0m\u001b[0;34m.\u001b[0m\u001b[0mndim\u001b[0m\u001b[0;34m:\u001b[0m\u001b[0;34m\u001b[0m\u001b[0;34m\u001b[0m\u001b[0m\n\u001b[0;32m--> 235\u001b[0;31m                 raise ValueError(\n\u001b[0m\u001b[1;32m    236\u001b[0m                     \u001b[0;34mf'Input {input_index} of layer \"{layer_name}\" '\u001b[0m\u001b[0;34m\u001b[0m\u001b[0;34m\u001b[0m\u001b[0m\n\u001b[1;32m    237\u001b[0m                     \u001b[0;34m\"is incompatible with the layer: \"\u001b[0m\u001b[0;34m\u001b[0m\u001b[0;34m\u001b[0m\u001b[0m\n",
            "\u001b[0;31mValueError\u001b[0m: Input 0 of layer \"global_average_pooling2d_3\" is incompatible with the layer: expected ndim=4, found ndim=2. Full shape received: (None, 25088)"
          ]
        }
      ]
    },
    {
      "cell_type": "code",
      "source": [
        "import tensorflow as tf\n",
        "from tensorflow.keras.models import Sequential\n",
        "from tensorflow.keras.layers import Dense, Dropout\n",
        "from tensorflow.keras.optimizers import Adam\n",
        "model = Sequential([\n",
        "    Dense(512, activation='relu', input_shape=(x_train_vgg19_features.shape[1],)),\n",
        "    Dropout(0.5),\n",
        "    Dense(256, activation='relu'),\n",
        "    Dropout(0.5),\n",
        "    Dense(128, activation='relu'),\n",
        "    Dropout(0.5),\n",
        "    Dense(64, activation='relu'),\n",
        "    Dropout(0.5),\n",
        "    Dense(32, activation='relu'),\n",
        "    Dropout(0.5),\n",
        "    Dense(5, activation='softmax')  # Assuming there are 10 classes\n",
        "])\n",
        "model.compile(optimizer=Adam(),\n",
        "              loss='sparse_categorical_crossentropy',\n",
        "              metrics=['accuracy'])\n",
        "history = model.fit(x_train_vgg19_features, y_train, epochs=50, batch_size=32, validation_data=(x_val_vgg19_features,y_val))\n",
        "# To evaluate\n",
        "test_loss, test_acc = model.evaluate(x_valid_vgg19_features, y_valid)\n",
        "print('Test accuracy:', test_acc)\n",
        "\n"
      ],
      "metadata": {
        "id": "CUWCijNm3XeO",
        "colab": {
          "base_uri": "https://localhost:8080/"
        },
        "outputId": "e390389d-e803-4c06-c7db-47d209f9bc30"
      },
      "execution_count": null,
      "outputs": [
        {
          "output_type": "stream",
          "name": "stdout",
          "text": [
            "Epoch 1/50\n",
            "92/92 [==============================] - 8s 13ms/step - loss: 16.4030 - accuracy: 0.3167 - val_loss: 1.2240 - val_accuracy: 0.6448\n",
            "Epoch 2/50\n",
            "92/92 [==============================] - 1s 9ms/step - loss: 2.1932 - accuracy: 0.3505 - val_loss: 1.2182 - val_accuracy: 0.5437\n",
            "Epoch 3/50\n",
            "92/92 [==============================] - 1s 9ms/step - loss: 1.4617 - accuracy: 0.3805 - val_loss: 1.1598 - val_accuracy: 0.5437\n",
            "Epoch 4/50\n",
            "92/92 [==============================] - 1s 9ms/step - loss: 1.3336 - accuracy: 0.4812 - val_loss: 1.0033 - val_accuracy: 0.6995\n",
            "Epoch 5/50\n",
            "92/92 [==============================] - 1s 8ms/step - loss: 1.2274 - accuracy: 0.5850 - val_loss: 0.9270 - val_accuracy: 0.7240\n",
            "Epoch 6/50\n",
            "92/92 [==============================] - 1s 9ms/step - loss: 1.2028 - accuracy: 0.6078 - val_loss: 0.9179 - val_accuracy: 0.7158\n",
            "Epoch 7/50\n",
            "92/92 [==============================] - 1s 8ms/step - loss: 1.1588 - accuracy: 0.6212 - val_loss: 0.9035 - val_accuracy: 0.7295\n",
            "Epoch 8/50\n",
            "92/92 [==============================] - 1s 10ms/step - loss: 1.1132 - accuracy: 0.6242 - val_loss: 0.9065 - val_accuracy: 0.7514\n",
            "Epoch 9/50\n",
            "92/92 [==============================] - 1s 10ms/step - loss: 1.1178 - accuracy: 0.6334 - val_loss: 0.8996 - val_accuracy: 0.7377\n",
            "Epoch 10/50\n",
            "92/92 [==============================] - 1s 12ms/step - loss: 1.0708 - accuracy: 0.6334 - val_loss: 0.9440 - val_accuracy: 0.7268\n",
            "Epoch 11/50\n",
            "92/92 [==============================] - 1s 11ms/step - loss: 1.0793 - accuracy: 0.6253 - val_loss: 1.0418 - val_accuracy: 0.6011\n",
            "Epoch 12/50\n",
            "92/92 [==============================] - 1s 9ms/step - loss: 1.1110 - accuracy: 0.5703 - val_loss: 0.8016 - val_accuracy: 0.7541\n",
            "Epoch 13/50\n",
            "92/92 [==============================] - 1s 9ms/step - loss: 1.1346 - accuracy: 0.6078 - val_loss: 0.9307 - val_accuracy: 0.7104\n",
            "Epoch 14/50\n",
            "92/92 [==============================] - 1s 8ms/step - loss: 1.0606 - accuracy: 0.6266 - val_loss: 0.7712 - val_accuracy: 0.7568\n",
            "Epoch 15/50\n",
            "92/92 [==============================] - 1s 9ms/step - loss: 1.0036 - accuracy: 0.6481 - val_loss: 0.7660 - val_accuracy: 0.7514\n",
            "Epoch 16/50\n",
            "92/92 [==============================] - 1s 8ms/step - loss: 0.9918 - accuracy: 0.6423 - val_loss: 0.7829 - val_accuracy: 0.7404\n",
            "Epoch 17/50\n",
            "92/92 [==============================] - 1s 9ms/step - loss: 1.0035 - accuracy: 0.6256 - val_loss: 0.7939 - val_accuracy: 0.7268\n",
            "Epoch 18/50\n",
            "92/92 [==============================] - 1s 9ms/step - loss: 0.9661 - accuracy: 0.6608 - val_loss: 0.7563 - val_accuracy: 0.7486\n",
            "Epoch 19/50\n",
            "92/92 [==============================] - 1s 8ms/step - loss: 0.9801 - accuracy: 0.6584 - val_loss: 0.7593 - val_accuracy: 0.7541\n",
            "Epoch 20/50\n",
            "92/92 [==============================] - 1s 9ms/step - loss: 0.9670 - accuracy: 0.6655 - val_loss: 0.9270 - val_accuracy: 0.7240\n",
            "Epoch 21/50\n",
            "92/92 [==============================] - 1s 9ms/step - loss: 0.9547 - accuracy: 0.6638 - val_loss: 0.7290 - val_accuracy: 0.7541\n",
            "Epoch 22/50\n",
            "92/92 [==============================] - 1s 9ms/step - loss: 0.9378 - accuracy: 0.6737 - val_loss: 0.7204 - val_accuracy: 0.7541\n",
            "Epoch 23/50\n",
            "92/92 [==============================] - 1s 8ms/step - loss: 0.9323 - accuracy: 0.6734 - val_loss: 0.7571 - val_accuracy: 0.7350\n",
            "Epoch 24/50\n",
            "92/92 [==============================] - 1s 9ms/step - loss: 0.9152 - accuracy: 0.6758 - val_loss: 0.7058 - val_accuracy: 0.7596\n",
            "Epoch 25/50\n",
            "92/92 [==============================] - 1s 10ms/step - loss: 0.9346 - accuracy: 0.6703 - val_loss: 0.7240 - val_accuracy: 0.7486\n",
            "Epoch 26/50\n",
            "92/92 [==============================] - 2s 21ms/step - loss: 0.9112 - accuracy: 0.6758 - val_loss: 0.7263 - val_accuracy: 0.7459\n",
            "Epoch 27/50\n",
            "92/92 [==============================] - 1s 12ms/step - loss: 0.9057 - accuracy: 0.6758 - val_loss: 0.7373 - val_accuracy: 0.7459\n",
            "Epoch 28/50\n",
            "92/92 [==============================] - 1s 9ms/step - loss: 0.9011 - accuracy: 0.6628 - val_loss: 0.7712 - val_accuracy: 0.7568\n",
            "Epoch 29/50\n",
            "92/92 [==============================] - 1s 9ms/step - loss: 0.8846 - accuracy: 0.6877 - val_loss: 0.7079 - val_accuracy: 0.7514\n",
            "Epoch 30/50\n",
            "92/92 [==============================] - 1s 9ms/step - loss: 0.8703 - accuracy: 0.6997 - val_loss: 0.7720 - val_accuracy: 0.7295\n",
            "Epoch 31/50\n",
            "92/92 [==============================] - 1s 8ms/step - loss: 0.8713 - accuracy: 0.6983 - val_loss: 0.7028 - val_accuracy: 0.7541\n",
            "Epoch 32/50\n",
            "92/92 [==============================] - 1s 9ms/step - loss: 0.9107 - accuracy: 0.6768 - val_loss: 0.7162 - val_accuracy: 0.7432\n",
            "Epoch 33/50\n",
            "92/92 [==============================] - 1s 9ms/step - loss: 0.8939 - accuracy: 0.6812 - val_loss: 0.6980 - val_accuracy: 0.7568\n",
            "Epoch 34/50\n",
            "92/92 [==============================] - 1s 9ms/step - loss: 0.9399 - accuracy: 0.6590 - val_loss: 0.7421 - val_accuracy: 0.7350\n",
            "Epoch 35/50\n",
            "92/92 [==============================] - 1s 9ms/step - loss: 0.8793 - accuracy: 0.6863 - val_loss: 0.7126 - val_accuracy: 0.7486\n",
            "Epoch 36/50\n",
            "92/92 [==============================] - 1s 9ms/step - loss: 0.8460 - accuracy: 0.6956 - val_loss: 0.7010 - val_accuracy: 0.7541\n",
            "Epoch 37/50\n",
            "92/92 [==============================] - 1s 9ms/step - loss: 0.8696 - accuracy: 0.6833 - val_loss: 0.7124 - val_accuracy: 0.7514\n",
            "Epoch 38/50\n",
            "92/92 [==============================] - 1s 9ms/step - loss: 0.9003 - accuracy: 0.6816 - val_loss: 0.7341 - val_accuracy: 0.7459\n",
            "Epoch 39/50\n",
            "92/92 [==============================] - 1s 9ms/step - loss: 0.9076 - accuracy: 0.6703 - val_loss: 0.7012 - val_accuracy: 0.7541\n",
            "Epoch 40/50\n",
            "92/92 [==============================] - 1s 10ms/step - loss: 0.8483 - accuracy: 0.7003 - val_loss: 0.6866 - val_accuracy: 0.7568\n",
            "Epoch 41/50\n",
            "92/92 [==============================] - 1s 11ms/step - loss: 0.7872 - accuracy: 0.7160 - val_loss: 0.6906 - val_accuracy: 0.7568\n",
            "Epoch 42/50\n",
            "92/92 [==============================] - 1s 11ms/step - loss: 0.8337 - accuracy: 0.7024 - val_loss: 0.6992 - val_accuracy: 0.7514\n",
            "Epoch 43/50\n",
            "92/92 [==============================] - 1s 13ms/step - loss: 0.8807 - accuracy: 0.6792 - val_loss: 0.7811 - val_accuracy: 0.7213\n",
            "Epoch 44/50\n",
            "92/92 [==============================] - 1s 9ms/step - loss: 0.8561 - accuracy: 0.6857 - val_loss: 0.6832 - val_accuracy: 0.7514\n",
            "Epoch 45/50\n",
            "92/92 [==============================] - 1s 9ms/step - loss: 0.8493 - accuracy: 0.6935 - val_loss: 0.6889 - val_accuracy: 0.7514\n",
            "Epoch 46/50\n",
            "92/92 [==============================] - 1s 9ms/step - loss: 0.8224 - accuracy: 0.7017 - val_loss: 0.6847 - val_accuracy: 0.7541\n",
            "Epoch 47/50\n",
            "92/92 [==============================] - 1s 9ms/step - loss: 0.8089 - accuracy: 0.7126 - val_loss: 0.7025 - val_accuracy: 0.7541\n",
            "Epoch 48/50\n",
            "92/92 [==============================] - 1s 9ms/step - loss: 0.8126 - accuracy: 0.7078 - val_loss: 0.7006 - val_accuracy: 0.7514\n",
            "Epoch 49/50\n",
            "92/92 [==============================] - 1s 9ms/step - loss: 0.8297 - accuracy: 0.6983 - val_loss: 0.6936 - val_accuracy: 0.7486\n",
            "Epoch 50/50\n",
            "92/92 [==============================] - 1s 9ms/step - loss: 0.8178 - accuracy: 0.7058 - val_loss: 0.7417 - val_accuracy: 0.7541\n",
            "12/12 [==============================] - 0s 5ms/step - loss: 0.8269 - accuracy: 0.7240\n",
            "Test accuracy: 0.7240437269210815\n"
          ]
        }
      ]
    },
    {
      "cell_type": "code",
      "source": [
        "import tensorflow as tf\n",
        "from tensorflow.keras.models import Sequential\n",
        "from tensorflow.keras.layers import Dense, Dropout\n",
        "from tensorflow.keras.optimizers import Adam\n",
        "model = Sequential([\n",
        "    Dense(512, activation='relu', input_shape=(x_train_vgg19_features.shape[1],)),\n",
        "    Dense(256, activation='relu'),\n",
        "    Dense(128, activation='relu'),\n",
        "    Dense(64, activation='relu'),\n",
        "    Dense(32, activation='relu'),\n",
        "    Dense(5, activation='softmax')  # Assuming there are 10 classes\n",
        "])\n",
        "model.compile(optimizer=Adam(),\n",
        "              loss='sparse_categorical_crossentropy',\n",
        "              metrics=['accuracy'])\n",
        "history = model.fit(x_train_vgg19_features, y_train, epochs=50, batch_size=32, validation_data=(x_val_vgg19_features,y_val))\n",
        "# To evaluate\n",
        "test_loss, test_acc = model.evaluate(x_valid_vgg19_features, y_valid)\n",
        "print('Test accuracy:', test_acc)\n",
        "\n"
      ],
      "metadata": {
        "colab": {
          "base_uri": "https://localhost:8080/"
        },
        "id": "BmPtlUZVGgSG",
        "outputId": "7032f28a-00db-438a-c370-69688b807ae7"
      },
      "execution_count": null,
      "outputs": [
        {
          "output_type": "stream",
          "name": "stdout",
          "text": [
            "Epoch 1/50\n",
            "92/92 [==============================] - 4s 16ms/step - loss: 1.8665 - accuracy: 0.6655 - val_loss: 1.2685 - val_accuracy: 0.5874\n",
            "Epoch 2/50\n",
            "92/92 [==============================] - 1s 11ms/step - loss: 0.5892 - accuracy: 0.7843 - val_loss: 0.6397 - val_accuracy: 0.7732\n",
            "Epoch 3/50\n",
            "92/92 [==============================] - 1s 10ms/step - loss: 0.3514 - accuracy: 0.8669 - val_loss: 0.6284 - val_accuracy: 0.7842\n",
            "Epoch 4/50\n",
            "92/92 [==============================] - 1s 8ms/step - loss: 0.2588 - accuracy: 0.9137 - val_loss: 0.6907 - val_accuracy: 0.7814\n",
            "Epoch 5/50\n",
            "92/92 [==============================] - 1s 10ms/step - loss: 0.2278 - accuracy: 0.9215 - val_loss: 0.8202 - val_accuracy: 0.7814\n",
            "Epoch 6/50\n",
            "92/92 [==============================] - 1s 10ms/step - loss: 0.2403 - accuracy: 0.9164 - val_loss: 0.8335 - val_accuracy: 0.7787\n",
            "Epoch 7/50\n",
            "92/92 [==============================] - 1s 10ms/step - loss: 0.1535 - accuracy: 0.9491 - val_loss: 0.9304 - val_accuracy: 0.7678\n",
            "Epoch 8/50\n",
            "92/92 [==============================] - 1s 10ms/step - loss: 0.0922 - accuracy: 0.9730 - val_loss: 1.0181 - val_accuracy: 0.7896\n",
            "Epoch 9/50\n",
            "92/92 [==============================] - 1s 11ms/step - loss: 0.0835 - accuracy: 0.9768 - val_loss: 0.9522 - val_accuracy: 0.7869\n",
            "Epoch 10/50\n",
            "92/92 [==============================] - 1s 8ms/step - loss: 0.0749 - accuracy: 0.9765 - val_loss: 1.4800 - val_accuracy: 0.7514\n",
            "Epoch 11/50\n",
            "92/92 [==============================] - 1s 8ms/step - loss: 0.1026 - accuracy: 0.9686 - val_loss: 1.1507 - val_accuracy: 0.7650\n",
            "Epoch 12/50\n",
            "92/92 [==============================] - 1s 8ms/step - loss: 0.1248 - accuracy: 0.9635 - val_loss: 1.0614 - val_accuracy: 0.8060\n",
            "Epoch 13/50\n",
            "92/92 [==============================] - 1s 8ms/step - loss: 0.0728 - accuracy: 0.9785 - val_loss: 0.9835 - val_accuracy: 0.7923\n",
            "Epoch 14/50\n",
            "92/92 [==============================] - 1s 8ms/step - loss: 0.0726 - accuracy: 0.9771 - val_loss: 1.2187 - val_accuracy: 0.7869\n",
            "Epoch 15/50\n",
            "92/92 [==============================] - 1s 8ms/step - loss: 0.0690 - accuracy: 0.9802 - val_loss: 1.1945 - val_accuracy: 0.7787\n",
            "Epoch 16/50\n",
            "92/92 [==============================] - 1s 8ms/step - loss: 0.0481 - accuracy: 0.9833 - val_loss: 1.1166 - val_accuracy: 0.7896\n",
            "Epoch 17/50\n",
            "92/92 [==============================] - 1s 8ms/step - loss: 0.0456 - accuracy: 0.9860 - val_loss: 1.2828 - val_accuracy: 0.7951\n",
            "Epoch 18/50\n",
            "92/92 [==============================] - 1s 8ms/step - loss: 0.0444 - accuracy: 0.9840 - val_loss: 1.1994 - val_accuracy: 0.7650\n",
            "Epoch 19/50\n",
            "92/92 [==============================] - 1s 8ms/step - loss: 0.0542 - accuracy: 0.9823 - val_loss: 1.3203 - val_accuracy: 0.7760\n",
            "Epoch 20/50\n",
            "92/92 [==============================] - 1s 8ms/step - loss: 0.0739 - accuracy: 0.9761 - val_loss: 1.2921 - val_accuracy: 0.7650\n",
            "Epoch 21/50\n",
            "92/92 [==============================] - 1s 8ms/step - loss: 0.1985 - accuracy: 0.9485 - val_loss: 1.2980 - val_accuracy: 0.7732\n",
            "Epoch 22/50\n",
            "92/92 [==============================] - 1s 10ms/step - loss: 0.0793 - accuracy: 0.9706 - val_loss: 1.2802 - val_accuracy: 0.7842\n",
            "Epoch 23/50\n",
            "92/92 [==============================] - 1s 10ms/step - loss: 0.0510 - accuracy: 0.9843 - val_loss: 1.2622 - val_accuracy: 0.7814\n",
            "Epoch 24/50\n",
            "92/92 [==============================] - 1s 10ms/step - loss: 0.0527 - accuracy: 0.9833 - val_loss: 1.1694 - val_accuracy: 0.7951\n",
            "Epoch 25/50\n",
            "92/92 [==============================] - 1s 11ms/step - loss: 0.0412 - accuracy: 0.9819 - val_loss: 1.2035 - val_accuracy: 0.7760\n",
            "Epoch 26/50\n",
            "92/92 [==============================] - 1s 10ms/step - loss: 0.0436 - accuracy: 0.9826 - val_loss: 1.4216 - val_accuracy: 0.7896\n",
            "Epoch 27/50\n",
            "92/92 [==============================] - 1s 8ms/step - loss: 0.0343 - accuracy: 0.9833 - val_loss: 1.3868 - val_accuracy: 0.7814\n",
            "Epoch 28/50\n",
            "92/92 [==============================] - 1s 8ms/step - loss: 0.0301 - accuracy: 0.9863 - val_loss: 1.2052 - val_accuracy: 0.7787\n",
            "Epoch 29/50\n",
            "92/92 [==============================] - 1s 8ms/step - loss: 0.0263 - accuracy: 0.9891 - val_loss: 1.3036 - val_accuracy: 0.7842\n",
            "Epoch 30/50\n",
            "92/92 [==============================] - 1s 8ms/step - loss: 0.0228 - accuracy: 0.9884 - val_loss: 1.3104 - val_accuracy: 0.7732\n",
            "Epoch 31/50\n",
            "92/92 [==============================] - 1s 10ms/step - loss: 0.0220 - accuracy: 0.9874 - val_loss: 1.4570 - val_accuracy: 0.7650\n",
            "Epoch 32/50\n",
            "92/92 [==============================] - 1s 14ms/step - loss: 0.0238 - accuracy: 0.9898 - val_loss: 1.3348 - val_accuracy: 0.7760\n",
            "Epoch 33/50\n",
            "92/92 [==============================] - 1s 11ms/step - loss: 0.0192 - accuracy: 0.9877 - val_loss: 1.3415 - val_accuracy: 0.7814\n",
            "Epoch 34/50\n",
            "92/92 [==============================] - 1s 9ms/step - loss: 0.0186 - accuracy: 0.9877 - val_loss: 1.5439 - val_accuracy: 0.7869\n",
            "Epoch 35/50\n",
            "92/92 [==============================] - 1s 9ms/step - loss: 0.0347 - accuracy: 0.9853 - val_loss: 1.4385 - val_accuracy: 0.7896\n",
            "Epoch 36/50\n",
            "92/92 [==============================] - 1s 9ms/step - loss: 0.1104 - accuracy: 0.9628 - val_loss: 1.1437 - val_accuracy: 0.7814\n",
            "Epoch 37/50\n",
            "92/92 [==============================] - 1s 9ms/step - loss: 0.1051 - accuracy: 0.9594 - val_loss: 1.5864 - val_accuracy: 0.7678\n",
            "Epoch 38/50\n",
            "92/92 [==============================] - 1s 12ms/step - loss: 0.1381 - accuracy: 0.9597 - val_loss: 1.2294 - val_accuracy: 0.7842\n",
            "Epoch 39/50\n",
            "92/92 [==============================] - 1s 12ms/step - loss: 0.0675 - accuracy: 0.9761 - val_loss: 1.5593 - val_accuracy: 0.7705\n",
            "Epoch 40/50\n",
            "92/92 [==============================] - 1s 10ms/step - loss: 0.0886 - accuracy: 0.9676 - val_loss: 1.3583 - val_accuracy: 0.7732\n",
            "Epoch 41/50\n",
            "92/92 [==============================] - 1s 11ms/step - loss: 0.0363 - accuracy: 0.9846 - val_loss: 1.3130 - val_accuracy: 0.7705\n",
            "Epoch 42/50\n",
            "92/92 [==============================] - 1s 8ms/step - loss: 0.0432 - accuracy: 0.9802 - val_loss: 1.1653 - val_accuracy: 0.7596\n",
            "Epoch 43/50\n",
            "92/92 [==============================] - 1s 8ms/step - loss: 0.0382 - accuracy: 0.9850 - val_loss: 1.4275 - val_accuracy: 0.7923\n",
            "Epoch 44/50\n",
            "92/92 [==============================] - 1s 8ms/step - loss: 0.0227 - accuracy: 0.9881 - val_loss: 1.4381 - val_accuracy: 0.7842\n",
            "Epoch 45/50\n",
            "92/92 [==============================] - 1s 8ms/step - loss: 0.0167 - accuracy: 0.9894 - val_loss: 1.5295 - val_accuracy: 0.7814\n",
            "Epoch 46/50\n",
            "92/92 [==============================] - 1s 8ms/step - loss: 0.0177 - accuracy: 0.9874 - val_loss: 1.4794 - val_accuracy: 0.7896\n",
            "Epoch 47/50\n",
            "92/92 [==============================] - 1s 8ms/step - loss: 0.0182 - accuracy: 0.9894 - val_loss: 1.4586 - val_accuracy: 0.7814\n",
            "Epoch 48/50\n",
            "92/92 [==============================] - 1s 9ms/step - loss: 0.0200 - accuracy: 0.9887 - val_loss: 1.4599 - val_accuracy: 0.7760\n",
            "Epoch 49/50\n",
            "92/92 [==============================] - 1s 8ms/step - loss: 0.0228 - accuracy: 0.9877 - val_loss: 1.4972 - val_accuracy: 0.7814\n",
            "Epoch 50/50\n",
            "92/92 [==============================] - 1s 9ms/step - loss: 0.0180 - accuracy: 0.9874 - val_loss: 1.5690 - val_accuracy: 0.7678\n",
            "12/12 [==============================] - 0s 7ms/step - loss: 1.3385 - accuracy: 0.8060\n",
            "Test accuracy: 0.806010901927948\n"
          ]
        }
      ]
    },
    {
      "cell_type": "code",
      "source": [
        "import tensorflow as tf\n",
        "from tensorflow.keras.models import Sequential\n",
        "from tensorflow.keras.layers import Dense, Dropout\n",
        "from tensorflow.keras.optimizers import Adam\n",
        "model = Sequential([\n",
        "    Dense(512, activation='relu', input_shape=(x_train_resnet50_features.shape[1],)),\n",
        "    Dense(256, activation='relu'),\n",
        "    Dense(128, activation='relu'),\n",
        "    Dense(64, activation='relu'),\n",
        "    Dense(32, activation='relu'),\n",
        "    Dense(5, activation='softmax')  # Assuming there are 10 classes\n",
        "])\n",
        "model.compile(optimizer=Adam(),\n",
        "              loss='sparse_categorical_crossentropy',\n",
        "              metrics=['accuracy'])\n",
        "history = model.fit(x_train_resnet50_features, y_train, epochs=50, batch_size=32, validation_data=(x_val_resnet50_features,y_val))\n",
        "# To evaluate\n",
        "test_loss, test_acc = model.evaluate(x_valid_resnet50_features, y_valid)\n",
        "print('Test accuracy:', test_acc)\n",
        "\n"
      ],
      "metadata": {
        "colab": {
          "base_uri": "https://localhost:8080/"
        },
        "id": "Mz0o21ZGG2TD",
        "outputId": "43fffef0-a39d-4dbb-ed3f-753fd8b83f22"
      },
      "execution_count": null,
      "outputs": [
        {
          "output_type": "stream",
          "name": "stdout",
          "text": [
            "Epoch 1/50\n",
            "92/92 [==============================] - 5s 30ms/step - loss: 1.9543 - accuracy: 0.6468 - val_loss: 0.7748 - val_accuracy: 0.7705\n",
            "Epoch 2/50\n",
            "92/92 [==============================] - 2s 26ms/step - loss: 0.6470 - accuracy: 0.7867 - val_loss: 0.7703 - val_accuracy: 0.7623\n",
            "Epoch 3/50\n",
            "92/92 [==============================] - 3s 31ms/step - loss: 0.3803 - accuracy: 0.8631 - val_loss: 0.6281 - val_accuracy: 0.7978\n",
            "Epoch 4/50\n",
            "92/92 [==============================] - 2s 24ms/step - loss: 0.2301 - accuracy: 0.9249 - val_loss: 0.6197 - val_accuracy: 0.8197\n",
            "Epoch 5/50\n",
            "92/92 [==============================] - 2s 24ms/step - loss: 0.1782 - accuracy: 0.9403 - val_loss: 0.7147 - val_accuracy: 0.7923\n",
            "Epoch 6/50\n",
            "92/92 [==============================] - 2s 24ms/step - loss: 0.1342 - accuracy: 0.9625 - val_loss: 0.7727 - val_accuracy: 0.8115\n",
            "Epoch 7/50\n",
            "92/92 [==============================] - 2s 25ms/step - loss: 0.0935 - accuracy: 0.9717 - val_loss: 0.8130 - val_accuracy: 0.8115\n",
            "Epoch 8/50\n",
            "92/92 [==============================] - 3s 29ms/step - loss: 0.0871 - accuracy: 0.9747 - val_loss: 1.0583 - val_accuracy: 0.8033\n",
            "Epoch 9/50\n",
            "92/92 [==============================] - 3s 28ms/step - loss: 0.0990 - accuracy: 0.9710 - val_loss: 0.9012 - val_accuracy: 0.7923\n",
            "Epoch 10/50\n",
            "92/92 [==============================] - 2s 24ms/step - loss: 0.0848 - accuracy: 0.9741 - val_loss: 0.8442 - val_accuracy: 0.8060\n",
            "Epoch 11/50\n",
            "92/92 [==============================] - 2s 24ms/step - loss: 0.0632 - accuracy: 0.9799 - val_loss: 1.0402 - val_accuracy: 0.8005\n",
            "Epoch 12/50\n",
            "92/92 [==============================] - 2s 25ms/step - loss: 0.0826 - accuracy: 0.9754 - val_loss: 0.9662 - val_accuracy: 0.8169\n",
            "Epoch 13/50\n",
            "92/92 [==============================] - 2s 25ms/step - loss: 0.0598 - accuracy: 0.9836 - val_loss: 0.9662 - val_accuracy: 0.7923\n",
            "Epoch 14/50\n",
            "92/92 [==============================] - 3s 29ms/step - loss: 0.0858 - accuracy: 0.9737 - val_loss: 0.9532 - val_accuracy: 0.7951\n",
            "Epoch 15/50\n",
            "92/92 [==============================] - 3s 27ms/step - loss: 0.1109 - accuracy: 0.9666 - val_loss: 1.4709 - val_accuracy: 0.8060\n",
            "Epoch 16/50\n",
            "92/92 [==============================] - 2s 25ms/step - loss: 0.0837 - accuracy: 0.9737 - val_loss: 0.9940 - val_accuracy: 0.7787\n",
            "Epoch 17/50\n",
            "92/92 [==============================] - 2s 25ms/step - loss: 0.0493 - accuracy: 0.9870 - val_loss: 1.0134 - val_accuracy: 0.8142\n",
            "Epoch 18/50\n",
            "92/92 [==============================] - 2s 25ms/step - loss: 0.0652 - accuracy: 0.9792 - val_loss: 0.9866 - val_accuracy: 0.7923\n",
            "Epoch 19/50\n",
            "92/92 [==============================] - 2s 25ms/step - loss: 0.0832 - accuracy: 0.9754 - val_loss: 1.0927 - val_accuracy: 0.8033\n",
            "Epoch 20/50\n",
            "92/92 [==============================] - 3s 29ms/step - loss: 0.0842 - accuracy: 0.9706 - val_loss: 1.0491 - val_accuracy: 0.7623\n",
            "Epoch 21/50\n",
            "92/92 [==============================] - 3s 35ms/step - loss: 0.0768 - accuracy: 0.9741 - val_loss: 1.0056 - val_accuracy: 0.8005\n",
            "Epoch 22/50\n",
            "92/92 [==============================] - 2s 24ms/step - loss: 0.0545 - accuracy: 0.9833 - val_loss: 1.2173 - val_accuracy: 0.8115\n",
            "Epoch 23/50\n",
            "92/92 [==============================] - 2s 25ms/step - loss: 0.0782 - accuracy: 0.9744 - val_loss: 1.3713 - val_accuracy: 0.8087\n",
            "Epoch 24/50\n",
            "92/92 [==============================] - 2s 25ms/step - loss: 0.1598 - accuracy: 0.9526 - val_loss: 1.4825 - val_accuracy: 0.8224\n",
            "Epoch 25/50\n",
            "92/92 [==============================] - 2s 26ms/step - loss: 0.0745 - accuracy: 0.9765 - val_loss: 1.0504 - val_accuracy: 0.7896\n",
            "Epoch 26/50\n",
            "92/92 [==============================] - 3s 29ms/step - loss: 0.0707 - accuracy: 0.9768 - val_loss: 0.9141 - val_accuracy: 0.8142\n",
            "Epoch 27/50\n",
            "92/92 [==============================] - 2s 26ms/step - loss: 0.0484 - accuracy: 0.9819 - val_loss: 0.9566 - val_accuracy: 0.8005\n",
            "Epoch 28/50\n",
            "92/92 [==============================] - 2s 24ms/step - loss: 0.0357 - accuracy: 0.9853 - val_loss: 1.3959 - val_accuracy: 0.8060\n",
            "Epoch 29/50\n",
            "92/92 [==============================] - 2s 24ms/step - loss: 0.0439 - accuracy: 0.9819 - val_loss: 0.9370 - val_accuracy: 0.7978\n",
            "Epoch 30/50\n",
            "92/92 [==============================] - 2s 25ms/step - loss: 0.0394 - accuracy: 0.9819 - val_loss: 1.1278 - val_accuracy: 0.8115\n",
            "Epoch 31/50\n",
            "92/92 [==============================] - 3s 28ms/step - loss: 0.0296 - accuracy: 0.9884 - val_loss: 1.0557 - val_accuracy: 0.8279\n",
            "Epoch 32/50\n",
            "92/92 [==============================] - 3s 31ms/step - loss: 0.0257 - accuracy: 0.9877 - val_loss: 1.2562 - val_accuracy: 0.8169\n",
            "Epoch 33/50\n",
            "92/92 [==============================] - 2s 24ms/step - loss: 0.0200 - accuracy: 0.9891 - val_loss: 1.0638 - val_accuracy: 0.8251\n",
            "Epoch 34/50\n",
            "92/92 [==============================] - 2s 25ms/step - loss: 0.0198 - accuracy: 0.9894 - val_loss: 1.1479 - val_accuracy: 0.8087\n",
            "Epoch 35/50\n",
            "92/92 [==============================] - 2s 25ms/step - loss: 0.0209 - accuracy: 0.9887 - val_loss: 1.3546 - val_accuracy: 0.8169\n",
            "Epoch 36/50\n",
            "92/92 [==============================] - 2s 24ms/step - loss: 0.0179 - accuracy: 0.9901 - val_loss: 1.1794 - val_accuracy: 0.8197\n",
            "Epoch 37/50\n",
            "92/92 [==============================] - 2s 27ms/step - loss: 0.0194 - accuracy: 0.9884 - val_loss: 1.1817 - val_accuracy: 0.8115\n",
            "Epoch 38/50\n",
            "92/92 [==============================] - 3s 29ms/step - loss: 0.0179 - accuracy: 0.9898 - val_loss: 1.3127 - val_accuracy: 0.8197\n",
            "Epoch 39/50\n",
            "92/92 [==============================] - 2s 24ms/step - loss: 0.0203 - accuracy: 0.9884 - val_loss: 1.4002 - val_accuracy: 0.8197\n",
            "Epoch 40/50\n",
            "92/92 [==============================] - 2s 25ms/step - loss: 0.0211 - accuracy: 0.9887 - val_loss: 1.2924 - val_accuracy: 0.7978\n",
            "Epoch 41/50\n",
            "92/92 [==============================] - 2s 24ms/step - loss: 0.0210 - accuracy: 0.9870 - val_loss: 1.4792 - val_accuracy: 0.8060\n",
            "Epoch 42/50\n",
            "92/92 [==============================] - 2s 24ms/step - loss: 0.0818 - accuracy: 0.9710 - val_loss: 1.5904 - val_accuracy: 0.7760\n",
            "Epoch 43/50\n",
            "92/92 [==============================] - 3s 28ms/step - loss: 0.1842 - accuracy: 0.9420 - val_loss: 1.2393 - val_accuracy: 0.7596\n",
            "Epoch 44/50\n",
            "92/92 [==============================] - 2s 27ms/step - loss: 0.0992 - accuracy: 0.9635 - val_loss: 1.3518 - val_accuracy: 0.7951\n",
            "Epoch 45/50\n",
            "92/92 [==============================] - 2s 24ms/step - loss: 0.0481 - accuracy: 0.9812 - val_loss: 1.0948 - val_accuracy: 0.7978\n",
            "Epoch 46/50\n",
            "92/92 [==============================] - 2s 25ms/step - loss: 0.0623 - accuracy: 0.9805 - val_loss: 1.0961 - val_accuracy: 0.8142\n",
            "Epoch 47/50\n",
            "92/92 [==============================] - 2s 24ms/step - loss: 0.0535 - accuracy: 0.9785 - val_loss: 1.0363 - val_accuracy: 0.8005\n",
            "Epoch 48/50\n",
            "92/92 [==============================] - 2s 24ms/step - loss: 0.1021 - accuracy: 0.9669 - val_loss: 1.0937 - val_accuracy: 0.7923\n",
            "Epoch 49/50\n",
            "92/92 [==============================] - 3s 28ms/step - loss: 0.0833 - accuracy: 0.9710 - val_loss: 1.1691 - val_accuracy: 0.7814\n",
            "Epoch 50/50\n",
            "92/92 [==============================] - 2s 27ms/step - loss: 0.0571 - accuracy: 0.9788 - val_loss: 0.9641 - val_accuracy: 0.8224\n",
            "12/12 [==============================] - 0s 9ms/step - loss: 1.0651 - accuracy: 0.8142\n",
            "Test accuracy: 0.8142076730728149\n"
          ]
        }
      ]
    },
    {
      "cell_type": "code",
      "source": [
        "from tensorflow.keras.models import Sequential\n",
        "from tensorflow.keras.layers import Dense\n",
        "import numpy as np\n",
        "\n",
        "# x_train_vgg19_features and x_train_resnet50_features must have the same number of samples and feature length\n",
        "x_train_combined = np.concatenate([x_train_vgg19_features, x_train_resnet50_features],axis=1)\n",
        "x_val_combined = np.concatenate([x_val_vgg19_features, x_val_resnet50_features],axis=1)\n",
        "\n",
        "# Assuming both feature sets are the same size and the size is known\n",
        "input_shape = x_train_combined.shape[1]  # or x_train_resnet50_features.shape[1], as they should be equal\n",
        "\n",
        "model = Sequential([\n",
        "    Dense(512, activation='relu', input_shape=(input_shape,)),\n",
        "    Dense(256, activation='relu'),\n",
        "    Dense(128, activation='relu'),\n",
        "    Dense(64, activation='relu'),\n",
        "    Dense(32, activation='relu'),\n",
        "    Dense(5, activation='softmax')  # Update: Assuming there are 5 classes\n",
        "])\n",
        "model.compile(optimizer='adam',\n",
        "              loss='sparse_categorical_crossentropy',\n",
        "              metrics=['accuracy'])\n",
        "history = model.fit(x_train_combined, y_train, epochs=50, batch_size=32, validation_data=(x_val_combined,y_val))\n",
        "# Assuming x_test_vgg19_features and x_test_resnet50_features are prepared similarly\n",
        "x_valid_combined = np.concatenate([x_valid_vgg19_features, x_valid_resnet50_features],axis=1)\n",
        "\n",
        "test_loss, test_acc = model.evaluate(x_valid_combined, y_valid)\n",
        "print('Test accuracy:', test_acc)\n"
      ],
      "metadata": {
        "colab": {
          "base_uri": "https://localhost:8080/"
        },
        "id": "4I19DB6JHTiP",
        "outputId": "0dabfb1e-4543-4c23-a13c-48275b6f5ed1"
      },
      "execution_count": null,
      "outputs": [
        {
          "output_type": "stream",
          "name": "stdout",
          "text": [
            "Epoch 1/50\n",
            "92/92 [==============================] - 7s 36ms/step - loss: 3.9964 - accuracy: 0.6461 - val_loss: 1.3525 - val_accuracy: 0.6503\n",
            "Epoch 2/50\n",
            "92/92 [==============================] - 3s 35ms/step - loss: 0.7860 - accuracy: 0.7980 - val_loss: 1.7982 - val_accuracy: 0.6667\n",
            "Epoch 3/50\n",
            "92/92 [==============================] - 3s 32ms/step - loss: 0.4807 - accuracy: 0.8621 - val_loss: 0.7911 - val_accuracy: 0.7787\n",
            "Epoch 4/50\n",
            "92/92 [==============================] - 3s 30ms/step - loss: 0.2453 - accuracy: 0.9150 - val_loss: 0.7275 - val_accuracy: 0.8169\n",
            "Epoch 5/50\n",
            "92/92 [==============================] - 3s 30ms/step - loss: 0.1259 - accuracy: 0.9614 - val_loss: 0.8629 - val_accuracy: 0.8087\n",
            "Epoch 6/50\n",
            "92/92 [==============================] - 3s 30ms/step - loss: 0.1027 - accuracy: 0.9700 - val_loss: 0.8799 - val_accuracy: 0.8060\n",
            "Epoch 7/50\n",
            "92/92 [==============================] - 3s 35ms/step - loss: 0.0897 - accuracy: 0.9782 - val_loss: 0.7949 - val_accuracy: 0.8033\n",
            "Epoch 8/50\n",
            "92/92 [==============================] - 3s 32ms/step - loss: 0.0702 - accuracy: 0.9823 - val_loss: 0.9338 - val_accuracy: 0.7842\n",
            "Epoch 9/50\n",
            "92/92 [==============================] - 3s 30ms/step - loss: 0.0850 - accuracy: 0.9775 - val_loss: 0.9274 - val_accuracy: 0.8115\n",
            "Epoch 10/50\n",
            "92/92 [==============================] - 3s 30ms/step - loss: 0.0708 - accuracy: 0.9802 - val_loss: 0.9582 - val_accuracy: 0.8005\n",
            "Epoch 11/50\n",
            "92/92 [==============================] - 3s 31ms/step - loss: 0.0738 - accuracy: 0.9812 - val_loss: 1.1119 - val_accuracy: 0.7896\n",
            "Epoch 12/50\n",
            "92/92 [==============================] - 3s 35ms/step - loss: 0.0787 - accuracy: 0.9795 - val_loss: 1.1839 - val_accuracy: 0.7923\n",
            "Epoch 13/50\n",
            "92/92 [==============================] - 3s 30ms/step - loss: 0.0960 - accuracy: 0.9741 - val_loss: 1.0894 - val_accuracy: 0.7896\n",
            "Epoch 14/50\n",
            "92/92 [==============================] - 3s 30ms/step - loss: 0.1813 - accuracy: 0.9529 - val_loss: 1.2897 - val_accuracy: 0.7842\n",
            "Epoch 15/50\n",
            "92/92 [==============================] - 3s 30ms/step - loss: 0.1252 - accuracy: 0.9655 - val_loss: 1.4209 - val_accuracy: 0.8033\n",
            "Epoch 16/50\n",
            "92/92 [==============================] - 3s 33ms/step - loss: 0.2834 - accuracy: 0.9259 - val_loss: 1.6112 - val_accuracy: 0.8060\n",
            "Epoch 17/50\n",
            "92/92 [==============================] - 3s 34ms/step - loss: 0.1725 - accuracy: 0.9461 - val_loss: 1.3430 - val_accuracy: 0.8142\n",
            "Epoch 18/50\n",
            "92/92 [==============================] - 3s 30ms/step - loss: 0.1507 - accuracy: 0.9584 - val_loss: 1.0747 - val_accuracy: 0.7978\n",
            "Epoch 19/50\n",
            "92/92 [==============================] - 3s 30ms/step - loss: 0.0657 - accuracy: 0.9795 - val_loss: 1.1526 - val_accuracy: 0.8087\n",
            "Epoch 20/50\n",
            "92/92 [==============================] - 3s 30ms/step - loss: 0.0532 - accuracy: 0.9840 - val_loss: 1.0130 - val_accuracy: 0.8115\n",
            "Epoch 21/50\n",
            "92/92 [==============================] - 3s 34ms/step - loss: 0.0621 - accuracy: 0.9823 - val_loss: 1.1119 - val_accuracy: 0.8060\n",
            "Epoch 22/50\n",
            "92/92 [==============================] - 3s 33ms/step - loss: 0.0526 - accuracy: 0.9863 - val_loss: 0.9457 - val_accuracy: 0.7951\n",
            "Epoch 23/50\n",
            "92/92 [==============================] - 3s 31ms/step - loss: 0.0429 - accuracy: 0.9836 - val_loss: 1.0866 - val_accuracy: 0.8033\n",
            "Epoch 24/50\n",
            "92/92 [==============================] - 3s 30ms/step - loss: 0.0398 - accuracy: 0.9870 - val_loss: 1.0298 - val_accuracy: 0.8169\n",
            "Epoch 25/50\n",
            "92/92 [==============================] - 3s 30ms/step - loss: 0.0347 - accuracy: 0.9867 - val_loss: 1.1266 - val_accuracy: 0.8115\n",
            "Epoch 26/50\n",
            "92/92 [==============================] - 3s 36ms/step - loss: 0.0446 - accuracy: 0.9853 - val_loss: 1.1201 - val_accuracy: 0.8197\n",
            "Epoch 27/50\n",
            "92/92 [==============================] - 3s 31ms/step - loss: 0.0356 - accuracy: 0.9891 - val_loss: 1.5173 - val_accuracy: 0.8060\n",
            "Epoch 28/50\n",
            "92/92 [==============================] - 3s 35ms/step - loss: 0.0374 - accuracy: 0.9874 - val_loss: 1.3231 - val_accuracy: 0.8087\n",
            "Epoch 29/50\n",
            "92/92 [==============================] - 3s 30ms/step - loss: 0.0332 - accuracy: 0.9887 - val_loss: 1.1510 - val_accuracy: 0.8033\n",
            "Epoch 30/50\n",
            "92/92 [==============================] - 3s 33ms/step - loss: 0.0353 - accuracy: 0.9887 - val_loss: 1.2345 - val_accuracy: 0.8142\n",
            "Epoch 31/50\n",
            "92/92 [==============================] - 3s 34ms/step - loss: 0.0481 - accuracy: 0.9867 - val_loss: 1.2607 - val_accuracy: 0.8142\n",
            "Epoch 32/50\n",
            "92/92 [==============================] - 3s 30ms/step - loss: 0.0574 - accuracy: 0.9802 - val_loss: 1.1526 - val_accuracy: 0.7896\n",
            "Epoch 33/50\n",
            "92/92 [==============================] - 3s 30ms/step - loss: 0.0553 - accuracy: 0.9829 - val_loss: 1.2890 - val_accuracy: 0.7760\n",
            "Epoch 34/50\n",
            "92/92 [==============================] - 3s 30ms/step - loss: 0.0995 - accuracy: 0.9730 - val_loss: 1.0780 - val_accuracy: 0.8060\n",
            "Epoch 35/50\n",
            "92/92 [==============================] - 3s 34ms/step - loss: 0.0922 - accuracy: 0.9747 - val_loss: 1.4287 - val_accuracy: 0.7896\n",
            "Epoch 36/50\n",
            "92/92 [==============================] - 3s 33ms/step - loss: 0.1032 - accuracy: 0.9683 - val_loss: 1.6725 - val_accuracy: 0.8005\n",
            "Epoch 37/50\n",
            "92/92 [==============================] - 3s 30ms/step - loss: 0.1049 - accuracy: 0.9642 - val_loss: 1.3867 - val_accuracy: 0.7295\n",
            "Epoch 38/50\n",
            "92/92 [==============================] - 3s 30ms/step - loss: 0.1464 - accuracy: 0.9570 - val_loss: 1.2103 - val_accuracy: 0.8115\n",
            "Epoch 39/50\n",
            "92/92 [==============================] - 3s 30ms/step - loss: 0.0845 - accuracy: 0.9754 - val_loss: 1.4240 - val_accuracy: 0.7978\n",
            "Epoch 40/50\n",
            "92/92 [==============================] - 3s 33ms/step - loss: 0.0957 - accuracy: 0.9717 - val_loss: 0.9813 - val_accuracy: 0.7978\n",
            "Epoch 41/50\n",
            "92/92 [==============================] - 3s 33ms/step - loss: 0.0611 - accuracy: 0.9823 - val_loss: 1.2254 - val_accuracy: 0.8197\n",
            "Epoch 42/50\n",
            "92/92 [==============================] - 3s 30ms/step - loss: 0.0382 - accuracy: 0.9857 - val_loss: 1.2092 - val_accuracy: 0.8005\n",
            "Epoch 43/50\n",
            "92/92 [==============================] - 3s 30ms/step - loss: 0.0389 - accuracy: 0.9891 - val_loss: 1.0517 - val_accuracy: 0.7923\n",
            "Epoch 44/50\n",
            "92/92 [==============================] - 3s 30ms/step - loss: 0.0427 - accuracy: 0.9860 - val_loss: 1.2099 - val_accuracy: 0.7923\n",
            "Epoch 45/50\n",
            "92/92 [==============================] - 3s 34ms/step - loss: 0.0381 - accuracy: 0.9863 - val_loss: 1.3756 - val_accuracy: 0.8115\n",
            "Epoch 46/50\n",
            "92/92 [==============================] - 3s 32ms/step - loss: 0.0301 - accuracy: 0.9887 - val_loss: 1.3110 - val_accuracy: 0.8115\n",
            "Epoch 47/50\n",
            "92/92 [==============================] - 3s 30ms/step - loss: 0.0287 - accuracy: 0.9881 - val_loss: 1.4632 - val_accuracy: 0.8087\n",
            "Epoch 48/50\n",
            "92/92 [==============================] - 3s 30ms/step - loss: 0.0263 - accuracy: 0.9891 - val_loss: 1.3059 - val_accuracy: 0.7978\n",
            "Epoch 49/50\n",
            "92/92 [==============================] - 3s 31ms/step - loss: 0.0246 - accuracy: 0.9881 - val_loss: 1.3306 - val_accuracy: 0.8251\n",
            "Epoch 50/50\n",
            "92/92 [==============================] - 3s 36ms/step - loss: 0.0229 - accuracy: 0.9894 - val_loss: 1.3069 - val_accuracy: 0.8087\n",
            "12/12 [==============================] - 0s 12ms/step - loss: 0.9860 - accuracy: 0.8224\n",
            "Test accuracy: 0.8224043846130371\n"
          ]
        }
      ]
    },
    {
      "cell_type": "code",
      "source": [
        "from tensorflow.keras.layers import Input, Concatenate, Dense\n",
        "from tensorflow.keras.models import Model\n",
        "BATCH_SIZE=16\n",
        "# Define input layers for VGG19 and ResNet50 features\n",
        "input_vgg19 = Input(shape=(x_train_vgg19_features.shape[1],))\n",
        "input_resnet50 = Input(shape=(x_train_resnet50_features.shape[1],))\n",
        "\n",
        "# Define the neural network layers\n",
        "dense_1 = Dense(512, activation='relu')(input_vgg19)\n",
        "dense_2 = Dense(256, activation='relu')(dense_1)\n",
        "dense_3 = Dense(256, activation='relu')(dense_2)\n",
        "dense_03 = Dense(128, activation='relu')(dense_3)\n",
        "# Cross-pooling layer to combine VGG19 and ResNet50 features\n",
        "cross_pooled = Concatenate()([dense_1, input_resnet50])\n",
        "\n",
        "dense_4 = Dense(128, activation='relu')(cross_pooled)\n",
        "dense_04 = Dense(64, activation='relu')(dense_4)\n",
        "dense_5 = Dense(32, activation='relu')(dense_04)\n",
        "output = Dense(5, activation='softmax')(dense_5)\n",
        "\n",
        "# Create the model\n",
        "model = Model(inputs=[input_vgg19, input_resnet50], outputs=output)\n",
        "model.compile(loss='sparse_categorical_crossentropy', optimizer='adam', metrics=['accuracy'])\n",
        "\n",
        "# Train the model\n",
        "history = model.fit(\n",
        "    [x_train_vgg19_features, x_train_resnet50_features], y_train,\n",
        "    epochs=50,\n",
        "    validation_data=([x_val_vgg19_features, x_val_resnet50_features], y_val)\n",
        ")\n"
      ],
      "metadata": {
        "colab": {
          "base_uri": "https://localhost:8080/"
        },
        "id": "0BKkCwwyJ78e",
        "outputId": "18232c74-0b5f-40f7-dc6a-a5ce8a81a38b"
      },
      "execution_count": null,
      "outputs": [
        {
          "output_type": "stream",
          "name": "stdout",
          "text": [
            "Epoch 1/50\n",
            "92/92 [==============================] - 5s 25ms/step - loss: 3.1874 - accuracy: 0.6642 - val_loss: 0.9117 - val_accuracy: 0.7623\n",
            "Epoch 2/50\n",
            "92/92 [==============================] - 2s 20ms/step - loss: 0.5493 - accuracy: 0.8198 - val_loss: 0.9973 - val_accuracy: 0.7896\n",
            "Epoch 3/50\n",
            "92/92 [==============================] - 2s 19ms/step - loss: 0.4507 - accuracy: 0.8608 - val_loss: 0.8389 - val_accuracy: 0.7842\n",
            "Epoch 4/50\n",
            "92/92 [==============================] - 2s 24ms/step - loss: 0.2565 - accuracy: 0.9150 - val_loss: 0.7261 - val_accuracy: 0.7896\n",
            "Epoch 5/50\n",
            "92/92 [==============================] - 2s 26ms/step - loss: 0.1219 - accuracy: 0.9601 - val_loss: 0.7334 - val_accuracy: 0.7923\n",
            "Epoch 6/50\n",
            "92/92 [==============================] - 2s 20ms/step - loss: 0.0980 - accuracy: 0.9741 - val_loss: 0.7907 - val_accuracy: 0.8087\n",
            "Epoch 7/50\n",
            "92/92 [==============================] - 2s 19ms/step - loss: 0.1034 - accuracy: 0.9689 - val_loss: 0.9285 - val_accuracy: 0.7951\n",
            "Epoch 8/50\n",
            "92/92 [==============================] - 2s 19ms/step - loss: 0.0829 - accuracy: 0.9785 - val_loss: 0.8626 - val_accuracy: 0.7842\n",
            "Epoch 9/50\n",
            "92/92 [==============================] - 2s 19ms/step - loss: 0.1039 - accuracy: 0.9754 - val_loss: 0.9855 - val_accuracy: 0.8005\n",
            "Epoch 10/50\n",
            "92/92 [==============================] - 2s 19ms/step - loss: 0.1107 - accuracy: 0.9662 - val_loss: 1.0873 - val_accuracy: 0.8060\n",
            "Epoch 11/50\n",
            "92/92 [==============================] - 2s 23ms/step - loss: 0.1190 - accuracy: 0.9713 - val_loss: 1.0582 - val_accuracy: 0.8005\n",
            "Epoch 12/50\n",
            "92/92 [==============================] - 2s 25ms/step - loss: 0.1402 - accuracy: 0.9577 - val_loss: 0.9874 - val_accuracy: 0.8142\n",
            "Epoch 13/50\n",
            "92/92 [==============================] - 2s 21ms/step - loss: 0.1249 - accuracy: 0.9689 - val_loss: 1.1755 - val_accuracy: 0.7896\n",
            "Epoch 14/50\n",
            "92/92 [==============================] - 2s 19ms/step - loss: 0.1007 - accuracy: 0.9676 - val_loss: 0.9909 - val_accuracy: 0.8115\n",
            "Epoch 15/50\n",
            "92/92 [==============================] - 2s 19ms/step - loss: 0.0679 - accuracy: 0.9826 - val_loss: 0.9879 - val_accuracy: 0.7951\n",
            "Epoch 16/50\n",
            "92/92 [==============================] - 2s 19ms/step - loss: 0.0571 - accuracy: 0.9867 - val_loss: 1.2338 - val_accuracy: 0.8142\n",
            "Epoch 17/50\n",
            "92/92 [==============================] - 2s 19ms/step - loss: 0.1336 - accuracy: 0.9628 - val_loss: 0.9773 - val_accuracy: 0.8060\n",
            "Epoch 18/50\n",
            "92/92 [==============================] - 2s 21ms/step - loss: 0.0961 - accuracy: 0.9734 - val_loss: 1.2027 - val_accuracy: 0.7869\n",
            "Epoch 19/50\n",
            "92/92 [==============================] - 2s 25ms/step - loss: 0.1132 - accuracy: 0.9758 - val_loss: 1.2140 - val_accuracy: 0.7732\n",
            "Epoch 20/50\n",
            "92/92 [==============================] - 2s 22ms/step - loss: 0.0962 - accuracy: 0.9724 - val_loss: 0.9268 - val_accuracy: 0.7951\n",
            "Epoch 21/50\n",
            "92/92 [==============================] - 2s 18ms/step - loss: 0.0661 - accuracy: 0.9805 - val_loss: 1.2099 - val_accuracy: 0.7896\n",
            "Epoch 22/50\n",
            "92/92 [==============================] - 2s 18ms/step - loss: 0.1043 - accuracy: 0.9758 - val_loss: 0.9917 - val_accuracy: 0.8142\n",
            "Epoch 23/50\n",
            "92/92 [==============================] - 2s 19ms/step - loss: 0.0522 - accuracy: 0.9850 - val_loss: 1.5565 - val_accuracy: 0.7842\n",
            "Epoch 24/50\n",
            "92/92 [==============================] - 2s 19ms/step - loss: 0.1720 - accuracy: 0.9529 - val_loss: 1.3717 - val_accuracy: 0.7896\n",
            "Epoch 25/50\n",
            "92/92 [==============================] - 2s 19ms/step - loss: 0.1420 - accuracy: 0.9625 - val_loss: 0.9840 - val_accuracy: 0.8169\n",
            "Epoch 26/50\n",
            "92/92 [==============================] - 2s 22ms/step - loss: 0.0573 - accuracy: 0.9788 - val_loss: 1.3208 - val_accuracy: 0.8142\n",
            "Epoch 27/50\n",
            "92/92 [==============================] - 2s 24ms/step - loss: 0.0603 - accuracy: 0.9802 - val_loss: 1.2598 - val_accuracy: 0.8033\n",
            "Epoch 28/50\n",
            "92/92 [==============================] - 2s 20ms/step - loss: 0.0420 - accuracy: 0.9867 - val_loss: 1.1621 - val_accuracy: 0.8251\n",
            "Epoch 29/50\n",
            "92/92 [==============================] - 2s 18ms/step - loss: 0.0314 - accuracy: 0.9894 - val_loss: 1.0839 - val_accuracy: 0.8060\n",
            "Epoch 30/50\n",
            "92/92 [==============================] - 2s 19ms/step - loss: 0.0358 - accuracy: 0.9881 - val_loss: 1.1755 - val_accuracy: 0.8142\n",
            "Epoch 31/50\n",
            "92/92 [==============================] - 2s 19ms/step - loss: 0.0416 - accuracy: 0.9870 - val_loss: 1.2401 - val_accuracy: 0.8142\n",
            "Epoch 32/50\n",
            "92/92 [==============================] - 2s 18ms/step - loss: 0.0423 - accuracy: 0.9857 - val_loss: 1.2909 - val_accuracy: 0.8115\n",
            "Epoch 33/50\n",
            "92/92 [==============================] - 2s 19ms/step - loss: 0.0466 - accuracy: 0.9846 - val_loss: 1.1704 - val_accuracy: 0.7869\n",
            "Epoch 34/50\n",
            "92/92 [==============================] - 3s 30ms/step - loss: 0.0309 - accuracy: 0.9887 - val_loss: 1.1156 - val_accuracy: 0.8087\n",
            "Epoch 35/50\n",
            "92/92 [==============================] - 2s 24ms/step - loss: 0.0263 - accuracy: 0.9870 - val_loss: 1.1385 - val_accuracy: 0.8169\n",
            "Epoch 36/50\n",
            "92/92 [==============================] - 2s 19ms/step - loss: 0.0269 - accuracy: 0.9884 - val_loss: 1.0151 - val_accuracy: 0.8142\n",
            "Epoch 37/50\n",
            "92/92 [==============================] - 2s 19ms/step - loss: 0.0267 - accuracy: 0.9887 - val_loss: 1.1157 - val_accuracy: 0.8251\n",
            "Epoch 38/50\n",
            "92/92 [==============================] - 2s 19ms/step - loss: 0.0326 - accuracy: 0.9843 - val_loss: 1.1825 - val_accuracy: 0.8005\n",
            "Epoch 39/50\n",
            "92/92 [==============================] - 2s 19ms/step - loss: 0.0479 - accuracy: 0.9809 - val_loss: 1.5387 - val_accuracy: 0.8033\n",
            "Epoch 40/50\n",
            "92/92 [==============================] - 2s 19ms/step - loss: 0.0384 - accuracy: 0.9846 - val_loss: 1.1996 - val_accuracy: 0.8005\n",
            "Epoch 41/50\n",
            "92/92 [==============================] - 2s 22ms/step - loss: 0.0692 - accuracy: 0.9775 - val_loss: 1.2661 - val_accuracy: 0.7951\n",
            "Epoch 42/50\n",
            "92/92 [==============================] - 2s 24ms/step - loss: 0.1243 - accuracy: 0.9601 - val_loss: 1.4949 - val_accuracy: 0.7923\n",
            "Epoch 43/50\n",
            "92/92 [==============================] - 2s 21ms/step - loss: 0.1650 - accuracy: 0.9590 - val_loss: 1.4687 - val_accuracy: 0.8224\n",
            "Epoch 44/50\n",
            "92/92 [==============================] - 2s 18ms/step - loss: 0.0954 - accuracy: 0.9689 - val_loss: 1.4124 - val_accuracy: 0.8197\n",
            "Epoch 45/50\n",
            "92/92 [==============================] - 2s 19ms/step - loss: 0.0908 - accuracy: 0.9713 - val_loss: 1.3389 - val_accuracy: 0.8169\n",
            "Epoch 46/50\n",
            "92/92 [==============================] - 2s 19ms/step - loss: 0.0596 - accuracy: 0.9812 - val_loss: 1.3851 - val_accuracy: 0.8115\n",
            "Epoch 47/50\n",
            "92/92 [==============================] - 2s 24ms/step - loss: 0.0783 - accuracy: 0.9758 - val_loss: 1.1653 - val_accuracy: 0.8087\n",
            "Epoch 48/50\n",
            "92/92 [==============================] - 2s 27ms/step - loss: 0.0349 - accuracy: 0.9850 - val_loss: 1.4333 - val_accuracy: 0.8169\n",
            "Epoch 49/50\n",
            "92/92 [==============================] - 2s 25ms/step - loss: 0.0349 - accuracy: 0.9877 - val_loss: 1.1771 - val_accuracy: 0.8115\n",
            "Epoch 50/50\n",
            "92/92 [==============================] - 2s 21ms/step - loss: 0.0292 - accuracy: 0.9870 - val_loss: 1.1944 - val_accuracy: 0.8169\n"
          ]
        }
      ]
    },
    {
      "cell_type": "code",
      "source": [
        "model.evaluate([x_valid_vgg19_features, x_valid_resnet50_features], y_valid)"
      ],
      "metadata": {
        "colab": {
          "base_uri": "https://localhost:8080/"
        },
        "id": "xDuMZatuNMni",
        "outputId": "fdf9fa6b-e660-4aab-945b-aeec3847e1d3"
      },
      "execution_count": null,
      "outputs": [
        {
          "output_type": "stream",
          "name": "stdout",
          "text": [
            "12/12 [==============================] - 0s 10ms/step - loss: 1.1667 - accuracy: 0.8333\n"
          ]
        },
        {
          "output_type": "execute_result",
          "data": {
            "text/plain": [
              "[1.1666793823242188, 0.8333333134651184]"
            ]
          },
          "metadata": {},
          "execution_count": 8
        }
      ]
    },
    {
      "cell_type": "code",
      "source": [],
      "metadata": {
        "id": "RVLDIjxFNtqk"
      },
      "execution_count": null,
      "outputs": []
    }
  ]
}